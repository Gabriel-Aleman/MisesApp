{
 "cells": [
  {
   "cell_type": "markdown",
   "metadata": {},
   "source": [
    "# Leer información"
   ]
  },
  {
   "cell_type": "markdown",
   "metadata": {},
   "source": [
    "### Leer directamente de archivo"
   ]
  },
  {
   "cell_type": "code",
   "execution_count": 1,
   "metadata": {},
   "outputs": [],
   "source": [
    "import pandas as pd\n",
    "import csv\n",
    "\n",
    "path=\"misTransacciones.csv\"\n",
    "\n",
    "\n",
    "with open(path, newline='', encoding='utf-8') as archivo:\n",
    "    lector = csv.reader(archivo)\n",
    "    lector = list(lector)"
   ]
  },
  {
   "cell_type": "markdown",
   "metadata": {},
   "source": [
    "### Leer contenido del archivo y devolver como string:"
   ]
  },
  {
   "cell_type": "code",
   "execution_count": 2,
   "metadata": {},
   "outputs": [],
   "source": [
    "import csv\n",
    "import io\n",
    "\n",
    "path=\"misTransacciones.csv\"\n",
    "with open(path, 'r', encoding='utf-8') as f:\n",
    "    contenido = f.read()\n",
    "\n",
    "# Convertimos el string a un objeto tipo archivo\n",
    "archivo_simulado = io.StringIO(contenido)\n",
    "\n",
    "# Leemos usando el módulo csv\n",
    "lector0 = csv.reader(archivo_simulado)\n",
    "# Convertimos a lista\n",
    "lector0 = list(lector0)\n"
   ]
  },
  {
   "cell_type": "markdown",
   "metadata": {},
   "source": [
    "# Usar librería para lectura:"
   ]
  },
  {
   "cell_type": "code",
   "execution_count": 1,
   "metadata": {},
   "outputs": [],
   "source": [
    "from sqlalchemy import create_engine\n",
    "from procesarDatos import *\n"
   ]
  },
  {
   "cell_type": "code",
   "execution_count": 2,
   "metadata": {},
   "outputs": [
    {
     "name": "stderr",
     "output_type": "stream",
     "text": [
      "2025-04-19 21:21:48.775 WARNING streamlit.runtime.scriptrunner_utils.script_run_context: Thread 'MainThread': missing ScriptRunContext! This warning can be ignored when running in bare mode.\n",
      "2025-04-19 21:21:49.492 \n",
      "  \u001b[33m\u001b[1mWarning:\u001b[0m to view this Streamlit app on a browser, run it with the following\n",
      "  command:\n",
      "\n",
      "    streamlit run c:\\ProgramData\\anaconda3\\Lib\\site-packages\\ipykernel_launcher.py [ARGUMENTS]\n",
      "2025-04-19 21:21:49.494 Thread 'MainThread': missing ScriptRunContext! This warning can be ignored when running in bare mode.\n",
      "2025-04-19 21:21:49.495 Thread 'MainThread': missing ScriptRunContext! This warning can be ignored when running in bare mode.\n",
      "2025-04-19 21:21:50.064 Thread 'Thread-5': missing ScriptRunContext! This warning can be ignored when running in bare mode.\n",
      "2025-04-19 21:21:50.079 Thread 'Thread-5': missing ScriptRunContext! This warning can be ignored when running in bare mode.\n",
      "2025-04-19 21:21:50.110 Thread 'MainThread': missing ScriptRunContext! This warning can be ignored when running in bare mode.\n",
      "2025-04-19 21:21:50.111 Thread 'MainThread': missing ScriptRunContext! This warning can be ignored when running in bare mode.\n",
      "2025-04-19 21:21:50.128 No runtime found, using MemoryCacheStorageManager\n",
      "2025-04-19 21:21:50.131 No runtime found, using MemoryCacheStorageManager\n",
      "2025-04-19 21:21:50.132 Thread 'MainThread': missing ScriptRunContext! This warning can be ignored when running in bare mode.\n",
      "2025-04-19 21:21:50.133 Thread 'MainThread': missing ScriptRunContext! This warning can be ignored when running in bare mode.\n",
      "2025-04-19 21:21:50.134 Thread 'MainThread': missing ScriptRunContext! This warning can be ignored when running in bare mode.\n",
      "2025-04-19 21:21:50.452 Thread 'MainThread': missing ScriptRunContext! This warning can be ignored when running in bare mode.\n",
      "2025-04-19 21:21:50.452 Thread 'MainThread': missing ScriptRunContext! This warning can be ignored when running in bare mode.\n",
      "2025-04-19 21:21:50.458 No runtime found, using MemoryCacheStorageManager\n",
      "2025-04-19 21:21:50.460 Thread 'MainThread': missing ScriptRunContext! This warning can be ignored when running in bare mode.\n",
      "2025-04-19 21:21:50.461 Thread 'MainThread': missing ScriptRunContext! This warning can be ignored when running in bare mode.\n",
      "2025-04-19 21:21:50.462 Thread 'MainThread': missing ScriptRunContext! This warning can be ignored when running in bare mode.\n",
      "2025-04-19 21:21:50.553 Thread 'MainThread': missing ScriptRunContext! This warning can be ignored when running in bare mode.\n",
      "2025-04-19 21:21:50.554 Thread 'MainThread': missing ScriptRunContext! This warning can be ignored when running in bare mode.\n"
     ]
    }
   ],
   "source": [
    "l=datos()"
   ]
  },
  {
   "cell_type": "code",
   "execution_count": 4,
   "metadata": {},
   "outputs": [
    {
     "name": "stderr",
     "output_type": "stream",
     "text": [
      "2025-04-19 21:22:05.496 No runtime found, using MemoryCacheStorageManager\n",
      "2025-04-19 21:22:05.501 Thread 'MainThread': missing ScriptRunContext! This warning can be ignored when running in bare mode.\n",
      "2025-04-19 21:22:05.503 Thread 'MainThread': missing ScriptRunContext! This warning can be ignored when running in bare mode.\n",
      "2025-04-19 21:22:05.505 Thread 'MainThread': missing ScriptRunContext! This warning can be ignored when running in bare mode.\n",
      "2025-04-19 21:22:05.518 Thread 'MainThread': missing ScriptRunContext! This warning can be ignored when running in bare mode.\n",
      "2025-04-19 21:22:05.520 Thread 'MainThread': missing ScriptRunContext! This warning can be ignored when running in bare mode.\n",
      "c:\\Users\\gabri\\OneDrive\\Documentos\\MisesApp\\scr\\procesarDatos.py:395: SettingWithCopyWarning: \n",
      "A value is trying to be set on a copy of a slice from a DataFrame\n",
      "\n",
      "See the caveats in the documentation: https://pandas.pydata.org/pandas-docs/stable/user_guide/indexing.html#returning-a-view-versus-a-copy\n",
      "  df_cat.drop(columns=[\"Crédito\",\"Balance\",\"Aporte neto\"], inplace=True)\n"
     ]
    }
   ],
   "source": [
    "d=l.dataFrame_Categorias()"
   ]
  },
  {
   "cell_type": "code",
   "execution_count": 11,
   "metadata": {},
   "outputs": [],
   "source": [
    "d=d.groupby(\"Categoría\")[\"Débito\"].agg([\n",
    "    'sum',       # Suma total\n",
    "    'mean',      # Promedio\n",
    "    'count',     # Cantidad de registros\n",
    "    'min',       # Mínimo\n",
    "    'max',       # Máximo\n",
    "    'median',    # Mediana\n",
    "    'std',       # Desviación estándar\n",
    "    'var'        # Varianza\n",
    "]).reset_index()\n",
    "\n"
   ]
  },
  {
   "cell_type": "code",
   "execution_count": 15,
   "metadata": {},
   "outputs": [
    {
     "data": {
      "text/html": [
       "<div>\n",
       "<style scoped>\n",
       "    .dataframe tbody tr th:only-of-type {\n",
       "        vertical-align: middle;\n",
       "    }\n",
       "\n",
       "    .dataframe tbody tr th {\n",
       "        vertical-align: top;\n",
       "    }\n",
       "\n",
       "    .dataframe thead th {\n",
       "        text-align: right;\n",
       "    }\n",
       "</style>\n",
       "<table border=\"1\" class=\"dataframe\">\n",
       "  <thead>\n",
       "    <tr style=\"text-align: right;\">\n",
       "      <th></th>\n",
       "      <th>Categoría</th>\n",
       "      <th>sum</th>\n",
       "      <th>mean</th>\n",
       "      <th>count</th>\n",
       "      <th>min</th>\n",
       "      <th>max</th>\n",
       "      <th>median</th>\n",
       "      <th>std</th>\n",
       "      <th>var</th>\n",
       "    </tr>\n",
       "  </thead>\n",
       "  <tbody>\n",
       "    <tr>\n",
       "      <th>0</th>\n",
       "      <td>Comida</td>\n",
       "      <td>276620.95</td>\n",
       "      <td>9220.698333</td>\n",
       "      <td>30</td>\n",
       "      <td>800.00</td>\n",
       "      <td>30889.18</td>\n",
       "      <td>7640.000</td>\n",
       "      <td>6071.342231</td>\n",
       "      <td>3.686120e+07</td>\n",
       "    </tr>\n",
       "    <tr>\n",
       "      <th>1</th>\n",
       "      <td>Educación</td>\n",
       "      <td>150859.30</td>\n",
       "      <td>37714.825000</td>\n",
       "      <td>4</td>\n",
       "      <td>7000.00</td>\n",
       "      <td>102117.30</td>\n",
       "      <td>20871.000</td>\n",
       "      <td>43585.954864</td>\n",
       "      <td>1.899735e+09</td>\n",
       "    </tr>\n",
       "    <tr>\n",
       "      <th>2</th>\n",
       "      <td>Gastos de trabajo</td>\n",
       "      <td>37508.53</td>\n",
       "      <td>18754.265000</td>\n",
       "      <td>2</td>\n",
       "      <td>5000.00</td>\n",
       "      <td>32508.53</td>\n",
       "      <td>18754.265</td>\n",
       "      <td>19451.468103</td>\n",
       "      <td>3.783596e+08</td>\n",
       "    </tr>\n",
       "    <tr>\n",
       "      <th>3</th>\n",
       "      <td>Groceries</td>\n",
       "      <td>25978.00</td>\n",
       "      <td>5195.600000</td>\n",
       "      <td>5</td>\n",
       "      <td>35.00</td>\n",
       "      <td>14933.00</td>\n",
       "      <td>3475.000</td>\n",
       "      <td>5752.526993</td>\n",
       "      <td>3.309157e+07</td>\n",
       "    </tr>\n",
       "    <tr>\n",
       "      <th>4</th>\n",
       "      <td>Municipalidad</td>\n",
       "      <td>426378.86</td>\n",
       "      <td>71063.143333</td>\n",
       "      <td>6</td>\n",
       "      <td>69632.08</td>\n",
       "      <td>73632.87</td>\n",
       "      <td>69924.480</td>\n",
       "      <td>1994.792379</td>\n",
       "      <td>3.979197e+06</td>\n",
       "    </tr>\n",
       "    <tr>\n",
       "      <th>5</th>\n",
       "      <td>Otro</td>\n",
       "      <td>734291.10</td>\n",
       "      <td>26224.682143</td>\n",
       "      <td>28</td>\n",
       "      <td>188.04</td>\n",
       "      <td>310000.00</td>\n",
       "      <td>9600.040</td>\n",
       "      <td>58791.993527</td>\n",
       "      <td>3.456499e+09</td>\n",
       "    </tr>\n",
       "    <tr>\n",
       "      <th>6</th>\n",
       "      <td>Servicio de agua</td>\n",
       "      <td>81133.00</td>\n",
       "      <td>81133.000000</td>\n",
       "      <td>1</td>\n",
       "      <td>81133.00</td>\n",
       "      <td>81133.00</td>\n",
       "      <td>81133.000</td>\n",
       "      <td>NaN</td>\n",
       "      <td>NaN</td>\n",
       "    </tr>\n",
       "    <tr>\n",
       "      <th>7</th>\n",
       "      <td>Tecnología</td>\n",
       "      <td>168792.31</td>\n",
       "      <td>42198.077500</td>\n",
       "      <td>4</td>\n",
       "      <td>10001.61</td>\n",
       "      <td>80000.00</td>\n",
       "      <td>39395.350</td>\n",
       "      <td>35034.550896</td>\n",
       "      <td>1.227420e+09</td>\n",
       "    </tr>\n",
       "    <tr>\n",
       "      <th>8</th>\n",
       "      <td>Transporte</td>\n",
       "      <td>230823.09</td>\n",
       "      <td>3663.858571</td>\n",
       "      <td>63</td>\n",
       "      <td>250.00</td>\n",
       "      <td>48500.00</td>\n",
       "      <td>1717.680</td>\n",
       "      <td>7308.262353</td>\n",
       "      <td>5.341070e+07</td>\n",
       "    </tr>\n",
       "  </tbody>\n",
       "</table>\n",
       "</div>"
      ],
      "text/plain": [
       "           Categoría        sum          mean  count       min        max  \\\n",
       "0             Comida  276620.95   9220.698333     30    800.00   30889.18   \n",
       "1          Educación  150859.30  37714.825000      4   7000.00  102117.30   \n",
       "2  Gastos de trabajo   37508.53  18754.265000      2   5000.00   32508.53   \n",
       "3          Groceries   25978.00   5195.600000      5     35.00   14933.00   \n",
       "4      Municipalidad  426378.86  71063.143333      6  69632.08   73632.87   \n",
       "5               Otro  734291.10  26224.682143     28    188.04  310000.00   \n",
       "6   Servicio de agua   81133.00  81133.000000      1  81133.00   81133.00   \n",
       "7         Tecnología  168792.31  42198.077500      4  10001.61   80000.00   \n",
       "8         Transporte  230823.09   3663.858571     63    250.00   48500.00   \n",
       "\n",
       "      median           std           var  \n",
       "0   7640.000   6071.342231  3.686120e+07  \n",
       "1  20871.000  43585.954864  1.899735e+09  \n",
       "2  18754.265  19451.468103  3.783596e+08  \n",
       "3   3475.000   5752.526993  3.309157e+07  \n",
       "4  69924.480   1994.792379  3.979197e+06  \n",
       "5   9600.040  58791.993527  3.456499e+09  \n",
       "6  81133.000           NaN           NaN  \n",
       "7  39395.350  35034.550896  1.227420e+09  \n",
       "8   1717.680   7308.262353  5.341070e+07  "
      ]
     },
     "execution_count": 15,
     "metadata": {},
     "output_type": "execute_result"
    }
   ],
   "source": [
    "d"
   ]
  },
  {
   "cell_type": "code",
   "execution_count": null,
   "metadata": {},
   "outputs": [],
   "source": [
    "import plotly.express as px"
   ]
  },
  {
   "cell_type": "code",
   "execution_count": 18,
   "metadata": {},
   "outputs": [
    {
     "data": {
      "application/vnd.plotly.v1+json": {
       "config": {
        "plotlyServerURL": "https://plot.ly"
       },
       "data": [
        {
         "alignmentgroup": "True",
         "hovertemplate": "Categoría=%{x}<br>sum=%{y}<extra></extra>",
         "legendgroup": "Comida",
         "marker": {
          "color": "#000001",
          "pattern": {
           "shape": ""
          }
         },
         "name": "Comida",
         "offsetgroup": "Comida",
         "orientation": "v",
         "showlegend": true,
         "textposition": "auto",
         "type": "bar",
         "x": [
          "Comida"
         ],
         "xaxis": "x",
         "y": [
          276620.95
         ],
         "yaxis": "y"
        },
        {
         "alignmentgroup": "True",
         "hovertemplate": "Categoría=%{x}<br>sum=%{y}<extra></extra>",
         "legendgroup": "Educación",
         "marker": {
          "color": "#000002",
          "pattern": {
           "shape": ""
          }
         },
         "name": "Educación",
         "offsetgroup": "Educación",
         "orientation": "v",
         "showlegend": true,
         "textposition": "auto",
         "type": "bar",
         "x": [
          "Educación"
         ],
         "xaxis": "x",
         "y": [
          150859.3
         ],
         "yaxis": "y"
        },
        {
         "alignmentgroup": "True",
         "hovertemplate": "Categoría=%{x}<br>sum=%{y}<extra></extra>",
         "legendgroup": "Gastos de trabajo",
         "marker": {
          "color": "#000003",
          "pattern": {
           "shape": ""
          }
         },
         "name": "Gastos de trabajo",
         "offsetgroup": "Gastos de trabajo",
         "orientation": "v",
         "showlegend": true,
         "textposition": "auto",
         "type": "bar",
         "x": [
          "Gastos de trabajo"
         ],
         "xaxis": "x",
         "y": [
          37508.53
         ],
         "yaxis": "y"
        },
        {
         "alignmentgroup": "True",
         "hovertemplate": "Categoría=%{x}<br>sum=%{y}<extra></extra>",
         "legendgroup": "Groceries",
         "marker": {
          "color": "#000004",
          "pattern": {
           "shape": ""
          }
         },
         "name": "Groceries",
         "offsetgroup": "Groceries",
         "orientation": "v",
         "showlegend": true,
         "textposition": "auto",
         "type": "bar",
         "x": [
          "Groceries"
         ],
         "xaxis": "x",
         "y": [
          25978
         ],
         "yaxis": "y"
        },
        {
         "alignmentgroup": "True",
         "hovertemplate": "Categoría=%{x}<br>sum=%{y}<extra></extra>",
         "legendgroup": "Municipalidad",
         "marker": {
          "color": "#000005",
          "pattern": {
           "shape": ""
          }
         },
         "name": "Municipalidad",
         "offsetgroup": "Municipalidad",
         "orientation": "v",
         "showlegend": true,
         "textposition": "auto",
         "type": "bar",
         "x": [
          "Municipalidad"
         ],
         "xaxis": "x",
         "y": [
          426378.86
         ],
         "yaxis": "y"
        },
        {
         "alignmentgroup": "True",
         "hovertemplate": "Categoría=%{x}<br>sum=%{y}<extra></extra>",
         "legendgroup": "Otro",
         "marker": {
          "color": "#000006",
          "pattern": {
           "shape": ""
          }
         },
         "name": "Otro",
         "offsetgroup": "Otro",
         "orientation": "v",
         "showlegend": true,
         "textposition": "auto",
         "type": "bar",
         "x": [
          "Otro"
         ],
         "xaxis": "x",
         "y": [
          734291.1
         ],
         "yaxis": "y"
        },
        {
         "alignmentgroup": "True",
         "hovertemplate": "Categoría=%{x}<br>sum=%{y}<extra></extra>",
         "legendgroup": "Servicio de agua",
         "marker": {
          "color": "#000007",
          "pattern": {
           "shape": ""
          }
         },
         "name": "Servicio de agua",
         "offsetgroup": "Servicio de agua",
         "orientation": "v",
         "showlegend": true,
         "textposition": "auto",
         "type": "bar",
         "x": [
          "Servicio de agua"
         ],
         "xaxis": "x",
         "y": [
          81133
         ],
         "yaxis": "y"
        },
        {
         "alignmentgroup": "True",
         "hovertemplate": "Categoría=%{x}<br>sum=%{y}<extra></extra>",
         "legendgroup": "Tecnología",
         "marker": {
          "color": "#000008",
          "pattern": {
           "shape": ""
          }
         },
         "name": "Tecnología",
         "offsetgroup": "Tecnología",
         "orientation": "v",
         "showlegend": true,
         "textposition": "auto",
         "type": "bar",
         "x": [
          "Tecnología"
         ],
         "xaxis": "x",
         "y": [
          168792.31
         ],
         "yaxis": "y"
        },
        {
         "alignmentgroup": "True",
         "hovertemplate": "Categoría=%{x}<br>sum=%{y}<extra></extra>",
         "legendgroup": "Transporte",
         "marker": {
          "color": "#000009",
          "pattern": {
           "shape": ""
          }
         },
         "name": "Transporte",
         "offsetgroup": "Transporte",
         "orientation": "v",
         "showlegend": true,
         "textposition": "auto",
         "type": "bar",
         "x": [
          "Transporte"
         ],
         "xaxis": "x",
         "y": [
          230823.09
         ],
         "yaxis": "y"
        }
       ],
       "layout": {
        "barmode": "relative",
        "legend": {
         "title": {
          "text": "Categoría"
         },
         "tracegroupgap": 0
        },
        "margin": {
         "t": 60
        },
        "template": {
         "data": {
          "candlestick": [
           {
            "decreasing": {
             "line": {
              "color": "#000033"
             }
            },
            "increasing": {
             "line": {
              "color": "#000032"
             }
            },
            "type": "candlestick"
           }
          ],
          "contour": [
           {
            "colorscale": [
             [
              0,
              "#000011"
             ],
             [
              0.1111111111111111,
              "#000012"
             ],
             [
              0.2222222222222222,
              "#000013"
             ],
             [
              0.3333333333333333,
              "#000014"
             ],
             [
              0.4444444444444444,
              "#000015"
             ],
             [
              0.5555555555555556,
              "#000016"
             ],
             [
              0.6666666666666666,
              "#000017"
             ],
             [
              0.7777777777777778,
              "#000018"
             ],
             [
              0.8888888888888888,
              "#000019"
             ],
             [
              1,
              "#000020"
             ]
            ],
            "type": "contour"
           }
          ],
          "contourcarpet": [
           {
            "colorscale": [
             [
              0,
              "#000011"
             ],
             [
              0.1111111111111111,
              "#000012"
             ],
             [
              0.2222222222222222,
              "#000013"
             ],
             [
              0.3333333333333333,
              "#000014"
             ],
             [
              0.4444444444444444,
              "#000015"
             ],
             [
              0.5555555555555556,
              "#000016"
             ],
             [
              0.6666666666666666,
              "#000017"
             ],
             [
              0.7777777777777778,
              "#000018"
             ],
             [
              0.8888888888888888,
              "#000019"
             ],
             [
              1,
              "#000020"
             ]
            ],
            "type": "contourcarpet"
           }
          ],
          "heatmap": [
           {
            "colorscale": [
             [
              0,
              "#000011"
             ],
             [
              0.1111111111111111,
              "#000012"
             ],
             [
              0.2222222222222222,
              "#000013"
             ],
             [
              0.3333333333333333,
              "#000014"
             ],
             [
              0.4444444444444444,
              "#000015"
             ],
             [
              0.5555555555555556,
              "#000016"
             ],
             [
              0.6666666666666666,
              "#000017"
             ],
             [
              0.7777777777777778,
              "#000018"
             ],
             [
              0.8888888888888888,
              "#000019"
             ],
             [
              1,
              "#000020"
             ]
            ],
            "type": "heatmap"
           }
          ],
          "histogram2d": [
           {
            "colorscale": [
             [
              0,
              "#000011"
             ],
             [
              0.1111111111111111,
              "#000012"
             ],
             [
              0.2222222222222222,
              "#000013"
             ],
             [
              0.3333333333333333,
              "#000014"
             ],
             [
              0.4444444444444444,
              "#000015"
             ],
             [
              0.5555555555555556,
              "#000016"
             ],
             [
              0.6666666666666666,
              "#000017"
             ],
             [
              0.7777777777777778,
              "#000018"
             ],
             [
              0.8888888888888888,
              "#000019"
             ],
             [
              1,
              "#000020"
             ]
            ],
            "type": "histogram2d"
           }
          ],
          "icicle": [
           {
            "textfont": {
             "color": "white"
            },
            "type": "icicle"
           }
          ],
          "sankey": [
           {
            "textfont": {
             "color": "#000036"
            },
            "type": "sankey"
           }
          ],
          "scatter": [
           {
            "marker": {
             "line": {
              "width": 0
             }
            },
            "type": "scatter"
           }
          ],
          "table": [
           {
            "cells": {
             "fill": {
              "color": "#000038"
             },
             "font": {
              "color": "#000037"
             },
             "line": {
              "color": "#000039"
             }
            },
            "header": {
             "fill": {
              "color": "#000040"
             },
             "font": {
              "color": "#000036"
             },
             "line": {
              "color": "#000039"
             }
            },
            "type": "table"
           }
          ],
          "waterfall": [
           {
            "connector": {
             "line": {
              "color": "#000036",
              "width": 2
             }
            },
            "decreasing": {
             "marker": {
              "color": "#000033"
             }
            },
            "increasing": {
             "marker": {
              "color": "#000032"
             }
            },
            "totals": {
             "marker": {
              "color": "#000034"
             }
            },
            "type": "waterfall"
           }
          ]
         },
         "layout": {
          "coloraxis": {
           "colorscale": [
            [
             0,
             "#000011"
            ],
            [
             0.1111111111111111,
             "#000012"
            ],
            [
             0.2222222222222222,
             "#000013"
            ],
            [
             0.3333333333333333,
             "#000014"
            ],
            [
             0.4444444444444444,
             "#000015"
            ],
            [
             0.5555555555555556,
             "#000016"
            ],
            [
             0.6666666666666666,
             "#000017"
            ],
            [
             0.7777777777777778,
             "#000018"
            ],
            [
             0.8888888888888888,
             "#000019"
            ],
            [
             1,
             "#000020"
            ]
           ]
          },
          "colorscale": {
           "diverging": [
            [
             0,
             "#000021"
            ],
            [
             0.1,
             "#000022"
            ],
            [
             0.2,
             "#000023"
            ],
            [
             0.3,
             "#000024"
            ],
            [
             0.4,
             "#000025"
            ],
            [
             0.5,
             "#000026"
            ],
            [
             0.6,
             "#000027"
            ],
            [
             0.7,
             "#000028"
            ],
            [
             0.8,
             "#000029"
            ],
            [
             0.9,
             "#000030"
            ],
            [
             1,
             "#000031"
            ]
           ],
           "sequential": [
            [
             0,
             "#000011"
            ],
            [
             0.1111111111111111,
             "#000012"
            ],
            [
             0.2222222222222222,
             "#000013"
            ],
            [
             0.3333333333333333,
             "#000014"
            ],
            [
             0.4444444444444444,
             "#000015"
            ],
            [
             0.5555555555555556,
             "#000016"
            ],
            [
             0.6666666666666666,
             "#000017"
            ],
            [
             0.7777777777777778,
             "#000018"
            ],
            [
             0.8888888888888888,
             "#000019"
            ],
            [
             1,
             "#000020"
            ]
           ],
           "sequentialminus": [
            [
             0,
             "#000011"
            ],
            [
             0.1111111111111111,
             "#000012"
            ],
            [
             0.2222222222222222,
             "#000013"
            ],
            [
             0.3333333333333333,
             "#000014"
            ],
            [
             0.4444444444444444,
             "#000015"
            ],
            [
             0.5555555555555556,
             "#000016"
            ],
            [
             0.6666666666666666,
             "#000017"
            ],
            [
             0.7777777777777778,
             "#000018"
            ],
            [
             0.8888888888888888,
             "#000019"
            ],
            [
             1,
             "#000020"
            ]
           ]
          },
          "colorway": [
           "#000001",
           "#000002",
           "#000003",
           "#000004",
           "#000005",
           "#000006",
           "#000007",
           "#000008",
           "#000009",
           "#000010"
          ]
         }
        },
        "xaxis": {
         "anchor": "y",
         "categoryarray": [
          "Comida",
          "Educación",
          "Gastos de trabajo",
          "Groceries",
          "Municipalidad",
          "Otro",
          "Servicio de agua",
          "Tecnología",
          "Transporte"
         ],
         "categoryorder": "array",
         "domain": [
          0,
          1
         ],
         "title": {
          "text": "Categoría"
         }
        },
        "yaxis": {
         "anchor": "x",
         "domain": [
          0,
          1
         ],
         "title": {
          "text": "sum"
         }
        }
       }
      }
     },
     "metadata": {},
     "output_type": "display_data"
    }
   ],
   "source": [
    "px.bar(d, x=\"Categoría\", y=\"sum\", color=\"Categoría\")"
   ]
  },
  {
   "cell_type": "code",
   "execution_count": 21,
   "metadata": {},
   "outputs": [
    {
     "name": "stderr",
     "output_type": "stream",
     "text": [
      "2025-04-19 22:26:39.309 No runtime found, using MemoryCacheStorageManager\n",
      "2025-04-19 22:26:39.322 Thread 'MainThread': missing ScriptRunContext! This warning can be ignored when running in bare mode.\n",
      "2025-04-19 22:26:39.329 Thread 'MainThread': missing ScriptRunContext! This warning can be ignored when running in bare mode.\n",
      "2025-04-19 22:26:39.336 Thread 'MainThread': missing ScriptRunContext! This warning can be ignored when running in bare mode.\n",
      "2025-04-19 22:26:39.356 Thread 'MainThread': missing ScriptRunContext! This warning can be ignored when running in bare mode.\n",
      "2025-04-19 22:26:39.358 Thread 'MainThread': missing ScriptRunContext! This warning can be ignored when running in bare mode.\n",
      "c:\\Users\\gabri\\OneDrive\\Documentos\\MisesApp\\scr\\procesarDatos.py:395: SettingWithCopyWarning:\n",
      "\n",
      "\n",
      "A value is trying to be set on a copy of a slice from a DataFrame\n",
      "\n",
      "See the caveats in the documentation: https://pandas.pydata.org/pandas-docs/stable/user_guide/indexing.html#returning-a-view-versus-a-copy\n",
      "\n"
     ]
    },
    {
     "data": {
      "application/vnd.plotly.v1+json": {
       "config": {
        "plotlyServerURL": "https://plot.ly"
       },
       "data": [
        {
         "alignmentgroup": "True",
         "hovertemplate": "Categoría=%{x}<br>Débito=%{y}<extra></extra>",
         "legendgroup": "",
         "marker": {
          "color": "#000001"
         },
         "name": "",
         "notched": false,
         "offsetgroup": "",
         "orientation": "v",
         "showlegend": false,
         "type": "box",
         "x": [
          "Otro",
          "Tecnología",
          "Educación",
          "Otro",
          "Otro",
          "Municipalidad",
          "Municipalidad",
          "Comida",
          "Comida",
          "Otro",
          "Comida",
          "Otro",
          "Otro",
          "Otro",
          "Otro",
          "Otro",
          "Otro",
          "Comida",
          "Comida",
          "Comida",
          "Otro",
          "Otro",
          "Comida",
          "Comida",
          "Groceries",
          "Otro",
          "Otro",
          "Municipalidad",
          "Otro",
          "Municipalidad",
          "Otro",
          "Otro",
          "Otro",
          "Tecnología",
          "Otro",
          "Comida",
          "Transporte",
          "Comida",
          "Transporte",
          "Comida",
          "Transporte",
          "Transporte",
          "Otro",
          "Transporte",
          "Transporte",
          "Transporte",
          "Transporte",
          "Transporte",
          "Transporte",
          "Transporte",
          "Transporte",
          "Transporte",
          "Comida",
          "Comida",
          "Transporte",
          "Transporte",
          "Comida",
          "Comida",
          "Transporte",
          "Comida",
          "Transporte",
          "Comida",
          "Tecnología",
          "Comida",
          "Transporte",
          "Transporte",
          "Transporte",
          "Comida",
          "Transporte",
          "Comida",
          "Transporte",
          "Transporte",
          "Transporte",
          "Tecnología",
          "Educación",
          "Gastos de trabajo",
          "Transporte",
          "Transporte",
          "Transporte",
          "Transporte",
          "Transporte",
          "Comida",
          "Transporte",
          "Transporte",
          "Comida",
          "Transporte",
          "Otro",
          "Transporte",
          "Transporte",
          "Transporte",
          "Otro",
          "Municipalidad",
          "Transporte",
          "Transporte",
          "Transporte",
          "Otro",
          "Municipalidad",
          "Transporte",
          "Transporte",
          "Transporte",
          "Comida",
          "Transporte",
          "Transporte",
          "Groceries",
          "Groceries",
          "Groceries",
          "Comida",
          "Transporte",
          "Transporte",
          "Groceries",
          "Otro",
          "Comida",
          "Educación",
          "Transporte",
          "Transporte",
          "Otro",
          "Transporte",
          "Otro",
          "Gastos de trabajo",
          "Transporte",
          "Transporte",
          "Transporte",
          "Transporte",
          "Transporte",
          "Otro",
          "Comida",
          "Transporte",
          "Otro",
          "Educación",
          "Transporte",
          "Transporte",
          "Transporte",
          "Comida",
          "Transporte",
          "Comida",
          "Transporte",
          "Transporte",
          "Transporte",
          "Comida",
          "Servicio de agua",
          "Comida",
          "Transporte",
          "Transporte"
         ],
         "x0": " ",
         "xaxis": "x",
         "y": [
          10380,
          63899.95,
          16360,
          38300,
          8500,
          69924.48,
          69924.48,
          4900,
          7000,
          8500,
          1300,
          9810.08,
          29700,
          10000,
          21555,
          24755,
          8500,
          6050,
          8300,
          7580,
          25002.12,
          1050,
          7700,
          7730,
          3475,
          310000,
          388.5,
          69632.08,
          8075.29,
          69632.08,
          15000,
          21000,
          9390,
          10001.61,
          19800,
          14088.5,
          2090,
          7350,
          2605.96,
          5379.12,
          1690,
          1364.12,
          2300,
          2346.38,
          1625.62,
          1608.72,
          1209.56,
          1429.52,
          1818.52,
          22500,
          24300,
          1399.07,
          7950,
          12643.85,
          1790,
          1533.69,
          15000,
          9374.6,
          1087.99,
          13060.8,
          1690,
          6679.5,
          80000,
          18125.1,
          3175.03,
          1084.72,
          1635.76,
          17218.21,
          1790,
          800,
          1700.5,
          1904.97,
          1794.75,
          14890.75,
          102117.3,
          5000,
          1600.26,
          1647.97,
          1808.34,
          4329.27,
          1273.54,
          5950,
          1526.32,
          1470.86,
          30889.18,
          1416.46,
          8075.29,
          1403.98,
          1773.45,
          21000,
          21500,
          73632.87,
          1501.33,
          3614.93,
          2709.25,
          100000,
          73632.87,
          48500,
          4199.81,
          2594.97,
          5600,
          2481.25,
          1265.94,
          5160,
          35,
          2375,
          3625.2,
          992.35,
          250,
          14933,
          8075.29,
          6600,
          7000,
          1747.28,
          2692.48,
          9000,
          881,
          4000,
          32508.53,
          3597.91,
          2690,
          312.8,
          2964.41,
          3024.87,
          188.04,
          11917.62,
          870.19,
          1446.49,
          25382,
          1717.68,
          3963.88,
          2701.52,
          5950,
          1354.92,
          1500,
          2522.25,
          2890.78,
          1645.46,
          13231.77,
          81133,
          13127.5,
          1390,
          1320.5
         ],
         "y0": " ",
         "yaxis": "y"
        }
       ],
       "layout": {
        "boxmode": "group",
        "legend": {
         "tracegroupgap": 0
        },
        "template": {
         "data": {
          "candlestick": [
           {
            "decreasing": {
             "line": {
              "color": "#000033"
             }
            },
            "increasing": {
             "line": {
              "color": "#000032"
             }
            },
            "type": "candlestick"
           }
          ],
          "contour": [
           {
            "colorscale": [
             [
              0,
              "#000011"
             ],
             [
              0.1111111111111111,
              "#000012"
             ],
             [
              0.2222222222222222,
              "#000013"
             ],
             [
              0.3333333333333333,
              "#000014"
             ],
             [
              0.4444444444444444,
              "#000015"
             ],
             [
              0.5555555555555556,
              "#000016"
             ],
             [
              0.6666666666666666,
              "#000017"
             ],
             [
              0.7777777777777778,
              "#000018"
             ],
             [
              0.8888888888888888,
              "#000019"
             ],
             [
              1,
              "#000020"
             ]
            ],
            "type": "contour"
           }
          ],
          "contourcarpet": [
           {
            "colorscale": [
             [
              0,
              "#000011"
             ],
             [
              0.1111111111111111,
              "#000012"
             ],
             [
              0.2222222222222222,
              "#000013"
             ],
             [
              0.3333333333333333,
              "#000014"
             ],
             [
              0.4444444444444444,
              "#000015"
             ],
             [
              0.5555555555555556,
              "#000016"
             ],
             [
              0.6666666666666666,
              "#000017"
             ],
             [
              0.7777777777777778,
              "#000018"
             ],
             [
              0.8888888888888888,
              "#000019"
             ],
             [
              1,
              "#000020"
             ]
            ],
            "type": "contourcarpet"
           }
          ],
          "heatmap": [
           {
            "colorscale": [
             [
              0,
              "#000011"
             ],
             [
              0.1111111111111111,
              "#000012"
             ],
             [
              0.2222222222222222,
              "#000013"
             ],
             [
              0.3333333333333333,
              "#000014"
             ],
             [
              0.4444444444444444,
              "#000015"
             ],
             [
              0.5555555555555556,
              "#000016"
             ],
             [
              0.6666666666666666,
              "#000017"
             ],
             [
              0.7777777777777778,
              "#000018"
             ],
             [
              0.8888888888888888,
              "#000019"
             ],
             [
              1,
              "#000020"
             ]
            ],
            "type": "heatmap"
           }
          ],
          "histogram2d": [
           {
            "colorscale": [
             [
              0,
              "#000011"
             ],
             [
              0.1111111111111111,
              "#000012"
             ],
             [
              0.2222222222222222,
              "#000013"
             ],
             [
              0.3333333333333333,
              "#000014"
             ],
             [
              0.4444444444444444,
              "#000015"
             ],
             [
              0.5555555555555556,
              "#000016"
             ],
             [
              0.6666666666666666,
              "#000017"
             ],
             [
              0.7777777777777778,
              "#000018"
             ],
             [
              0.8888888888888888,
              "#000019"
             ],
             [
              1,
              "#000020"
             ]
            ],
            "type": "histogram2d"
           }
          ],
          "icicle": [
           {
            "textfont": {
             "color": "white"
            },
            "type": "icicle"
           }
          ],
          "sankey": [
           {
            "textfont": {
             "color": "#000036"
            },
            "type": "sankey"
           }
          ],
          "scatter": [
           {
            "marker": {
             "line": {
              "width": 0
             }
            },
            "type": "scatter"
           }
          ],
          "table": [
           {
            "cells": {
             "fill": {
              "color": "#000038"
             },
             "font": {
              "color": "#000037"
             },
             "line": {
              "color": "#000039"
             }
            },
            "header": {
             "fill": {
              "color": "#000040"
             },
             "font": {
              "color": "#000036"
             },
             "line": {
              "color": "#000039"
             }
            },
            "type": "table"
           }
          ],
          "waterfall": [
           {
            "connector": {
             "line": {
              "color": "#000036",
              "width": 2
             }
            },
            "decreasing": {
             "marker": {
              "color": "#000033"
             }
            },
            "increasing": {
             "marker": {
              "color": "#000032"
             }
            },
            "totals": {
             "marker": {
              "color": "#000034"
             }
            },
            "type": "waterfall"
           }
          ]
         },
         "layout": {
          "coloraxis": {
           "colorscale": [
            [
             0,
             "#000011"
            ],
            [
             0.1111111111111111,
             "#000012"
            ],
            [
             0.2222222222222222,
             "#000013"
            ],
            [
             0.3333333333333333,
             "#000014"
            ],
            [
             0.4444444444444444,
             "#000015"
            ],
            [
             0.5555555555555556,
             "#000016"
            ],
            [
             0.6666666666666666,
             "#000017"
            ],
            [
             0.7777777777777778,
             "#000018"
            ],
            [
             0.8888888888888888,
             "#000019"
            ],
            [
             1,
             "#000020"
            ]
           ]
          },
          "colorscale": {
           "diverging": [
            [
             0,
             "#000021"
            ],
            [
             0.1,
             "#000022"
            ],
            [
             0.2,
             "#000023"
            ],
            [
             0.3,
             "#000024"
            ],
            [
             0.4,
             "#000025"
            ],
            [
             0.5,
             "#000026"
            ],
            [
             0.6,
             "#000027"
            ],
            [
             0.7,
             "#000028"
            ],
            [
             0.8,
             "#000029"
            ],
            [
             0.9,
             "#000030"
            ],
            [
             1,
             "#000031"
            ]
           ],
           "sequential": [
            [
             0,
             "#000011"
            ],
            [
             0.1111111111111111,
             "#000012"
            ],
            [
             0.2222222222222222,
             "#000013"
            ],
            [
             0.3333333333333333,
             "#000014"
            ],
            [
             0.4444444444444444,
             "#000015"
            ],
            [
             0.5555555555555556,
             "#000016"
            ],
            [
             0.6666666666666666,
             "#000017"
            ],
            [
             0.7777777777777778,
             "#000018"
            ],
            [
             0.8888888888888888,
             "#000019"
            ],
            [
             1,
             "#000020"
            ]
           ],
           "sequentialminus": [
            [
             0,
             "#000011"
            ],
            [
             0.1111111111111111,
             "#000012"
            ],
            [
             0.2222222222222222,
             "#000013"
            ],
            [
             0.3333333333333333,
             "#000014"
            ],
            [
             0.4444444444444444,
             "#000015"
            ],
            [
             0.5555555555555556,
             "#000016"
            ],
            [
             0.6666666666666666,
             "#000017"
            ],
            [
             0.7777777777777778,
             "#000018"
            ],
            [
             0.8888888888888888,
             "#000019"
            ],
            [
             1,
             "#000020"
            ]
           ]
          },
          "colorway": [
           "#000001",
           "#000002",
           "#000003",
           "#000004",
           "#000005",
           "#000006",
           "#000007",
           "#000008",
           "#000009",
           "#000010"
          ]
         }
        },
        "title": {
         "text": "Distribución de Débitos por Categoría"
        },
        "xaxis": {
         "anchor": "y",
         "domain": [
          0,
          1
         ],
         "title": {
          "text": "Categoría"
         }
        },
        "yaxis": {
         "anchor": "x",
         "domain": [
          0,
          1
         ],
         "title": {
          "text": "Débito"
         }
        }
       }
      }
     },
     "metadata": {},
     "output_type": "display_data"
    }
   ],
   "source": [
    "df = l.dataFrame_Categorias()\n",
    "px.box(df, x=\"Categoría\", y=\"Débito\", title=\"Distribución de Débitos por Categoría\")"
   ]
  },
  {
   "cell_type": "code",
   "execution_count": 27,
   "metadata": {},
   "outputs": [
    {
     "data": {
      "application/vnd.plotly.v1+json": {
       "config": {
        "plotlyServerURL": "https://plot.ly"
       },
       "data": [
        {
         "domain": {
          "x": [
           0,
           1
          ],
          "y": [
           0,
           1
          ]
         },
         "hole": 0.4,
         "hovertemplate": "Categoría=%{label}<br>count=%{value}<extra></extra>",
         "labels": [
          "Comida",
          "Educación",
          "Gastos de trabajo",
          "Groceries",
          "Municipalidad",
          "Otro",
          "Servicio de agua",
          "Tecnología",
          "Transporte"
         ],
         "legendgroup": "",
         "name": "",
         "showlegend": true,
         "textinfo": "percent+label",
         "textposition": "inside",
         "type": "pie",
         "values": [
          30,
          4,
          2,
          5,
          6,
          28,
          1,
          4,
          63
         ]
        }
       ],
       "layout": {
        "legend": {
         "tracegroupgap": 0
        },
        "template": {
         "data": {
          "candlestick": [
           {
            "decreasing": {
             "line": {
              "color": "#000033"
             }
            },
            "increasing": {
             "line": {
              "color": "#000032"
             }
            },
            "type": "candlestick"
           }
          ],
          "contour": [
           {
            "colorscale": [
             [
              0,
              "#000011"
             ],
             [
              0.1111111111111111,
              "#000012"
             ],
             [
              0.2222222222222222,
              "#000013"
             ],
             [
              0.3333333333333333,
              "#000014"
             ],
             [
              0.4444444444444444,
              "#000015"
             ],
             [
              0.5555555555555556,
              "#000016"
             ],
             [
              0.6666666666666666,
              "#000017"
             ],
             [
              0.7777777777777778,
              "#000018"
             ],
             [
              0.8888888888888888,
              "#000019"
             ],
             [
              1,
              "#000020"
             ]
            ],
            "type": "contour"
           }
          ],
          "contourcarpet": [
           {
            "colorscale": [
             [
              0,
              "#000011"
             ],
             [
              0.1111111111111111,
              "#000012"
             ],
             [
              0.2222222222222222,
              "#000013"
             ],
             [
              0.3333333333333333,
              "#000014"
             ],
             [
              0.4444444444444444,
              "#000015"
             ],
             [
              0.5555555555555556,
              "#000016"
             ],
             [
              0.6666666666666666,
              "#000017"
             ],
             [
              0.7777777777777778,
              "#000018"
             ],
             [
              0.8888888888888888,
              "#000019"
             ],
             [
              1,
              "#000020"
             ]
            ],
            "type": "contourcarpet"
           }
          ],
          "heatmap": [
           {
            "colorscale": [
             [
              0,
              "#000011"
             ],
             [
              0.1111111111111111,
              "#000012"
             ],
             [
              0.2222222222222222,
              "#000013"
             ],
             [
              0.3333333333333333,
              "#000014"
             ],
             [
              0.4444444444444444,
              "#000015"
             ],
             [
              0.5555555555555556,
              "#000016"
             ],
             [
              0.6666666666666666,
              "#000017"
             ],
             [
              0.7777777777777778,
              "#000018"
             ],
             [
              0.8888888888888888,
              "#000019"
             ],
             [
              1,
              "#000020"
             ]
            ],
            "type": "heatmap"
           }
          ],
          "histogram2d": [
           {
            "colorscale": [
             [
              0,
              "#000011"
             ],
             [
              0.1111111111111111,
              "#000012"
             ],
             [
              0.2222222222222222,
              "#000013"
             ],
             [
              0.3333333333333333,
              "#000014"
             ],
             [
              0.4444444444444444,
              "#000015"
             ],
             [
              0.5555555555555556,
              "#000016"
             ],
             [
              0.6666666666666666,
              "#000017"
             ],
             [
              0.7777777777777778,
              "#000018"
             ],
             [
              0.8888888888888888,
              "#000019"
             ],
             [
              1,
              "#000020"
             ]
            ],
            "type": "histogram2d"
           }
          ],
          "icicle": [
           {
            "textfont": {
             "color": "white"
            },
            "type": "icicle"
           }
          ],
          "sankey": [
           {
            "textfont": {
             "color": "#000036"
            },
            "type": "sankey"
           }
          ],
          "scatter": [
           {
            "marker": {
             "line": {
              "width": 0
             }
            },
            "type": "scatter"
           }
          ],
          "table": [
           {
            "cells": {
             "fill": {
              "color": "#000038"
             },
             "font": {
              "color": "#000037"
             },
             "line": {
              "color": "#000039"
             }
            },
            "header": {
             "fill": {
              "color": "#000040"
             },
             "font": {
              "color": "#000036"
             },
             "line": {
              "color": "#000039"
             }
            },
            "type": "table"
           }
          ],
          "waterfall": [
           {
            "connector": {
             "line": {
              "color": "#000036",
              "width": 2
             }
            },
            "decreasing": {
             "marker": {
              "color": "#000033"
             }
            },
            "increasing": {
             "marker": {
              "color": "#000032"
             }
            },
            "totals": {
             "marker": {
              "color": "#000034"
             }
            },
            "type": "waterfall"
           }
          ]
         },
         "layout": {
          "coloraxis": {
           "colorscale": [
            [
             0,
             "#000011"
            ],
            [
             0.1111111111111111,
             "#000012"
            ],
            [
             0.2222222222222222,
             "#000013"
            ],
            [
             0.3333333333333333,
             "#000014"
            ],
            [
             0.4444444444444444,
             "#000015"
            ],
            [
             0.5555555555555556,
             "#000016"
            ],
            [
             0.6666666666666666,
             "#000017"
            ],
            [
             0.7777777777777778,
             "#000018"
            ],
            [
             0.8888888888888888,
             "#000019"
            ],
            [
             1,
             "#000020"
            ]
           ]
          },
          "colorscale": {
           "diverging": [
            [
             0,
             "#000021"
            ],
            [
             0.1,
             "#000022"
            ],
            [
             0.2,
             "#000023"
            ],
            [
             0.3,
             "#000024"
            ],
            [
             0.4,
             "#000025"
            ],
            [
             0.5,
             "#000026"
            ],
            [
             0.6,
             "#000027"
            ],
            [
             0.7,
             "#000028"
            ],
            [
             0.8,
             "#000029"
            ],
            [
             0.9,
             "#000030"
            ],
            [
             1,
             "#000031"
            ]
           ],
           "sequential": [
            [
             0,
             "#000011"
            ],
            [
             0.1111111111111111,
             "#000012"
            ],
            [
             0.2222222222222222,
             "#000013"
            ],
            [
             0.3333333333333333,
             "#000014"
            ],
            [
             0.4444444444444444,
             "#000015"
            ],
            [
             0.5555555555555556,
             "#000016"
            ],
            [
             0.6666666666666666,
             "#000017"
            ],
            [
             0.7777777777777778,
             "#000018"
            ],
            [
             0.8888888888888888,
             "#000019"
            ],
            [
             1,
             "#000020"
            ]
           ],
           "sequentialminus": [
            [
             0,
             "#000011"
            ],
            [
             0.1111111111111111,
             "#000012"
            ],
            [
             0.2222222222222222,
             "#000013"
            ],
            [
             0.3333333333333333,
             "#000014"
            ],
            [
             0.4444444444444444,
             "#000015"
            ],
            [
             0.5555555555555556,
             "#000016"
            ],
            [
             0.6666666666666666,
             "#000017"
            ],
            [
             0.7777777777777778,
             "#000018"
            ],
            [
             0.8888888888888888,
             "#000019"
            ],
            [
             1,
             "#000020"
            ]
           ]
          },
          "colorway": [
           "#000001",
           "#000002",
           "#000003",
           "#000004",
           "#000005",
           "#000006",
           "#000007",
           "#000008",
           "#000009",
           "#000010"
          ]
         }
        },
        "title": {
         "text": "Distribución de registros por Categoría"
        }
       }
      }
     },
     "metadata": {},
     "output_type": "display_data"
    }
   ],
   "source": [
    "fig = px.pie(d, values=\"count\", names=\"Categoría\",\n",
    "             title=\"Distribución de registros por Categoría\",\n",
    "             hole=0.4)  # si quieres que sea tipo doughnut\n",
    "\n",
    "fig.update_traces(textposition='inside', textinfo='percent+label')\n",
    "fig.show()\n"
   ]
  },
  {
   "cell_type": "code",
   "execution_count": 31,
   "metadata": {},
   "outputs": [
    {
     "data": {
      "application/vnd.plotly.v1+json": {
       "config": {
        "plotlyServerURL": "https://plot.ly"
       },
       "data": [
        {
         "hovertemplate": "Categoría=%{x}<br>Débito=%{marker.size}<extra></extra>",
         "legendgroup": "Otro",
         "marker": {
          "color": "#000001",
          "size": [
           10380,
           38300,
           8500,
           8500,
           9810.08,
           29700,
           10000,
           21555,
           24755,
           8500,
           25002.12,
           1050,
           310000,
           388.5,
           8075.29,
           15000,
           21000,
           9390,
           19800,
           2300,
           8075.29,
           21500,
           100000,
           8075.29,
           9000,
           4000,
           188.04,
           1446.49
          ],
          "sizemode": "area",
          "sizeref": 775,
          "symbol": "circle"
         },
         "mode": "markers",
         "name": "Otro",
         "orientation": "v",
         "showlegend": true,
         "type": "scatter",
         "x": [
          "Otro",
          "Otro",
          "Otro",
          "Otro",
          "Otro",
          "Otro",
          "Otro",
          "Otro",
          "Otro",
          "Otro",
          "Otro",
          "Otro",
          "Otro",
          "Otro",
          "Otro",
          "Otro",
          "Otro",
          "Otro",
          "Otro",
          "Otro",
          "Otro",
          "Otro",
          "Otro",
          "Otro",
          "Otro",
          "Otro",
          "Otro",
          "Otro"
         ],
         "xaxis": "x",
         "y": [
          10380,
          38300,
          8500,
          8500,
          9810.08,
          29700,
          10000,
          21555,
          24755,
          8500,
          25002.12,
          1050,
          310000,
          388.5,
          8075.29,
          15000,
          21000,
          9390,
          19800,
          2300,
          8075.29,
          21500,
          100000,
          8075.29,
          9000,
          4000,
          188.04,
          1446.49
         ],
         "yaxis": "y"
        },
        {
         "hovertemplate": "Categoría=%{x}<br>Débito=%{marker.size}<extra></extra>",
         "legendgroup": "Tecnología",
         "marker": {
          "color": "#000002",
          "size": [
           63899.95,
           10001.61,
           80000,
           14890.75
          ],
          "sizemode": "area",
          "sizeref": 775,
          "symbol": "circle"
         },
         "mode": "markers",
         "name": "Tecnología",
         "orientation": "v",
         "showlegend": true,
         "type": "scatter",
         "x": [
          "Tecnología",
          "Tecnología",
          "Tecnología",
          "Tecnología"
         ],
         "xaxis": "x",
         "y": [
          63899.95,
          10001.61,
          80000,
          14890.75
         ],
         "yaxis": "y"
        },
        {
         "hovertemplate": "Categoría=%{x}<br>Débito=%{marker.size}<extra></extra>",
         "legendgroup": "Educación",
         "marker": {
          "color": "#000003",
          "size": [
           16360,
           102117.3,
           7000,
           25382
          ],
          "sizemode": "area",
          "sizeref": 775,
          "symbol": "circle"
         },
         "mode": "markers",
         "name": "Educación",
         "orientation": "v",
         "showlegend": true,
         "type": "scatter",
         "x": [
          "Educación",
          "Educación",
          "Educación",
          "Educación"
         ],
         "xaxis": "x",
         "y": [
          16360,
          102117.3,
          7000,
          25382
         ],
         "yaxis": "y"
        },
        {
         "hovertemplate": "Categoría=%{x}<br>Débito=%{marker.size}<extra></extra>",
         "legendgroup": "Municipalidad",
         "marker": {
          "color": "#000004",
          "size": [
           69924.48,
           69924.48,
           69632.08,
           69632.08,
           73632.87,
           73632.87
          ],
          "sizemode": "area",
          "sizeref": 775,
          "symbol": "circle"
         },
         "mode": "markers",
         "name": "Municipalidad",
         "orientation": "v",
         "showlegend": true,
         "type": "scatter",
         "x": [
          "Municipalidad",
          "Municipalidad",
          "Municipalidad",
          "Municipalidad",
          "Municipalidad",
          "Municipalidad"
         ],
         "xaxis": "x",
         "y": [
          69924.48,
          69924.48,
          69632.08,
          69632.08,
          73632.87,
          73632.87
         ],
         "yaxis": "y"
        },
        {
         "hovertemplate": "Categoría=%{x}<br>Débito=%{marker.size}<extra></extra>",
         "legendgroup": "Comida",
         "marker": {
          "color": "#000005",
          "size": [
           4900,
           7000,
           1300,
           6050,
           8300,
           7580,
           7700,
           7730,
           14088.5,
           7350,
           5379.12,
           7950,
           12643.85,
           15000,
           9374.6,
           13060.8,
           6679.5,
           18125.1,
           17218.21,
           800,
           5950,
           30889.18,
           5600,
           3625.2,
           6600,
           11917.62,
           5950,
           1500,
           13231.77,
           13127.5
          ],
          "sizemode": "area",
          "sizeref": 775,
          "symbol": "circle"
         },
         "mode": "markers",
         "name": "Comida",
         "orientation": "v",
         "showlegend": true,
         "type": "scatter",
         "x": [
          "Comida",
          "Comida",
          "Comida",
          "Comida",
          "Comida",
          "Comida",
          "Comida",
          "Comida",
          "Comida",
          "Comida",
          "Comida",
          "Comida",
          "Comida",
          "Comida",
          "Comida",
          "Comida",
          "Comida",
          "Comida",
          "Comida",
          "Comida",
          "Comida",
          "Comida",
          "Comida",
          "Comida",
          "Comida",
          "Comida",
          "Comida",
          "Comida",
          "Comida",
          "Comida"
         ],
         "xaxis": "x",
         "y": [
          4900,
          7000,
          1300,
          6050,
          8300,
          7580,
          7700,
          7730,
          14088.5,
          7350,
          5379.12,
          7950,
          12643.85,
          15000,
          9374.6,
          13060.8,
          6679.5,
          18125.1,
          17218.21,
          800,
          5950,
          30889.18,
          5600,
          3625.2,
          6600,
          11917.62,
          5950,
          1500,
          13231.77,
          13127.5
         ],
         "yaxis": "y"
        },
        {
         "hovertemplate": "Categoría=%{x}<br>Débito=%{marker.size}<extra></extra>",
         "legendgroup": "Groceries",
         "marker": {
          "color": "#000006",
          "size": [
           3475,
           5160,
           35,
           2375,
           14933
          ],
          "sizemode": "area",
          "sizeref": 775,
          "symbol": "circle"
         },
         "mode": "markers",
         "name": "Groceries",
         "orientation": "v",
         "showlegend": true,
         "type": "scatter",
         "x": [
          "Groceries",
          "Groceries",
          "Groceries",
          "Groceries",
          "Groceries"
         ],
         "xaxis": "x",
         "y": [
          3475,
          5160,
          35,
          2375,
          14933
         ],
         "yaxis": "y"
        },
        {
         "hovertemplate": "Categoría=%{x}<br>Débito=%{marker.size}<extra></extra>",
         "legendgroup": "Transporte",
         "marker": {
          "color": "#000007",
          "size": [
           2090,
           2605.96,
           1690,
           1364.12,
           2346.38,
           1625.62,
           1608.72,
           1209.56,
           1429.52,
           1818.52,
           22500,
           24300,
           1399.07,
           1790,
           1533.69,
           1087.99,
           1690,
           3175.03,
           1084.72,
           1635.76,
           1790,
           1700.5,
           1904.97,
           1794.75,
           1600.26,
           1647.97,
           1808.34,
           4329.27,
           1273.54,
           1526.32,
           1470.86,
           1416.46,
           1403.98,
           1773.45,
           21000,
           1501.33,
           3614.93,
           2709.25,
           48500,
           4199.81,
           2594.97,
           2481.25,
           1265.94,
           992.35,
           250,
           1747.28,
           2692.48,
           881,
           3597.91,
           2690,
           312.8,
           2964.41,
           3024.87,
           870.19,
           1717.68,
           3963.88,
           2701.52,
           1354.92,
           2522.25,
           2890.78,
           1645.46,
           1390,
           1320.5
          ],
          "sizemode": "area",
          "sizeref": 775,
          "symbol": "circle"
         },
         "mode": "markers",
         "name": "Transporte",
         "orientation": "v",
         "showlegend": true,
         "type": "scatter",
         "x": [
          "Transporte",
          "Transporte",
          "Transporte",
          "Transporte",
          "Transporte",
          "Transporte",
          "Transporte",
          "Transporte",
          "Transporte",
          "Transporte",
          "Transporte",
          "Transporte",
          "Transporte",
          "Transporte",
          "Transporte",
          "Transporte",
          "Transporte",
          "Transporte",
          "Transporte",
          "Transporte",
          "Transporte",
          "Transporte",
          "Transporte",
          "Transporte",
          "Transporte",
          "Transporte",
          "Transporte",
          "Transporte",
          "Transporte",
          "Transporte",
          "Transporte",
          "Transporte",
          "Transporte",
          "Transporte",
          "Transporte",
          "Transporte",
          "Transporte",
          "Transporte",
          "Transporte",
          "Transporte",
          "Transporte",
          "Transporte",
          "Transporte",
          "Transporte",
          "Transporte",
          "Transporte",
          "Transporte",
          "Transporte",
          "Transporte",
          "Transporte",
          "Transporte",
          "Transporte",
          "Transporte",
          "Transporte",
          "Transporte",
          "Transporte",
          "Transporte",
          "Transporte",
          "Transporte",
          "Transporte",
          "Transporte",
          "Transporte",
          "Transporte"
         ],
         "xaxis": "x",
         "y": [
          2090,
          2605.96,
          1690,
          1364.12,
          2346.38,
          1625.62,
          1608.72,
          1209.56,
          1429.52,
          1818.52,
          22500,
          24300,
          1399.07,
          1790,
          1533.69,
          1087.99,
          1690,
          3175.03,
          1084.72,
          1635.76,
          1790,
          1700.5,
          1904.97,
          1794.75,
          1600.26,
          1647.97,
          1808.34,
          4329.27,
          1273.54,
          1526.32,
          1470.86,
          1416.46,
          1403.98,
          1773.45,
          21000,
          1501.33,
          3614.93,
          2709.25,
          48500,
          4199.81,
          2594.97,
          2481.25,
          1265.94,
          992.35,
          250,
          1747.28,
          2692.48,
          881,
          3597.91,
          2690,
          312.8,
          2964.41,
          3024.87,
          870.19,
          1717.68,
          3963.88,
          2701.52,
          1354.92,
          2522.25,
          2890.78,
          1645.46,
          1390,
          1320.5
         ],
         "yaxis": "y"
        },
        {
         "hovertemplate": "Categoría=%{x}<br>Débito=%{marker.size}<extra></extra>",
         "legendgroup": "Gastos de trabajo",
         "marker": {
          "color": "#000008",
          "size": [
           5000,
           32508.53
          ],
          "sizemode": "area",
          "sizeref": 775,
          "symbol": "circle"
         },
         "mode": "markers",
         "name": "Gastos de trabajo",
         "orientation": "v",
         "showlegend": true,
         "type": "scatter",
         "x": [
          "Gastos de trabajo",
          "Gastos de trabajo"
         ],
         "xaxis": "x",
         "y": [
          5000,
          32508.53
         ],
         "yaxis": "y"
        },
        {
         "hovertemplate": "Categoría=%{x}<br>Débito=%{marker.size}<extra></extra>",
         "legendgroup": "Servicio de agua",
         "marker": {
          "color": "#000009",
          "size": [
           81133
          ],
          "sizemode": "area",
          "sizeref": 775,
          "symbol": "circle"
         },
         "mode": "markers",
         "name": "Servicio de agua",
         "orientation": "v",
         "showlegend": true,
         "type": "scatter",
         "x": [
          "Servicio de agua"
         ],
         "xaxis": "x",
         "y": [
          81133
         ],
         "yaxis": "y"
        }
       ],
       "layout": {
        "legend": {
         "itemsizing": "constant",
         "title": {
          "text": "Categoría"
         },
         "tracegroupgap": 0
        },
        "template": {
         "data": {
          "candlestick": [
           {
            "decreasing": {
             "line": {
              "color": "#000033"
             }
            },
            "increasing": {
             "line": {
              "color": "#000032"
             }
            },
            "type": "candlestick"
           }
          ],
          "contour": [
           {
            "colorscale": [
             [
              0,
              "#000011"
             ],
             [
              0.1111111111111111,
              "#000012"
             ],
             [
              0.2222222222222222,
              "#000013"
             ],
             [
              0.3333333333333333,
              "#000014"
             ],
             [
              0.4444444444444444,
              "#000015"
             ],
             [
              0.5555555555555556,
              "#000016"
             ],
             [
              0.6666666666666666,
              "#000017"
             ],
             [
              0.7777777777777778,
              "#000018"
             ],
             [
              0.8888888888888888,
              "#000019"
             ],
             [
              1,
              "#000020"
             ]
            ],
            "type": "contour"
           }
          ],
          "contourcarpet": [
           {
            "colorscale": [
             [
              0,
              "#000011"
             ],
             [
              0.1111111111111111,
              "#000012"
             ],
             [
              0.2222222222222222,
              "#000013"
             ],
             [
              0.3333333333333333,
              "#000014"
             ],
             [
              0.4444444444444444,
              "#000015"
             ],
             [
              0.5555555555555556,
              "#000016"
             ],
             [
              0.6666666666666666,
              "#000017"
             ],
             [
              0.7777777777777778,
              "#000018"
             ],
             [
              0.8888888888888888,
              "#000019"
             ],
             [
              1,
              "#000020"
             ]
            ],
            "type": "contourcarpet"
           }
          ],
          "heatmap": [
           {
            "colorscale": [
             [
              0,
              "#000011"
             ],
             [
              0.1111111111111111,
              "#000012"
             ],
             [
              0.2222222222222222,
              "#000013"
             ],
             [
              0.3333333333333333,
              "#000014"
             ],
             [
              0.4444444444444444,
              "#000015"
             ],
             [
              0.5555555555555556,
              "#000016"
             ],
             [
              0.6666666666666666,
              "#000017"
             ],
             [
              0.7777777777777778,
              "#000018"
             ],
             [
              0.8888888888888888,
              "#000019"
             ],
             [
              1,
              "#000020"
             ]
            ],
            "type": "heatmap"
           }
          ],
          "histogram2d": [
           {
            "colorscale": [
             [
              0,
              "#000011"
             ],
             [
              0.1111111111111111,
              "#000012"
             ],
             [
              0.2222222222222222,
              "#000013"
             ],
             [
              0.3333333333333333,
              "#000014"
             ],
             [
              0.4444444444444444,
              "#000015"
             ],
             [
              0.5555555555555556,
              "#000016"
             ],
             [
              0.6666666666666666,
              "#000017"
             ],
             [
              0.7777777777777778,
              "#000018"
             ],
             [
              0.8888888888888888,
              "#000019"
             ],
             [
              1,
              "#000020"
             ]
            ],
            "type": "histogram2d"
           }
          ],
          "icicle": [
           {
            "textfont": {
             "color": "white"
            },
            "type": "icicle"
           }
          ],
          "sankey": [
           {
            "textfont": {
             "color": "#000036"
            },
            "type": "sankey"
           }
          ],
          "scatter": [
           {
            "marker": {
             "line": {
              "width": 0
             }
            },
            "type": "scatter"
           }
          ],
          "table": [
           {
            "cells": {
             "fill": {
              "color": "#000038"
             },
             "font": {
              "color": "#000037"
             },
             "line": {
              "color": "#000039"
             }
            },
            "header": {
             "fill": {
              "color": "#000040"
             },
             "font": {
              "color": "#000036"
             },
             "line": {
              "color": "#000039"
             }
            },
            "type": "table"
           }
          ],
          "waterfall": [
           {
            "connector": {
             "line": {
              "color": "#000036",
              "width": 2
             }
            },
            "decreasing": {
             "marker": {
              "color": "#000033"
             }
            },
            "increasing": {
             "marker": {
              "color": "#000032"
             }
            },
            "totals": {
             "marker": {
              "color": "#000034"
             }
            },
            "type": "waterfall"
           }
          ]
         },
         "layout": {
          "coloraxis": {
           "colorscale": [
            [
             0,
             "#000011"
            ],
            [
             0.1111111111111111,
             "#000012"
            ],
            [
             0.2222222222222222,
             "#000013"
            ],
            [
             0.3333333333333333,
             "#000014"
            ],
            [
             0.4444444444444444,
             "#000015"
            ],
            [
             0.5555555555555556,
             "#000016"
            ],
            [
             0.6666666666666666,
             "#000017"
            ],
            [
             0.7777777777777778,
             "#000018"
            ],
            [
             0.8888888888888888,
             "#000019"
            ],
            [
             1,
             "#000020"
            ]
           ]
          },
          "colorscale": {
           "diverging": [
            [
             0,
             "#000021"
            ],
            [
             0.1,
             "#000022"
            ],
            [
             0.2,
             "#000023"
            ],
            [
             0.3,
             "#000024"
            ],
            [
             0.4,
             "#000025"
            ],
            [
             0.5,
             "#000026"
            ],
            [
             0.6,
             "#000027"
            ],
            [
             0.7,
             "#000028"
            ],
            [
             0.8,
             "#000029"
            ],
            [
             0.9,
             "#000030"
            ],
            [
             1,
             "#000031"
            ]
           ],
           "sequential": [
            [
             0,
             "#000011"
            ],
            [
             0.1111111111111111,
             "#000012"
            ],
            [
             0.2222222222222222,
             "#000013"
            ],
            [
             0.3333333333333333,
             "#000014"
            ],
            [
             0.4444444444444444,
             "#000015"
            ],
            [
             0.5555555555555556,
             "#000016"
            ],
            [
             0.6666666666666666,
             "#000017"
            ],
            [
             0.7777777777777778,
             "#000018"
            ],
            [
             0.8888888888888888,
             "#000019"
            ],
            [
             1,
             "#000020"
            ]
           ],
           "sequentialminus": [
            [
             0,
             "#000011"
            ],
            [
             0.1111111111111111,
             "#000012"
            ],
            [
             0.2222222222222222,
             "#000013"
            ],
            [
             0.3333333333333333,
             "#000014"
            ],
            [
             0.4444444444444444,
             "#000015"
            ],
            [
             0.5555555555555556,
             "#000016"
            ],
            [
             0.6666666666666666,
             "#000017"
            ],
            [
             0.7777777777777778,
             "#000018"
            ],
            [
             0.8888888888888888,
             "#000019"
            ],
            [
             1,
             "#000020"
            ]
           ]
          },
          "colorway": [
           "#000001",
           "#000002",
           "#000003",
           "#000004",
           "#000005",
           "#000006",
           "#000007",
           "#000008",
           "#000009",
           "#000010"
          ]
         }
        },
        "title": {
         "text": "Dispersión de Débitos por Categoría (Tamaño según valor)"
        },
        "xaxis": {
         "anchor": "y",
         "categoryarray": [
          "Otro",
          "Tecnología",
          "Educación",
          "Municipalidad",
          "Comida",
          "Groceries",
          "Transporte",
          "Gastos de trabajo",
          "Servicio de agua"
         ],
         "categoryorder": "array",
         "domain": [
          0,
          1
         ],
         "title": {
          "text": "Categoría"
         }
        },
        "yaxis": {
         "anchor": "x",
         "domain": [
          0,
          1
         ],
         "title": {
          "text": "Débito"
         }
        }
       }
      }
     },
     "metadata": {},
     "output_type": "display_data"
    }
   ],
   "source": [
    "fig = px.scatter(df, x=\"Categoría\", y=\"Débito\", \n",
    "                 size=\"Débito\", \n",
    "                 color=\"Categoría\",\n",
    "                 title=\"Dispersión de Débitos por Categoría (Tamaño según valor)\")\n",
    "fig.show()\n"
   ]
  },
  {
   "cell_type": "code",
   "execution_count": 10,
   "metadata": {},
   "outputs": [
    {
     "name": "stderr",
     "output_type": "stream",
     "text": [
      "2025-04-19 21:18:35.034 No runtime found, using MemoryCacheStorageManager\n",
      "2025-04-19 21:18:35.039 Thread 'MainThread': missing ScriptRunContext! This warning can be ignored when running in bare mode.\n",
      "2025-04-19 21:18:35.041 Thread 'MainThread': missing ScriptRunContext! This warning can be ignored when running in bare mode.\n",
      "2025-04-19 21:18:35.044 Thread 'MainThread': missing ScriptRunContext! This warning can be ignored when running in bare mode.\n",
      "2025-04-19 21:18:35.066 Thread 'MainThread': missing ScriptRunContext! This warning can be ignored when running in bare mode.\n",
      "2025-04-19 21:18:35.069 Thread 'MainThread': missing ScriptRunContext! This warning can be ignored when running in bare mode.\n"
     ]
    },
    {
     "data": {
      "text/html": [
       "<div>\n",
       "<style scoped>\n",
       "    .dataframe tbody tr th:only-of-type {\n",
       "        vertical-align: middle;\n",
       "    }\n",
       "\n",
       "    .dataframe tbody tr th {\n",
       "        vertical-align: top;\n",
       "    }\n",
       "\n",
       "    .dataframe thead th {\n",
       "        text-align: right;\n",
       "    }\n",
       "</style>\n",
       "<table border=\"1\" class=\"dataframe\">\n",
       "  <thead>\n",
       "    <tr style=\"text-align: right;\">\n",
       "      <th></th>\n",
       "      <th>Fechas</th>\n",
       "      <th>Referencia</th>\n",
       "      <th>Código</th>\n",
       "      <th>Descripción</th>\n",
       "      <th>Débito</th>\n",
       "      <th>Categoría</th>\n",
       "    </tr>\n",
       "  </thead>\n",
       "  <tbody>\n",
       "    <tr>\n",
       "      <th>12</th>\n",
       "      <td>2024-08-13</td>\n",
       "      <td>81200248</td>\n",
       "      <td>CP</td>\n",
       "      <td>OFFICE DEPOT LA URUCA</td>\n",
       "      <td>10380.00</td>\n",
       "      <td>Otro</td>\n",
       "    </tr>\n",
       "    <tr>\n",
       "      <th>42</th>\n",
       "      <td>2024-09-10</td>\n",
       "      <td>90900000</td>\n",
       "      <td>CP</td>\n",
       "      <td>INTELEC\\              San J</td>\n",
       "      <td>63899.95</td>\n",
       "      <td>Tecnología</td>\n",
       "    </tr>\n",
       "    <tr>\n",
       "      <th>70</th>\n",
       "      <td>2024-10-06</td>\n",
       "      <td>100500000</td>\n",
       "      <td>CP</td>\n",
       "      <td>UNIVERSIDAD COSTA RICAMONTES D</td>\n",
       "      <td>16360.00</td>\n",
       "      <td>Educación</td>\n",
       "    </tr>\n",
       "    <tr>\n",
       "      <th>80</th>\n",
       "      <td>2024-10-15</td>\n",
       "      <td>101400000</td>\n",
       "      <td>CP</td>\n",
       "      <td>WPS OFFICE\\           HARBOUR</td>\n",
       "      <td>38300.00</td>\n",
       "      <td>Otro</td>\n",
       "    </tr>\n",
       "    <tr>\n",
       "      <th>84</th>\n",
       "      <td>2024-10-18</td>\n",
       "      <td>101700000</td>\n",
       "      <td>CP</td>\n",
       "      <td>WPS OFFICE* TRIAL OVERHARBOUR</td>\n",
       "      <td>8500.00</td>\n",
       "      <td>Otro</td>\n",
       "    </tr>\n",
       "    <tr>\n",
       "      <th>...</th>\n",
       "      <td>...</td>\n",
       "      <td>...</td>\n",
       "      <td>...</td>\n",
       "      <td>...</td>\n",
       "      <td>...</td>\n",
       "      <td>...</td>\n",
       "    </tr>\n",
       "    <tr>\n",
       "      <th>405</th>\n",
       "      <td>2025-04-14</td>\n",
       "      <td>41300000</td>\n",
       "      <td>CP</td>\n",
       "      <td>DLC*UBER EATS\\        SAN JOSE</td>\n",
       "      <td>13231.77</td>\n",
       "      <td>Comida</td>\n",
       "    </tr>\n",
       "    <tr>\n",
       "      <th>406</th>\n",
       "      <td>2025-04-14</td>\n",
       "      <td>951438659</td>\n",
       "      <td>TF</td>\n",
       "      <td>Pago AYA 5273874</td>\n",
       "      <td>81133.00</td>\n",
       "      <td>Servicio de agua</td>\n",
       "    </tr>\n",
       "    <tr>\n",
       "      <th>409</th>\n",
       "      <td>2025-04-16</td>\n",
       "      <td>41500000</td>\n",
       "      <td>CP</td>\n",
       "      <td>DLC*UBER EATS\\        SAN JOSE</td>\n",
       "      <td>13127.50</td>\n",
       "      <td>Comida</td>\n",
       "    </tr>\n",
       "    <tr>\n",
       "      <th>411</th>\n",
       "      <td>2025-04-17</td>\n",
       "      <td>41600000</td>\n",
       "      <td>CP</td>\n",
       "      <td>DLC*UBER RIDES\\       SAN JOSE</td>\n",
       "      <td>1390.00</td>\n",
       "      <td>Transporte</td>\n",
       "    </tr>\n",
       "    <tr>\n",
       "      <th>414</th>\n",
       "      <td>2025-04-19</td>\n",
       "      <td>41800000</td>\n",
       "      <td>CP</td>\n",
       "      <td>DLC*UBER RIDES\\       SAN JOSE</td>\n",
       "      <td>1320.50</td>\n",
       "      <td>Transporte</td>\n",
       "    </tr>\n",
       "  </tbody>\n",
       "</table>\n",
       "<p>143 rows × 6 columns</p>\n",
       "</div>"
      ],
      "text/plain": [
       "        Fechas  Referencia Código                     Descripción    Débito  \\\n",
       "12  2024-08-13    81200248     CP           OFFICE DEPOT LA URUCA  10380.00   \n",
       "42  2024-09-10    90900000     CP     INTELEC\\              San J  63899.95   \n",
       "70  2024-10-06   100500000     CP  UNIVERSIDAD COSTA RICAMONTES D  16360.00   \n",
       "80  2024-10-15   101400000     CP   WPS OFFICE\\           HARBOUR  38300.00   \n",
       "84  2024-10-18   101700000     CP   WPS OFFICE* TRIAL OVERHARBOUR   8500.00   \n",
       "..         ...         ...    ...                             ...       ...   \n",
       "405 2025-04-14    41300000     CP  DLC*UBER EATS\\        SAN JOSE  13231.77   \n",
       "406 2025-04-14   951438659     TF                Pago AYA 5273874  81133.00   \n",
       "409 2025-04-16    41500000     CP  DLC*UBER EATS\\        SAN JOSE  13127.50   \n",
       "411 2025-04-17    41600000     CP  DLC*UBER RIDES\\       SAN JOSE   1390.00   \n",
       "414 2025-04-19    41800000     CP  DLC*UBER RIDES\\       SAN JOSE   1320.50   \n",
       "\n",
       "            Categoría  \n",
       "12               Otro  \n",
       "42         Tecnología  \n",
       "70          Educación  \n",
       "80               Otro  \n",
       "84               Otro  \n",
       "..                ...  \n",
       "405            Comida  \n",
       "406  Servicio de agua  \n",
       "409            Comida  \n",
       "411        Transporte  \n",
       "414        Transporte  \n",
       "\n",
       "[143 rows x 6 columns]"
      ]
     },
     "execution_count": 10,
     "metadata": {},
     "output_type": "execute_result"
    }
   ],
   "source": [
    "d1=l.df\n",
    "d2=l.read_catFromDB()\n",
    "resultado = pd.merge(d1, d2, how='left', on='Descripción')\n",
    "resultado = resultado.query(\"Débito !=0 \")\n",
    "resultado.drop(columns=[\"Crédito\",\"Balance\",\"Aporte neto\"], inplace=True)\n",
    "resultado\n"
   ]
  },
  {
   "cell_type": "code",
   "execution_count": null,
   "metadata": {},
   "outputs": [],
   "source": []
  },
  {
   "cell_type": "code",
   "execution_count": 41,
   "metadata": {},
   "outputs": [
    {
     "name": "stderr",
     "output_type": "stream",
     "text": [
      "2025-04-13 21:40:50.191 No runtime found, using MemoryCacheStorageManager\n",
      "2025-04-13 21:40:50.196 Thread 'MainThread': missing ScriptRunContext! This warning can be ignored when running in bare mode.\n",
      "2025-04-13 21:40:50.198 Thread 'MainThread': missing ScriptRunContext! This warning can be ignored when running in bare mode.\n",
      "2025-04-13 21:40:50.200 Thread 'MainThread': missing ScriptRunContext! This warning can be ignored when running in bare mode.\n",
      "2025-04-13 21:40:50.218 Thread 'MainThread': missing ScriptRunContext! This warning can be ignored when running in bare mode.\n",
      "2025-04-13 21:40:50.220 Thread 'MainThread': missing ScriptRunContext! This warning can be ignored when running in bare mode.\n"
     ]
    },
    {
     "data": {
      "text/html": [
       "<div>\n",
       "<style scoped>\n",
       "    .dataframe tbody tr th:only-of-type {\n",
       "        vertical-align: middle;\n",
       "    }\n",
       "\n",
       "    .dataframe tbody tr th {\n",
       "        vertical-align: top;\n",
       "    }\n",
       "\n",
       "    .dataframe thead th {\n",
       "        text-align: right;\n",
       "    }\n",
       "</style>\n",
       "<table border=\"1\" class=\"dataframe\">\n",
       "  <thead>\n",
       "    <tr style=\"text-align: right;\">\n",
       "      <th></th>\n",
       "      <th>Fechas</th>\n",
       "      <th>Referencia</th>\n",
       "      <th>Código</th>\n",
       "      <th>Descripcion</th>\n",
       "      <th>Débito</th>\n",
       "      <th>Crédito</th>\n",
       "      <th>Balance</th>\n",
       "      <th>Aporte neto</th>\n",
       "    </tr>\n",
       "    <tr>\n",
       "      <th>id</th>\n",
       "      <th></th>\n",
       "      <th></th>\n",
       "      <th></th>\n",
       "      <th></th>\n",
       "      <th></th>\n",
       "      <th></th>\n",
       "      <th></th>\n",
       "      <th></th>\n",
       "    </tr>\n",
       "  </thead>\n",
       "  <tbody>\n",
       "    <tr>\n",
       "      <th>1</th>\n",
       "      <td>2025-01-01</td>\n",
       "      <td>MiEjemplo</td>\n",
       "      <td>132718</td>\n",
       "      <td>Esto es un ejemplo</td>\n",
       "      <td>1327.18</td>\n",
       "      <td>0.00</td>\n",
       "      <td>0.0</td>\n",
       "      <td>-1327.18</td>\n",
       "    </tr>\n",
       "    <tr>\n",
       "      <th>2</th>\n",
       "      <td>2025-03-01</td>\n",
       "      <td>22800000</td>\n",
       "      <td>CP</td>\n",
       "      <td>DLC*UBER RIDES\\       SAN JOSE</td>\n",
       "      <td>1526.32</td>\n",
       "      <td>0.00</td>\n",
       "      <td>2234837.8</td>\n",
       "      <td>-1526.32</td>\n",
       "    </tr>\n",
       "    <tr>\n",
       "      <th>3</th>\n",
       "      <td>2025-03-01</td>\n",
       "      <td>30140889</td>\n",
       "      <td>3O</td>\n",
       "      <td>INTERESES</td>\n",
       "      <td>0.00</td>\n",
       "      <td>6.04</td>\n",
       "      <td>2234844.0</td>\n",
       "      <td>6.04</td>\n",
       "    </tr>\n",
       "    <tr>\n",
       "      <th>4</th>\n",
       "      <td>2025-03-02</td>\n",
       "      <td>30100000</td>\n",
       "      <td>CP</td>\n",
       "      <td>DLC*UBER RIDES\\       SAN JOSE</td>\n",
       "      <td>1470.86</td>\n",
       "      <td>0.00</td>\n",
       "      <td>2233373.0</td>\n",
       "      <td>-1470.86</td>\n",
       "    </tr>\n",
       "    <tr>\n",
       "      <th>5</th>\n",
       "      <td>2025-03-02</td>\n",
       "      <td>30230565</td>\n",
       "      <td>3O</td>\n",
       "      <td>INTERESES</td>\n",
       "      <td>0.00</td>\n",
       "      <td>6.04</td>\n",
       "      <td>2233379.0</td>\n",
       "      <td>6.04</td>\n",
       "    </tr>\n",
       "    <tr>\n",
       "      <th>...</th>\n",
       "      <td>...</td>\n",
       "      <td>...</td>\n",
       "      <td>...</td>\n",
       "      <td>...</td>\n",
       "      <td>...</td>\n",
       "      <td>...</td>\n",
       "      <td>...</td>\n",
       "      <td>...</td>\n",
       "    </tr>\n",
       "    <tr>\n",
       "      <th>67</th>\n",
       "      <td>2025-03-29</td>\n",
       "      <td>958403802</td>\n",
       "      <td>TS</td>\n",
       "      <td>SINPE MOVIL Llanta_Romualdo_Al</td>\n",
       "      <td>4000.00</td>\n",
       "      <td>0.00</td>\n",
       "      <td>2391152.8</td>\n",
       "      <td>-4000.00</td>\n",
       "    </tr>\n",
       "    <tr>\n",
       "      <th>68</th>\n",
       "      <td>2025-03-29</td>\n",
       "      <td>32935226</td>\n",
       "      <td>3O</td>\n",
       "      <td>INTERESES</td>\n",
       "      <td>0.00</td>\n",
       "      <td>6.48</td>\n",
       "      <td>2391159.2</td>\n",
       "      <td>6.48</td>\n",
       "    </tr>\n",
       "    <tr>\n",
       "      <th>69</th>\n",
       "      <td>2025-03-30</td>\n",
       "      <td>951822491</td>\n",
       "      <td>TF</td>\n",
       "      <td>Pago ICE Teléfono 17943090</td>\n",
       "      <td>32508.53</td>\n",
       "      <td>0.00</td>\n",
       "      <td>2358650.8</td>\n",
       "      <td>-32508.53</td>\n",
       "    </tr>\n",
       "    <tr>\n",
       "      <th>70</th>\n",
       "      <td>2025-03-30</td>\n",
       "      <td>33031520</td>\n",
       "      <td>3O</td>\n",
       "      <td>INTERESES</td>\n",
       "      <td>0.00</td>\n",
       "      <td>6.30</td>\n",
       "      <td>2358657.0</td>\n",
       "      <td>6.30</td>\n",
       "    </tr>\n",
       "    <tr>\n",
       "      <th>71</th>\n",
       "      <td>2025-03-31</td>\n",
       "      <td>33168303</td>\n",
       "      <td>3O</td>\n",
       "      <td>INTERESES</td>\n",
       "      <td>0.00</td>\n",
       "      <td>6.39</td>\n",
       "      <td>2358663.5</td>\n",
       "      <td>6.39</td>\n",
       "    </tr>\n",
       "  </tbody>\n",
       "</table>\n",
       "<p>71 rows × 8 columns</p>\n",
       "</div>"
      ],
      "text/plain": [
       "        Fechas  Referencia  Código                      Descripcion    Débito  \\\n",
       "id                                                                              \n",
       "1   2025-01-01   MiEjemplo  132718               Esto es un ejemplo   1327.18   \n",
       "2   2025-03-01    22800000      CP   DLC*UBER RIDES\\       SAN JOSE   1526.32   \n",
       "3   2025-03-01    30140889      3O   INTERESES                           0.00   \n",
       "4   2025-03-02    30100000      CP   DLC*UBER RIDES\\       SAN JOSE   1470.86   \n",
       "5   2025-03-02    30230565      3O   INTERESES                           0.00   \n",
       "..         ...         ...     ...                              ...       ...   \n",
       "67  2025-03-29   958403802      TS   SINPE MOVIL Llanta_Romualdo_Al   4000.00   \n",
       "68  2025-03-29    32935226      3O   INTERESES                           0.00   \n",
       "69  2025-03-30   951822491      TF   Pago ICE Teléfono 17943090      32508.53   \n",
       "70  2025-03-30    33031520      3O   INTERESES                           0.00   \n",
       "71  2025-03-31    33168303      3O   INTERESES                           0.00   \n",
       "\n",
       "    Crédito    Balance  Aporte neto  \n",
       "id                                   \n",
       "1      0.00        0.0     -1327.18  \n",
       "2      0.00  2234837.8     -1526.32  \n",
       "3      6.04  2234844.0         6.04  \n",
       "4      0.00  2233373.0     -1470.86  \n",
       "5      6.04  2233379.0         6.04  \n",
       "..      ...        ...          ...  \n",
       "67     0.00  2391152.8     -4000.00  \n",
       "68     6.48  2391159.2         6.48  \n",
       "69     0.00  2358650.8    -32508.53  \n",
       "70     6.30  2358657.0         6.30  \n",
       "71     6.39  2358663.5         6.39  \n",
       "\n",
       "[71 rows x 8 columns]"
      ]
     },
     "execution_count": 41,
     "metadata": {},
     "output_type": "execute_result"
    }
   ],
   "source": [
    "d=l.read_histFromDB(redfineDf=False)\n",
    "d.set_index(\"id\", inplace=True)\n",
    "d.columns=[\"Fechas\", \"Referencia\", \"Código\", \"Descripcion\", \"Débito\", \"Crédito\", \"Balance\"]\n",
    "d[\"Aporte neto\"] = d[\"Crédito\"]-d[\"Débito\"]\n",
    "d\n"
   ]
  },
  {
   "cell_type": "code",
   "execution_count": 1,
   "metadata": {},
   "outputs": [
    {
     "data": {
      "text/plain": [
       "'Hola mundo'"
      ]
     },
     "execution_count": 1,
     "metadata": {},
     "output_type": "execute_result"
    }
   ],
   "source": [
    "\"Hola mundo    \".strip()"
   ]
  },
  {
   "cell_type": "code",
   "execution_count": 1,
   "metadata": {},
   "outputs": [
    {
     "ename": "NameError",
     "evalue": "name 'l' is not defined",
     "output_type": "error",
     "traceback": [
      "\u001b[1;31m---------------------------------------------------------------------------\u001b[0m",
      "\u001b[1;31mNameError\u001b[0m                                 Traceback (most recent call last)",
      "Cell \u001b[1;32mIn[1], line 1\u001b[0m\n\u001b[1;32m----> 1\u001b[0m l\u001b[38;5;241m.\u001b[39mdf\n",
      "\u001b[1;31mNameError\u001b[0m: name 'l' is not defined"
     ]
    }
   ],
   "source": [
    "l.df"
   ]
  },
  {
   "cell_type": "code",
   "execution_count": 27,
   "metadata": {},
   "outputs": [
    {
     "name": "stderr",
     "output_type": "stream",
     "text": [
      "C:\\Users\\gabri\\AppData\\Local\\Temp\\ipykernel_28340\\3572288700.py:7: UserWarning:\n",
      "\n",
      "FigureCanvasAgg is non-interactive, and thus cannot be shown\n",
      "\n"
     ]
    }
   ],
   "source": [
    "info=l.df[[\"Crédito\"]].query(\"Crédito != 0\")\n",
    "info.describe()\n",
    "\n",
    "import matplotlib.pyplot as plt\n",
    "info=info[\"Crédito\"].to_list()\n",
    "plt.boxplot(x=info)\n",
    "plt.show()"
   ]
  },
  {
   "cell_type": "code",
   "execution_count": 11,
   "metadata": {},
   "outputs": [
    {
     "data": {
      "application/vnd.plotly.v1+json": {
       "config": {
        "plotlyServerURL": "https://plot.ly"
       },
       "data": [
        {
         "alignmentgroup": "True",
         "hovertemplate": "Tipo=%{x}<br>Monto=%{text}<extra></extra>",
         "legendgroup": "Ganancias",
         "marker": {
          "color": "#000001",
          "pattern": {
           "shape": ""
          }
         },
         "name": "Ganancias",
         "offsetgroup": "Ganancias",
         "orientation": "v",
         "showlegend": true,
         "text": [
          "ganancias"
         ],
         "textposition": "auto",
         "type": "bar",
         "x": [
          "Ganancias"
         ],
         "xaxis": "x",
         "y": [
          "ganancias"
         ],
         "yaxis": "y"
        },
        {
         "alignmentgroup": "True",
         "hovertemplate": "Tipo=%{x}<br>Monto=%{text}<extra></extra>",
         "legendgroup": "Gastos",
         "marker": {
          "color": "#000002",
          "pattern": {
           "shape": ""
          }
         },
         "name": "Gastos",
         "offsetgroup": "Gastos",
         "orientation": "v",
         "showlegend": true,
         "text": [
          "gastos"
         ],
         "textposition": "auto",
         "type": "bar",
         "x": [
          "Gastos"
         ],
         "xaxis": "x",
         "y": [
          "gastos"
         ],
         "yaxis": "y"
        }
       ],
       "layout": {
        "barmode": "relative",
        "legend": {
         "title": {
          "text": "Tipo"
         },
         "tracegroupgap": 0
        },
        "template": {
         "data": {
          "candlestick": [
           {
            "decreasing": {
             "line": {
              "color": "#000033"
             }
            },
            "increasing": {
             "line": {
              "color": "#000032"
             }
            },
            "type": "candlestick"
           }
          ],
          "contour": [
           {
            "colorscale": [
             [
              0,
              "#000011"
             ],
             [
              0.1111111111111111,
              "#000012"
             ],
             [
              0.2222222222222222,
              "#000013"
             ],
             [
              0.3333333333333333,
              "#000014"
             ],
             [
              0.4444444444444444,
              "#000015"
             ],
             [
              0.5555555555555556,
              "#000016"
             ],
             [
              0.6666666666666666,
              "#000017"
             ],
             [
              0.7777777777777778,
              "#000018"
             ],
             [
              0.8888888888888888,
              "#000019"
             ],
             [
              1,
              "#000020"
             ]
            ],
            "type": "contour"
           }
          ],
          "contourcarpet": [
           {
            "colorscale": [
             [
              0,
              "#000011"
             ],
             [
              0.1111111111111111,
              "#000012"
             ],
             [
              0.2222222222222222,
              "#000013"
             ],
             [
              0.3333333333333333,
              "#000014"
             ],
             [
              0.4444444444444444,
              "#000015"
             ],
             [
              0.5555555555555556,
              "#000016"
             ],
             [
              0.6666666666666666,
              "#000017"
             ],
             [
              0.7777777777777778,
              "#000018"
             ],
             [
              0.8888888888888888,
              "#000019"
             ],
             [
              1,
              "#000020"
             ]
            ],
            "type": "contourcarpet"
           }
          ],
          "heatmap": [
           {
            "colorscale": [
             [
              0,
              "#000011"
             ],
             [
              0.1111111111111111,
              "#000012"
             ],
             [
              0.2222222222222222,
              "#000013"
             ],
             [
              0.3333333333333333,
              "#000014"
             ],
             [
              0.4444444444444444,
              "#000015"
             ],
             [
              0.5555555555555556,
              "#000016"
             ],
             [
              0.6666666666666666,
              "#000017"
             ],
             [
              0.7777777777777778,
              "#000018"
             ],
             [
              0.8888888888888888,
              "#000019"
             ],
             [
              1,
              "#000020"
             ]
            ],
            "type": "heatmap"
           }
          ],
          "histogram2d": [
           {
            "colorscale": [
             [
              0,
              "#000011"
             ],
             [
              0.1111111111111111,
              "#000012"
             ],
             [
              0.2222222222222222,
              "#000013"
             ],
             [
              0.3333333333333333,
              "#000014"
             ],
             [
              0.4444444444444444,
              "#000015"
             ],
             [
              0.5555555555555556,
              "#000016"
             ],
             [
              0.6666666666666666,
              "#000017"
             ],
             [
              0.7777777777777778,
              "#000018"
             ],
             [
              0.8888888888888888,
              "#000019"
             ],
             [
              1,
              "#000020"
             ]
            ],
            "type": "histogram2d"
           }
          ],
          "icicle": [
           {
            "textfont": {
             "color": "white"
            },
            "type": "icicle"
           }
          ],
          "sankey": [
           {
            "textfont": {
             "color": "#000036"
            },
            "type": "sankey"
           }
          ],
          "scatter": [
           {
            "marker": {
             "line": {
              "width": 0
             }
            },
            "type": "scatter"
           }
          ],
          "table": [
           {
            "cells": {
             "fill": {
              "color": "#000038"
             },
             "font": {
              "color": "#000037"
             },
             "line": {
              "color": "#000039"
             }
            },
            "header": {
             "fill": {
              "color": "#000040"
             },
             "font": {
              "color": "#000036"
             },
             "line": {
              "color": "#000039"
             }
            },
            "type": "table"
           }
          ],
          "waterfall": [
           {
            "connector": {
             "line": {
              "color": "#000036",
              "width": 2
             }
            },
            "decreasing": {
             "marker": {
              "color": "#000033"
             }
            },
            "increasing": {
             "marker": {
              "color": "#000032"
             }
            },
            "totals": {
             "marker": {
              "color": "#000034"
             }
            },
            "type": "waterfall"
           }
          ]
         },
         "layout": {
          "coloraxis": {
           "colorscale": [
            [
             0,
             "#000011"
            ],
            [
             0.1111111111111111,
             "#000012"
            ],
            [
             0.2222222222222222,
             "#000013"
            ],
            [
             0.3333333333333333,
             "#000014"
            ],
            [
             0.4444444444444444,
             "#000015"
            ],
            [
             0.5555555555555556,
             "#000016"
            ],
            [
             0.6666666666666666,
             "#000017"
            ],
            [
             0.7777777777777778,
             "#000018"
            ],
            [
             0.8888888888888888,
             "#000019"
            ],
            [
             1,
             "#000020"
            ]
           ]
          },
          "colorscale": {
           "diverging": [
            [
             0,
             "#000021"
            ],
            [
             0.1,
             "#000022"
            ],
            [
             0.2,
             "#000023"
            ],
            [
             0.3,
             "#000024"
            ],
            [
             0.4,
             "#000025"
            ],
            [
             0.5,
             "#000026"
            ],
            [
             0.6,
             "#000027"
            ],
            [
             0.7,
             "#000028"
            ],
            [
             0.8,
             "#000029"
            ],
            [
             0.9,
             "#000030"
            ],
            [
             1,
             "#000031"
            ]
           ],
           "sequential": [
            [
             0,
             "#000011"
            ],
            [
             0.1111111111111111,
             "#000012"
            ],
            [
             0.2222222222222222,
             "#000013"
            ],
            [
             0.3333333333333333,
             "#000014"
            ],
            [
             0.4444444444444444,
             "#000015"
            ],
            [
             0.5555555555555556,
             "#000016"
            ],
            [
             0.6666666666666666,
             "#000017"
            ],
            [
             0.7777777777777778,
             "#000018"
            ],
            [
             0.8888888888888888,
             "#000019"
            ],
            [
             1,
             "#000020"
            ]
           ],
           "sequentialminus": [
            [
             0,
             "#000011"
            ],
            [
             0.1111111111111111,
             "#000012"
            ],
            [
             0.2222222222222222,
             "#000013"
            ],
            [
             0.3333333333333333,
             "#000014"
            ],
            [
             0.4444444444444444,
             "#000015"
            ],
            [
             0.5555555555555556,
             "#000016"
            ],
            [
             0.6666666666666666,
             "#000017"
            ],
            [
             0.7777777777777778,
             "#000018"
            ],
            [
             0.8888888888888888,
             "#000019"
            ],
            [
             1,
             "#000020"
            ]
           ]
          },
          "colorway": [
           "#000001",
           "#000002",
           "#000003",
           "#000004",
           "#000005",
           "#000006",
           "#000007",
           "#000008",
           "#000009",
           "#000010"
          ]
         }
        },
        "title": {
         "text": "Ganancia vs Gastos"
        },
        "xaxis": {
         "anchor": "y",
         "categoryarray": [
          "Ganancias",
          "Gastos"
         ],
         "categoryorder": "array",
         "domain": [
          0,
          1
         ],
         "title": {
          "text": "Tipo"
         }
        },
        "yaxis": {
         "anchor": "x",
         "domain": [
          0,
          1
         ],
         "title": {
          "text": "Monto"
         }
        }
       }
      }
     },
     "metadata": {},
     "output_type": "display_data"
    }
   ],
   "source": [
    "l.graph_gananciasPerdidas()\n"
   ]
  },
  {
   "cell_type": "code",
   "execution_count": 6,
   "metadata": {},
   "outputs": [
    {
     "data": {
      "application/vnd.plotly.v1+json": {
       "config": {
        "plotlyServerURL": "https://plot.ly"
       },
       "data": [
        {
         "hovertemplate": "Fechas=%{x}<br>Balance=%{y}<extra></extra>",
         "legendgroup": "",
         "line": {
          "color": "#000001",
          "dash": "solid"
         },
         "marker": {
          "symbol": "circle"
         },
         "mode": "lines",
         "name": "",
         "orientation": "v",
         "showlegend": false,
         "type": "scatter",
         "x": [
          "2025-03-01T00:00:00",
          "2025-03-01T00:00:00",
          "2025-03-02T00:00:00",
          "2025-03-02T00:00:00",
          "2025-03-03T00:00:00",
          "2025-03-03T00:00:00",
          "2025-03-03T00:00:00",
          "2025-03-04T00:00:00",
          "2025-03-04T00:00:00",
          "2025-03-05T00:00:00",
          "2025-03-06T00:00:00",
          "2025-03-07T00:00:00",
          "2025-03-08T00:00:00",
          "2025-03-08T00:00:00",
          "2025-03-09T00:00:00",
          "2025-03-10T00:00:00",
          "2025-03-11T00:00:00",
          "2025-03-11T00:00:00",
          "2025-03-12T00:00:00",
          "2025-03-12T00:00:00",
          "2025-03-12T00:00:00",
          "2025-03-12T00:00:00",
          "2025-03-13T00:00:00",
          "2025-03-13T00:00:00",
          "2025-03-13T00:00:00",
          "2025-03-13T00:00:00",
          "2025-03-13T00:00:00",
          "2025-03-14T00:00:00",
          "2025-03-15T00:00:00",
          "2025-03-16T00:00:00",
          "2025-03-17T00:00:00",
          "2025-03-17T00:00:00",
          "2025-03-18T00:00:00",
          "2025-03-18T00:00:00",
          "2025-03-19T00:00:00",
          "2025-03-20T00:00:00",
          "2025-03-20T00:00:00",
          "2025-03-20T00:00:00",
          "2025-03-20T00:00:00",
          "2025-03-21T00:00:00",
          "2025-03-21T00:00:00",
          "2025-03-22T00:00:00",
          "2025-03-22T00:00:00",
          "2025-03-23T00:00:00",
          "2025-03-23T00:00:00",
          "2025-03-23T00:00:00",
          "2025-03-23T00:00:00",
          "2025-03-23T00:00:00",
          "2025-03-24T00:00:00",
          "2025-03-24T00:00:00",
          "2025-03-24T00:00:00",
          "2025-03-24T00:00:00",
          "2025-03-24T00:00:00",
          "2025-03-24T00:00:00",
          "2025-03-25T00:00:00",
          "2025-03-25T00:00:00",
          "2025-03-26T00:00:00",
          "2025-03-27T00:00:00",
          "2025-03-27T00:00:00",
          "2025-03-27T00:00:00",
          "2025-03-27T00:00:00",
          "2025-03-27T00:00:00",
          "2025-03-28T00:00:00",
          "2025-03-28T00:00:00",
          "2025-03-28T00:00:00",
          "2025-03-29T00:00:00",
          "2025-03-29T00:00:00",
          "2025-03-30T00:00:00",
          "2025-03-30T00:00:00",
          "2025-03-31T00:00:00"
         ],
         "xaxis": "x",
         "y": [
          2234837.84,
          2234843.88,
          2233373.02,
          2233379.06,
          2202489.88,
          2201073.42,
          2201079.12,
          2193003.83,
          2193009.77,
          2193015.71,
          2193021.65,
          2193027.59,
          2191623.61,
          2191629.54,
          2191635.48,
          2191641.42,
          2189867.97,
          2189873.88,
          2168873.88,
          2147373.88,
          2073741.01,
          2073746.62,
          2072245.29,
          2068630.36,
          2065921.11,
          1965921.11,
          1965926.37,
          1965931.69,
          1965937.01,
          1965942.33,
          1892309.46,
          1892314.58,
          1843814.58,
          1843819.56,
          1843824.54,
          1845551.46,
          1841351.65,
          1838756.68,
          1838761.61,
          1833161.61,
          1833166.54,
          1830685.29,
          1830690.22,
          1829424.28,
          1824264.28,
          1824229.28,
          1821854.28,
          1821859.15,
          1818233.95,
          1817241.6,
          1816991.6,
          1802058.6,
          1793983.31,
          1793988.02,
          1787388.02,
          1787392.81,
          1787397.64,
          1780397.64,
          1778650.36,
          1775957.88,
          1766957.88,
          1766962.56,
          1766081.56,
          2395146.32,
          2395152.8,
          2391152.8,
          2391159.28,
          2358650.75,
          2358657.05,
          2358663.44
         ],
         "yaxis": "y"
        }
       ],
       "layout": {
        "legend": {
         "tracegroupgap": 0
        },
        "template": {
         "data": {
          "candlestick": [
           {
            "decreasing": {
             "line": {
              "color": "#000033"
             }
            },
            "increasing": {
             "line": {
              "color": "#000032"
             }
            },
            "type": "candlestick"
           }
          ],
          "contour": [
           {
            "colorscale": [
             [
              0,
              "#000011"
             ],
             [
              0.1111111111111111,
              "#000012"
             ],
             [
              0.2222222222222222,
              "#000013"
             ],
             [
              0.3333333333333333,
              "#000014"
             ],
             [
              0.4444444444444444,
              "#000015"
             ],
             [
              0.5555555555555556,
              "#000016"
             ],
             [
              0.6666666666666666,
              "#000017"
             ],
             [
              0.7777777777777778,
              "#000018"
             ],
             [
              0.8888888888888888,
              "#000019"
             ],
             [
              1,
              "#000020"
             ]
            ],
            "type": "contour"
           }
          ],
          "contourcarpet": [
           {
            "colorscale": [
             [
              0,
              "#000011"
             ],
             [
              0.1111111111111111,
              "#000012"
             ],
             [
              0.2222222222222222,
              "#000013"
             ],
             [
              0.3333333333333333,
              "#000014"
             ],
             [
              0.4444444444444444,
              "#000015"
             ],
             [
              0.5555555555555556,
              "#000016"
             ],
             [
              0.6666666666666666,
              "#000017"
             ],
             [
              0.7777777777777778,
              "#000018"
             ],
             [
              0.8888888888888888,
              "#000019"
             ],
             [
              1,
              "#000020"
             ]
            ],
            "type": "contourcarpet"
           }
          ],
          "heatmap": [
           {
            "colorscale": [
             [
              0,
              "#000011"
             ],
             [
              0.1111111111111111,
              "#000012"
             ],
             [
              0.2222222222222222,
              "#000013"
             ],
             [
              0.3333333333333333,
              "#000014"
             ],
             [
              0.4444444444444444,
              "#000015"
             ],
             [
              0.5555555555555556,
              "#000016"
             ],
             [
              0.6666666666666666,
              "#000017"
             ],
             [
              0.7777777777777778,
              "#000018"
             ],
             [
              0.8888888888888888,
              "#000019"
             ],
             [
              1,
              "#000020"
             ]
            ],
            "type": "heatmap"
           }
          ],
          "histogram2d": [
           {
            "colorscale": [
             [
              0,
              "#000011"
             ],
             [
              0.1111111111111111,
              "#000012"
             ],
             [
              0.2222222222222222,
              "#000013"
             ],
             [
              0.3333333333333333,
              "#000014"
             ],
             [
              0.4444444444444444,
              "#000015"
             ],
             [
              0.5555555555555556,
              "#000016"
             ],
             [
              0.6666666666666666,
              "#000017"
             ],
             [
              0.7777777777777778,
              "#000018"
             ],
             [
              0.8888888888888888,
              "#000019"
             ],
             [
              1,
              "#000020"
             ]
            ],
            "type": "histogram2d"
           }
          ],
          "icicle": [
           {
            "textfont": {
             "color": "white"
            },
            "type": "icicle"
           }
          ],
          "sankey": [
           {
            "textfont": {
             "color": "#000036"
            },
            "type": "sankey"
           }
          ],
          "scatter": [
           {
            "marker": {
             "line": {
              "width": 0
             }
            },
            "type": "scatter"
           }
          ],
          "table": [
           {
            "cells": {
             "fill": {
              "color": "#000038"
             },
             "font": {
              "color": "#000037"
             },
             "line": {
              "color": "#000039"
             }
            },
            "header": {
             "fill": {
              "color": "#000040"
             },
             "font": {
              "color": "#000036"
             },
             "line": {
              "color": "#000039"
             }
            },
            "type": "table"
           }
          ],
          "waterfall": [
           {
            "connector": {
             "line": {
              "color": "#000036",
              "width": 2
             }
            },
            "decreasing": {
             "marker": {
              "color": "#000033"
             }
            },
            "increasing": {
             "marker": {
              "color": "#000032"
             }
            },
            "totals": {
             "marker": {
              "color": "#000034"
             }
            },
            "type": "waterfall"
           }
          ]
         },
         "layout": {
          "coloraxis": {
           "colorscale": [
            [
             0,
             "#000011"
            ],
            [
             0.1111111111111111,
             "#000012"
            ],
            [
             0.2222222222222222,
             "#000013"
            ],
            [
             0.3333333333333333,
             "#000014"
            ],
            [
             0.4444444444444444,
             "#000015"
            ],
            [
             0.5555555555555556,
             "#000016"
            ],
            [
             0.6666666666666666,
             "#000017"
            ],
            [
             0.7777777777777778,
             "#000018"
            ],
            [
             0.8888888888888888,
             "#000019"
            ],
            [
             1,
             "#000020"
            ]
           ]
          },
          "colorscale": {
           "diverging": [
            [
             0,
             "#000021"
            ],
            [
             0.1,
             "#000022"
            ],
            [
             0.2,
             "#000023"
            ],
            [
             0.3,
             "#000024"
            ],
            [
             0.4,
             "#000025"
            ],
            [
             0.5,
             "#000026"
            ],
            [
             0.6,
             "#000027"
            ],
            [
             0.7,
             "#000028"
            ],
            [
             0.8,
             "#000029"
            ],
            [
             0.9,
             "#000030"
            ],
            [
             1,
             "#000031"
            ]
           ],
           "sequential": [
            [
             0,
             "#000011"
            ],
            [
             0.1111111111111111,
             "#000012"
            ],
            [
             0.2222222222222222,
             "#000013"
            ],
            [
             0.3333333333333333,
             "#000014"
            ],
            [
             0.4444444444444444,
             "#000015"
            ],
            [
             0.5555555555555556,
             "#000016"
            ],
            [
             0.6666666666666666,
             "#000017"
            ],
            [
             0.7777777777777778,
             "#000018"
            ],
            [
             0.8888888888888888,
             "#000019"
            ],
            [
             1,
             "#000020"
            ]
           ],
           "sequentialminus": [
            [
             0,
             "#000011"
            ],
            [
             0.1111111111111111,
             "#000012"
            ],
            [
             0.2222222222222222,
             "#000013"
            ],
            [
             0.3333333333333333,
             "#000014"
            ],
            [
             0.4444444444444444,
             "#000015"
            ],
            [
             0.5555555555555556,
             "#000016"
            ],
            [
             0.6666666666666666,
             "#000017"
            ],
            [
             0.7777777777777778,
             "#000018"
            ],
            [
             0.8888888888888888,
             "#000019"
            ],
            [
             1,
             "#000020"
            ]
           ]
          },
          "colorway": [
           "#000001",
           "#000002",
           "#000003",
           "#000004",
           "#000005",
           "#000006",
           "#000007",
           "#000008",
           "#000009",
           "#000010"
          ]
         }
        },
        "title": {
         "text": "Ganancia a lo largo del tiempo"
        },
        "xaxis": {
         "anchor": "y",
         "domain": [
          0,
          1
         ],
         "title": {
          "text": "Fechas"
         }
        },
        "yaxis": {
         "anchor": "x",
         "domain": [
          0,
          1
         ],
         "title": {
          "text": "Balance"
         }
        }
       }
      }
     },
     "metadata": {},
     "output_type": "display_data"
    }
   ],
   "source": [
    "l.graph_BalanceXTime()"
   ]
  },
  {
   "cell_type": "markdown",
   "metadata": {},
   "source": [
    "# Base de datos:"
   ]
  },
  {
   "cell_type": "markdown",
   "metadata": {},
   "source": [
    "### Leer de la base datos:"
   ]
  },
  {
   "cell_type": "code",
   "execution_count": 7,
   "metadata": {},
   "outputs": [
    {
     "name": "stderr",
     "output_type": "stream",
     "text": [
      "2025-04-13 18:58:15.031 No runtime found, using MemoryCacheStorageManager\n",
      "2025-04-13 18:58:15.034 Thread 'MainThread': missing ScriptRunContext! This warning can be ignored when running in bare mode.\n",
      "2025-04-13 18:58:15.038 Thread 'MainThread': missing ScriptRunContext! This warning can be ignored when running in bare mode.\n",
      "2025-04-13 18:58:15.039 Thread 'MainThread': missing ScriptRunContext! This warning can be ignored when running in bare mode.\n",
      "2025-04-13 18:58:15.046 Thread 'MainThread': missing ScriptRunContext! This warning can be ignored when running in bare mode.\n",
      "2025-04-13 18:58:15.048 Thread 'MainThread': missing ScriptRunContext! This warning can be ignored when running in bare mode.\n"
     ]
    },
    {
     "data": {
      "text/html": [
       "<div>\n",
       "<style scoped>\n",
       "    .dataframe tbody tr th:only-of-type {\n",
       "        vertical-align: middle;\n",
       "    }\n",
       "\n",
       "    .dataframe tbody tr th {\n",
       "        vertical-align: top;\n",
       "    }\n",
       "\n",
       "    .dataframe thead th {\n",
       "        text-align: right;\n",
       "    }\n",
       "</style>\n",
       "<table border=\"1\" class=\"dataframe\">\n",
       "  <thead>\n",
       "    <tr style=\"text-align: right;\">\n",
       "      <th></th>\n",
       "      <th>Descripción</th>\n",
       "      <th>Categoría</th>\n",
       "    </tr>\n",
       "  </thead>\n",
       "  <tbody>\n",
       "    <tr>\n",
       "      <th>0</th>\n",
       "      <td>Ejemplo</td>\n",
       "      <td>Otro</td>\n",
       "    </tr>\n",
       "  </tbody>\n",
       "</table>\n",
       "</div>"
      ],
      "text/plain": [
       "  Descripción Categoría\n",
       "0     Ejemplo      Otro"
      ]
     },
     "execution_count": 7,
     "metadata": {},
     "output_type": "execute_result"
    }
   ],
   "source": [
    "l.read_catFromDB()"
   ]
  },
  {
   "cell_type": "code",
   "execution_count": 8,
   "metadata": {},
   "outputs": [
    {
     "name": "stderr",
     "output_type": "stream",
     "text": [
      "2025-04-13 18:58:15.798 No runtime found, using MemoryCacheStorageManager\n",
      "2025-04-13 18:58:15.800 Thread 'MainThread': missing ScriptRunContext! This warning can be ignored when running in bare mode.\n",
      "2025-04-13 18:58:15.800 Thread 'MainThread': missing ScriptRunContext! This warning can be ignored when running in bare mode.\n",
      "2025-04-13 18:58:15.802 Thread 'MainThread': missing ScriptRunContext! This warning can be ignored when running in bare mode.\n",
      "2025-04-13 18:58:15.815 Thread 'MainThread': missing ScriptRunContext! This warning can be ignored when running in bare mode.\n",
      "2025-04-13 18:58:15.816 Thread 'MainThread': missing ScriptRunContext! This warning can be ignored when running in bare mode.\n"
     ]
    },
    {
     "data": {
      "text/html": [
       "<div>\n",
       "<style scoped>\n",
       "    .dataframe tbody tr th:only-of-type {\n",
       "        vertical-align: middle;\n",
       "    }\n",
       "\n",
       "    .dataframe tbody tr th {\n",
       "        vertical-align: top;\n",
       "    }\n",
       "\n",
       "    .dataframe thead th {\n",
       "        text-align: right;\n",
       "    }\n",
       "</style>\n",
       "<table border=\"1\" class=\"dataframe\">\n",
       "  <thead>\n",
       "    <tr style=\"text-align: right;\">\n",
       "      <th></th>\n",
       "      <th>id</th>\n",
       "      <th>fechas</th>\n",
       "      <th>referencia</th>\n",
       "      <th>codigo</th>\n",
       "      <th>descripcion</th>\n",
       "      <th>debito</th>\n",
       "      <th>credito</th>\n",
       "      <th>balance</th>\n",
       "    </tr>\n",
       "  </thead>\n",
       "  <tbody>\n",
       "    <tr>\n",
       "      <th>0</th>\n",
       "      <td>1</td>\n",
       "      <td>2025-01-01</td>\n",
       "      <td>MiEjemplo</td>\n",
       "      <td>132718</td>\n",
       "      <td>Esto es un ejemplo</td>\n",
       "      <td>1327.18</td>\n",
       "      <td>0.00</td>\n",
       "      <td>0.0</td>\n",
       "    </tr>\n",
       "    <tr>\n",
       "      <th>1</th>\n",
       "      <td>2</td>\n",
       "      <td>2025-03-01</td>\n",
       "      <td>22800000</td>\n",
       "      <td>CP</td>\n",
       "      <td>DLC*UBER RIDES\\       SAN JOSE</td>\n",
       "      <td>1526.32</td>\n",
       "      <td>0.00</td>\n",
       "      <td>2234837.8</td>\n",
       "    </tr>\n",
       "    <tr>\n",
       "      <th>2</th>\n",
       "      <td>3</td>\n",
       "      <td>2025-03-01</td>\n",
       "      <td>30140889</td>\n",
       "      <td>3O</td>\n",
       "      <td>INTERESES</td>\n",
       "      <td>0.00</td>\n",
       "      <td>6.04</td>\n",
       "      <td>2234844.0</td>\n",
       "    </tr>\n",
       "    <tr>\n",
       "      <th>3</th>\n",
       "      <td>4</td>\n",
       "      <td>2025-03-02</td>\n",
       "      <td>30100000</td>\n",
       "      <td>CP</td>\n",
       "      <td>DLC*UBER RIDES\\       SAN JOSE</td>\n",
       "      <td>1470.86</td>\n",
       "      <td>0.00</td>\n",
       "      <td>2233373.0</td>\n",
       "    </tr>\n",
       "    <tr>\n",
       "      <th>4</th>\n",
       "      <td>5</td>\n",
       "      <td>2025-03-02</td>\n",
       "      <td>30230565</td>\n",
       "      <td>3O</td>\n",
       "      <td>INTERESES</td>\n",
       "      <td>0.00</td>\n",
       "      <td>6.04</td>\n",
       "      <td>2233379.0</td>\n",
       "    </tr>\n",
       "    <tr>\n",
       "      <th>...</th>\n",
       "      <td>...</td>\n",
       "      <td>...</td>\n",
       "      <td>...</td>\n",
       "      <td>...</td>\n",
       "      <td>...</td>\n",
       "      <td>...</td>\n",
       "      <td>...</td>\n",
       "      <td>...</td>\n",
       "    </tr>\n",
       "    <tr>\n",
       "      <th>66</th>\n",
       "      <td>67</td>\n",
       "      <td>2025-03-29</td>\n",
       "      <td>958403802</td>\n",
       "      <td>TS</td>\n",
       "      <td>SINPE MOVIL Llanta_Romualdo_Al</td>\n",
       "      <td>4000.00</td>\n",
       "      <td>0.00</td>\n",
       "      <td>2391152.8</td>\n",
       "    </tr>\n",
       "    <tr>\n",
       "      <th>67</th>\n",
       "      <td>68</td>\n",
       "      <td>2025-03-29</td>\n",
       "      <td>32935226</td>\n",
       "      <td>3O</td>\n",
       "      <td>INTERESES</td>\n",
       "      <td>0.00</td>\n",
       "      <td>6.48</td>\n",
       "      <td>2391159.2</td>\n",
       "    </tr>\n",
       "    <tr>\n",
       "      <th>68</th>\n",
       "      <td>69</td>\n",
       "      <td>2025-03-30</td>\n",
       "      <td>951822491</td>\n",
       "      <td>TF</td>\n",
       "      <td>Pago ICE Teléfono 17943090</td>\n",
       "      <td>32508.53</td>\n",
       "      <td>0.00</td>\n",
       "      <td>2358650.8</td>\n",
       "    </tr>\n",
       "    <tr>\n",
       "      <th>69</th>\n",
       "      <td>70</td>\n",
       "      <td>2025-03-30</td>\n",
       "      <td>33031520</td>\n",
       "      <td>3O</td>\n",
       "      <td>INTERESES</td>\n",
       "      <td>0.00</td>\n",
       "      <td>6.30</td>\n",
       "      <td>2358657.0</td>\n",
       "    </tr>\n",
       "    <tr>\n",
       "      <th>70</th>\n",
       "      <td>71</td>\n",
       "      <td>2025-03-31</td>\n",
       "      <td>33168303</td>\n",
       "      <td>3O</td>\n",
       "      <td>INTERESES</td>\n",
       "      <td>0.00</td>\n",
       "      <td>6.39</td>\n",
       "      <td>2358663.5</td>\n",
       "    </tr>\n",
       "  </tbody>\n",
       "</table>\n",
       "<p>71 rows × 8 columns</p>\n",
       "</div>"
      ],
      "text/plain": [
       "    id      fechas  referencia  codigo                      descripcion  \\\n",
       "0    1  2025-01-01   MiEjemplo  132718               Esto es un ejemplo   \n",
       "1    2  2025-03-01    22800000      CP   DLC*UBER RIDES\\       SAN JOSE   \n",
       "2    3  2025-03-01    30140889      3O   INTERESES                        \n",
       "3    4  2025-03-02    30100000      CP   DLC*UBER RIDES\\       SAN JOSE   \n",
       "4    5  2025-03-02    30230565      3O   INTERESES                        \n",
       "..  ..         ...         ...     ...                              ...   \n",
       "66  67  2025-03-29   958403802      TS   SINPE MOVIL Llanta_Romualdo_Al   \n",
       "67  68  2025-03-29    32935226      3O   INTERESES                        \n",
       "68  69  2025-03-30   951822491      TF   Pago ICE Teléfono 17943090       \n",
       "69  70  2025-03-30    33031520      3O   INTERESES                        \n",
       "70  71  2025-03-31    33168303      3O   INTERESES                        \n",
       "\n",
       "      debito  credito    balance  \n",
       "0    1327.18     0.00        0.0  \n",
       "1    1526.32     0.00  2234837.8  \n",
       "2       0.00     6.04  2234844.0  \n",
       "3    1470.86     0.00  2233373.0  \n",
       "4       0.00     6.04  2233379.0  \n",
       "..       ...      ...        ...  \n",
       "66   4000.00     0.00  2391152.8  \n",
       "67      0.00     6.48  2391159.2  \n",
       "68  32508.53     0.00  2358650.8  \n",
       "69      0.00     6.30  2358657.0  \n",
       "70      0.00     6.39  2358663.5  \n",
       "\n",
       "[71 rows x 8 columns]"
      ]
     },
     "execution_count": 8,
     "metadata": {},
     "output_type": "execute_result"
    }
   ],
   "source": [
    "l.read_histFromDB(redfineDf=False)"
   ]
  },
  {
   "cell_type": "code",
   "execution_count": 9,
   "metadata": {},
   "outputs": [
    {
     "name": "stderr",
     "output_type": "stream",
     "text": [
      "2025-04-13 18:58:16.532 No runtime found, using MemoryCacheStorageManager\n",
      "2025-04-13 18:58:16.535 Thread 'MainThread': missing ScriptRunContext! This warning can be ignored when running in bare mode.\n",
      "2025-04-13 18:58:16.536 Thread 'MainThread': missing ScriptRunContext! This warning can be ignored when running in bare mode.\n",
      "2025-04-13 18:58:16.537 Thread 'MainThread': missing ScriptRunContext! This warning can be ignored when running in bare mode.\n",
      "2025-04-13 18:58:16.540 Thread 'MainThread': missing ScriptRunContext! This warning can be ignored when running in bare mode.\n",
      "2025-04-13 18:58:16.542 Thread 'MainThread': missing ScriptRunContext! This warning can be ignored when running in bare mode.\n"
     ]
    },
    {
     "data": {
      "text/html": [
       "<div>\n",
       "<style scoped>\n",
       "    .dataframe tbody tr th:only-of-type {\n",
       "        vertical-align: middle;\n",
       "    }\n",
       "\n",
       "    .dataframe tbody tr th {\n",
       "        vertical-align: top;\n",
       "    }\n",
       "\n",
       "    .dataframe thead th {\n",
       "        text-align: right;\n",
       "    }\n",
       "</style>\n",
       "<table border=\"1\" class=\"dataframe\">\n",
       "  <thead>\n",
       "    <tr style=\"text-align: right;\">\n",
       "      <th></th>\n",
       "      <th>descripcion</th>\n",
       "      <th>categoria</th>\n",
       "    </tr>\n",
       "  </thead>\n",
       "  <tbody>\n",
       "    <tr>\n",
       "      <th>0</th>\n",
       "      <td>Ejemplo</td>\n",
       "      <td>1</td>\n",
       "    </tr>\n",
       "  </tbody>\n",
       "</table>\n",
       "</div>"
      ],
      "text/plain": [
       "  descripcion  categoria\n",
       "0     Ejemplo          1"
      ]
     },
     "execution_count": 9,
     "metadata": {},
     "output_type": "execute_result"
    }
   ],
   "source": [
    "l.read_catTable()"
   ]
  },
  {
   "cell_type": "code",
   "execution_count": 10,
   "metadata": {},
   "outputs": [
    {
     "name": "stderr",
     "output_type": "stream",
     "text": [
      "2025-04-13 18:58:18.121 No runtime found, using MemoryCacheStorageManager\n",
      "2025-04-13 18:58:18.125 Thread 'MainThread': missing ScriptRunContext! This warning can be ignored when running in bare mode.\n",
      "2025-04-13 18:58:18.127 Thread 'MainThread': missing ScriptRunContext! This warning can be ignored when running in bare mode.\n",
      "2025-04-13 18:58:18.127 Thread 'MainThread': missing ScriptRunContext! This warning can be ignored when running in bare mode.\n",
      "2025-04-13 18:58:18.254 Thread 'MainThread': missing ScriptRunContext! This warning can be ignored when running in bare mode.\n",
      "2025-04-13 18:58:18.254 Thread 'MainThread': missing ScriptRunContext! This warning can be ignored when running in bare mode.\n"
     ]
    },
    {
     "data": {
      "text/html": [
       "<div>\n",
       "<style scoped>\n",
       "    .dataframe tbody tr th:only-of-type {\n",
       "        vertical-align: middle;\n",
       "    }\n",
       "\n",
       "    .dataframe tbody tr th {\n",
       "        vertical-align: top;\n",
       "    }\n",
       "\n",
       "    .dataframe thead th {\n",
       "        text-align: right;\n",
       "    }\n",
       "</style>\n",
       "<table border=\"1\" class=\"dataframe\">\n",
       "  <thead>\n",
       "    <tr style=\"text-align: right;\">\n",
       "      <th></th>\n",
       "      <th>id</th>\n",
       "      <th>descripcion</th>\n",
       "    </tr>\n",
       "  </thead>\n",
       "  <tbody>\n",
       "    <tr>\n",
       "      <th>0</th>\n",
       "      <td>1</td>\n",
       "      <td>Otro</td>\n",
       "    </tr>\n",
       "    <tr>\n",
       "      <th>1</th>\n",
       "      <td>3</td>\n",
       "      <td>Servicio de luz</td>\n",
       "    </tr>\n",
       "    <tr>\n",
       "      <th>2</th>\n",
       "      <td>4</td>\n",
       "      <td>Servicio de internet</td>\n",
       "    </tr>\n",
       "    <tr>\n",
       "      <th>3</th>\n",
       "      <td>5</td>\n",
       "      <td>Transporte</td>\n",
       "    </tr>\n",
       "    <tr>\n",
       "      <th>4</th>\n",
       "      <td>6</td>\n",
       "      <td>Educación</td>\n",
       "    </tr>\n",
       "    <tr>\n",
       "      <th>5</th>\n",
       "      <td>7</td>\n",
       "      <td>Servicio de agua</td>\n",
       "    </tr>\n",
       "    <tr>\n",
       "      <th>6</th>\n",
       "      <td>8</td>\n",
       "      <td>Comida</td>\n",
       "    </tr>\n",
       "    <tr>\n",
       "      <th>7</th>\n",
       "      <td>9</td>\n",
       "      <td>Salud</td>\n",
       "    </tr>\n",
       "  </tbody>\n",
       "</table>\n",
       "</div>"
      ],
      "text/plain": [
       "   id           descripcion\n",
       "0   1                  Otro\n",
       "1   3       Servicio de luz\n",
       "2   4  Servicio de internet\n",
       "3   5            Transporte\n",
       "4   6             Educación\n",
       "5   7      Servicio de agua\n",
       "6   8                Comida\n",
       "7   9                 Salud"
      ]
     },
     "execution_count": 10,
     "metadata": {},
     "output_type": "execute_result"
    }
   ],
   "source": [
    "l.read_catTableDesc()"
   ]
  },
  {
   "cell_type": "markdown",
   "metadata": {},
   "source": [
    "### Eliminar una categoria:"
   ]
  },
  {
   "cell_type": "code",
   "execution_count": 5,
   "metadata": {},
   "outputs": [
    {
     "name": "stderr",
     "output_type": "stream",
     "text": [
      "2025-04-13 15:32:26.828 No runtime found, using MemoryCacheStorageManager\n",
      "2025-04-13 15:32:26.831 No runtime found, using MemoryCacheStorageManager\n",
      "2025-04-13 15:32:26.832 Thread 'MainThread': missing ScriptRunContext! This warning can be ignored when running in bare mode.\n",
      "2025-04-13 15:32:26.834 Thread 'MainThread': missing ScriptRunContext! This warning can be ignored when running in bare mode.\n",
      "2025-04-13 15:32:26.835 Thread 'MainThread': missing ScriptRunContext! This warning can be ignored when running in bare mode.\n",
      "2025-04-13 15:32:26.857 Thread 'MainThread': missing ScriptRunContext! This warning can be ignored when running in bare mode.\n",
      "2025-04-13 15:32:26.858 Thread 'MainThread': missing ScriptRunContext! This warning can be ignored when running in bare mode.\n"
     ]
    },
    {
     "data": {
      "text/html": [
       "<div>\n",
       "<style scoped>\n",
       "    .dataframe tbody tr th:only-of-type {\n",
       "        vertical-align: middle;\n",
       "    }\n",
       "\n",
       "    .dataframe tbody tr th {\n",
       "        vertical-align: top;\n",
       "    }\n",
       "\n",
       "    .dataframe thead th {\n",
       "        text-align: right;\n",
       "    }\n",
       "</style>\n",
       "<table border=\"1\" class=\"dataframe\">\n",
       "  <thead>\n",
       "    <tr style=\"text-align: right;\">\n",
       "      <th></th>\n",
       "      <th>id</th>\n",
       "      <th>descripcion</th>\n",
       "    </tr>\n",
       "  </thead>\n",
       "  <tbody>\n",
       "    <tr>\n",
       "      <th>0</th>\n",
       "      <td>1</td>\n",
       "      <td>Otro</td>\n",
       "    </tr>\n",
       "    <tr>\n",
       "      <th>1</th>\n",
       "      <td>2</td>\n",
       "      <td>Servicio de agua</td>\n",
       "    </tr>\n",
       "    <tr>\n",
       "      <th>2</th>\n",
       "      <td>3</td>\n",
       "      <td>Servicio de luz</td>\n",
       "    </tr>\n",
       "    <tr>\n",
       "      <th>3</th>\n",
       "      <td>4</td>\n",
       "      <td>Servicio de internet</td>\n",
       "    </tr>\n",
       "    <tr>\n",
       "      <th>4</th>\n",
       "      <td>5</td>\n",
       "      <td>Transporte</td>\n",
       "    </tr>\n",
       "    <tr>\n",
       "      <th>5</th>\n",
       "      <td>6</td>\n",
       "      <td>Educacion</td>\n",
       "    </tr>\n",
       "  </tbody>\n",
       "</table>\n",
       "</div>"
      ],
      "text/plain": [
       "   id           descripcion\n",
       "0   1                  Otro\n",
       "1   2      Servicio de agua\n",
       "2   3       Servicio de luz\n",
       "3   4  Servicio de internet\n",
       "4   5            Transporte\n",
       "5   6             Educacion"
      ]
     },
     "execution_count": 5,
     "metadata": {},
     "output_type": "execute_result"
    }
   ],
   "source": [
    "categoriaAEliminar = \"Educacion\"\n",
    "l.read_catTableDesc()\n"
   ]
  },
  {
   "cell_type": "code",
   "execution_count": 6,
   "metadata": {},
   "outputs": [
    {
     "name": "stderr",
     "output_type": "stream",
     "text": [
      "2025-04-13 15:32:44.051 No runtime found, using MemoryCacheStorageManager\n",
      "2025-04-13 15:32:44.056 Thread 'MainThread': missing ScriptRunContext! This warning can be ignored when running in bare mode.\n",
      "2025-04-13 15:32:44.058 Thread 'MainThread': missing ScriptRunContext! This warning can be ignored when running in bare mode.\n",
      "2025-04-13 15:32:44.059 Thread 'MainThread': missing ScriptRunContext! This warning can be ignored when running in bare mode.\n",
      "2025-04-13 15:32:44.085 Thread 'MainThread': missing ScriptRunContext! This warning can be ignored when running in bare mode.\n",
      "2025-04-13 15:32:44.086 Thread 'MainThread': missing ScriptRunContext! This warning can be ignored when running in bare mode.\n",
      "c:\\Users\\gabri\\OneDrive\\Documentos\\MisesApp\\scr\\procesarDatos.py:95: FutureWarning: Calling int on a single element Series is deprecated and will raise a TypeError in the future. Use int(ser.iloc[0]) instead\n",
      "  indx_categoriaAEliminar =int(df_des.query(\"descripcion ==@descripcion\")[\"id\"])\n"
     ]
    }
   ],
   "source": [
    "l.eliminarCategoriaXDesc(categoriaAEliminar)"
   ]
  },
  {
   "cell_type": "code",
   "execution_count": 9,
   "metadata": {},
   "outputs": [
    {
     "data": {
      "text/plain": [
       "True"
      ]
     },
     "execution_count": 9,
     "metadata": {},
     "output_type": "execute_result"
    }
   ],
   "source": [
    "a=\"      \"\n",
    "a.strip() == \"\""
   ]
  },
  {
   "cell_type": "markdown",
   "metadata": {},
   "source": [
    "### Encontrar las categorías nuevas"
   ]
  },
  {
   "cell_type": "code",
   "execution_count": 8,
   "metadata": {},
   "outputs": [
    {
     "name": "stderr",
     "output_type": "stream",
     "text": [
      "2025-04-12 18:34:56.796 No runtime found, using MemoryCacheStorageManager\n",
      "2025-04-12 18:34:56.800 Thread 'MainThread': missing ScriptRunContext! This warning can be ignored when running in bare mode.\n",
      "2025-04-12 18:34:56.801 Thread 'MainThread': missing ScriptRunContext! This warning can be ignored when running in bare mode.\n",
      "2025-04-12 18:34:56.802 Thread 'MainThread': missing ScriptRunContext! This warning can be ignored when running in bare mode.\n",
      "2025-04-12 18:34:56.808 Thread 'MainThread': missing ScriptRunContext! This warning can be ignored when running in bare mode.\n",
      "2025-04-12 18:34:56.810 Thread 'MainThread': missing ScriptRunContext! This warning can be ignored when running in bare mode.\n"
     ]
    },
    {
     "data": {
      "text/plain": [
       "['Otro', 'Educación']"
      ]
     },
     "execution_count": 8,
     "metadata": {},
     "output_type": "execute_result"
    }
   ],
   "source": [
    "#SELECT *  FROM categorias_descripcion\n",
    "lista_categorias = l.read_catList()\n",
    "lista_categorias"
   ]
  },
  {
   "cell_type": "code",
   "execution_count": 9,
   "metadata": {},
   "outputs": [
    {
     "name": "stderr",
     "output_type": "stream",
     "text": [
      "2025-04-12 18:34:59.460 No runtime found, using MemoryCacheStorageManager\n",
      "c:\\Users\\gabri\\OneDrive\\Documentos\\MisesApp\\scr\\procesarDatos.py:152: FutureWarning:\n",
      "\n",
      "unique with argument that is not not a Series, Index, ExtensionArray, or np.ndarray is deprecated and will raise in a future version.\n",
      "\n"
     ]
    },
    {
     "data": {
      "text/plain": [
       "[' INTERESES                     ',\n",
       " ' DLC*UBER RIDES\\\\       SAN JOSE',\n",
       " ' IVA -UBER   *TRIP             ',\n",
       " ' DLC*UBER EATS\\\\        SAN JOSE',\n",
       " ' UBER   *TRIP          HELP.UBE',\n",
       " ' COURSERA.ORG\\\\         MOUNTAIN',\n",
       " ' HAMBURGER FACTORY LA URUCA    ',\n",
       " ' SODA DELICIAS TROPICALES      ']"
      ]
     },
     "execution_count": 9,
     "metadata": {},
     "output_type": "execute_result"
    }
   ],
   "source": [
    "l.nuevasCategorias()"
   ]
  },
  {
   "cell_type": "markdown",
   "metadata": {},
   "source": [
    "# OPERACIONES DE ESCRITURA"
   ]
  },
  {
   "cell_type": "code",
   "execution_count": 10,
   "metadata": {},
   "outputs": [],
   "source": [
    "l.agregarCategoria(\"Servicios básicos\")"
   ]
  },
  {
   "cell_type": "code",
   "execution_count": 11,
   "metadata": {},
   "outputs": [
    {
     "name": "stderr",
     "output_type": "stream",
     "text": [
      "2025-04-12 18:36:13.212 No runtime found, using MemoryCacheStorageManager\n"
     ]
    },
    {
     "data": {
      "text/plain": [
       "['Otro', 'Educación']"
      ]
     },
     "execution_count": 11,
     "metadata": {},
     "output_type": "execute_result"
    }
   ],
   "source": [
    "l.read_catList()"
   ]
  },
  {
   "cell_type": "code",
   "execution_count": 2,
   "metadata": {},
   "outputs": [],
   "source": [
    "import toml\n",
    "secretsPath = \"C:\\\\Users\\\\gabri\\\\.streamlit\\\\secrets.toml\"\n",
    "\n",
    "# Cargar el archivo .toml\n",
    "with open(secretsPath, 'r') as f:\n",
    "    secrets = toml.load(f)\n",
    "secrets_db=secrets[\"connections\"][\"postgresql\"]\n"
   ]
  },
  {
   "cell_type": "code",
   "execution_count": 4,
   "metadata": {},
   "outputs": [],
   "source": [
    "import psycopg2\n",
    "\n",
    "# Configuración de conexión\n",
    "conn = psycopg2.connect(\n",
    "    host        = secrets_db[\"host\"],\n",
    "    port        = secrets_db[\"port\"],\n",
    "    database    = secrets_db[\"database\"],\n",
    "    user        = secrets_db[\"username\"],\n",
    "    password    = secrets_db[\"password\"]\n",
    ")\n",
    "\n",
    "# Crear un cursor\n",
    "cur = conn.cursor()\n",
    "\n",
    "descripcion=input(\"Nueva categoria\")\n",
    "\n",
    "# Consulta SQL\n",
    "insert_query = \"CALL insertar_descripcioncategorias(%s);\"\n",
    "\n",
    "# Llamar al procedimiento almacenado con el input\n",
    "cur.execute(\"CALL insertar_descripcioncategorias(%s);\", (descripcion,))\n",
    "\n",
    "# Guardar los cambios\n",
    "conn.commit()\n",
    "\n",
    "# Cerrar cursor y conexión\n",
    "cur.close()\n",
    "conn.close()"
   ]
  },
  {
   "cell_type": "markdown",
   "metadata": {},
   "source": [
    "# DECORADORES Y GRÁFICOS:"
   ]
  },
  {
   "cell_type": "code",
   "execution_count": 14,
   "metadata": {},
   "outputs": [
    {
     "data": {
      "text/plain": [
       "5"
      ]
     },
     "execution_count": 14,
     "metadata": {},
     "output_type": "execute_result"
    }
   ],
   "source": [
    "def dec(func):\n",
    "    def wrap(a=None, b=None):\n",
    "        if a is None:\n",
    "            a = 2\n",
    "        if b is None:\n",
    "            b = 3\n",
    "        return func(a, b)\n",
    "    \n",
    "    return wrap\n",
    "\n",
    "\n",
    "@dec\n",
    "def sumar2Numeros(a, b):\n",
    "    return a+b\n",
    "\n",
    "sumar2Numeros()"
   ]
  },
  {
   "cell_type": "code",
   "execution_count": 1,
   "metadata": {},
   "outputs": [
    {
     "name": "stderr",
     "output_type": "stream",
     "text": [
      "2025-04-18 17:20:38.264 WARNING streamlit.runtime.scriptrunner_utils.script_run_context: Thread 'MainThread': missing ScriptRunContext! This warning can be ignored when running in bare mode.\n",
      "2025-04-18 17:20:38.591 \n",
      "  \u001b[33m\u001b[1mWarning:\u001b[0m to view this Streamlit app on a browser, run it with the following\n",
      "  command:\n",
      "\n",
      "    streamlit run c:\\ProgramData\\anaconda3\\Lib\\site-packages\\ipykernel_launcher.py [ARGUMENTS]\n",
      "2025-04-18 17:20:38.592 Thread 'MainThread': missing ScriptRunContext! This warning can be ignored when running in bare mode.\n",
      "2025-04-18 17:20:38.594 Thread 'MainThread': missing ScriptRunContext! This warning can be ignored when running in bare mode.\n",
      "2025-04-18 17:20:39.118 Thread 'Thread-5': missing ScriptRunContext! This warning can be ignored when running in bare mode.\n",
      "2025-04-18 17:20:39.121 Thread 'Thread-5': missing ScriptRunContext! This warning can be ignored when running in bare mode.\n",
      "2025-04-18 17:20:39.146 Thread 'MainThread': missing ScriptRunContext! This warning can be ignored when running in bare mode.\n",
      "2025-04-18 17:20:39.148 Thread 'MainThread': missing ScriptRunContext! This warning can be ignored when running in bare mode.\n",
      "2025-04-18 17:20:39.165 No runtime found, using MemoryCacheStorageManager\n",
      "2025-04-18 17:20:39.167 No runtime found, using MemoryCacheStorageManager\n",
      "2025-04-18 17:20:39.169 Thread 'MainThread': missing ScriptRunContext! This warning can be ignored when running in bare mode.\n",
      "2025-04-18 17:20:39.171 Thread 'MainThread': missing ScriptRunContext! This warning can be ignored when running in bare mode.\n",
      "2025-04-18 17:20:39.171 Thread 'MainThread': missing ScriptRunContext! This warning can be ignored when running in bare mode.\n",
      "2025-04-18 17:20:39.376 Thread 'MainThread': missing ScriptRunContext! This warning can be ignored when running in bare mode.\n",
      "2025-04-18 17:20:39.377 Thread 'MainThread': missing ScriptRunContext! This warning can be ignored when running in bare mode.\n",
      "2025-04-18 17:20:39.383 No runtime found, using MemoryCacheStorageManager\n",
      "2025-04-18 17:20:39.385 Thread 'MainThread': missing ScriptRunContext! This warning can be ignored when running in bare mode.\n",
      "2025-04-18 17:20:39.386 Thread 'MainThread': missing ScriptRunContext! This warning can be ignored when running in bare mode.\n",
      "2025-04-18 17:20:39.387 Thread 'MainThread': missing ScriptRunContext! This warning can be ignored when running in bare mode.\n",
      "2025-04-18 17:20:39.458 Thread 'MainThread': missing ScriptRunContext! This warning can be ignored when running in bare mode.\n",
      "2025-04-18 17:20:39.459 Thread 'MainThread': missing ScriptRunContext! This warning can be ignored when running in bare mode.\n"
     ]
    }
   ],
   "source": [
    "from procesarDatos import *\n",
    "o = datos()"
   ]
  },
  {
   "cell_type": "code",
   "execution_count": 7,
   "metadata": {},
   "outputs": [
    {
     "data": {
      "text/html": [
       "<div>\n",
       "<style scoped>\n",
       "    .dataframe tbody tr th:only-of-type {\n",
       "        vertical-align: middle;\n",
       "    }\n",
       "\n",
       "    .dataframe tbody tr th {\n",
       "        vertical-align: top;\n",
       "    }\n",
       "\n",
       "    .dataframe thead th {\n",
       "        text-align: right;\n",
       "    }\n",
       "</style>\n",
       "<table border=\"1\" class=\"dataframe\">\n",
       "  <thead>\n",
       "    <tr style=\"text-align: right;\">\n",
       "      <th></th>\n",
       "      <th>Fechas</th>\n",
       "      <th>Referencia</th>\n",
       "      <th>Código</th>\n",
       "      <th>Descripcion</th>\n",
       "      <th>Débito</th>\n",
       "      <th>Crédito</th>\n",
       "      <th>Balance</th>\n",
       "      <th>Aporte neto</th>\n",
       "    </tr>\n",
       "    <tr>\n",
       "      <th>id</th>\n",
       "      <th></th>\n",
       "      <th></th>\n",
       "      <th></th>\n",
       "      <th></th>\n",
       "      <th></th>\n",
       "      <th></th>\n",
       "      <th></th>\n",
       "      <th></th>\n",
       "    </tr>\n",
       "  </thead>\n",
       "  <tbody>\n",
       "    <tr>\n",
       "      <th>2</th>\n",
       "      <td>2025-03-01</td>\n",
       "      <td>22800000</td>\n",
       "      <td>CP</td>\n",
       "      <td>DLC*UBER RIDES\\       SAN JOSE</td>\n",
       "      <td>1526.32</td>\n",
       "      <td>0.00</td>\n",
       "      <td>2234837.8</td>\n",
       "      <td>-1526.32</td>\n",
       "    </tr>\n",
       "    <tr>\n",
       "      <th>3</th>\n",
       "      <td>2025-03-01</td>\n",
       "      <td>30140889</td>\n",
       "      <td>3O</td>\n",
       "      <td>INTERESES</td>\n",
       "      <td>0.00</td>\n",
       "      <td>6.04</td>\n",
       "      <td>2234844.0</td>\n",
       "      <td>6.04</td>\n",
       "    </tr>\n",
       "    <tr>\n",
       "      <th>4</th>\n",
       "      <td>2025-03-02</td>\n",
       "      <td>30100000</td>\n",
       "      <td>CP</td>\n",
       "      <td>DLC*UBER RIDES\\       SAN JOSE</td>\n",
       "      <td>1470.86</td>\n",
       "      <td>0.00</td>\n",
       "      <td>2233373.0</td>\n",
       "      <td>-1470.86</td>\n",
       "    </tr>\n",
       "    <tr>\n",
       "      <th>5</th>\n",
       "      <td>2025-03-02</td>\n",
       "      <td>30230565</td>\n",
       "      <td>3O</td>\n",
       "      <td>INTERESES</td>\n",
       "      <td>0.00</td>\n",
       "      <td>6.04</td>\n",
       "      <td>2233379.0</td>\n",
       "      <td>6.04</td>\n",
       "    </tr>\n",
       "    <tr>\n",
       "      <th>6</th>\n",
       "      <td>2025-03-03</td>\n",
       "      <td>30200000</td>\n",
       "      <td>CP</td>\n",
       "      <td>DLC*UBER EATS\\        SAN JOSE</td>\n",
       "      <td>30889.18</td>\n",
       "      <td>0.00</td>\n",
       "      <td>2202490.0</td>\n",
       "      <td>-30889.18</td>\n",
       "    </tr>\n",
       "    <tr>\n",
       "      <th>...</th>\n",
       "      <td>...</td>\n",
       "      <td>...</td>\n",
       "      <td>...</td>\n",
       "      <td>...</td>\n",
       "      <td>...</td>\n",
       "      <td>...</td>\n",
       "      <td>...</td>\n",
       "      <td>...</td>\n",
       "    </tr>\n",
       "    <tr>\n",
       "      <th>67</th>\n",
       "      <td>2025-03-29</td>\n",
       "      <td>958403802</td>\n",
       "      <td>TS</td>\n",
       "      <td>SINPE MOVIL Llanta_Romualdo_Al</td>\n",
       "      <td>4000.00</td>\n",
       "      <td>0.00</td>\n",
       "      <td>2391152.8</td>\n",
       "      <td>-4000.00</td>\n",
       "    </tr>\n",
       "    <tr>\n",
       "      <th>68</th>\n",
       "      <td>2025-03-29</td>\n",
       "      <td>32935226</td>\n",
       "      <td>3O</td>\n",
       "      <td>INTERESES</td>\n",
       "      <td>0.00</td>\n",
       "      <td>6.48</td>\n",
       "      <td>2391159.2</td>\n",
       "      <td>6.48</td>\n",
       "    </tr>\n",
       "    <tr>\n",
       "      <th>69</th>\n",
       "      <td>2025-03-30</td>\n",
       "      <td>951822491</td>\n",
       "      <td>TF</td>\n",
       "      <td>Pago ICE Teléfono 17943090</td>\n",
       "      <td>32508.53</td>\n",
       "      <td>0.00</td>\n",
       "      <td>2358650.8</td>\n",
       "      <td>-32508.53</td>\n",
       "    </tr>\n",
       "    <tr>\n",
       "      <th>70</th>\n",
       "      <td>2025-03-30</td>\n",
       "      <td>33031520</td>\n",
       "      <td>3O</td>\n",
       "      <td>INTERESES</td>\n",
       "      <td>0.00</td>\n",
       "      <td>6.30</td>\n",
       "      <td>2358657.0</td>\n",
       "      <td>6.30</td>\n",
       "    </tr>\n",
       "    <tr>\n",
       "      <th>71</th>\n",
       "      <td>2025-03-31</td>\n",
       "      <td>33168303</td>\n",
       "      <td>3O</td>\n",
       "      <td>INTERESES</td>\n",
       "      <td>0.00</td>\n",
       "      <td>6.39</td>\n",
       "      <td>2358663.5</td>\n",
       "      <td>6.39</td>\n",
       "    </tr>\n",
       "  </tbody>\n",
       "</table>\n",
       "<p>70 rows × 8 columns</p>\n",
       "</div>"
      ],
      "text/plain": [
       "       Fechas  Referencia Código                      Descripcion    Débito  \\\n",
       "id                                                                            \n",
       "2  2025-03-01    22800000     CP   DLC*UBER RIDES\\       SAN JOSE   1526.32   \n",
       "3  2025-03-01    30140889     3O   INTERESES                           0.00   \n",
       "4  2025-03-02    30100000     CP   DLC*UBER RIDES\\       SAN JOSE   1470.86   \n",
       "5  2025-03-02    30230565     3O   INTERESES                           0.00   \n",
       "6  2025-03-03    30200000     CP   DLC*UBER EATS\\        SAN JOSE  30889.18   \n",
       "..        ...         ...    ...                              ...       ...   \n",
       "67 2025-03-29   958403802     TS   SINPE MOVIL Llanta_Romualdo_Al   4000.00   \n",
       "68 2025-03-29    32935226     3O   INTERESES                           0.00   \n",
       "69 2025-03-30   951822491     TF   Pago ICE Teléfono 17943090      32508.53   \n",
       "70 2025-03-30    33031520     3O   INTERESES                           0.00   \n",
       "71 2025-03-31    33168303     3O   INTERESES                           0.00   \n",
       "\n",
       "    Crédito    Balance  Aporte neto  \n",
       "id                                   \n",
       "2      0.00  2234837.8     -1526.32  \n",
       "3      6.04  2234844.0         6.04  \n",
       "4      0.00  2233373.0     -1470.86  \n",
       "5      6.04  2233379.0         6.04  \n",
       "6      0.00  2202490.0    -30889.18  \n",
       "..      ...        ...          ...  \n",
       "67     0.00  2391152.8     -4000.00  \n",
       "68     6.48  2391159.2         6.48  \n",
       "69     0.00  2358650.8    -32508.53  \n",
       "70     6.30  2358657.0         6.30  \n",
       "71     6.39  2358663.5         6.39  \n",
       "\n",
       "[70 rows x 8 columns]"
      ]
     },
     "execution_count": 7,
     "metadata": {},
     "output_type": "execute_result"
    }
   ],
   "source": [
    "\n",
    "begin,end=mesAnterior()\n",
    "o.df.query(\"Fechas >= @begin and Fechas <= @end\")"
   ]
  },
  {
   "cell_type": "code",
   "execution_count": 18,
   "metadata": {},
   "outputs": [
    {
     "data": {
      "text/plain": [
       "33.333333333333336"
      ]
     },
     "execution_count": 18,
     "metadata": {},
     "output_type": "execute_result"
    }
   ],
   "source": [
    "200/6"
   ]
  },
  {
   "cell_type": "code",
   "execution_count": 17,
   "metadata": {},
   "outputs": [
    {
     "data": {
      "application/vnd.plotly.v1+json": {
       "config": {
        "plotlyServerURL": "https://plot.ly"
       },
       "data": [
        {
         "alignmentgroup": "True",
         "hovertemplate": "Fechas=%{x}<br>Crédito=%{y}<extra></extra>",
         "legendgroup": "",
         "marker": {
          "color": "#000001",
          "pattern": {
           "shape": ""
          }
         },
         "name": "",
         "offsetgroup": "",
         "orientation": "v",
         "showlegend": false,
         "textposition": "auto",
         "type": "bar",
         "x": [
          "2025-03-28T00:00:00"
         ],
         "xaxis": "x",
         "y": [
          629064.75
         ],
         "yaxis": "y"
        }
       ],
       "layout": {
        "barmode": "relative",
        "legend": {
         "tracegroupgap": 0
        },
        "margin": {
         "t": 60
        },
        "template": {
         "data": {
          "candlestick": [
           {
            "decreasing": {
             "line": {
              "color": "#000033"
             }
            },
            "increasing": {
             "line": {
              "color": "#000032"
             }
            },
            "type": "candlestick"
           }
          ],
          "contour": [
           {
            "colorscale": [
             [
              0,
              "#000011"
             ],
             [
              0.1111111111111111,
              "#000012"
             ],
             [
              0.2222222222222222,
              "#000013"
             ],
             [
              0.3333333333333333,
              "#000014"
             ],
             [
              0.4444444444444444,
              "#000015"
             ],
             [
              0.5555555555555556,
              "#000016"
             ],
             [
              0.6666666666666666,
              "#000017"
             ],
             [
              0.7777777777777778,
              "#000018"
             ],
             [
              0.8888888888888888,
              "#000019"
             ],
             [
              1,
              "#000020"
             ]
            ],
            "type": "contour"
           }
          ],
          "contourcarpet": [
           {
            "colorscale": [
             [
              0,
              "#000011"
             ],
             [
              0.1111111111111111,
              "#000012"
             ],
             [
              0.2222222222222222,
              "#000013"
             ],
             [
              0.3333333333333333,
              "#000014"
             ],
             [
              0.4444444444444444,
              "#000015"
             ],
             [
              0.5555555555555556,
              "#000016"
             ],
             [
              0.6666666666666666,
              "#000017"
             ],
             [
              0.7777777777777778,
              "#000018"
             ],
             [
              0.8888888888888888,
              "#000019"
             ],
             [
              1,
              "#000020"
             ]
            ],
            "type": "contourcarpet"
           }
          ],
          "heatmap": [
           {
            "colorscale": [
             [
              0,
              "#000011"
             ],
             [
              0.1111111111111111,
              "#000012"
             ],
             [
              0.2222222222222222,
              "#000013"
             ],
             [
              0.3333333333333333,
              "#000014"
             ],
             [
              0.4444444444444444,
              "#000015"
             ],
             [
              0.5555555555555556,
              "#000016"
             ],
             [
              0.6666666666666666,
              "#000017"
             ],
             [
              0.7777777777777778,
              "#000018"
             ],
             [
              0.8888888888888888,
              "#000019"
             ],
             [
              1,
              "#000020"
             ]
            ],
            "type": "heatmap"
           }
          ],
          "histogram2d": [
           {
            "colorscale": [
             [
              0,
              "#000011"
             ],
             [
              0.1111111111111111,
              "#000012"
             ],
             [
              0.2222222222222222,
              "#000013"
             ],
             [
              0.3333333333333333,
              "#000014"
             ],
             [
              0.4444444444444444,
              "#000015"
             ],
             [
              0.5555555555555556,
              "#000016"
             ],
             [
              0.6666666666666666,
              "#000017"
             ],
             [
              0.7777777777777778,
              "#000018"
             ],
             [
              0.8888888888888888,
              "#000019"
             ],
             [
              1,
              "#000020"
             ]
            ],
            "type": "histogram2d"
           }
          ],
          "icicle": [
           {
            "textfont": {
             "color": "white"
            },
            "type": "icicle"
           }
          ],
          "sankey": [
           {
            "textfont": {
             "color": "#000036"
            },
            "type": "sankey"
           }
          ],
          "scatter": [
           {
            "marker": {
             "line": {
              "width": 0
             }
            },
            "type": "scatter"
           }
          ],
          "table": [
           {
            "cells": {
             "fill": {
              "color": "#000038"
             },
             "font": {
              "color": "#000037"
             },
             "line": {
              "color": "#000039"
             }
            },
            "header": {
             "fill": {
              "color": "#000040"
             },
             "font": {
              "color": "#000036"
             },
             "line": {
              "color": "#000039"
             }
            },
            "type": "table"
           }
          ],
          "waterfall": [
           {
            "connector": {
             "line": {
              "color": "#000036",
              "width": 2
             }
            },
            "decreasing": {
             "marker": {
              "color": "#000033"
             }
            },
            "increasing": {
             "marker": {
              "color": "#000032"
             }
            },
            "totals": {
             "marker": {
              "color": "#000034"
             }
            },
            "type": "waterfall"
           }
          ]
         },
         "layout": {
          "coloraxis": {
           "colorscale": [
            [
             0,
             "#000011"
            ],
            [
             0.1111111111111111,
             "#000012"
            ],
            [
             0.2222222222222222,
             "#000013"
            ],
            [
             0.3333333333333333,
             "#000014"
            ],
            [
             0.4444444444444444,
             "#000015"
            ],
            [
             0.5555555555555556,
             "#000016"
            ],
            [
             0.6666666666666666,
             "#000017"
            ],
            [
             0.7777777777777778,
             "#000018"
            ],
            [
             0.8888888888888888,
             "#000019"
            ],
            [
             1,
             "#000020"
            ]
           ]
          },
          "colorscale": {
           "diverging": [
            [
             0,
             "#000021"
            ],
            [
             0.1,
             "#000022"
            ],
            [
             0.2,
             "#000023"
            ],
            [
             0.3,
             "#000024"
            ],
            [
             0.4,
             "#000025"
            ],
            [
             0.5,
             "#000026"
            ],
            [
             0.6,
             "#000027"
            ],
            [
             0.7,
             "#000028"
            ],
            [
             0.8,
             "#000029"
            ],
            [
             0.9,
             "#000030"
            ],
            [
             1,
             "#000031"
            ]
           ],
           "sequential": [
            [
             0,
             "#000011"
            ],
            [
             0.1111111111111111,
             "#000012"
            ],
            [
             0.2222222222222222,
             "#000013"
            ],
            [
             0.3333333333333333,
             "#000014"
            ],
            [
             0.4444444444444444,
             "#000015"
            ],
            [
             0.5555555555555556,
             "#000016"
            ],
            [
             0.6666666666666666,
             "#000017"
            ],
            [
             0.7777777777777778,
             "#000018"
            ],
            [
             0.8888888888888888,
             "#000019"
            ],
            [
             1,
             "#000020"
            ]
           ],
           "sequentialminus": [
            [
             0,
             "#000011"
            ],
            [
             0.1111111111111111,
             "#000012"
            ],
            [
             0.2222222222222222,
             "#000013"
            ],
            [
             0.3333333333333333,
             "#000014"
            ],
            [
             0.4444444444444444,
             "#000015"
            ],
            [
             0.5555555555555556,
             "#000016"
            ],
            [
             0.6666666666666666,
             "#000017"
            ],
            [
             0.7777777777777778,
             "#000018"
            ],
            [
             0.8888888888888888,
             "#000019"
            ],
            [
             1,
             "#000020"
            ]
           ]
          },
          "colorway": [
           "#000001",
           "#000002",
           "#000003",
           "#000004",
           "#000005",
           "#000006",
           "#000007",
           "#000008",
           "#000009",
           "#000010"
          ]
         }
        },
        "xaxis": {
         "anchor": "y",
         "domain": [
          0,
          1
         ],
         "title": {
          "text": "Fechas"
         }
        },
        "yaxis": {
         "anchor": "x",
         "domain": [
          0,
          1
         ],
         "title": {
          "text": "Crédito"
         }
        }
       }
      }
     },
     "metadata": {},
     "output_type": "display_data"
    }
   ],
   "source": [
    "d=o.df.query(\"Código == ' PE'\")\n",
    "import plotly.express as px\n",
    "px.bar(d, x=\"Fechas\", y=\"Crédito\")"
   ]
  },
  {
   "cell_type": "code",
   "execution_count": 13,
   "metadata": {},
   "outputs": [
    {
     "data": {
      "application/vnd.plotly.v1+json": {
       "config": {
        "plotlyServerURL": "https://plot.ly"
       },
       "data": [
        {
         "alignmentgroup": "True",
         "hovertemplate": "Fechas=%{x}<br>Crédito=%{marker.color}<extra></extra>",
         "legendgroup": "",
         "marker": {
          "color": [
           6.04,
           6.04,
           5.7,
           5.94,
           5.94,
           5.94,
           5.94,
           5.93,
           5.94,
           5.94,
           5.91,
           5.61,
           5.26,
           5.32,
           5.32,
           5.32,
           5.12,
           4.98,
           4.98
          ],
          "coloraxis": "coloraxis",
          "pattern": {
           "shape": ""
          }
         },
         "name": "",
         "offsetgroup": "",
         "orientation": "v",
         "showlegend": false,
         "textposition": "auto",
         "type": "bar",
         "x": [
          "2025-03-01",
          "2025-03-02",
          "2025-03-03",
          "2025-03-04",
          "2025-03-05",
          "2025-03-06",
          "2025-03-07",
          "2025-03-08",
          "2025-03-09",
          "2025-03-10",
          "2025-03-11",
          "2025-03-12",
          "2025-03-13",
          "2025-03-14",
          "2025-03-15",
          "2025-03-16",
          "2025-03-17",
          "2025-03-18",
          "2025-03-19"
         ],
         "xaxis": "x",
         "y": [
          6.04,
          6.04,
          5.7,
          5.94,
          5.94,
          5.94,
          5.94,
          5.93,
          5.94,
          5.94,
          5.91,
          5.61,
          5.26,
          5.32,
          5.32,
          5.32,
          5.12,
          4.98,
          4.98
         ],
         "yaxis": "y"
        }
       ],
       "layout": {
        "barmode": "relative",
        "coloraxis": {
         "colorbar": {
          "title": {
           "text": "Crédito"
          }
         },
         "colorscale": [
          [
           0,
           "#000011"
          ],
          [
           0.1111111111111111,
           "#000012"
          ],
          [
           0.2222222222222222,
           "#000013"
          ],
          [
           0.3333333333333333,
           "#000014"
          ],
          [
           0.4444444444444444,
           "#000015"
          ],
          [
           0.5555555555555556,
           "#000016"
          ],
          [
           0.6666666666666666,
           "#000017"
          ],
          [
           0.7777777777777778,
           "#000018"
          ],
          [
           0.8888888888888888,
           "#000019"
          ],
          [
           1,
           "#000020"
          ]
         ]
        },
        "legend": {
         "tracegroupgap": 0
        },
        "margin": {
         "t": 60
        },
        "template": {
         "data": {
          "candlestick": [
           {
            "decreasing": {
             "line": {
              "color": "#000033"
             }
            },
            "increasing": {
             "line": {
              "color": "#000032"
             }
            },
            "type": "candlestick"
           }
          ],
          "contour": [
           {
            "colorscale": [
             [
              0,
              "#000011"
             ],
             [
              0.1111111111111111,
              "#000012"
             ],
             [
              0.2222222222222222,
              "#000013"
             ],
             [
              0.3333333333333333,
              "#000014"
             ],
             [
              0.4444444444444444,
              "#000015"
             ],
             [
              0.5555555555555556,
              "#000016"
             ],
             [
              0.6666666666666666,
              "#000017"
             ],
             [
              0.7777777777777778,
              "#000018"
             ],
             [
              0.8888888888888888,
              "#000019"
             ],
             [
              1,
              "#000020"
             ]
            ],
            "type": "contour"
           }
          ],
          "contourcarpet": [
           {
            "colorscale": [
             [
              0,
              "#000011"
             ],
             [
              0.1111111111111111,
              "#000012"
             ],
             [
              0.2222222222222222,
              "#000013"
             ],
             [
              0.3333333333333333,
              "#000014"
             ],
             [
              0.4444444444444444,
              "#000015"
             ],
             [
              0.5555555555555556,
              "#000016"
             ],
             [
              0.6666666666666666,
              "#000017"
             ],
             [
              0.7777777777777778,
              "#000018"
             ],
             [
              0.8888888888888888,
              "#000019"
             ],
             [
              1,
              "#000020"
             ]
            ],
            "type": "contourcarpet"
           }
          ],
          "heatmap": [
           {
            "colorscale": [
             [
              0,
              "#000011"
             ],
             [
              0.1111111111111111,
              "#000012"
             ],
             [
              0.2222222222222222,
              "#000013"
             ],
             [
              0.3333333333333333,
              "#000014"
             ],
             [
              0.4444444444444444,
              "#000015"
             ],
             [
              0.5555555555555556,
              "#000016"
             ],
             [
              0.6666666666666666,
              "#000017"
             ],
             [
              0.7777777777777778,
              "#000018"
             ],
             [
              0.8888888888888888,
              "#000019"
             ],
             [
              1,
              "#000020"
             ]
            ],
            "type": "heatmap"
           }
          ],
          "histogram2d": [
           {
            "colorscale": [
             [
              0,
              "#000011"
             ],
             [
              0.1111111111111111,
              "#000012"
             ],
             [
              0.2222222222222222,
              "#000013"
             ],
             [
              0.3333333333333333,
              "#000014"
             ],
             [
              0.4444444444444444,
              "#000015"
             ],
             [
              0.5555555555555556,
              "#000016"
             ],
             [
              0.6666666666666666,
              "#000017"
             ],
             [
              0.7777777777777778,
              "#000018"
             ],
             [
              0.8888888888888888,
              "#000019"
             ],
             [
              1,
              "#000020"
             ]
            ],
            "type": "histogram2d"
           }
          ],
          "icicle": [
           {
            "textfont": {
             "color": "white"
            },
            "type": "icicle"
           }
          ],
          "sankey": [
           {
            "textfont": {
             "color": "#000036"
            },
            "type": "sankey"
           }
          ],
          "scatter": [
           {
            "marker": {
             "line": {
              "width": 0
             }
            },
            "type": "scatter"
           }
          ],
          "table": [
           {
            "cells": {
             "fill": {
              "color": "#000038"
             },
             "font": {
              "color": "#000037"
             },
             "line": {
              "color": "#000039"
             }
            },
            "header": {
             "fill": {
              "color": "#000040"
             },
             "font": {
              "color": "#000036"
             },
             "line": {
              "color": "#000039"
             }
            },
            "type": "table"
           }
          ],
          "waterfall": [
           {
            "connector": {
             "line": {
              "color": "#000036",
              "width": 2
             }
            },
            "decreasing": {
             "marker": {
              "color": "#000033"
             }
            },
            "increasing": {
             "marker": {
              "color": "#000032"
             }
            },
            "totals": {
             "marker": {
              "color": "#000034"
             }
            },
            "type": "waterfall"
           }
          ]
         },
         "layout": {
          "coloraxis": {
           "colorscale": [
            [
             0,
             "#000011"
            ],
            [
             0.1111111111111111,
             "#000012"
            ],
            [
             0.2222222222222222,
             "#000013"
            ],
            [
             0.3333333333333333,
             "#000014"
            ],
            [
             0.4444444444444444,
             "#000015"
            ],
            [
             0.5555555555555556,
             "#000016"
            ],
            [
             0.6666666666666666,
             "#000017"
            ],
            [
             0.7777777777777778,
             "#000018"
            ],
            [
             0.8888888888888888,
             "#000019"
            ],
            [
             1,
             "#000020"
            ]
           ]
          },
          "colorscale": {
           "diverging": [
            [
             0,
             "#000021"
            ],
            [
             0.1,
             "#000022"
            ],
            [
             0.2,
             "#000023"
            ],
            [
             0.3,
             "#000024"
            ],
            [
             0.4,
             "#000025"
            ],
            [
             0.5,
             "#000026"
            ],
            [
             0.6,
             "#000027"
            ],
            [
             0.7,
             "#000028"
            ],
            [
             0.8,
             "#000029"
            ],
            [
             0.9,
             "#000030"
            ],
            [
             1,
             "#000031"
            ]
           ],
           "sequential": [
            [
             0,
             "#000011"
            ],
            [
             0.1111111111111111,
             "#000012"
            ],
            [
             0.2222222222222222,
             "#000013"
            ],
            [
             0.3333333333333333,
             "#000014"
            ],
            [
             0.4444444444444444,
             "#000015"
            ],
            [
             0.5555555555555556,
             "#000016"
            ],
            [
             0.6666666666666666,
             "#000017"
            ],
            [
             0.7777777777777778,
             "#000018"
            ],
            [
             0.8888888888888888,
             "#000019"
            ],
            [
             1,
             "#000020"
            ]
           ],
           "sequentialminus": [
            [
             0,
             "#000011"
            ],
            [
             0.1111111111111111,
             "#000012"
            ],
            [
             0.2222222222222222,
             "#000013"
            ],
            [
             0.3333333333333333,
             "#000014"
            ],
            [
             0.4444444444444444,
             "#000015"
            ],
            [
             0.5555555555555556,
             "#000016"
            ],
            [
             0.6666666666666666,
             "#000017"
            ],
            [
             0.7777777777777778,
             "#000018"
            ],
            [
             0.8888888888888888,
             "#000019"
            ],
            [
             1,
             "#000020"
            ]
           ]
          },
          "colorway": [
           "#000001",
           "#000002",
           "#000003",
           "#000004",
           "#000005",
           "#000006",
           "#000007",
           "#000008",
           "#000009",
           "#000010"
          ]
         }
        },
        "xaxis": {
         "anchor": "y",
         "domain": [
          0,
          1
         ],
         "title": {
          "text": "Fechas"
         }
        },
        "yaxis": {
         "anchor": "x",
         "domain": [
          0,
          1
         ],
         "title": {
          "text": "Crédito"
         }
        }
       }
      }
     },
     "metadata": {},
     "output_type": "display_data"
    }
   ],
   "source": [
    "data_canada=o.colData(o.df, \"Crédito\", addDates=True).copy().head(19)\n",
    "fig = px.bar(data_canada, x='Fechas', y='Crédito', color=\"Crédito\")\n",
    "fig.show()"
   ]
  },
  {
   "cell_type": "code",
   "execution_count": 29,
   "metadata": {},
   "outputs": [
    {
     "data": {
      "text/html": [
       "<div>\n",
       "<style scoped>\n",
       "    .dataframe tbody tr th:only-of-type {\n",
       "        vertical-align: middle;\n",
       "    }\n",
       "\n",
       "    .dataframe tbody tr th {\n",
       "        vertical-align: top;\n",
       "    }\n",
       "\n",
       "    .dataframe thead th {\n",
       "        text-align: right;\n",
       "    }\n",
       "</style>\n",
       "<table border=\"1\" class=\"dataframe\">\n",
       "  <thead>\n",
       "    <tr style=\"text-align: right;\">\n",
       "      <th></th>\n",
       "      <th>Fechas</th>\n",
       "      <th>Referencia</th>\n",
       "      <th>Código</th>\n",
       "      <th>Descripcion</th>\n",
       "      <th>Débito</th>\n",
       "      <th>Crédito</th>\n",
       "      <th>Balance</th>\n",
       "      <th>Aporte neto</th>\n",
       "    </tr>\n",
       "    <tr>\n",
       "      <th>id</th>\n",
       "      <th></th>\n",
       "      <th></th>\n",
       "      <th></th>\n",
       "      <th></th>\n",
       "      <th></th>\n",
       "      <th></th>\n",
       "      <th></th>\n",
       "      <th></th>\n",
       "    </tr>\n",
       "  </thead>\n",
       "  <tbody>\n",
       "    <tr>\n",
       "      <th>3</th>\n",
       "      <td>2025-03-01</td>\n",
       "      <td>30140889</td>\n",
       "      <td>3O</td>\n",
       "      <td>INTERESES</td>\n",
       "      <td>0.0</td>\n",
       "      <td>6.04</td>\n",
       "      <td>2234844.0</td>\n",
       "      <td>6.04</td>\n",
       "    </tr>\n",
       "    <tr>\n",
       "      <th>5</th>\n",
       "      <td>2025-03-02</td>\n",
       "      <td>30230565</td>\n",
       "      <td>3O</td>\n",
       "      <td>INTERESES</td>\n",
       "      <td>0.0</td>\n",
       "      <td>6.04</td>\n",
       "      <td>2233379.0</td>\n",
       "      <td>6.04</td>\n",
       "    </tr>\n",
       "    <tr>\n",
       "      <th>8</th>\n",
       "      <td>2025-03-03</td>\n",
       "      <td>30322345</td>\n",
       "      <td>3O</td>\n",
       "      <td>INTERESES</td>\n",
       "      <td>0.0</td>\n",
       "      <td>5.70</td>\n",
       "      <td>2201079.0</td>\n",
       "      <td>5.70</td>\n",
       "    </tr>\n",
       "    <tr>\n",
       "      <th>10</th>\n",
       "      <td>2025-03-04</td>\n",
       "      <td>30413159</td>\n",
       "      <td>3O</td>\n",
       "      <td>INTERESES</td>\n",
       "      <td>0.0</td>\n",
       "      <td>5.94</td>\n",
       "      <td>2193009.8</td>\n",
       "      <td>5.94</td>\n",
       "    </tr>\n",
       "    <tr>\n",
       "      <th>11</th>\n",
       "      <td>2025-03-05</td>\n",
       "      <td>30502316</td>\n",
       "      <td>3O</td>\n",
       "      <td>INTERESES</td>\n",
       "      <td>0.0</td>\n",
       "      <td>5.94</td>\n",
       "      <td>2193015.8</td>\n",
       "      <td>5.94</td>\n",
       "    </tr>\n",
       "    <tr>\n",
       "      <th>12</th>\n",
       "      <td>2025-03-06</td>\n",
       "      <td>30601868</td>\n",
       "      <td>3O</td>\n",
       "      <td>INTERESES</td>\n",
       "      <td>0.0</td>\n",
       "      <td>5.94</td>\n",
       "      <td>2193021.8</td>\n",
       "      <td>5.94</td>\n",
       "    </tr>\n",
       "    <tr>\n",
       "      <th>13</th>\n",
       "      <td>2025-03-07</td>\n",
       "      <td>30706579</td>\n",
       "      <td>3O</td>\n",
       "      <td>INTERESES</td>\n",
       "      <td>0.0</td>\n",
       "      <td>5.94</td>\n",
       "      <td>2193027.5</td>\n",
       "      <td>5.94</td>\n",
       "    </tr>\n",
       "    <tr>\n",
       "      <th>15</th>\n",
       "      <td>2025-03-08</td>\n",
       "      <td>30801919</td>\n",
       "      <td>3O</td>\n",
       "      <td>INTERESES</td>\n",
       "      <td>0.0</td>\n",
       "      <td>5.93</td>\n",
       "      <td>2191629.5</td>\n",
       "      <td>5.93</td>\n",
       "    </tr>\n",
       "    <tr>\n",
       "      <th>16</th>\n",
       "      <td>2025-03-09</td>\n",
       "      <td>30996185</td>\n",
       "      <td>3O</td>\n",
       "      <td>INTERESES</td>\n",
       "      <td>0.0</td>\n",
       "      <td>5.94</td>\n",
       "      <td>2191635.5</td>\n",
       "      <td>5.94</td>\n",
       "    </tr>\n",
       "    <tr>\n",
       "      <th>17</th>\n",
       "      <td>2025-03-10</td>\n",
       "      <td>31094476</td>\n",
       "      <td>3O</td>\n",
       "      <td>INTERESES</td>\n",
       "      <td>0.0</td>\n",
       "      <td>5.94</td>\n",
       "      <td>2191641.5</td>\n",
       "      <td>5.94</td>\n",
       "    </tr>\n",
       "    <tr>\n",
       "      <th>19</th>\n",
       "      <td>2025-03-11</td>\n",
       "      <td>31189733</td>\n",
       "      <td>3O</td>\n",
       "      <td>INTERESES</td>\n",
       "      <td>0.0</td>\n",
       "      <td>5.91</td>\n",
       "      <td>2189874.0</td>\n",
       "      <td>5.91</td>\n",
       "    </tr>\n",
       "    <tr>\n",
       "      <th>23</th>\n",
       "      <td>2025-03-12</td>\n",
       "      <td>31284825</td>\n",
       "      <td>3O</td>\n",
       "      <td>INTERESES</td>\n",
       "      <td>0.0</td>\n",
       "      <td>5.61</td>\n",
       "      <td>2073746.6</td>\n",
       "      <td>5.61</td>\n",
       "    </tr>\n",
       "    <tr>\n",
       "      <th>28</th>\n",
       "      <td>2025-03-13</td>\n",
       "      <td>31395712</td>\n",
       "      <td>3O</td>\n",
       "      <td>INTERESES</td>\n",
       "      <td>0.0</td>\n",
       "      <td>5.26</td>\n",
       "      <td>1965926.4</td>\n",
       "      <td>5.26</td>\n",
       "    </tr>\n",
       "    <tr>\n",
       "      <th>29</th>\n",
       "      <td>2025-03-14</td>\n",
       "      <td>31437100</td>\n",
       "      <td>3O</td>\n",
       "      <td>INTERESES</td>\n",
       "      <td>0.0</td>\n",
       "      <td>5.32</td>\n",
       "      <td>1965931.8</td>\n",
       "      <td>5.32</td>\n",
       "    </tr>\n",
       "    <tr>\n",
       "      <th>30</th>\n",
       "      <td>2025-03-15</td>\n",
       "      <td>31544342</td>\n",
       "      <td>3O</td>\n",
       "      <td>INTERESES</td>\n",
       "      <td>0.0</td>\n",
       "      <td>5.32</td>\n",
       "      <td>1965937.0</td>\n",
       "      <td>5.32</td>\n",
       "    </tr>\n",
       "    <tr>\n",
       "      <th>31</th>\n",
       "      <td>2025-03-16</td>\n",
       "      <td>31633663</td>\n",
       "      <td>3O</td>\n",
       "      <td>INTERESES</td>\n",
       "      <td>0.0</td>\n",
       "      <td>5.32</td>\n",
       "      <td>1965942.4</td>\n",
       "      <td>5.32</td>\n",
       "    </tr>\n",
       "    <tr>\n",
       "      <th>33</th>\n",
       "      <td>2025-03-17</td>\n",
       "      <td>31736288</td>\n",
       "      <td>3O</td>\n",
       "      <td>INTERESES</td>\n",
       "      <td>0.0</td>\n",
       "      <td>5.12</td>\n",
       "      <td>1892314.6</td>\n",
       "      <td>5.12</td>\n",
       "    </tr>\n",
       "    <tr>\n",
       "      <th>35</th>\n",
       "      <td>2025-03-18</td>\n",
       "      <td>31813904</td>\n",
       "      <td>3O</td>\n",
       "      <td>INTERESES</td>\n",
       "      <td>0.0</td>\n",
       "      <td>4.98</td>\n",
       "      <td>1843819.5</td>\n",
       "      <td>4.98</td>\n",
       "    </tr>\n",
       "    <tr>\n",
       "      <th>36</th>\n",
       "      <td>2025-03-19</td>\n",
       "      <td>31903011</td>\n",
       "      <td>3O</td>\n",
       "      <td>INTERESES</td>\n",
       "      <td>0.0</td>\n",
       "      <td>4.98</td>\n",
       "      <td>1843824.5</td>\n",
       "      <td>4.98</td>\n",
       "    </tr>\n",
       "    <tr>\n",
       "      <th>40</th>\n",
       "      <td>2025-03-20</td>\n",
       "      <td>32006499</td>\n",
       "      <td>3O</td>\n",
       "      <td>INTERESES</td>\n",
       "      <td>0.0</td>\n",
       "      <td>4.93</td>\n",
       "      <td>1838761.6</td>\n",
       "      <td>4.93</td>\n",
       "    </tr>\n",
       "    <tr>\n",
       "      <th>42</th>\n",
       "      <td>2025-03-21</td>\n",
       "      <td>32108365</td>\n",
       "      <td>3O</td>\n",
       "      <td>INTERESES</td>\n",
       "      <td>0.0</td>\n",
       "      <td>4.93</td>\n",
       "      <td>1833166.5</td>\n",
       "      <td>4.93</td>\n",
       "    </tr>\n",
       "    <tr>\n",
       "      <th>44</th>\n",
       "      <td>2025-03-22</td>\n",
       "      <td>32224015</td>\n",
       "      <td>3O</td>\n",
       "      <td>INTERESES</td>\n",
       "      <td>0.0</td>\n",
       "      <td>4.93</td>\n",
       "      <td>1830690.2</td>\n",
       "      <td>4.93</td>\n",
       "    </tr>\n",
       "    <tr>\n",
       "      <th>49</th>\n",
       "      <td>2025-03-23</td>\n",
       "      <td>32397216</td>\n",
       "      <td>3O</td>\n",
       "      <td>INTERESES</td>\n",
       "      <td>0.0</td>\n",
       "      <td>4.87</td>\n",
       "      <td>1821859.1</td>\n",
       "      <td>4.87</td>\n",
       "    </tr>\n",
       "    <tr>\n",
       "      <th>55</th>\n",
       "      <td>2025-03-24</td>\n",
       "      <td>32493244</td>\n",
       "      <td>3O</td>\n",
       "      <td>INTERESES</td>\n",
       "      <td>0.0</td>\n",
       "      <td>4.71</td>\n",
       "      <td>1793988.0</td>\n",
       "      <td>4.71</td>\n",
       "    </tr>\n",
       "    <tr>\n",
       "      <th>57</th>\n",
       "      <td>2025-03-25</td>\n",
       "      <td>32590513</td>\n",
       "      <td>3O</td>\n",
       "      <td>INTERESES</td>\n",
       "      <td>0.0</td>\n",
       "      <td>4.79</td>\n",
       "      <td>1787392.8</td>\n",
       "      <td>4.79</td>\n",
       "    </tr>\n",
       "    <tr>\n",
       "      <th>58</th>\n",
       "      <td>2025-03-26</td>\n",
       "      <td>32687700</td>\n",
       "      <td>3O</td>\n",
       "      <td>INTERESES</td>\n",
       "      <td>0.0</td>\n",
       "      <td>4.83</td>\n",
       "      <td>1787397.6</td>\n",
       "      <td>4.83</td>\n",
       "    </tr>\n",
       "    <tr>\n",
       "      <th>63</th>\n",
       "      <td>2025-03-27</td>\n",
       "      <td>32795046</td>\n",
       "      <td>3O</td>\n",
       "      <td>INTERESES</td>\n",
       "      <td>0.0</td>\n",
       "      <td>4.68</td>\n",
       "      <td>1766962.5</td>\n",
       "      <td>4.68</td>\n",
       "    </tr>\n",
       "    <tr>\n",
       "      <th>66</th>\n",
       "      <td>2025-03-28</td>\n",
       "      <td>32838290</td>\n",
       "      <td>3O</td>\n",
       "      <td>INTERESES</td>\n",
       "      <td>0.0</td>\n",
       "      <td>6.48</td>\n",
       "      <td>2395152.8</td>\n",
       "      <td>6.48</td>\n",
       "    </tr>\n",
       "    <tr>\n",
       "      <th>68</th>\n",
       "      <td>2025-03-29</td>\n",
       "      <td>32935226</td>\n",
       "      <td>3O</td>\n",
       "      <td>INTERESES</td>\n",
       "      <td>0.0</td>\n",
       "      <td>6.48</td>\n",
       "      <td>2391159.2</td>\n",
       "      <td>6.48</td>\n",
       "    </tr>\n",
       "    <tr>\n",
       "      <th>70</th>\n",
       "      <td>2025-03-30</td>\n",
       "      <td>33031520</td>\n",
       "      <td>3O</td>\n",
       "      <td>INTERESES</td>\n",
       "      <td>0.0</td>\n",
       "      <td>6.30</td>\n",
       "      <td>2358657.0</td>\n",
       "      <td>6.30</td>\n",
       "    </tr>\n",
       "    <tr>\n",
       "      <th>71</th>\n",
       "      <td>2025-03-31</td>\n",
       "      <td>33168303</td>\n",
       "      <td>3O</td>\n",
       "      <td>INTERESES</td>\n",
       "      <td>0.0</td>\n",
       "      <td>6.39</td>\n",
       "      <td>2358663.5</td>\n",
       "      <td>6.39</td>\n",
       "    </tr>\n",
       "  </tbody>\n",
       "</table>\n",
       "</div>"
      ],
      "text/plain": [
       "        Fechas Referencia Código                      Descripcion  Débito  \\\n",
       "id                                                                          \n",
       "3   2025-03-01   30140889     3O   INTERESES                          0.0   \n",
       "5   2025-03-02   30230565     3O   INTERESES                          0.0   \n",
       "8   2025-03-03   30322345     3O   INTERESES                          0.0   \n",
       "10  2025-03-04   30413159     3O   INTERESES                          0.0   \n",
       "11  2025-03-05   30502316     3O   INTERESES                          0.0   \n",
       "12  2025-03-06   30601868     3O   INTERESES                          0.0   \n",
       "13  2025-03-07   30706579     3O   INTERESES                          0.0   \n",
       "15  2025-03-08   30801919     3O   INTERESES                          0.0   \n",
       "16  2025-03-09   30996185     3O   INTERESES                          0.0   \n",
       "17  2025-03-10   31094476     3O   INTERESES                          0.0   \n",
       "19  2025-03-11   31189733     3O   INTERESES                          0.0   \n",
       "23  2025-03-12   31284825     3O   INTERESES                          0.0   \n",
       "28  2025-03-13   31395712     3O   INTERESES                          0.0   \n",
       "29  2025-03-14   31437100     3O   INTERESES                          0.0   \n",
       "30  2025-03-15   31544342     3O   INTERESES                          0.0   \n",
       "31  2025-03-16   31633663     3O   INTERESES                          0.0   \n",
       "33  2025-03-17   31736288     3O   INTERESES                          0.0   \n",
       "35  2025-03-18   31813904     3O   INTERESES                          0.0   \n",
       "36  2025-03-19   31903011     3O   INTERESES                          0.0   \n",
       "40  2025-03-20   32006499     3O   INTERESES                          0.0   \n",
       "42  2025-03-21   32108365     3O   INTERESES                          0.0   \n",
       "44  2025-03-22   32224015     3O   INTERESES                          0.0   \n",
       "49  2025-03-23   32397216     3O   INTERESES                          0.0   \n",
       "55  2025-03-24   32493244     3O   INTERESES                          0.0   \n",
       "57  2025-03-25   32590513     3O   INTERESES                          0.0   \n",
       "58  2025-03-26   32687700     3O   INTERESES                          0.0   \n",
       "63  2025-03-27   32795046     3O   INTERESES                          0.0   \n",
       "66  2025-03-28   32838290     3O   INTERESES                          0.0   \n",
       "68  2025-03-29   32935226     3O   INTERESES                          0.0   \n",
       "70  2025-03-30   33031520     3O   INTERESES                          0.0   \n",
       "71  2025-03-31   33168303     3O   INTERESES                          0.0   \n",
       "\n",
       "    Crédito    Balance  Aporte neto  \n",
       "id                                   \n",
       "3      6.04  2234844.0         6.04  \n",
       "5      6.04  2233379.0         6.04  \n",
       "8      5.70  2201079.0         5.70  \n",
       "10     5.94  2193009.8         5.94  \n",
       "11     5.94  2193015.8         5.94  \n",
       "12     5.94  2193021.8         5.94  \n",
       "13     5.94  2193027.5         5.94  \n",
       "15     5.93  2191629.5         5.93  \n",
       "16     5.94  2191635.5         5.94  \n",
       "17     5.94  2191641.5         5.94  \n",
       "19     5.91  2189874.0         5.91  \n",
       "23     5.61  2073746.6         5.61  \n",
       "28     5.26  1965926.4         5.26  \n",
       "29     5.32  1965931.8         5.32  \n",
       "30     5.32  1965937.0         5.32  \n",
       "31     5.32  1965942.4         5.32  \n",
       "33     5.12  1892314.6         5.12  \n",
       "35     4.98  1843819.5         4.98  \n",
       "36     4.98  1843824.5         4.98  \n",
       "40     4.93  1838761.6         4.93  \n",
       "42     4.93  1833166.5         4.93  \n",
       "44     4.93  1830690.2         4.93  \n",
       "49     4.87  1821859.1         4.87  \n",
       "55     4.71  1793988.0         4.71  \n",
       "57     4.79  1787392.8         4.79  \n",
       "58     4.83  1787397.6         4.83  \n",
       "63     4.68  1766962.5         4.68  \n",
       "66     6.48  2395152.8         6.48  \n",
       "68     6.48  2391159.2         6.48  \n",
       "70     6.30  2358657.0         6.30  \n",
       "71     6.39  2358663.5         6.39  "
      ]
     },
     "execution_count": 29,
     "metadata": {},
     "output_type": "execute_result"
    }
   ],
   "source": [
    "intereses_cod = \" 3O\"\n",
    "o.df.query(\"Código == @intereses_cod\")"
   ]
  },
  {
   "cell_type": "code",
   "execution_count": 29,
   "metadata": {},
   "outputs": [
    {
     "data": {
      "text/plain": [
       "Crédito    4.68\n",
       "dtype: float64"
      ]
     },
     "execution_count": 29,
     "metadata": {},
     "output_type": "execute_result"
    }
   ],
   "source": [
    "o.colData(\"Crédito\").min()"
   ]
  },
  {
   "cell_type": "code",
   "execution_count": null,
   "metadata": {},
   "outputs": [],
   "source": [
    "ganancias_df    = o.colData(\"Crédito\")\n",
    "gastos_df       = o.colData(\"Débito\")"
   ]
  },
  {
   "cell_type": "code",
   "execution_count": 32,
   "metadata": {},
   "outputs": [
    {
     "data": {
      "text/html": [
       "<div>\n",
       "<style scoped>\n",
       "    .dataframe tbody tr th:only-of-type {\n",
       "        vertical-align: middle;\n",
       "    }\n",
       "\n",
       "    .dataframe tbody tr th {\n",
       "        vertical-align: top;\n",
       "    }\n",
       "\n",
       "    .dataframe thead th {\n",
       "        text-align: right;\n",
       "    }\n",
       "</style>\n",
       "<table border=\"1\" class=\"dataframe\">\n",
       "  <thead>\n",
       "    <tr style=\"text-align: right;\">\n",
       "      <th></th>\n",
       "      <th>Débito</th>\n",
       "    </tr>\n",
       "    <tr>\n",
       "      <th>id</th>\n",
       "      <th></th>\n",
       "    </tr>\n",
       "  </thead>\n",
       "  <tbody>\n",
       "    <tr>\n",
       "      <th>1</th>\n",
       "      <td>1327.18</td>\n",
       "    </tr>\n",
       "    <tr>\n",
       "      <th>2</th>\n",
       "      <td>1526.32</td>\n",
       "    </tr>\n",
       "    <tr>\n",
       "      <th>4</th>\n",
       "      <td>1470.86</td>\n",
       "    </tr>\n",
       "    <tr>\n",
       "      <th>6</th>\n",
       "      <td>30889.18</td>\n",
       "    </tr>\n",
       "    <tr>\n",
       "      <th>7</th>\n",
       "      <td>1416.46</td>\n",
       "    </tr>\n",
       "    <tr>\n",
       "      <th>9</th>\n",
       "      <td>8075.29</td>\n",
       "    </tr>\n",
       "    <tr>\n",
       "      <th>14</th>\n",
       "      <td>1403.98</td>\n",
       "    </tr>\n",
       "    <tr>\n",
       "      <th>18</th>\n",
       "      <td>1773.45</td>\n",
       "    </tr>\n",
       "    <tr>\n",
       "      <th>20</th>\n",
       "      <td>21000.00</td>\n",
       "    </tr>\n",
       "    <tr>\n",
       "      <th>21</th>\n",
       "      <td>21500.00</td>\n",
       "    </tr>\n",
       "    <tr>\n",
       "      <th>22</th>\n",
       "      <td>73632.87</td>\n",
       "    </tr>\n",
       "    <tr>\n",
       "      <th>24</th>\n",
       "      <td>1501.33</td>\n",
       "    </tr>\n",
       "    <tr>\n",
       "      <th>25</th>\n",
       "      <td>3614.93</td>\n",
       "    </tr>\n",
       "    <tr>\n",
       "      <th>26</th>\n",
       "      <td>2709.25</td>\n",
       "    </tr>\n",
       "    <tr>\n",
       "      <th>27</th>\n",
       "      <td>100000.00</td>\n",
       "    </tr>\n",
       "    <tr>\n",
       "      <th>32</th>\n",
       "      <td>73632.87</td>\n",
       "    </tr>\n",
       "    <tr>\n",
       "      <th>34</th>\n",
       "      <td>48500.00</td>\n",
       "    </tr>\n",
       "    <tr>\n",
       "      <th>38</th>\n",
       "      <td>4199.81</td>\n",
       "    </tr>\n",
       "    <tr>\n",
       "      <th>39</th>\n",
       "      <td>2594.97</td>\n",
       "    </tr>\n",
       "    <tr>\n",
       "      <th>41</th>\n",
       "      <td>5600.00</td>\n",
       "    </tr>\n",
       "    <tr>\n",
       "      <th>43</th>\n",
       "      <td>2481.25</td>\n",
       "    </tr>\n",
       "    <tr>\n",
       "      <th>45</th>\n",
       "      <td>1265.94</td>\n",
       "    </tr>\n",
       "    <tr>\n",
       "      <th>46</th>\n",
       "      <td>5160.00</td>\n",
       "    </tr>\n",
       "    <tr>\n",
       "      <th>47</th>\n",
       "      <td>35.00</td>\n",
       "    </tr>\n",
       "    <tr>\n",
       "      <th>48</th>\n",
       "      <td>2375.00</td>\n",
       "    </tr>\n",
       "    <tr>\n",
       "      <th>50</th>\n",
       "      <td>3625.20</td>\n",
       "    </tr>\n",
       "    <tr>\n",
       "      <th>51</th>\n",
       "      <td>992.35</td>\n",
       "    </tr>\n",
       "    <tr>\n",
       "      <th>52</th>\n",
       "      <td>250.00</td>\n",
       "    </tr>\n",
       "    <tr>\n",
       "      <th>53</th>\n",
       "      <td>14933.00</td>\n",
       "    </tr>\n",
       "    <tr>\n",
       "      <th>54</th>\n",
       "      <td>8075.29</td>\n",
       "    </tr>\n",
       "    <tr>\n",
       "      <th>56</th>\n",
       "      <td>6600.00</td>\n",
       "    </tr>\n",
       "    <tr>\n",
       "      <th>59</th>\n",
       "      <td>7000.00</td>\n",
       "    </tr>\n",
       "    <tr>\n",
       "      <th>60</th>\n",
       "      <td>1747.28</td>\n",
       "    </tr>\n",
       "    <tr>\n",
       "      <th>61</th>\n",
       "      <td>2692.48</td>\n",
       "    </tr>\n",
       "    <tr>\n",
       "      <th>62</th>\n",
       "      <td>9000.00</td>\n",
       "    </tr>\n",
       "    <tr>\n",
       "      <th>64</th>\n",
       "      <td>881.00</td>\n",
       "    </tr>\n",
       "    <tr>\n",
       "      <th>67</th>\n",
       "      <td>4000.00</td>\n",
       "    </tr>\n",
       "    <tr>\n",
       "      <th>69</th>\n",
       "      <td>32508.53</td>\n",
       "    </tr>\n",
       "  </tbody>\n",
       "</table>\n",
       "</div>"
      ],
      "text/plain": [
       "       Débito\n",
       "id           \n",
       "1     1327.18\n",
       "2     1526.32\n",
       "4     1470.86\n",
       "6    30889.18\n",
       "7     1416.46\n",
       "9     8075.29\n",
       "14    1403.98\n",
       "18    1773.45\n",
       "20   21000.00\n",
       "21   21500.00\n",
       "22   73632.87\n",
       "24    1501.33\n",
       "25    3614.93\n",
       "26    2709.25\n",
       "27  100000.00\n",
       "32   73632.87\n",
       "34   48500.00\n",
       "38    4199.81\n",
       "39    2594.97\n",
       "41    5600.00\n",
       "43    2481.25\n",
       "45    1265.94\n",
       "46    5160.00\n",
       "47      35.00\n",
       "48    2375.00\n",
       "50    3625.20\n",
       "51     992.35\n",
       "52     250.00\n",
       "53   14933.00\n",
       "54    8075.29\n",
       "56    6600.00\n",
       "59    7000.00\n",
       "60    1747.28\n",
       "61    2692.48\n",
       "62    9000.00\n",
       "64     881.00\n",
       "67    4000.00\n",
       "69   32508.53"
      ]
     },
     "execution_count": 32,
     "metadata": {},
     "output_type": "execute_result"
    }
   ],
   "source": [
    "gastos_df"
   ]
  },
  {
   "cell_type": "code",
   "execution_count": 31,
   "metadata": {},
   "outputs": [
    {
     "data": {
      "text/html": [
       "<div>\n",
       "<style scoped>\n",
       "    .dataframe tbody tr th:only-of-type {\n",
       "        vertical-align: middle;\n",
       "    }\n",
       "\n",
       "    .dataframe tbody tr th {\n",
       "        vertical-align: top;\n",
       "    }\n",
       "\n",
       "    .dataframe thead th {\n",
       "        text-align: right;\n",
       "    }\n",
       "</style>\n",
       "<table border=\"1\" class=\"dataframe\">\n",
       "  <thead>\n",
       "    <tr style=\"text-align: right;\">\n",
       "      <th></th>\n",
       "      <th>Crédito</th>\n",
       "    </tr>\n",
       "    <tr>\n",
       "      <th>id</th>\n",
       "      <th></th>\n",
       "    </tr>\n",
       "  </thead>\n",
       "  <tbody>\n",
       "    <tr>\n",
       "      <th>3</th>\n",
       "      <td>6.04</td>\n",
       "    </tr>\n",
       "    <tr>\n",
       "      <th>5</th>\n",
       "      <td>6.04</td>\n",
       "    </tr>\n",
       "    <tr>\n",
       "      <th>8</th>\n",
       "      <td>5.70</td>\n",
       "    </tr>\n",
       "    <tr>\n",
       "      <th>10</th>\n",
       "      <td>5.94</td>\n",
       "    </tr>\n",
       "    <tr>\n",
       "      <th>11</th>\n",
       "      <td>5.94</td>\n",
       "    </tr>\n",
       "    <tr>\n",
       "      <th>12</th>\n",
       "      <td>5.94</td>\n",
       "    </tr>\n",
       "    <tr>\n",
       "      <th>13</th>\n",
       "      <td>5.94</td>\n",
       "    </tr>\n",
       "    <tr>\n",
       "      <th>15</th>\n",
       "      <td>5.93</td>\n",
       "    </tr>\n",
       "    <tr>\n",
       "      <th>16</th>\n",
       "      <td>5.94</td>\n",
       "    </tr>\n",
       "    <tr>\n",
       "      <th>17</th>\n",
       "      <td>5.94</td>\n",
       "    </tr>\n",
       "    <tr>\n",
       "      <th>19</th>\n",
       "      <td>5.91</td>\n",
       "    </tr>\n",
       "    <tr>\n",
       "      <th>23</th>\n",
       "      <td>5.61</td>\n",
       "    </tr>\n",
       "    <tr>\n",
       "      <th>28</th>\n",
       "      <td>5.26</td>\n",
       "    </tr>\n",
       "    <tr>\n",
       "      <th>29</th>\n",
       "      <td>5.32</td>\n",
       "    </tr>\n",
       "    <tr>\n",
       "      <th>30</th>\n",
       "      <td>5.32</td>\n",
       "    </tr>\n",
       "    <tr>\n",
       "      <th>31</th>\n",
       "      <td>5.32</td>\n",
       "    </tr>\n",
       "    <tr>\n",
       "      <th>33</th>\n",
       "      <td>5.12</td>\n",
       "    </tr>\n",
       "    <tr>\n",
       "      <th>35</th>\n",
       "      <td>4.98</td>\n",
       "    </tr>\n",
       "    <tr>\n",
       "      <th>36</th>\n",
       "      <td>4.98</td>\n",
       "    </tr>\n",
       "    <tr>\n",
       "      <th>37</th>\n",
       "      <td>1726.92</td>\n",
       "    </tr>\n",
       "    <tr>\n",
       "      <th>40</th>\n",
       "      <td>4.93</td>\n",
       "    </tr>\n",
       "    <tr>\n",
       "      <th>42</th>\n",
       "      <td>4.93</td>\n",
       "    </tr>\n",
       "    <tr>\n",
       "      <th>44</th>\n",
       "      <td>4.93</td>\n",
       "    </tr>\n",
       "    <tr>\n",
       "      <th>49</th>\n",
       "      <td>4.87</td>\n",
       "    </tr>\n",
       "    <tr>\n",
       "      <th>55</th>\n",
       "      <td>4.71</td>\n",
       "    </tr>\n",
       "    <tr>\n",
       "      <th>57</th>\n",
       "      <td>4.79</td>\n",
       "    </tr>\n",
       "    <tr>\n",
       "      <th>58</th>\n",
       "      <td>4.83</td>\n",
       "    </tr>\n",
       "    <tr>\n",
       "      <th>63</th>\n",
       "      <td>4.68</td>\n",
       "    </tr>\n",
       "    <tr>\n",
       "      <th>65</th>\n",
       "      <td>629064.75</td>\n",
       "    </tr>\n",
       "    <tr>\n",
       "      <th>66</th>\n",
       "      <td>6.48</td>\n",
       "    </tr>\n",
       "    <tr>\n",
       "      <th>68</th>\n",
       "      <td>6.48</td>\n",
       "    </tr>\n",
       "    <tr>\n",
       "      <th>70</th>\n",
       "      <td>6.30</td>\n",
       "    </tr>\n",
       "    <tr>\n",
       "      <th>71</th>\n",
       "      <td>6.39</td>\n",
       "    </tr>\n",
       "  </tbody>\n",
       "</table>\n",
       "</div>"
      ],
      "text/plain": [
       "      Crédito\n",
       "id           \n",
       "3        6.04\n",
       "5        6.04\n",
       "8        5.70\n",
       "10       5.94\n",
       "11       5.94\n",
       "12       5.94\n",
       "13       5.94\n",
       "15       5.93\n",
       "16       5.94\n",
       "17       5.94\n",
       "19       5.91\n",
       "23       5.61\n",
       "28       5.26\n",
       "29       5.32\n",
       "30       5.32\n",
       "31       5.32\n",
       "33       5.12\n",
       "35       4.98\n",
       "36       4.98\n",
       "37    1726.92\n",
       "40       4.93\n",
       "42       4.93\n",
       "44       4.93\n",
       "49       4.87\n",
       "55       4.71\n",
       "57       4.79\n",
       "58       4.83\n",
       "63       4.68\n",
       "65  629064.75\n",
       "66       6.48\n",
       "68       6.48\n",
       "70       6.30\n",
       "71       6.39"
      ]
     },
     "execution_count": 31,
     "metadata": {},
     "output_type": "execute_result"
    }
   ],
   "source": [
    "ganancias_df"
   ]
  },
  {
   "cell_type": "code",
   "execution_count": 27,
   "metadata": {},
   "outputs": [
    {
     "data": {
      "text/html": [
       "<div>\n",
       "<style scoped>\n",
       "    .dataframe tbody tr th:only-of-type {\n",
       "        vertical-align: middle;\n",
       "    }\n",
       "\n",
       "    .dataframe tbody tr th {\n",
       "        vertical-align: top;\n",
       "    }\n",
       "\n",
       "    .dataframe thead th {\n",
       "        text-align: right;\n",
       "    }\n",
       "</style>\n",
       "<table border=\"1\" class=\"dataframe\">\n",
       "  <thead>\n",
       "    <tr style=\"text-align: right;\">\n",
       "      <th></th>\n",
       "      <th>Débito</th>\n",
       "    </tr>\n",
       "  </thead>\n",
       "  <tbody>\n",
       "    <tr>\n",
       "      <th>Promedio</th>\n",
       "      <td>7182.972817</td>\n",
       "    </tr>\n",
       "    <tr>\n",
       "      <th>Desviación</th>\n",
       "      <td>18184.307954</td>\n",
       "    </tr>\n",
       "    <tr>\n",
       "      <th>min</th>\n",
       "      <td>0.000000</td>\n",
       "    </tr>\n",
       "    <tr>\n",
       "      <th>25%</th>\n",
       "      <td>0.000000</td>\n",
       "    </tr>\n",
       "    <tr>\n",
       "      <th>50%</th>\n",
       "      <td>881.000000</td>\n",
       "    </tr>\n",
       "    <tr>\n",
       "      <th>75%</th>\n",
       "      <td>3812.600000</td>\n",
       "    </tr>\n",
       "    <tr>\n",
       "      <th>max</th>\n",
       "      <td>100000.000000</td>\n",
       "    </tr>\n",
       "  </tbody>\n",
       "</table>\n",
       "</div>"
      ],
      "text/plain": [
       "                   Débito\n",
       "Promedio      7182.972817\n",
       "Desviación   18184.307954\n",
       "min              0.000000\n",
       "25%              0.000000\n",
       "50%            881.000000\n",
       "75%           3812.600000\n",
       "max         100000.000000"
      ]
     },
     "execution_count": 27,
     "metadata": {},
     "output_type": "execute_result"
    }
   ],
   "source": [
    "estad = o.df[[\"Débito\"]].describe()\n",
    "estad = estad.iloc[1:]\n",
    "estad.index = [\"Promedio\", \"Desviación\", \"min\", \"25%\", \"50%\", \"75%\", \"max\"]\n",
    "estad"
   ]
  },
  {
   "cell_type": "code",
   "execution_count": 10,
   "metadata": {},
   "outputs": [],
   "source": [
    "df=o.df[[\"Crédito\", \"Débito\"]].head()"
   ]
  },
  {
   "cell_type": "code",
   "execution_count": 36,
   "metadata": {},
   "outputs": [
    {
     "data": {
      "text/html": [
       "<div>\n",
       "<style scoped>\n",
       "    .dataframe tbody tr th:only-of-type {\n",
       "        vertical-align: middle;\n",
       "    }\n",
       "\n",
       "    .dataframe tbody tr th {\n",
       "        vertical-align: top;\n",
       "    }\n",
       "\n",
       "    .dataframe thead th {\n",
       "        text-align: right;\n",
       "    }\n",
       "</style>\n",
       "<table border=\"1\" class=\"dataframe\">\n",
       "  <thead>\n",
       "    <tr style=\"text-align: right;\">\n",
       "      <th></th>\n",
       "      <th>total_bill</th>\n",
       "      <th>tip</th>\n",
       "      <th>sex</th>\n",
       "      <th>smoker</th>\n",
       "      <th>day</th>\n",
       "      <th>time</th>\n",
       "      <th>size</th>\n",
       "    </tr>\n",
       "  </thead>\n",
       "  <tbody>\n",
       "    <tr>\n",
       "      <th>0</th>\n",
       "      <td>16.99</td>\n",
       "      <td>1.01</td>\n",
       "      <td>Female</td>\n",
       "      <td>No</td>\n",
       "      <td>Sun</td>\n",
       "      <td>Dinner</td>\n",
       "      <td>2</td>\n",
       "    </tr>\n",
       "    <tr>\n",
       "      <th>1</th>\n",
       "      <td>10.34</td>\n",
       "      <td>1.66</td>\n",
       "      <td>Male</td>\n",
       "      <td>No</td>\n",
       "      <td>Sun</td>\n",
       "      <td>Dinner</td>\n",
       "      <td>3</td>\n",
       "    </tr>\n",
       "    <tr>\n",
       "      <th>2</th>\n",
       "      <td>21.01</td>\n",
       "      <td>3.50</td>\n",
       "      <td>Male</td>\n",
       "      <td>No</td>\n",
       "      <td>Sun</td>\n",
       "      <td>Dinner</td>\n",
       "      <td>3</td>\n",
       "    </tr>\n",
       "    <tr>\n",
       "      <th>3</th>\n",
       "      <td>23.68</td>\n",
       "      <td>3.31</td>\n",
       "      <td>Male</td>\n",
       "      <td>No</td>\n",
       "      <td>Sun</td>\n",
       "      <td>Dinner</td>\n",
       "      <td>2</td>\n",
       "    </tr>\n",
       "    <tr>\n",
       "      <th>4</th>\n",
       "      <td>24.59</td>\n",
       "      <td>3.61</td>\n",
       "      <td>Female</td>\n",
       "      <td>No</td>\n",
       "      <td>Sun</td>\n",
       "      <td>Dinner</td>\n",
       "      <td>4</td>\n",
       "    </tr>\n",
       "    <tr>\n",
       "      <th>...</th>\n",
       "      <td>...</td>\n",
       "      <td>...</td>\n",
       "      <td>...</td>\n",
       "      <td>...</td>\n",
       "      <td>...</td>\n",
       "      <td>...</td>\n",
       "      <td>...</td>\n",
       "    </tr>\n",
       "    <tr>\n",
       "      <th>239</th>\n",
       "      <td>29.03</td>\n",
       "      <td>5.92</td>\n",
       "      <td>Male</td>\n",
       "      <td>No</td>\n",
       "      <td>Sat</td>\n",
       "      <td>Dinner</td>\n",
       "      <td>3</td>\n",
       "    </tr>\n",
       "    <tr>\n",
       "      <th>240</th>\n",
       "      <td>27.18</td>\n",
       "      <td>2.00</td>\n",
       "      <td>Female</td>\n",
       "      <td>Yes</td>\n",
       "      <td>Sat</td>\n",
       "      <td>Dinner</td>\n",
       "      <td>2</td>\n",
       "    </tr>\n",
       "    <tr>\n",
       "      <th>241</th>\n",
       "      <td>22.67</td>\n",
       "      <td>2.00</td>\n",
       "      <td>Male</td>\n",
       "      <td>Yes</td>\n",
       "      <td>Sat</td>\n",
       "      <td>Dinner</td>\n",
       "      <td>2</td>\n",
       "    </tr>\n",
       "    <tr>\n",
       "      <th>242</th>\n",
       "      <td>17.82</td>\n",
       "      <td>1.75</td>\n",
       "      <td>Male</td>\n",
       "      <td>No</td>\n",
       "      <td>Sat</td>\n",
       "      <td>Dinner</td>\n",
       "      <td>2</td>\n",
       "    </tr>\n",
       "    <tr>\n",
       "      <th>243</th>\n",
       "      <td>18.78</td>\n",
       "      <td>3.00</td>\n",
       "      <td>Female</td>\n",
       "      <td>No</td>\n",
       "      <td>Thur</td>\n",
       "      <td>Dinner</td>\n",
       "      <td>2</td>\n",
       "    </tr>\n",
       "  </tbody>\n",
       "</table>\n",
       "<p>244 rows × 7 columns</p>\n",
       "</div>"
      ],
      "text/plain": [
       "     total_bill   tip     sex smoker   day    time  size\n",
       "0         16.99  1.01  Female     No   Sun  Dinner     2\n",
       "1         10.34  1.66    Male     No   Sun  Dinner     3\n",
       "2         21.01  3.50    Male     No   Sun  Dinner     3\n",
       "3         23.68  3.31    Male     No   Sun  Dinner     2\n",
       "4         24.59  3.61  Female     No   Sun  Dinner     4\n",
       "..          ...   ...     ...    ...   ...     ...   ...\n",
       "239       29.03  5.92    Male     No   Sat  Dinner     3\n",
       "240       27.18  2.00  Female    Yes   Sat  Dinner     2\n",
       "241       22.67  2.00    Male    Yes   Sat  Dinner     2\n",
       "242       17.82  1.75    Male     No   Sat  Dinner     2\n",
       "243       18.78  3.00  Female     No  Thur  Dinner     2\n",
       "\n",
       "[244 rows x 7 columns]"
      ]
     },
     "execution_count": 36,
     "metadata": {},
     "output_type": "execute_result"
    }
   ],
   "source": [
    "import plotly.express as px\n",
    "\n",
    "df = px.data.tips()\n",
    "df"
   ]
  },
  {
   "cell_type": "code",
   "execution_count": 13,
   "metadata": {},
   "outputs": [
    {
     "name": "stdout",
     "output_type": "stream",
     "text": [
      "4\n"
     ]
    }
   ],
   "source": [
    "def dec(func):\n",
    "    def wrap(self, a=None, b=None):\n",
    "        if a is None:\n",
    "            a = self.numeroDefault()\n",
    "        if b is None:\n",
    "            b = self.numeroDefault()\n",
    "            \n",
    "        return func(self, a, b)\n",
    "    return wrap\n",
    "\n",
    "\n",
    "class Calculadora:\n",
    "    def numeroDefault(self):\n",
    "        return 2\n",
    "\n",
    "    @dec\n",
    "    def sumar2Numeros(self, a, b):\n",
    "        return a + b\n",
    "\n",
    "\n",
    "# Uso\n",
    "calc = Calculadora()\n",
    "resultado = calc.sumar2Numeros()\n",
    "print(resultado)  # Imprime 5\n"
   ]
  },
  {
   "cell_type": "code",
   "execution_count": 15,
   "metadata": {},
   "outputs": [
    {
     "data": {
      "application/vnd.plotly.v1+json": {
       "config": {
        "plotlyServerURL": "https://plot.ly"
       },
       "data": [
        {
         "alignmentgroup": "True",
         "box": {
          "visible": true
         },
         "customdata": [
          [
           0
          ],
          [
           1
          ],
          [
           2
          ],
          [
           3
          ],
          [
           4
          ],
          [
           5
          ],
          [
           6
          ],
          [
           7
          ],
          [
           8
          ],
          [
           9
          ],
          [
           10
          ],
          [
           11
          ],
          [
           12
          ],
          [
           13
          ],
          [
           14
          ],
          [
           15
          ],
          [
           16
          ],
          [
           17
          ],
          [
           18
          ],
          [
           19
          ],
          [
           20
          ],
          [
           21
          ],
          [
           22
          ],
          [
           23
          ],
          [
           24
          ],
          [
           25
          ],
          [
           26
          ],
          [
           27
          ],
          [
           28
          ],
          [
           29
          ],
          [
           30
          ],
          [
           31
          ],
          [
           32
          ],
          [
           33
          ],
          [
           34
          ],
          [
           35
          ],
          [
           36
          ],
          [
           37
          ],
          [
           38
          ],
          [
           39
          ],
          [
           40
          ],
          [
           41
          ],
          [
           42
          ],
          [
           43
          ],
          [
           44
          ],
          [
           45
          ],
          [
           46
          ],
          [
           47
          ],
          [
           48
          ],
          [
           49
          ],
          [
           50
          ],
          [
           51
          ],
          [
           52
          ],
          [
           53
          ],
          [
           54
          ],
          [
           55
          ],
          [
           56
          ],
          [
           57
          ],
          [
           58
          ],
          [
           59
          ],
          [
           60
          ],
          [
           61
          ],
          [
           62
          ],
          [
           63
          ],
          [
           64
          ],
          [
           65
          ],
          [
           66
          ],
          [
           67
          ],
          [
           68
          ],
          [
           69
          ],
          [
           70
          ],
          [
           71
          ],
          [
           72
          ],
          [
           73
          ],
          [
           74
          ],
          [
           75
          ],
          [
           76
          ],
          [
           77
          ],
          [
           78
          ],
          [
           79
          ],
          [
           80
          ],
          [
           81
          ],
          [
           82
          ],
          [
           83
          ],
          [
           84
          ],
          [
           85
          ],
          [
           86
          ],
          [
           87
          ],
          [
           88
          ],
          [
           89
          ],
          [
           90
          ],
          [
           91
          ],
          [
           92
          ],
          [
           93
          ],
          [
           94
          ],
          [
           95
          ],
          [
           96
          ],
          [
           97
          ],
          [
           98
          ],
          [
           99
          ]
         ],
         "hovertemplate": "Valor del dato=%{y}<br>Índice=%{customdata[0]}<extra></extra>",
         "legendgroup": "",
         "marker": {
          "color": "purple",
          "opacity": 0.6,
          "size": 5
         },
         "meanline": {
          "visible": true
         },
         "name": "",
         "offsetgroup": "",
         "orientation": "v",
         "points": "all",
         "scalegroup": "True",
         "showlegend": false,
         "type": "violin",
         "x0": " ",
         "xaxis": "x",
         "y": [
          5.993428306022466,
          4.72347139765763,
          6.295377076201385,
          8.046059712816051,
          4.531693250553328,
          4.531726086101639,
          8.158425631014783,
          6.534869458305818,
          4.061051228130096,
          6.085120087171929,
          4.0731646143750755,
          4.068540492859486,
          5.483924543132068,
          1.1734395106844042,
          1.5501643349739345,
          3.8754249415180544,
          2.9743377593311524,
          5.628494665190548,
          3.1839518489575784,
          2.175392597329417,
          7.931297537843108,
          4.548447399026928,
          5.1350564093758475,
          2.1505036275730864,
          3.9112345509496347,
          5.2218451794197325,
          2.6980128451553944,
          5.751396036691344,
          3.79872262016239,
          4.416612500413446,
          3.796586775541206,
          8.704556369017876,
          4.973005550524132,
          2.8845781420881993,
          6.645089824206378,
          2.5583127000579555,
          5.4177271900095105,
          1.0806597522404489,
          2.343627902203139,
          5.393722471738247,
          6.476933159990821,
          5.342736562379941,
          4.768703435223519,
          4.3977926088214225,
          2.0429560192651453,
          3.5603115832105825,
          4.078722458080425,
          7.114244452437831,
          5.687236579136923,
          1.473919689274532,
          5.64816793878959,
          4.229835439167367,
          3.6461559993880828,
          6.2233525776817356,
          7.061999044991902,
          6.862560238232398,
          3.3215649535547227,
          4.381575248297571,
          5.662526862807128,
          6.951090254244718,
          4.04165152430942,
          4.628682046672366,
          2.7873300519879436,
          2.6075867518386584,
          6.625051644788396,
          7.712480057141645,
          4.855979756839332,
          7.007065795784048,
          5.723272050095268,
          3.7097604907897512,
          5.722791211016828,
          8.076073132931938,
          4.928347921780097,
          8.129287311628012,
          -0.23949020817948874,
          6.643805008750448,
          5.174094136476342,
          4.401985299068265,
          5.183521553071005,
          1.0248621707982144,
          4.560656224324976,
          5.7142251430234925,
          7.955788089483033,
          3.9634595634527052,
          3.3830127942136246,
          3.996485912830927,
          6.830804235404148,
          5.657502219319369,
          3.9404795924659224,
          6.026534866226712,
          5.194155098696081,
          6.937289981065779,
          3.5958938122452953,
          4.3446757068044635,
          4.215783693735685,
          2.072970103735763,
          5.592240554129152,
          5.522110544359778,
          5.010226913284922,
          4.530825733249706
         ],
         "y0": " ",
         "yaxis": "y"
        }
       ],
       "layout": {
        "legend": {
         "tracegroupgap": 0
        },
        "margin": {
         "b": 40,
         "l": 50,
         "r": 50,
         "t": 60
        },
        "showlegend": false,
        "template": {
         "data": {
          "bar": [
           {
            "error_x": {
             "color": "#2a3f5f"
            },
            "error_y": {
             "color": "#2a3f5f"
            },
            "marker": {
             "line": {
              "color": "white",
              "width": 0.5
             },
             "pattern": {
              "fillmode": "overlay",
              "size": 10,
              "solidity": 0.2
             }
            },
            "type": "bar"
           }
          ],
          "barpolar": [
           {
            "marker": {
             "line": {
              "color": "white",
              "width": 0.5
             },
             "pattern": {
              "fillmode": "overlay",
              "size": 10,
              "solidity": 0.2
             }
            },
            "type": "barpolar"
           }
          ],
          "carpet": [
           {
            "aaxis": {
             "endlinecolor": "#2a3f5f",
             "gridcolor": "#C8D4E3",
             "linecolor": "#C8D4E3",
             "minorgridcolor": "#C8D4E3",
             "startlinecolor": "#2a3f5f"
            },
            "baxis": {
             "endlinecolor": "#2a3f5f",
             "gridcolor": "#C8D4E3",
             "linecolor": "#C8D4E3",
             "minorgridcolor": "#C8D4E3",
             "startlinecolor": "#2a3f5f"
            },
            "type": "carpet"
           }
          ],
          "choropleth": [
           {
            "colorbar": {
             "outlinewidth": 0,
             "ticks": ""
            },
            "type": "choropleth"
           }
          ],
          "contour": [
           {
            "colorbar": {
             "outlinewidth": 0,
             "ticks": ""
            },
            "colorscale": [
             [
              0,
              "#0d0887"
             ],
             [
              0.1111111111111111,
              "#46039f"
             ],
             [
              0.2222222222222222,
              "#7201a8"
             ],
             [
              0.3333333333333333,
              "#9c179e"
             ],
             [
              0.4444444444444444,
              "#bd3786"
             ],
             [
              0.5555555555555556,
              "#d8576b"
             ],
             [
              0.6666666666666666,
              "#ed7953"
             ],
             [
              0.7777777777777778,
              "#fb9f3a"
             ],
             [
              0.8888888888888888,
              "#fdca26"
             ],
             [
              1,
              "#f0f921"
             ]
            ],
            "type": "contour"
           }
          ],
          "contourcarpet": [
           {
            "colorbar": {
             "outlinewidth": 0,
             "ticks": ""
            },
            "type": "contourcarpet"
           }
          ],
          "heatmap": [
           {
            "colorbar": {
             "outlinewidth": 0,
             "ticks": ""
            },
            "colorscale": [
             [
              0,
              "#0d0887"
             ],
             [
              0.1111111111111111,
              "#46039f"
             ],
             [
              0.2222222222222222,
              "#7201a8"
             ],
             [
              0.3333333333333333,
              "#9c179e"
             ],
             [
              0.4444444444444444,
              "#bd3786"
             ],
             [
              0.5555555555555556,
              "#d8576b"
             ],
             [
              0.6666666666666666,
              "#ed7953"
             ],
             [
              0.7777777777777778,
              "#fb9f3a"
             ],
             [
              0.8888888888888888,
              "#fdca26"
             ],
             [
              1,
              "#f0f921"
             ]
            ],
            "type": "heatmap"
           }
          ],
          "heatmapgl": [
           {
            "colorbar": {
             "outlinewidth": 0,
             "ticks": ""
            },
            "colorscale": [
             [
              0,
              "#0d0887"
             ],
             [
              0.1111111111111111,
              "#46039f"
             ],
             [
              0.2222222222222222,
              "#7201a8"
             ],
             [
              0.3333333333333333,
              "#9c179e"
             ],
             [
              0.4444444444444444,
              "#bd3786"
             ],
             [
              0.5555555555555556,
              "#d8576b"
             ],
             [
              0.6666666666666666,
              "#ed7953"
             ],
             [
              0.7777777777777778,
              "#fb9f3a"
             ],
             [
              0.8888888888888888,
              "#fdca26"
             ],
             [
              1,
              "#f0f921"
             ]
            ],
            "type": "heatmapgl"
           }
          ],
          "histogram": [
           {
            "marker": {
             "pattern": {
              "fillmode": "overlay",
              "size": 10,
              "solidity": 0.2
             }
            },
            "type": "histogram"
           }
          ],
          "histogram2d": [
           {
            "colorbar": {
             "outlinewidth": 0,
             "ticks": ""
            },
            "colorscale": [
             [
              0,
              "#0d0887"
             ],
             [
              0.1111111111111111,
              "#46039f"
             ],
             [
              0.2222222222222222,
              "#7201a8"
             ],
             [
              0.3333333333333333,
              "#9c179e"
             ],
             [
              0.4444444444444444,
              "#bd3786"
             ],
             [
              0.5555555555555556,
              "#d8576b"
             ],
             [
              0.6666666666666666,
              "#ed7953"
             ],
             [
              0.7777777777777778,
              "#fb9f3a"
             ],
             [
              0.8888888888888888,
              "#fdca26"
             ],
             [
              1,
              "#f0f921"
             ]
            ],
            "type": "histogram2d"
           }
          ],
          "histogram2dcontour": [
           {
            "colorbar": {
             "outlinewidth": 0,
             "ticks": ""
            },
            "colorscale": [
             [
              0,
              "#0d0887"
             ],
             [
              0.1111111111111111,
              "#46039f"
             ],
             [
              0.2222222222222222,
              "#7201a8"
             ],
             [
              0.3333333333333333,
              "#9c179e"
             ],
             [
              0.4444444444444444,
              "#bd3786"
             ],
             [
              0.5555555555555556,
              "#d8576b"
             ],
             [
              0.6666666666666666,
              "#ed7953"
             ],
             [
              0.7777777777777778,
              "#fb9f3a"
             ],
             [
              0.8888888888888888,
              "#fdca26"
             ],
             [
              1,
              "#f0f921"
             ]
            ],
            "type": "histogram2dcontour"
           }
          ],
          "mesh3d": [
           {
            "colorbar": {
             "outlinewidth": 0,
             "ticks": ""
            },
            "type": "mesh3d"
           }
          ],
          "parcoords": [
           {
            "line": {
             "colorbar": {
              "outlinewidth": 0,
              "ticks": ""
             }
            },
            "type": "parcoords"
           }
          ],
          "pie": [
           {
            "automargin": true,
            "type": "pie"
           }
          ],
          "scatter": [
           {
            "fillpattern": {
             "fillmode": "overlay",
             "size": 10,
             "solidity": 0.2
            },
            "type": "scatter"
           }
          ],
          "scatter3d": [
           {
            "line": {
             "colorbar": {
              "outlinewidth": 0,
              "ticks": ""
             }
            },
            "marker": {
             "colorbar": {
              "outlinewidth": 0,
              "ticks": ""
             }
            },
            "type": "scatter3d"
           }
          ],
          "scattercarpet": [
           {
            "marker": {
             "colorbar": {
              "outlinewidth": 0,
              "ticks": ""
             }
            },
            "type": "scattercarpet"
           }
          ],
          "scattergeo": [
           {
            "marker": {
             "colorbar": {
              "outlinewidth": 0,
              "ticks": ""
             }
            },
            "type": "scattergeo"
           }
          ],
          "scattergl": [
           {
            "marker": {
             "colorbar": {
              "outlinewidth": 0,
              "ticks": ""
             }
            },
            "type": "scattergl"
           }
          ],
          "scattermapbox": [
           {
            "marker": {
             "colorbar": {
              "outlinewidth": 0,
              "ticks": ""
             }
            },
            "type": "scattermapbox"
           }
          ],
          "scatterpolar": [
           {
            "marker": {
             "colorbar": {
              "outlinewidth": 0,
              "ticks": ""
             }
            },
            "type": "scatterpolar"
           }
          ],
          "scatterpolargl": [
           {
            "marker": {
             "colorbar": {
              "outlinewidth": 0,
              "ticks": ""
             }
            },
            "type": "scatterpolargl"
           }
          ],
          "scatterternary": [
           {
            "marker": {
             "colorbar": {
              "outlinewidth": 0,
              "ticks": ""
             }
            },
            "type": "scatterternary"
           }
          ],
          "surface": [
           {
            "colorbar": {
             "outlinewidth": 0,
             "ticks": ""
            },
            "colorscale": [
             [
              0,
              "#0d0887"
             ],
             [
              0.1111111111111111,
              "#46039f"
             ],
             [
              0.2222222222222222,
              "#7201a8"
             ],
             [
              0.3333333333333333,
              "#9c179e"
             ],
             [
              0.4444444444444444,
              "#bd3786"
             ],
             [
              0.5555555555555556,
              "#d8576b"
             ],
             [
              0.6666666666666666,
              "#ed7953"
             ],
             [
              0.7777777777777778,
              "#fb9f3a"
             ],
             [
              0.8888888888888888,
              "#fdca26"
             ],
             [
              1,
              "#f0f921"
             ]
            ],
            "type": "surface"
           }
          ],
          "table": [
           {
            "cells": {
             "fill": {
              "color": "#EBF0F8"
             },
             "line": {
              "color": "white"
             }
            },
            "header": {
             "fill": {
              "color": "#C8D4E3"
             },
             "line": {
              "color": "white"
             }
            },
            "type": "table"
           }
          ]
         },
         "layout": {
          "annotationdefaults": {
           "arrowcolor": "#2a3f5f",
           "arrowhead": 0,
           "arrowwidth": 1
          },
          "autotypenumbers": "strict",
          "coloraxis": {
           "colorbar": {
            "outlinewidth": 0,
            "ticks": ""
           }
          },
          "colorscale": {
           "diverging": [
            [
             0,
             "#8e0152"
            ],
            [
             0.1,
             "#c51b7d"
            ],
            [
             0.2,
             "#de77ae"
            ],
            [
             0.3,
             "#f1b6da"
            ],
            [
             0.4,
             "#fde0ef"
            ],
            [
             0.5,
             "#f7f7f7"
            ],
            [
             0.6,
             "#e6f5d0"
            ],
            [
             0.7,
             "#b8e186"
            ],
            [
             0.8,
             "#7fbc41"
            ],
            [
             0.9,
             "#4d9221"
            ],
            [
             1,
             "#276419"
            ]
           ],
           "sequential": [
            [
             0,
             "#0d0887"
            ],
            [
             0.1111111111111111,
             "#46039f"
            ],
            [
             0.2222222222222222,
             "#7201a8"
            ],
            [
             0.3333333333333333,
             "#9c179e"
            ],
            [
             0.4444444444444444,
             "#bd3786"
            ],
            [
             0.5555555555555556,
             "#d8576b"
            ],
            [
             0.6666666666666666,
             "#ed7953"
            ],
            [
             0.7777777777777778,
             "#fb9f3a"
            ],
            [
             0.8888888888888888,
             "#fdca26"
            ],
            [
             1,
             "#f0f921"
            ]
           ],
           "sequentialminus": [
            [
             0,
             "#0d0887"
            ],
            [
             0.1111111111111111,
             "#46039f"
            ],
            [
             0.2222222222222222,
             "#7201a8"
            ],
            [
             0.3333333333333333,
             "#9c179e"
            ],
            [
             0.4444444444444444,
             "#bd3786"
            ],
            [
             0.5555555555555556,
             "#d8576b"
            ],
            [
             0.6666666666666666,
             "#ed7953"
            ],
            [
             0.7777777777777778,
             "#fb9f3a"
            ],
            [
             0.8888888888888888,
             "#fdca26"
            ],
            [
             1,
             "#f0f921"
            ]
           ]
          },
          "colorway": [
           "#636efa",
           "#EF553B",
           "#00cc96",
           "#ab63fa",
           "#FFA15A",
           "#19d3f3",
           "#FF6692",
           "#B6E880",
           "#FF97FF",
           "#FECB52"
          ],
          "font": {
           "color": "#2a3f5f"
          },
          "geo": {
           "bgcolor": "white",
           "lakecolor": "white",
           "landcolor": "white",
           "showlakes": true,
           "showland": true,
           "subunitcolor": "#C8D4E3"
          },
          "hoverlabel": {
           "align": "left"
          },
          "hovermode": "closest",
          "mapbox": {
           "style": "light"
          },
          "paper_bgcolor": "white",
          "plot_bgcolor": "white",
          "polar": {
           "angularaxis": {
            "gridcolor": "#EBF0F8",
            "linecolor": "#EBF0F8",
            "ticks": ""
           },
           "bgcolor": "white",
           "radialaxis": {
            "gridcolor": "#EBF0F8",
            "linecolor": "#EBF0F8",
            "ticks": ""
           }
          },
          "scene": {
           "xaxis": {
            "backgroundcolor": "white",
            "gridcolor": "#DFE8F3",
            "gridwidth": 2,
            "linecolor": "#EBF0F8",
            "showbackground": true,
            "ticks": "",
            "zerolinecolor": "#EBF0F8"
           },
           "yaxis": {
            "backgroundcolor": "white",
            "gridcolor": "#DFE8F3",
            "gridwidth": 2,
            "linecolor": "#EBF0F8",
            "showbackground": true,
            "ticks": "",
            "zerolinecolor": "#EBF0F8"
           },
           "zaxis": {
            "backgroundcolor": "white",
            "gridcolor": "#DFE8F3",
            "gridwidth": 2,
            "linecolor": "#EBF0F8",
            "showbackground": true,
            "ticks": "",
            "zerolinecolor": "#EBF0F8"
           }
          },
          "shapedefaults": {
           "line": {
            "color": "#2a3f5f"
           }
          },
          "ternary": {
           "aaxis": {
            "gridcolor": "#DFE8F3",
            "linecolor": "#A2B1C6",
            "ticks": ""
           },
           "baxis": {
            "gridcolor": "#DFE8F3",
            "linecolor": "#A2B1C6",
            "ticks": ""
           },
           "bgcolor": "white",
           "caxis": {
            "gridcolor": "#DFE8F3",
            "linecolor": "#A2B1C6",
            "ticks": ""
           }
          },
          "title": {
           "x": 0.05
          },
          "xaxis": {
           "automargin": true,
           "gridcolor": "#EBF0F8",
           "linecolor": "#EBF0F8",
           "ticks": "",
           "title": {
            "standoff": 15
           },
           "zerolinecolor": "#EBF0F8",
           "zerolinewidth": 2
          },
          "yaxis": {
           "automargin": true,
           "gridcolor": "#EBF0F8",
           "linecolor": "#EBF0F8",
           "ticks": "",
           "title": {
            "standoff": 15
           },
           "zerolinecolor": "#EBF0F8",
           "zerolinewidth": 2
          }
         }
        },
        "title": {
         "font": {
          "size": 20
         },
         "text": "Distribución de los valores - Violin Plot interactivo"
        },
        "violinmode": "group",
        "xaxis": {
         "anchor": "y",
         "domain": [
          0,
          1
         ],
         "title": {
          "text": ""
         }
        },
        "yaxis": {
         "anchor": "x",
         "domain": [
          0,
          1
         ],
         "title": {
          "text": "Valor"
         }
        }
       }
      }
     },
     "metadata": {},
     "output_type": "display_data"
    }
   ],
   "source": [
    "import plotly.express as px\n",
    "\n",
    "# Usamos el mismo DataFrame `df` del ejemplo anterior\n",
    "\n",
    "fig = px.violin(\n",
    "    df, \n",
    "    y=\"Valor\", \n",
    "    box=True,          # Mostrar el boxplot dentro del violin\n",
    "    points=\"all\",      # Mostrar todos los puntos individuales\n",
    "    hover_data=[\"Índice\"], \n",
    "    title=\"Distribución de los valores - Violin Plot interactivo\",\n",
    "    labels={\"Valor\": \"Valor del dato\"}\n",
    ")\n",
    "\n",
    "# Personalización visual\n",
    "fig.update_traces(\n",
    "    meanline_visible=True,  # Mostrar la línea del promedio\n",
    "    marker=dict(size=5, color=\"purple\", opacity=0.6)\n",
    ")\n",
    "\n",
    "fig.update_layout(\n",
    "    yaxis_title=\"Valor\",\n",
    "    xaxis_title=\"\",\n",
    "    template=\"plotly_white\",\n",
    "    showlegend=False,\n",
    "    title_font=dict(size=20),\n",
    "    margin=dict(l=50, r=50, t=60, b=40)\n",
    ")\n",
    "\n",
    "fig.show()\n"
   ]
  }
 ],
 "metadata": {
  "kernelspec": {
   "display_name": "base",
   "language": "python",
   "name": "python3"
  },
  "language_info": {
   "codemirror_mode": {
    "name": "ipython",
    "version": 3
   },
   "file_extension": ".py",
   "mimetype": "text/x-python",
   "name": "python",
   "nbconvert_exporter": "python",
   "pygments_lexer": "ipython3",
   "version": "3.12.4"
  }
 },
 "nbformat": 4,
 "nbformat_minor": 2
}
