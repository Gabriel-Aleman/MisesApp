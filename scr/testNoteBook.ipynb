{
 "cells": [
  {
   "cell_type": "markdown",
   "metadata": {},
   "source": [
    "# Leer información"
   ]
  },
  {
   "cell_type": "markdown",
   "metadata": {},
   "source": [
    "### Leer directamente de archivo"
   ]
  },
  {
   "cell_type": "code",
   "execution_count": 1,
   "metadata": {},
   "outputs": [],
   "source": [
    "import pandas as pd\n",
    "import csv\n",
    "\n",
    "path=\"misTransacciones.csv\"\n",
    "\n",
    "\n",
    "with open(path, newline='', encoding='utf-8') as archivo:\n",
    "    lector = csv.reader(archivo)\n",
    "    lector = list(lector)"
   ]
  },
  {
   "cell_type": "markdown",
   "metadata": {},
   "source": [
    "### Leer contenido del archivo y devolver como string:"
   ]
  },
  {
   "cell_type": "code",
   "execution_count": 2,
   "metadata": {},
   "outputs": [],
   "source": [
    "import csv\n",
    "import io\n",
    "\n",
    "path=\"misTransacciones.csv\"\n",
    "with open(path, 'r', encoding='utf-8') as f:\n",
    "    contenido = f.read()\n",
    "\n",
    "# Convertimos el string a un objeto tipo archivo\n",
    "archivo_simulado = io.StringIO(contenido)\n",
    "\n",
    "# Leemos usando el módulo csv\n",
    "lector0 = csv.reader(archivo_simulado)\n",
    "# Convertimos a lista\n",
    "lector0 = list(lector0)\n"
   ]
  },
  {
   "cell_type": "markdown",
   "metadata": {},
   "source": [
    "### Comparación"
   ]
  },
  {
   "cell_type": "code",
   "execution_count": 3,
   "metadata": {},
   "outputs": [
    {
     "data": {
      "text/plain": [
       "True"
      ]
     },
     "execution_count": 3,
     "metadata": {},
     "output_type": "execute_result"
    }
   ],
   "source": [
    "lector0 == lector"
   ]
  },
  {
   "cell_type": "code",
   "execution_count": 4,
   "metadata": {},
   "outputs": [],
   "source": [
    "def getRawData(miLector):\n",
    "    infoTransacciones=[]\n",
    "    beginTrans=False\n",
    "    for fila in miLector:\n",
    "\n",
    "        if beginTrans and (fila==[]):\n",
    "            beginTrans = False\n",
    "\n",
    "        if beginTrans:\n",
    "            infoTransacciones.append(fila)\n",
    "        \n",
    "        if (len(fila)==1):\n",
    "            if  fila[0]=='Detalle de Estado Bancario':\n",
    "                beginTrans=True\n",
    "    return infoTransacciones\n",
    "\n",
    "df0 = getRawData(lector0)\n",
    "df  = getRawData(lector)"
   ]
  },
  {
   "cell_type": "code",
   "execution_count": 5,
   "metadata": {},
   "outputs": [
    {
     "data": {
      "text/html": [
       "<div>\n",
       "<style scoped>\n",
       "    .dataframe tbody tr th:only-of-type {\n",
       "        vertical-align: middle;\n",
       "    }\n",
       "\n",
       "    .dataframe tbody tr th {\n",
       "        vertical-align: top;\n",
       "    }\n",
       "\n",
       "    .dataframe thead th {\n",
       "        text-align: right;\n",
       "    }\n",
       "</style>\n",
       "<table border=\"1\" class=\"dataframe\">\n",
       "  <thead>\n",
       "    <tr style=\"text-align: right;\">\n",
       "      <th></th>\n",
       "      <th>0</th>\n",
       "      <th>1</th>\n",
       "      <th>2</th>\n",
       "      <th>3</th>\n",
       "      <th>4</th>\n",
       "      <th>5</th>\n",
       "      <th>6</th>\n",
       "    </tr>\n",
       "  </thead>\n",
       "  <tbody>\n",
       "    <tr>\n",
       "      <th>0</th>\n",
       "      <td>Fecha de Transacci�n</td>\n",
       "      <td>Referencia de Transacci�n</td>\n",
       "      <td>C�digo de Transacci�n</td>\n",
       "      <td>Descripci�n de Transacci�n</td>\n",
       "      <td>D�bito de Transacci�n</td>\n",
       "      <td>Cr�dito de Transacci�n</td>\n",
       "      <td>Balance de Transacci�n</td>\n",
       "    </tr>\n",
       "    <tr>\n",
       "      <th>1</th>\n",
       "      <td>01/04/2025</td>\n",
       "      <td>40118120</td>\n",
       "      <td>3O</td>\n",
       "      <td>INTERESES</td>\n",
       "      <td>0.00</td>\n",
       "      <td>6.39</td>\n",
       "      <td>2358669.83</td>\n",
       "    </tr>\n",
       "    <tr>\n",
       "      <th>2</th>\n",
       "      <td>02/04/2025</td>\n",
       "      <td>40206897</td>\n",
       "      <td>3O</td>\n",
       "      <td>INTERESES</td>\n",
       "      <td>0.00</td>\n",
       "      <td>6.39</td>\n",
       "      <td>2358676.22</td>\n",
       "    </tr>\n",
       "    <tr>\n",
       "      <th>3</th>\n",
       "      <td>03/04/2025</td>\n",
       "      <td>40200000</td>\n",
       "      <td>CP</td>\n",
       "      <td>DLC*UBER RIDES\\       SAN JOSE</td>\n",
       "      <td>3597.91</td>\n",
       "      <td>0.00</td>\n",
       "      <td>2355078.31</td>\n",
       "    </tr>\n",
       "    <tr>\n",
       "      <th>4</th>\n",
       "      <td>03/04/2025</td>\n",
       "      <td>40306339</td>\n",
       "      <td>3O</td>\n",
       "      <td>INTERESES</td>\n",
       "      <td>0.00</td>\n",
       "      <td>6.35</td>\n",
       "      <td>2355084.66</td>\n",
       "    </tr>\n",
       "  </tbody>\n",
       "</table>\n",
       "</div>"
      ],
      "text/plain": [
       "                      0                           1                       2  \\\n",
       "0  Fecha de Transacci�n   Referencia de Transacci�n   C�digo de Transacci�n   \n",
       "1            01/04/2025                    40118120                      3O   \n",
       "2            02/04/2025                    40206897                      3O   \n",
       "3            03/04/2025                    40200000                      CP   \n",
       "4            03/04/2025                    40306339                      3O   \n",
       "\n",
       "                                 3                       4  \\\n",
       "0       Descripci�n de Transacci�n   D�bito de Transacci�n   \n",
       "1   INTERESES                                         0.00   \n",
       "2   INTERESES                                         0.00   \n",
       "3   DLC*UBER RIDES\\       SAN JOSE                 3597.91   \n",
       "4   INTERESES                                         0.00   \n",
       "\n",
       "                         5                         6  \n",
       "0   Cr�dito de Transacci�n   Balance de Transacci�n   \n",
       "1                     6.39               2358669.83   \n",
       "2                     6.39               2358676.22   \n",
       "3                     0.00               2355078.31   \n",
       "4                     6.35               2355084.66   "
      ]
     },
     "execution_count": 5,
     "metadata": {},
     "output_type": "execute_result"
    }
   ],
   "source": [
    "pd.DataFrame(df).head()"
   ]
  },
  {
   "cell_type": "code",
   "execution_count": 6,
   "metadata": {},
   "outputs": [
    {
     "data": {
      "text/html": [
       "<div>\n",
       "<style scoped>\n",
       "    .dataframe tbody tr th:only-of-type {\n",
       "        vertical-align: middle;\n",
       "    }\n",
       "\n",
       "    .dataframe tbody tr th {\n",
       "        vertical-align: top;\n",
       "    }\n",
       "\n",
       "    .dataframe thead th {\n",
       "        text-align: right;\n",
       "    }\n",
       "</style>\n",
       "<table border=\"1\" class=\"dataframe\">\n",
       "  <thead>\n",
       "    <tr style=\"text-align: right;\">\n",
       "      <th></th>\n",
       "      <th>0</th>\n",
       "      <th>1</th>\n",
       "      <th>2</th>\n",
       "      <th>3</th>\n",
       "      <th>4</th>\n",
       "      <th>5</th>\n",
       "      <th>6</th>\n",
       "    </tr>\n",
       "  </thead>\n",
       "  <tbody>\n",
       "    <tr>\n",
       "      <th>0</th>\n",
       "      <td>Fecha de Transacci�n</td>\n",
       "      <td>Referencia de Transacci�n</td>\n",
       "      <td>C�digo de Transacci�n</td>\n",
       "      <td>Descripci�n de Transacci�n</td>\n",
       "      <td>D�bito de Transacci�n</td>\n",
       "      <td>Cr�dito de Transacci�n</td>\n",
       "      <td>Balance de Transacci�n</td>\n",
       "    </tr>\n",
       "    <tr>\n",
       "      <th>1</th>\n",
       "      <td>01/04/2025</td>\n",
       "      <td>40118120</td>\n",
       "      <td>3O</td>\n",
       "      <td>INTERESES</td>\n",
       "      <td>0.00</td>\n",
       "      <td>6.39</td>\n",
       "      <td>2358669.83</td>\n",
       "    </tr>\n",
       "    <tr>\n",
       "      <th>2</th>\n",
       "      <td>02/04/2025</td>\n",
       "      <td>40206897</td>\n",
       "      <td>3O</td>\n",
       "      <td>INTERESES</td>\n",
       "      <td>0.00</td>\n",
       "      <td>6.39</td>\n",
       "      <td>2358676.22</td>\n",
       "    </tr>\n",
       "    <tr>\n",
       "      <th>3</th>\n",
       "      <td>03/04/2025</td>\n",
       "      <td>40200000</td>\n",
       "      <td>CP</td>\n",
       "      <td>DLC*UBER RIDES\\       SAN JOSE</td>\n",
       "      <td>3597.91</td>\n",
       "      <td>0.00</td>\n",
       "      <td>2355078.31</td>\n",
       "    </tr>\n",
       "    <tr>\n",
       "      <th>4</th>\n",
       "      <td>03/04/2025</td>\n",
       "      <td>40306339</td>\n",
       "      <td>3O</td>\n",
       "      <td>INTERESES</td>\n",
       "      <td>0.00</td>\n",
       "      <td>6.35</td>\n",
       "      <td>2355084.66</td>\n",
       "    </tr>\n",
       "  </tbody>\n",
       "</table>\n",
       "</div>"
      ],
      "text/plain": [
       "                      0                           1                       2  \\\n",
       "0  Fecha de Transacci�n   Referencia de Transacci�n   C�digo de Transacci�n   \n",
       "1            01/04/2025                    40118120                      3O   \n",
       "2            02/04/2025                    40206897                      3O   \n",
       "3            03/04/2025                    40200000                      CP   \n",
       "4            03/04/2025                    40306339                      3O   \n",
       "\n",
       "                                 3                       4  \\\n",
       "0       Descripci�n de Transacci�n   D�bito de Transacci�n   \n",
       "1   INTERESES                                         0.00   \n",
       "2   INTERESES                                         0.00   \n",
       "3   DLC*UBER RIDES\\       SAN JOSE                 3597.91   \n",
       "4   INTERESES                                         0.00   \n",
       "\n",
       "                         5                         6  \n",
       "0   Cr�dito de Transacci�n   Balance de Transacci�n   \n",
       "1                     6.39               2358669.83   \n",
       "2                     6.39               2358676.22   \n",
       "3                     0.00               2355078.31   \n",
       "4                     6.35               2355084.66   "
      ]
     },
     "execution_count": 6,
     "metadata": {},
     "output_type": "execute_result"
    }
   ],
   "source": [
    "pd.DataFrame(df0).head()\n"
   ]
  },
  {
   "cell_type": "code",
   "execution_count": 7,
   "metadata": {},
   "outputs": [],
   "source": [
    "infoTransacciones = df0"
   ]
  },
  {
   "cell_type": "markdown",
   "metadata": {},
   "source": [
    "### Nombrar columnas"
   ]
  },
  {
   "cell_type": "code",
   "execution_count": 8,
   "metadata": {},
   "outputs": [
    {
     "data": {
      "text/html": [
       "<div>\n",
       "<style scoped>\n",
       "    .dataframe tbody tr th:only-of-type {\n",
       "        vertical-align: middle;\n",
       "    }\n",
       "\n",
       "    .dataframe tbody tr th {\n",
       "        vertical-align: top;\n",
       "    }\n",
       "\n",
       "    .dataframe thead th {\n",
       "        text-align: right;\n",
       "    }\n",
       "</style>\n",
       "<table border=\"1\" class=\"dataframe\">\n",
       "  <thead>\n",
       "    <tr style=\"text-align: right;\">\n",
       "      <th></th>\n",
       "      <th>Fechas</th>\n",
       "      <th>Referencia</th>\n",
       "      <th>Código</th>\n",
       "      <th>Descripición</th>\n",
       "      <th>Débito</th>\n",
       "      <th>Crédito</th>\n",
       "      <th>Balance</th>\n",
       "    </tr>\n",
       "  </thead>\n",
       "  <tbody>\n",
       "    <tr>\n",
       "      <th>0</th>\n",
       "      <td>Fecha de Transacci�n</td>\n",
       "      <td>Referencia de Transacci�n</td>\n",
       "      <td>C�digo de Transacci�n</td>\n",
       "      <td>Descripci�n de Transacci�n</td>\n",
       "      <td>D�bito de Transacci�n</td>\n",
       "      <td>Cr�dito de Transacci�n</td>\n",
       "      <td>Balance de Transacci�n</td>\n",
       "    </tr>\n",
       "    <tr>\n",
       "      <th>1</th>\n",
       "      <td>01/04/2025</td>\n",
       "      <td>40118120</td>\n",
       "      <td>3O</td>\n",
       "      <td>INTERESES</td>\n",
       "      <td>0.00</td>\n",
       "      <td>6.39</td>\n",
       "      <td>2358669.83</td>\n",
       "    </tr>\n",
       "    <tr>\n",
       "      <th>2</th>\n",
       "      <td>02/04/2025</td>\n",
       "      <td>40206897</td>\n",
       "      <td>3O</td>\n",
       "      <td>INTERESES</td>\n",
       "      <td>0.00</td>\n",
       "      <td>6.39</td>\n",
       "      <td>2358676.22</td>\n",
       "    </tr>\n",
       "    <tr>\n",
       "      <th>3</th>\n",
       "      <td>03/04/2025</td>\n",
       "      <td>40200000</td>\n",
       "      <td>CP</td>\n",
       "      <td>DLC*UBER RIDES\\       SAN JOSE</td>\n",
       "      <td>3597.91</td>\n",
       "      <td>0.00</td>\n",
       "      <td>2355078.31</td>\n",
       "    </tr>\n",
       "    <tr>\n",
       "      <th>4</th>\n",
       "      <td>03/04/2025</td>\n",
       "      <td>40306339</td>\n",
       "      <td>3O</td>\n",
       "      <td>INTERESES</td>\n",
       "      <td>0.00</td>\n",
       "      <td>6.35</td>\n",
       "      <td>2355084.66</td>\n",
       "    </tr>\n",
       "  </tbody>\n",
       "</table>\n",
       "</div>"
      ],
      "text/plain": [
       "                 Fechas                  Referencia                  Código  \\\n",
       "0  Fecha de Transacci�n   Referencia de Transacci�n   C�digo de Transacci�n   \n",
       "1            01/04/2025                    40118120                      3O   \n",
       "2            02/04/2025                    40206897                      3O   \n",
       "3            03/04/2025                    40200000                      CP   \n",
       "4            03/04/2025                    40306339                      3O   \n",
       "\n",
       "                      Descripición                  Débito  \\\n",
       "0       Descripci�n de Transacci�n   D�bito de Transacci�n   \n",
       "1   INTERESES                                         0.00   \n",
       "2   INTERESES                                         0.00   \n",
       "3   DLC*UBER RIDES\\       SAN JOSE                 3597.91   \n",
       "4   INTERESES                                         0.00   \n",
       "\n",
       "                   Crédito                   Balance  \n",
       "0   Cr�dito de Transacci�n   Balance de Transacci�n   \n",
       "1                     6.39               2358669.83   \n",
       "2                     6.39               2358676.22   \n",
       "3                     0.00               2355078.31   \n",
       "4                     6.35               2355084.66   "
      ]
     },
     "execution_count": 8,
     "metadata": {},
     "output_type": "execute_result"
    }
   ],
   "source": [
    "infoTransacciones=pd.DataFrame(infoTransacciones)\n",
    "infoTransacciones.columns = [\"Fechas\", \"Referencia\", \"Código\", \"Descripición\", \"Débito\", \"Crédito\", \"Balance\"]\n",
    "infoTransacciones.head()"
   ]
  },
  {
   "cell_type": "markdown",
   "metadata": {},
   "source": [
    "### Eliminar primera fila"
   ]
  },
  {
   "cell_type": "code",
   "execution_count": 9,
   "metadata": {},
   "outputs": [
    {
     "data": {
      "text/html": [
       "<div>\n",
       "<style scoped>\n",
       "    .dataframe tbody tr th:only-of-type {\n",
       "        vertical-align: middle;\n",
       "    }\n",
       "\n",
       "    .dataframe tbody tr th {\n",
       "        vertical-align: top;\n",
       "    }\n",
       "\n",
       "    .dataframe thead th {\n",
       "        text-align: right;\n",
       "    }\n",
       "</style>\n",
       "<table border=\"1\" class=\"dataframe\">\n",
       "  <thead>\n",
       "    <tr style=\"text-align: right;\">\n",
       "      <th></th>\n",
       "      <th>Fechas</th>\n",
       "      <th>Referencia</th>\n",
       "      <th>Código</th>\n",
       "      <th>Descripición</th>\n",
       "      <th>Débito</th>\n",
       "      <th>Crédito</th>\n",
       "      <th>Balance</th>\n",
       "    </tr>\n",
       "  </thead>\n",
       "  <tbody>\n",
       "    <tr>\n",
       "      <th>1</th>\n",
       "      <td>01/04/2025</td>\n",
       "      <td>40118120</td>\n",
       "      <td>3O</td>\n",
       "      <td>INTERESES</td>\n",
       "      <td>0.00</td>\n",
       "      <td>6.39</td>\n",
       "      <td>2358669.83</td>\n",
       "    </tr>\n",
       "    <tr>\n",
       "      <th>2</th>\n",
       "      <td>02/04/2025</td>\n",
       "      <td>40206897</td>\n",
       "      <td>3O</td>\n",
       "      <td>INTERESES</td>\n",
       "      <td>0.00</td>\n",
       "      <td>6.39</td>\n",
       "      <td>2358676.22</td>\n",
       "    </tr>\n",
       "    <tr>\n",
       "      <th>3</th>\n",
       "      <td>03/04/2025</td>\n",
       "      <td>40200000</td>\n",
       "      <td>CP</td>\n",
       "      <td>DLC*UBER RIDES\\       SAN JOSE</td>\n",
       "      <td>3597.91</td>\n",
       "      <td>0.00</td>\n",
       "      <td>2355078.31</td>\n",
       "    </tr>\n",
       "    <tr>\n",
       "      <th>4</th>\n",
       "      <td>03/04/2025</td>\n",
       "      <td>40306339</td>\n",
       "      <td>3O</td>\n",
       "      <td>INTERESES</td>\n",
       "      <td>0.00</td>\n",
       "      <td>6.35</td>\n",
       "      <td>2355084.66</td>\n",
       "    </tr>\n",
       "    <tr>\n",
       "      <th>5</th>\n",
       "      <td>04/04/2025</td>\n",
       "      <td>40300000</td>\n",
       "      <td>CP</td>\n",
       "      <td>DLC*UBER RIDES\\       SAN JOSE</td>\n",
       "      <td>2690.00</td>\n",
       "      <td>0.00</td>\n",
       "      <td>2352394.66</td>\n",
       "    </tr>\n",
       "  </tbody>\n",
       "</table>\n",
       "</div>"
      ],
      "text/plain": [
       "       Fechas Referencia Código                     Descripición    Débito  \\\n",
       "1  01/04/2025   40118120     3O   INTERESES                           0.00   \n",
       "2  02/04/2025   40206897     3O   INTERESES                           0.00   \n",
       "3  03/04/2025   40200000     CP   DLC*UBER RIDES\\       SAN JOSE   3597.91   \n",
       "4  03/04/2025   40306339     3O   INTERESES                           0.00   \n",
       "5  04/04/2025   40300000     CP   DLC*UBER RIDES\\       SAN JOSE   2690.00   \n",
       "\n",
       "  Crédito       Balance  \n",
       "1    6.39   2358669.83   \n",
       "2    6.39   2358676.22   \n",
       "3    0.00   2355078.31   \n",
       "4    6.35   2355084.66   \n",
       "5    0.00   2352394.66   "
      ]
     },
     "execution_count": 9,
     "metadata": {},
     "output_type": "execute_result"
    }
   ],
   "source": [
    "infoTransacciones = infoTransacciones.drop(index=0)\n",
    "infoTransacciones.head()"
   ]
  },
  {
   "cell_type": "markdown",
   "metadata": {},
   "source": [
    "### Convertir a tipo de variable que interesa"
   ]
  },
  {
   "cell_type": "code",
   "execution_count": 10,
   "metadata": {},
   "outputs": [
    {
     "name": "stdout",
     "output_type": "stream",
     "text": [
      "<class 'pandas.core.frame.DataFrame'>\n",
      "RangeIndex: 26 entries, 1 to 26\n",
      "Data columns (total 7 columns):\n",
      " #   Column        Non-Null Count  Dtype \n",
      "---  ------        --------------  ----- \n",
      " 0   Fechas        26 non-null     object\n",
      " 1   Referencia    26 non-null     object\n",
      " 2   Código        26 non-null     object\n",
      " 3   Descripición  26 non-null     object\n",
      " 4   Débito        26 non-null     object\n",
      " 5   Crédito       26 non-null     object\n",
      " 6   Balance       26 non-null     object\n",
      "dtypes: object(7)\n",
      "memory usage: 1.6+ KB\n"
     ]
    }
   ],
   "source": [
    "infoTransacciones.info()"
   ]
  },
  {
   "cell_type": "code",
   "execution_count": 11,
   "metadata": {},
   "outputs": [],
   "source": [
    "infoTransacciones[\"Crédito\"]    = infoTransacciones[\"Crédito\"].astype(float)\n",
    "infoTransacciones[\"Débito\"]     = infoTransacciones[\"Débito\"].astype(float)\n",
    "infoTransacciones[\"Fechas\"]     = pd.to_datetime(infoTransacciones['Fechas'], format='%d/%m/%Y')"
   ]
  },
  {
   "cell_type": "code",
   "execution_count": 21,
   "metadata": {},
   "outputs": [
    {
     "data": {
      "text/html": [
       "<div>\n",
       "<style scoped>\n",
       "    .dataframe tbody tr th:only-of-type {\n",
       "        vertical-align: middle;\n",
       "    }\n",
       "\n",
       "    .dataframe tbody tr th {\n",
       "        vertical-align: top;\n",
       "    }\n",
       "\n",
       "    .dataframe thead th {\n",
       "        text-align: right;\n",
       "    }\n",
       "</style>\n",
       "<table border=\"1\" class=\"dataframe\">\n",
       "  <thead>\n",
       "    <tr style=\"text-align: right;\">\n",
       "      <th></th>\n",
       "      <th>Fechas</th>\n",
       "      <th>Referencia</th>\n",
       "      <th>Código</th>\n",
       "      <th>Descripición</th>\n",
       "      <th>Débito</th>\n",
       "      <th>Crédito</th>\n",
       "      <th>Balance</th>\n",
       "    </tr>\n",
       "  </thead>\n",
       "  <tbody>\n",
       "    <tr>\n",
       "      <th>1</th>\n",
       "      <td>01/04/2025</td>\n",
       "      <td>40118120</td>\n",
       "      <td>3O</td>\n",
       "      <td>INTERESES</td>\n",
       "      <td>0.00</td>\n",
       "      <td>6.39</td>\n",
       "      <td>2358669.83</td>\n",
       "    </tr>\n",
       "    <tr>\n",
       "      <th>2</th>\n",
       "      <td>02/04/2025</td>\n",
       "      <td>40206897</td>\n",
       "      <td>3O</td>\n",
       "      <td>INTERESES</td>\n",
       "      <td>0.00</td>\n",
       "      <td>6.39</td>\n",
       "      <td>2358676.22</td>\n",
       "    </tr>\n",
       "    <tr>\n",
       "      <th>3</th>\n",
       "      <td>03/04/2025</td>\n",
       "      <td>40200000</td>\n",
       "      <td>CP</td>\n",
       "      <td>DLC*UBER RIDES\\       SAN JOSE</td>\n",
       "      <td>3597.91</td>\n",
       "      <td>0.00</td>\n",
       "      <td>2355078.31</td>\n",
       "    </tr>\n",
       "    <tr>\n",
       "      <th>4</th>\n",
       "      <td>03/04/2025</td>\n",
       "      <td>40306339</td>\n",
       "      <td>3O</td>\n",
       "      <td>INTERESES</td>\n",
       "      <td>0.00</td>\n",
       "      <td>6.35</td>\n",
       "      <td>2355084.66</td>\n",
       "    </tr>\n",
       "    <tr>\n",
       "      <th>5</th>\n",
       "      <td>04/04/2025</td>\n",
       "      <td>40300000</td>\n",
       "      <td>CP</td>\n",
       "      <td>DLC*UBER RIDES\\       SAN JOSE</td>\n",
       "      <td>2690.00</td>\n",
       "      <td>0.00</td>\n",
       "      <td>2352394.66</td>\n",
       "    </tr>\n",
       "  </tbody>\n",
       "</table>\n",
       "</div>"
      ],
      "text/plain": [
       "       Fechas Referencia Código                     Descripición   Débito  \\\n",
       "1  01/04/2025   40118120     3O   INTERESES                          0.00   \n",
       "2  02/04/2025   40206897     3O   INTERESES                          0.00   \n",
       "3  03/04/2025   40200000     CP   DLC*UBER RIDES\\       SAN JOSE  3597.91   \n",
       "4  03/04/2025   40306339     3O   INTERESES                          0.00   \n",
       "5  04/04/2025   40300000     CP   DLC*UBER RIDES\\       SAN JOSE  2690.00   \n",
       "\n",
       "   Crédito       Balance  \n",
       "1     6.39   2358669.83   \n",
       "2     6.39   2358676.22   \n",
       "3     0.00   2355078.31   \n",
       "4     6.35   2355084.66   \n",
       "5     0.00   2352394.66   "
      ]
     },
     "execution_count": 21,
     "metadata": {},
     "output_type": "execute_result"
    }
   ],
   "source": [
    "infoTransacciones.head()"
   ]
  },
  {
   "cell_type": "code",
   "execution_count": 13,
   "metadata": {},
   "outputs": [
    {
     "name": "stdout",
     "output_type": "stream",
     "text": [
      "<class 'pandas.core.frame.DataFrame'>\n",
      "RangeIndex: 26 entries, 1 to 26\n",
      "Data columns (total 7 columns):\n",
      " #   Column        Non-Null Count  Dtype         \n",
      "---  ------        --------------  -----         \n",
      " 0   Fechas        26 non-null     datetime64[ns]\n",
      " 1   Referencia    26 non-null     object        \n",
      " 2   Código        26 non-null     object        \n",
      " 3   Descripición  26 non-null     object        \n",
      " 4   Débito        26 non-null     float64       \n",
      " 5   Crédito       26 non-null     float64       \n",
      " 6   Balance       26 non-null     object        \n",
      "dtypes: datetime64[ns](1), float64(2), object(4)\n",
      "memory usage: 1.6+ KB\n"
     ]
    }
   ],
   "source": [
    "infoTransacciones.info()\n"
   ]
  },
  {
   "cell_type": "markdown",
   "metadata": {},
   "source": [
    "### Aporte neto"
   ]
  },
  {
   "cell_type": "code",
   "execution_count": 14,
   "metadata": {},
   "outputs": [
    {
     "data": {
      "text/html": [
       "<div>\n",
       "<style scoped>\n",
       "    .dataframe tbody tr th:only-of-type {\n",
       "        vertical-align: middle;\n",
       "    }\n",
       "\n",
       "    .dataframe tbody tr th {\n",
       "        vertical-align: top;\n",
       "    }\n",
       "\n",
       "    .dataframe thead th {\n",
       "        text-align: right;\n",
       "    }\n",
       "</style>\n",
       "<table border=\"1\" class=\"dataframe\">\n",
       "  <thead>\n",
       "    <tr style=\"text-align: right;\">\n",
       "      <th></th>\n",
       "      <th>Fechas</th>\n",
       "      <th>Referencia</th>\n",
       "      <th>Código</th>\n",
       "      <th>Descripición</th>\n",
       "      <th>Débito</th>\n",
       "      <th>Crédito</th>\n",
       "      <th>Balance</th>\n",
       "      <th>Aporte neto</th>\n",
       "    </tr>\n",
       "  </thead>\n",
       "  <tbody>\n",
       "    <tr>\n",
       "      <th>1</th>\n",
       "      <td>2025-01-04</td>\n",
       "      <td>40118120</td>\n",
       "      <td>3O</td>\n",
       "      <td>INTERESES</td>\n",
       "      <td>0.00</td>\n",
       "      <td>6.39</td>\n",
       "      <td>2358669.83</td>\n",
       "      <td>6.39</td>\n",
       "    </tr>\n",
       "    <tr>\n",
       "      <th>2</th>\n",
       "      <td>2025-02-04</td>\n",
       "      <td>40206897</td>\n",
       "      <td>3O</td>\n",
       "      <td>INTERESES</td>\n",
       "      <td>0.00</td>\n",
       "      <td>6.39</td>\n",
       "      <td>2358676.22</td>\n",
       "      <td>6.39</td>\n",
       "    </tr>\n",
       "    <tr>\n",
       "      <th>3</th>\n",
       "      <td>2025-03-04</td>\n",
       "      <td>40200000</td>\n",
       "      <td>CP</td>\n",
       "      <td>DLC*UBER RIDES\\       SAN JOSE</td>\n",
       "      <td>3597.91</td>\n",
       "      <td>0.00</td>\n",
       "      <td>2355078.31</td>\n",
       "      <td>-3597.91</td>\n",
       "    </tr>\n",
       "    <tr>\n",
       "      <th>4</th>\n",
       "      <td>2025-03-04</td>\n",
       "      <td>40306339</td>\n",
       "      <td>3O</td>\n",
       "      <td>INTERESES</td>\n",
       "      <td>0.00</td>\n",
       "      <td>6.35</td>\n",
       "      <td>2355084.66</td>\n",
       "      <td>6.35</td>\n",
       "    </tr>\n",
       "    <tr>\n",
       "      <th>5</th>\n",
       "      <td>2025-04-04</td>\n",
       "      <td>40300000</td>\n",
       "      <td>CP</td>\n",
       "      <td>DLC*UBER RIDES\\       SAN JOSE</td>\n",
       "      <td>2690.00</td>\n",
       "      <td>0.00</td>\n",
       "      <td>2352394.66</td>\n",
       "      <td>-2690.00</td>\n",
       "    </tr>\n",
       "    <tr>\n",
       "      <th>6</th>\n",
       "      <td>2025-04-04</td>\n",
       "      <td>40300000</td>\n",
       "      <td>CP</td>\n",
       "      <td>DLC*UBER RIDES\\       SAN JOSE</td>\n",
       "      <td>312.80</td>\n",
       "      <td>0.00</td>\n",
       "      <td>2352081.86</td>\n",
       "      <td>-312.80</td>\n",
       "    </tr>\n",
       "    <tr>\n",
       "      <th>7</th>\n",
       "      <td>2025-04-04</td>\n",
       "      <td>40300000</td>\n",
       "      <td>CP</td>\n",
       "      <td>DLC*UBER RIDES\\       SAN JOSE</td>\n",
       "      <td>2964.41</td>\n",
       "      <td>0.00</td>\n",
       "      <td>2349117.45</td>\n",
       "      <td>-2964.41</td>\n",
       "    </tr>\n",
       "    <tr>\n",
       "      <th>8</th>\n",
       "      <td>2025-04-04</td>\n",
       "      <td>40411131</td>\n",
       "      <td>3O</td>\n",
       "      <td>INTERESES</td>\n",
       "      <td>0.00</td>\n",
       "      <td>6.33</td>\n",
       "      <td>2349123.78</td>\n",
       "      <td>6.33</td>\n",
       "    </tr>\n",
       "    <tr>\n",
       "      <th>9</th>\n",
       "      <td>2025-05-04</td>\n",
       "      <td>40400000</td>\n",
       "      <td>CP</td>\n",
       "      <td>DLC*UBER RIDES\\       SAN JOSE</td>\n",
       "      <td>3024.87</td>\n",
       "      <td>0.00</td>\n",
       "      <td>2346098.91</td>\n",
       "      <td>-3024.87</td>\n",
       "    </tr>\n",
       "    <tr>\n",
       "      <th>10</th>\n",
       "      <td>2025-05-04</td>\n",
       "      <td>40505361</td>\n",
       "      <td>3O</td>\n",
       "      <td>INTERESES</td>\n",
       "      <td>0.00</td>\n",
       "      <td>6.34</td>\n",
       "      <td>2346105.25</td>\n",
       "      <td>6.34</td>\n",
       "    </tr>\n",
       "    <tr>\n",
       "      <th>11</th>\n",
       "      <td>2025-06-04</td>\n",
       "      <td>40500000</td>\n",
       "      <td>CP</td>\n",
       "      <td>IVA -UBER   *TRIP</td>\n",
       "      <td>188.04</td>\n",
       "      <td>0.00</td>\n",
       "      <td>2345917.21</td>\n",
       "      <td>-188.04</td>\n",
       "    </tr>\n",
       "    <tr>\n",
       "      <th>12</th>\n",
       "      <td>2025-06-04</td>\n",
       "      <td>40500000</td>\n",
       "      <td>CP</td>\n",
       "      <td>DLC*UBER EATS\\        SAN JOSE</td>\n",
       "      <td>11917.62</td>\n",
       "      <td>0.00</td>\n",
       "      <td>2333999.59</td>\n",
       "      <td>-11917.62</td>\n",
       "    </tr>\n",
       "    <tr>\n",
       "      <th>13</th>\n",
       "      <td>2025-06-04</td>\n",
       "      <td>40500000</td>\n",
       "      <td>CP</td>\n",
       "      <td>DLC*UBER RIDES\\       SAN JOSE</td>\n",
       "      <td>870.19</td>\n",
       "      <td>0.00</td>\n",
       "      <td>2333129.40</td>\n",
       "      <td>-870.19</td>\n",
       "    </tr>\n",
       "    <tr>\n",
       "      <th>14</th>\n",
       "      <td>2025-06-04</td>\n",
       "      <td>40500000</td>\n",
       "      <td>CP</td>\n",
       "      <td>UBER   *TRIP          HELP.UBE</td>\n",
       "      <td>1446.49</td>\n",
       "      <td>0.00</td>\n",
       "      <td>2331682.91</td>\n",
       "      <td>-1446.49</td>\n",
       "    </tr>\n",
       "    <tr>\n",
       "      <th>15</th>\n",
       "      <td>2025-06-04</td>\n",
       "      <td>40699370</td>\n",
       "      <td>3O</td>\n",
       "      <td>INTERESES</td>\n",
       "      <td>0.00</td>\n",
       "      <td>6.17</td>\n",
       "      <td>2331689.08</td>\n",
       "      <td>6.17</td>\n",
       "    </tr>\n",
       "    <tr>\n",
       "      <th>16</th>\n",
       "      <td>2025-07-04</td>\n",
       "      <td>40796077</td>\n",
       "      <td>3O</td>\n",
       "      <td>INTERESES</td>\n",
       "      <td>0.00</td>\n",
       "      <td>6.32</td>\n",
       "      <td>2331695.40</td>\n",
       "      <td>6.32</td>\n",
       "    </tr>\n",
       "    <tr>\n",
       "      <th>17</th>\n",
       "      <td>2025-08-04</td>\n",
       "      <td>40700000</td>\n",
       "      <td>CP</td>\n",
       "      <td>COURSERA.ORG\\         MOUNTAIN</td>\n",
       "      <td>25382.00</td>\n",
       "      <td>0.00</td>\n",
       "      <td>2306313.40</td>\n",
       "      <td>-25382.00</td>\n",
       "    </tr>\n",
       "    <tr>\n",
       "      <th>18</th>\n",
       "      <td>2025-08-04</td>\n",
       "      <td>40890279</td>\n",
       "      <td>3O</td>\n",
       "      <td>INTERESES</td>\n",
       "      <td>0.00</td>\n",
       "      <td>6.18</td>\n",
       "      <td>2306319.58</td>\n",
       "      <td>6.18</td>\n",
       "    </tr>\n",
       "    <tr>\n",
       "      <th>19</th>\n",
       "      <td>2025-09-04</td>\n",
       "      <td>40987252</td>\n",
       "      <td>3O</td>\n",
       "      <td>INTERESES</td>\n",
       "      <td>0.00</td>\n",
       "      <td>6.25</td>\n",
       "      <td>2306325.83</td>\n",
       "      <td>6.25</td>\n",
       "    </tr>\n",
       "    <tr>\n",
       "      <th>20</th>\n",
       "      <td>2025-10-04</td>\n",
       "      <td>40900000</td>\n",
       "      <td>CP</td>\n",
       "      <td>DLC*UBER RIDES\\       SAN JOSE</td>\n",
       "      <td>1717.68</td>\n",
       "      <td>0.00</td>\n",
       "      <td>2304608.15</td>\n",
       "      <td>-1717.68</td>\n",
       "    </tr>\n",
       "    <tr>\n",
       "      <th>21</th>\n",
       "      <td>2025-10-04</td>\n",
       "      <td>40900000</td>\n",
       "      <td>CP</td>\n",
       "      <td>DLC*UBER RIDES\\       SAN JOSE</td>\n",
       "      <td>3963.88</td>\n",
       "      <td>0.00</td>\n",
       "      <td>2300644.27</td>\n",
       "      <td>-3963.88</td>\n",
       "    </tr>\n",
       "    <tr>\n",
       "      <th>22</th>\n",
       "      <td>2025-10-04</td>\n",
       "      <td>40900000</td>\n",
       "      <td>CP</td>\n",
       "      <td>DLC*UBER RIDES\\       SAN JOSE</td>\n",
       "      <td>2701.52</td>\n",
       "      <td>0.00</td>\n",
       "      <td>2297942.75</td>\n",
       "      <td>-2701.52</td>\n",
       "    </tr>\n",
       "    <tr>\n",
       "      <th>23</th>\n",
       "      <td>2025-10-04</td>\n",
       "      <td>40900248</td>\n",
       "      <td>CP</td>\n",
       "      <td>HAMBURGER FACTORY LA URUCA</td>\n",
       "      <td>5950.00</td>\n",
       "      <td>0.00</td>\n",
       "      <td>2291992.75</td>\n",
       "      <td>-5950.00</td>\n",
       "    </tr>\n",
       "    <tr>\n",
       "      <th>24</th>\n",
       "      <td>2025-10-04</td>\n",
       "      <td>41003275</td>\n",
       "      <td>3O</td>\n",
       "      <td>INTERESES</td>\n",
       "      <td>0.00</td>\n",
       "      <td>6.13</td>\n",
       "      <td>2291998.88</td>\n",
       "      <td>6.13</td>\n",
       "    </tr>\n",
       "    <tr>\n",
       "      <th>25</th>\n",
       "      <td>2025-11-04</td>\n",
       "      <td>41000000</td>\n",
       "      <td>CP</td>\n",
       "      <td>DLC*UBER RIDES\\       SAN JOSE</td>\n",
       "      <td>1354.92</td>\n",
       "      <td>0.00</td>\n",
       "      <td>2290643.96</td>\n",
       "      <td>-1354.92</td>\n",
       "    </tr>\n",
       "    <tr>\n",
       "      <th>26</th>\n",
       "      <td>2025-11-04</td>\n",
       "      <td>41000248</td>\n",
       "      <td>CP</td>\n",
       "      <td>SODA DELICIAS TROPICALES</td>\n",
       "      <td>1500.00</td>\n",
       "      <td>0.00</td>\n",
       "      <td>2289143.96</td>\n",
       "      <td>-1500.00</td>\n",
       "    </tr>\n",
       "  </tbody>\n",
       "</table>\n",
       "</div>"
      ],
      "text/plain": [
       "       Fechas Referencia Código                     Descripición    Débito  \\\n",
       "1  2025-01-04   40118120     3O   INTERESES                           0.00   \n",
       "2  2025-02-04   40206897     3O   INTERESES                           0.00   \n",
       "3  2025-03-04   40200000     CP   DLC*UBER RIDES\\       SAN JOSE   3597.91   \n",
       "4  2025-03-04   40306339     3O   INTERESES                           0.00   \n",
       "5  2025-04-04   40300000     CP   DLC*UBER RIDES\\       SAN JOSE   2690.00   \n",
       "6  2025-04-04   40300000     CP   DLC*UBER RIDES\\       SAN JOSE    312.80   \n",
       "7  2025-04-04   40300000     CP   DLC*UBER RIDES\\       SAN JOSE   2964.41   \n",
       "8  2025-04-04   40411131     3O   INTERESES                           0.00   \n",
       "9  2025-05-04   40400000     CP   DLC*UBER RIDES\\       SAN JOSE   3024.87   \n",
       "10 2025-05-04   40505361     3O   INTERESES                           0.00   \n",
       "11 2025-06-04   40500000     CP   IVA -UBER   *TRIP                 188.04   \n",
       "12 2025-06-04   40500000     CP   DLC*UBER EATS\\        SAN JOSE  11917.62   \n",
       "13 2025-06-04   40500000     CP   DLC*UBER RIDES\\       SAN JOSE    870.19   \n",
       "14 2025-06-04   40500000     CP   UBER   *TRIP          HELP.UBE   1446.49   \n",
       "15 2025-06-04   40699370     3O   INTERESES                           0.00   \n",
       "16 2025-07-04   40796077     3O   INTERESES                           0.00   \n",
       "17 2025-08-04   40700000     CP   COURSERA.ORG\\         MOUNTAIN  25382.00   \n",
       "18 2025-08-04   40890279     3O   INTERESES                           0.00   \n",
       "19 2025-09-04   40987252     3O   INTERESES                           0.00   \n",
       "20 2025-10-04   40900000     CP   DLC*UBER RIDES\\       SAN JOSE   1717.68   \n",
       "21 2025-10-04   40900000     CP   DLC*UBER RIDES\\       SAN JOSE   3963.88   \n",
       "22 2025-10-04   40900000     CP   DLC*UBER RIDES\\       SAN JOSE   2701.52   \n",
       "23 2025-10-04   40900248     CP   HAMBURGER FACTORY LA URUCA       5950.00   \n",
       "24 2025-10-04   41003275     3O   INTERESES                           0.00   \n",
       "25 2025-11-04   41000000     CP   DLC*UBER RIDES\\       SAN JOSE   1354.92   \n",
       "26 2025-11-04   41000248     CP   SODA DELICIAS TROPICALES         1500.00   \n",
       "\n",
       "    Crédito       Balance  Aporte neto  \n",
       "1      6.39   2358669.83          6.39  \n",
       "2      6.39   2358676.22          6.39  \n",
       "3      0.00   2355078.31      -3597.91  \n",
       "4      6.35   2355084.66          6.35  \n",
       "5      0.00   2352394.66      -2690.00  \n",
       "6      0.00   2352081.86       -312.80  \n",
       "7      0.00   2349117.45      -2964.41  \n",
       "8      6.33   2349123.78          6.33  \n",
       "9      0.00   2346098.91      -3024.87  \n",
       "10     6.34   2346105.25          6.34  \n",
       "11     0.00   2345917.21       -188.04  \n",
       "12     0.00   2333999.59     -11917.62  \n",
       "13     0.00   2333129.40       -870.19  \n",
       "14     0.00   2331682.91      -1446.49  \n",
       "15     6.17   2331689.08          6.17  \n",
       "16     6.32   2331695.40          6.32  \n",
       "17     0.00   2306313.40     -25382.00  \n",
       "18     6.18   2306319.58          6.18  \n",
       "19     6.25   2306325.83          6.25  \n",
       "20     0.00   2304608.15      -1717.68  \n",
       "21     0.00   2300644.27      -3963.88  \n",
       "22     0.00   2297942.75      -2701.52  \n",
       "23     0.00   2291992.75      -5950.00  \n",
       "24     6.13   2291998.88          6.13  \n",
       "25     0.00   2290643.96      -1354.92  \n",
       "26     0.00   2289143.96      -1500.00  "
      ]
     },
     "execution_count": 14,
     "metadata": {},
     "output_type": "execute_result"
    }
   ],
   "source": [
    "infoTransacciones[\"Aporte neto\"] = infoTransacciones[\"Crédito\"]- infoTransacciones[\"Débito\"]\n",
    "infoTransacciones"
   ]
  },
  {
   "cell_type": "markdown",
   "metadata": {},
   "source": [
    "# Usar librería:"
   ]
  },
  {
   "cell_type": "code",
   "execution_count": 1,
   "metadata": {},
   "outputs": [
    {
     "name": "stderr",
     "output_type": "stream",
     "text": [
      "2025-04-13 22:31:39.355 WARNING streamlit.runtime.scriptrunner_utils.script_run_context: Thread 'MainThread': missing ScriptRunContext! This warning can be ignored when running in bare mode.\n",
      "2025-04-13 22:31:40.457 \n",
      "  \u001b[33m\u001b[1mWarning:\u001b[0m to view this Streamlit app on a browser, run it with the following\n",
      "  command:\n",
      "\n",
      "    streamlit run c:\\ProgramData\\anaconda3\\Lib\\site-packages\\ipykernel_launcher.py [ARGUMENTS]\n",
      "2025-04-13 22:31:40.458 Thread 'MainThread': missing ScriptRunContext! This warning can be ignored when running in bare mode.\n",
      "2025-04-13 22:31:40.460 Thread 'MainThread': missing ScriptRunContext! This warning can be ignored when running in bare mode.\n",
      "2025-04-13 22:31:40.931 Thread 'MainThread': missing ScriptRunContext! This warning can be ignored when running in bare mode.\n",
      "2025-04-13 22:31:40.932 Thread 'MainThread': missing ScriptRunContext! This warning can be ignored when running in bare mode.\n",
      "2025-04-13 22:31:40.955 No runtime found, using MemoryCacheStorageManager\n",
      "2025-04-13 22:31:40.959 No runtime found, using MemoryCacheStorageManager\n",
      "2025-04-13 22:31:40.961 Thread 'MainThread': missing ScriptRunContext! This warning can be ignored when running in bare mode.\n",
      "2025-04-13 22:31:40.962 Thread 'MainThread': missing ScriptRunContext! This warning can be ignored when running in bare mode.\n",
      "2025-04-13 22:31:40.963 Thread 'MainThread': missing ScriptRunContext! This warning can be ignored when running in bare mode.\n",
      "2025-04-13 22:31:41.215 Thread 'MainThread': missing ScriptRunContext! This warning can be ignored when running in bare mode.\n",
      "2025-04-13 22:31:41.216 Thread 'MainThread': missing ScriptRunContext! This warning can be ignored when running in bare mode.\n",
      "2025-04-13 22:31:41.220 No runtime found, using MemoryCacheStorageManager\n",
      "2025-04-13 22:31:41.222 Thread 'MainThread': missing ScriptRunContext! This warning can be ignored when running in bare mode.\n",
      "2025-04-13 22:31:41.223 Thread 'MainThread': missing ScriptRunContext! This warning can be ignored when running in bare mode.\n",
      "2025-04-13 22:31:41.224 Thread 'MainThread': missing ScriptRunContext! This warning can be ignored when running in bare mode.\n",
      "2025-04-13 22:31:41.328 Thread 'MainThread': missing ScriptRunContext! This warning can be ignored when running in bare mode.\n",
      "2025-04-13 22:31:41.329 Thread 'MainThread': missing ScriptRunContext! This warning can be ignored when running in bare mode.\n"
     ]
    },
    {
     "data": {
      "text/html": [
       "<div>\n",
       "<style scoped>\n",
       "    .dataframe tbody tr th:only-of-type {\n",
       "        vertical-align: middle;\n",
       "    }\n",
       "\n",
       "    .dataframe tbody tr th {\n",
       "        vertical-align: top;\n",
       "    }\n",
       "\n",
       "    .dataframe thead th {\n",
       "        text-align: right;\n",
       "    }\n",
       "</style>\n",
       "<table border=\"1\" class=\"dataframe\">\n",
       "  <thead>\n",
       "    <tr style=\"text-align: right;\">\n",
       "      <th></th>\n",
       "      <th>Fechas</th>\n",
       "      <th>Referencia</th>\n",
       "      <th>Código</th>\n",
       "      <th>Descripcion</th>\n",
       "      <th>Débito</th>\n",
       "      <th>Crédito</th>\n",
       "      <th>Balance</th>\n",
       "      <th>Aporte neto</th>\n",
       "    </tr>\n",
       "    <tr>\n",
       "      <th>id</th>\n",
       "      <th></th>\n",
       "      <th></th>\n",
       "      <th></th>\n",
       "      <th></th>\n",
       "      <th></th>\n",
       "      <th></th>\n",
       "      <th></th>\n",
       "      <th></th>\n",
       "    </tr>\n",
       "  </thead>\n",
       "  <tbody>\n",
       "    <tr>\n",
       "      <th>1</th>\n",
       "      <td>2025-01-01</td>\n",
       "      <td>MiEjemplo</td>\n",
       "      <td>132718</td>\n",
       "      <td>Esto es un ejemplo</td>\n",
       "      <td>1327.18</td>\n",
       "      <td>0.00</td>\n",
       "      <td>0.0</td>\n",
       "      <td>-1327.18</td>\n",
       "    </tr>\n",
       "    <tr>\n",
       "      <th>2</th>\n",
       "      <td>2025-03-01</td>\n",
       "      <td>22800000</td>\n",
       "      <td>CP</td>\n",
       "      <td>DLC*UBER RIDES\\       SAN JOSE</td>\n",
       "      <td>1526.32</td>\n",
       "      <td>0.00</td>\n",
       "      <td>2234837.8</td>\n",
       "      <td>-1526.32</td>\n",
       "    </tr>\n",
       "    <tr>\n",
       "      <th>3</th>\n",
       "      <td>2025-03-01</td>\n",
       "      <td>30140889</td>\n",
       "      <td>3O</td>\n",
       "      <td>INTERESES</td>\n",
       "      <td>0.00</td>\n",
       "      <td>6.04</td>\n",
       "      <td>2234844.0</td>\n",
       "      <td>6.04</td>\n",
       "    </tr>\n",
       "    <tr>\n",
       "      <th>4</th>\n",
       "      <td>2025-03-02</td>\n",
       "      <td>30100000</td>\n",
       "      <td>CP</td>\n",
       "      <td>DLC*UBER RIDES\\       SAN JOSE</td>\n",
       "      <td>1470.86</td>\n",
       "      <td>0.00</td>\n",
       "      <td>2233373.0</td>\n",
       "      <td>-1470.86</td>\n",
       "    </tr>\n",
       "    <tr>\n",
       "      <th>5</th>\n",
       "      <td>2025-03-02</td>\n",
       "      <td>30230565</td>\n",
       "      <td>3O</td>\n",
       "      <td>INTERESES</td>\n",
       "      <td>0.00</td>\n",
       "      <td>6.04</td>\n",
       "      <td>2233379.0</td>\n",
       "      <td>6.04</td>\n",
       "    </tr>\n",
       "  </tbody>\n",
       "</table>\n",
       "</div>"
      ],
      "text/plain": [
       "        Fechas Referencia  Código                      Descripcion   Débito  \\\n",
       "id                                                                            \n",
       "1   2025-01-01  MiEjemplo  132718               Esto es un ejemplo  1327.18   \n",
       "2   2025-03-01   22800000      CP   DLC*UBER RIDES\\       SAN JOSE  1526.32   \n",
       "3   2025-03-01   30140889      3O   INTERESES                          0.00   \n",
       "4   2025-03-02   30100000      CP   DLC*UBER RIDES\\       SAN JOSE  1470.86   \n",
       "5   2025-03-02   30230565      3O   INTERESES                          0.00   \n",
       "\n",
       "    Crédito    Balance  Aporte neto  \n",
       "id                                   \n",
       "1      0.00        0.0     -1327.18  \n",
       "2      0.00  2234837.8     -1526.32  \n",
       "3      6.04  2234844.0         6.04  \n",
       "4      0.00  2233373.0     -1470.86  \n",
       "5      6.04  2233379.0         6.04  "
      ]
     },
     "execution_count": 1,
     "metadata": {},
     "output_type": "execute_result"
    }
   ],
   "source": [
    "\n",
    "from procesarDatos import *\n",
    "path=\"misTransacciones.csv\"\n",
    "l=datos()\n",
    "l.df.head()\n"
   ]
  },
  {
   "cell_type": "code",
   "execution_count": 8,
   "metadata": {},
   "outputs": [
    {
     "data": {
      "text/html": [
       "<div>\n",
       "<style scoped>\n",
       "    .dataframe tbody tr th:only-of-type {\n",
       "        vertical-align: middle;\n",
       "    }\n",
       "\n",
       "    .dataframe tbody tr th {\n",
       "        vertical-align: top;\n",
       "    }\n",
       "\n",
       "    .dataframe thead th {\n",
       "        text-align: right;\n",
       "    }\n",
       "</style>\n",
       "<table border=\"1\" class=\"dataframe\">\n",
       "  <thead>\n",
       "    <tr style=\"text-align: right;\">\n",
       "      <th></th>\n",
       "      <th>Débito</th>\n",
       "    </tr>\n",
       "    <tr>\n",
       "      <th>id</th>\n",
       "      <th></th>\n",
       "    </tr>\n",
       "  </thead>\n",
       "  <tbody>\n",
       "    <tr>\n",
       "      <th>1</th>\n",
       "      <td>1327.18</td>\n",
       "    </tr>\n",
       "    <tr>\n",
       "      <th>2</th>\n",
       "      <td>1526.32</td>\n",
       "    </tr>\n",
       "    <tr>\n",
       "      <th>4</th>\n",
       "      <td>1470.86</td>\n",
       "    </tr>\n",
       "    <tr>\n",
       "      <th>6</th>\n",
       "      <td>30889.18</td>\n",
       "    </tr>\n",
       "    <tr>\n",
       "      <th>7</th>\n",
       "      <td>1416.46</td>\n",
       "    </tr>\n",
       "    <tr>\n",
       "      <th>9</th>\n",
       "      <td>8075.29</td>\n",
       "    </tr>\n",
       "    <tr>\n",
       "      <th>14</th>\n",
       "      <td>1403.98</td>\n",
       "    </tr>\n",
       "    <tr>\n",
       "      <th>18</th>\n",
       "      <td>1773.45</td>\n",
       "    </tr>\n",
       "    <tr>\n",
       "      <th>20</th>\n",
       "      <td>21000.00</td>\n",
       "    </tr>\n",
       "    <tr>\n",
       "      <th>21</th>\n",
       "      <td>21500.00</td>\n",
       "    </tr>\n",
       "    <tr>\n",
       "      <th>22</th>\n",
       "      <td>73632.87</td>\n",
       "    </tr>\n",
       "    <tr>\n",
       "      <th>24</th>\n",
       "      <td>1501.33</td>\n",
       "    </tr>\n",
       "    <tr>\n",
       "      <th>25</th>\n",
       "      <td>3614.93</td>\n",
       "    </tr>\n",
       "    <tr>\n",
       "      <th>26</th>\n",
       "      <td>2709.25</td>\n",
       "    </tr>\n",
       "    <tr>\n",
       "      <th>27</th>\n",
       "      <td>100000.00</td>\n",
       "    </tr>\n",
       "    <tr>\n",
       "      <th>32</th>\n",
       "      <td>73632.87</td>\n",
       "    </tr>\n",
       "    <tr>\n",
       "      <th>34</th>\n",
       "      <td>48500.00</td>\n",
       "    </tr>\n",
       "    <tr>\n",
       "      <th>38</th>\n",
       "      <td>4199.81</td>\n",
       "    </tr>\n",
       "    <tr>\n",
       "      <th>39</th>\n",
       "      <td>2594.97</td>\n",
       "    </tr>\n",
       "    <tr>\n",
       "      <th>41</th>\n",
       "      <td>5600.00</td>\n",
       "    </tr>\n",
       "    <tr>\n",
       "      <th>43</th>\n",
       "      <td>2481.25</td>\n",
       "    </tr>\n",
       "    <tr>\n",
       "      <th>45</th>\n",
       "      <td>1265.94</td>\n",
       "    </tr>\n",
       "    <tr>\n",
       "      <th>46</th>\n",
       "      <td>5160.00</td>\n",
       "    </tr>\n",
       "    <tr>\n",
       "      <th>47</th>\n",
       "      <td>35.00</td>\n",
       "    </tr>\n",
       "    <tr>\n",
       "      <th>48</th>\n",
       "      <td>2375.00</td>\n",
       "    </tr>\n",
       "    <tr>\n",
       "      <th>50</th>\n",
       "      <td>3625.20</td>\n",
       "    </tr>\n",
       "    <tr>\n",
       "      <th>51</th>\n",
       "      <td>992.35</td>\n",
       "    </tr>\n",
       "    <tr>\n",
       "      <th>52</th>\n",
       "      <td>250.00</td>\n",
       "    </tr>\n",
       "    <tr>\n",
       "      <th>53</th>\n",
       "      <td>14933.00</td>\n",
       "    </tr>\n",
       "    <tr>\n",
       "      <th>54</th>\n",
       "      <td>8075.29</td>\n",
       "    </tr>\n",
       "    <tr>\n",
       "      <th>56</th>\n",
       "      <td>6600.00</td>\n",
       "    </tr>\n",
       "    <tr>\n",
       "      <th>59</th>\n",
       "      <td>7000.00</td>\n",
       "    </tr>\n",
       "    <tr>\n",
       "      <th>60</th>\n",
       "      <td>1747.28</td>\n",
       "    </tr>\n",
       "    <tr>\n",
       "      <th>61</th>\n",
       "      <td>2692.48</td>\n",
       "    </tr>\n",
       "    <tr>\n",
       "      <th>62</th>\n",
       "      <td>9000.00</td>\n",
       "    </tr>\n",
       "    <tr>\n",
       "      <th>64</th>\n",
       "      <td>881.00</td>\n",
       "    </tr>\n",
       "    <tr>\n",
       "      <th>67</th>\n",
       "      <td>4000.00</td>\n",
       "    </tr>\n",
       "    <tr>\n",
       "      <th>69</th>\n",
       "      <td>32508.53</td>\n",
       "    </tr>\n",
       "  </tbody>\n",
       "</table>\n",
       "</div>"
      ],
      "text/plain": [
       "       Débito\n",
       "id           \n",
       "1     1327.18\n",
       "2     1526.32\n",
       "4     1470.86\n",
       "6    30889.18\n",
       "7     1416.46\n",
       "9     8075.29\n",
       "14    1403.98\n",
       "18    1773.45\n",
       "20   21000.00\n",
       "21   21500.00\n",
       "22   73632.87\n",
       "24    1501.33\n",
       "25    3614.93\n",
       "26    2709.25\n",
       "27  100000.00\n",
       "32   73632.87\n",
       "34   48500.00\n",
       "38    4199.81\n",
       "39    2594.97\n",
       "41    5600.00\n",
       "43    2481.25\n",
       "45    1265.94\n",
       "46    5160.00\n",
       "47      35.00\n",
       "48    2375.00\n",
       "50    3625.20\n",
       "51     992.35\n",
       "52     250.00\n",
       "53   14933.00\n",
       "54    8075.29\n",
       "56    6600.00\n",
       "59    7000.00\n",
       "60    1747.28\n",
       "61    2692.48\n",
       "62    9000.00\n",
       "64     881.00\n",
       "67    4000.00\n",
       "69   32508.53"
      ]
     },
     "execution_count": 8,
     "metadata": {},
     "output_type": "execute_result"
    }
   ],
   "source": [
    "col=\"Débito\"\n",
    "q = \"Débito !=0\" if (col == \"Débito\") else \"Crédito !=0\"\n",
    "l.df[[col]].query(q)"
   ]
  },
  {
   "cell_type": "code",
   "execution_count": 2,
   "metadata": {},
   "outputs": [
    {
     "data": {
      "text/html": [
       "<style type=\"text/css\">\n",
       "#T_df8ab_row0_col7, #T_df8ab_row1_col7, #T_df8ab_row3_col7, #T_df8ab_row5_col7, #T_df8ab_row6_col7, #T_df8ab_row8_col7, #T_df8ab_row13_col7, #T_df8ab_row17_col7, #T_df8ab_row19_col7, #T_df8ab_row20_col7, #T_df8ab_row21_col7, #T_df8ab_row23_col7, #T_df8ab_row24_col7, #T_df8ab_row25_col7, #T_df8ab_row26_col7, #T_df8ab_row31_col7, #T_df8ab_row33_col7, #T_df8ab_row37_col7, #T_df8ab_row38_col7, #T_df8ab_row40_col7, #T_df8ab_row42_col7, #T_df8ab_row44_col7, #T_df8ab_row45_col7, #T_df8ab_row46_col7, #T_df8ab_row47_col7, #T_df8ab_row49_col7, #T_df8ab_row50_col7, #T_df8ab_row51_col7, #T_df8ab_row52_col7, #T_df8ab_row53_col7, #T_df8ab_row55_col7, #T_df8ab_row58_col7, #T_df8ab_row59_col7, #T_df8ab_row60_col7, #T_df8ab_row61_col7, #T_df8ab_row63_col7, #T_df8ab_row66_col7, #T_df8ab_row68_col7 {\n",
       "  background-color: red;\n",
       "  font-weight: bold;\n",
       "}\n",
       "#T_df8ab_row2_col7, #T_df8ab_row4_col7, #T_df8ab_row7_col7, #T_df8ab_row9_col7, #T_df8ab_row10_col7, #T_df8ab_row11_col7, #T_df8ab_row12_col7, #T_df8ab_row14_col7, #T_df8ab_row15_col7, #T_df8ab_row16_col7, #T_df8ab_row18_col7, #T_df8ab_row22_col7, #T_df8ab_row27_col7, #T_df8ab_row28_col7, #T_df8ab_row29_col7, #T_df8ab_row30_col7, #T_df8ab_row32_col7, #T_df8ab_row34_col7, #T_df8ab_row35_col7, #T_df8ab_row36_col7, #T_df8ab_row39_col7, #T_df8ab_row41_col7, #T_df8ab_row43_col7, #T_df8ab_row48_col7, #T_df8ab_row54_col7, #T_df8ab_row56_col7, #T_df8ab_row57_col7, #T_df8ab_row62_col7, #T_df8ab_row64_col7, #T_df8ab_row65_col7, #T_df8ab_row67_col7, #T_df8ab_row69_col7, #T_df8ab_row70_col7 {\n",
       "  background-color: lightgreen;\n",
       "  color: black;\n",
       "  font-weight: bold;\n",
       "}\n",
       "</style>\n",
       "<table id=\"T_df8ab\">\n",
       "  <thead>\n",
       "    <tr>\n",
       "      <th class=\"blank level0\" >&nbsp;</th>\n",
       "      <th id=\"T_df8ab_level0_col0\" class=\"col_heading level0 col0\" >Fechas</th>\n",
       "      <th id=\"T_df8ab_level0_col1\" class=\"col_heading level0 col1\" >Referencia</th>\n",
       "      <th id=\"T_df8ab_level0_col2\" class=\"col_heading level0 col2\" >Código</th>\n",
       "      <th id=\"T_df8ab_level0_col3\" class=\"col_heading level0 col3\" >Descripcion</th>\n",
       "      <th id=\"T_df8ab_level0_col4\" class=\"col_heading level0 col4\" >Débito</th>\n",
       "      <th id=\"T_df8ab_level0_col5\" class=\"col_heading level0 col5\" >Crédito</th>\n",
       "      <th id=\"T_df8ab_level0_col6\" class=\"col_heading level0 col6\" >Balance</th>\n",
       "      <th id=\"T_df8ab_level0_col7\" class=\"col_heading level0 col7\" >Aporte neto</th>\n",
       "    </tr>\n",
       "    <tr>\n",
       "      <th class=\"index_name level0\" >id</th>\n",
       "      <th class=\"blank col0\" >&nbsp;</th>\n",
       "      <th class=\"blank col1\" >&nbsp;</th>\n",
       "      <th class=\"blank col2\" >&nbsp;</th>\n",
       "      <th class=\"blank col3\" >&nbsp;</th>\n",
       "      <th class=\"blank col4\" >&nbsp;</th>\n",
       "      <th class=\"blank col5\" >&nbsp;</th>\n",
       "      <th class=\"blank col6\" >&nbsp;</th>\n",
       "      <th class=\"blank col7\" >&nbsp;</th>\n",
       "    </tr>\n",
       "  </thead>\n",
       "  <tbody>\n",
       "    <tr>\n",
       "      <th id=\"T_df8ab_level0_row0\" class=\"row_heading level0 row0\" >1</th>\n",
       "      <td id=\"T_df8ab_row0_col0\" class=\"data row0 col0\" >2025-01-01</td>\n",
       "      <td id=\"T_df8ab_row0_col1\" class=\"data row0 col1\" >MiEjemplo</td>\n",
       "      <td id=\"T_df8ab_row0_col2\" class=\"data row0 col2\" >132718</td>\n",
       "      <td id=\"T_df8ab_row0_col3\" class=\"data row0 col3\" >Esto es un ejemplo</td>\n",
       "      <td id=\"T_df8ab_row0_col4\" class=\"data row0 col4\" >1327.180000</td>\n",
       "      <td id=\"T_df8ab_row0_col5\" class=\"data row0 col5\" >0.000000</td>\n",
       "      <td id=\"T_df8ab_row0_col6\" class=\"data row0 col6\" >0.000000</td>\n",
       "      <td id=\"T_df8ab_row0_col7\" class=\"data row0 col7\" >-1327.180000</td>\n",
       "    </tr>\n",
       "    <tr>\n",
       "      <th id=\"T_df8ab_level0_row1\" class=\"row_heading level0 row1\" >2</th>\n",
       "      <td id=\"T_df8ab_row1_col0\" class=\"data row1 col0\" >2025-03-01</td>\n",
       "      <td id=\"T_df8ab_row1_col1\" class=\"data row1 col1\" > 22800000</td>\n",
       "      <td id=\"T_df8ab_row1_col2\" class=\"data row1 col2\" > CP</td>\n",
       "      <td id=\"T_df8ab_row1_col3\" class=\"data row1 col3\" > DLC*UBER RIDES\\       SAN JOSE</td>\n",
       "      <td id=\"T_df8ab_row1_col4\" class=\"data row1 col4\" >1526.320000</td>\n",
       "      <td id=\"T_df8ab_row1_col5\" class=\"data row1 col5\" >0.000000</td>\n",
       "      <td id=\"T_df8ab_row1_col6\" class=\"data row1 col6\" >2234837.800000</td>\n",
       "      <td id=\"T_df8ab_row1_col7\" class=\"data row1 col7\" >-1526.320000</td>\n",
       "    </tr>\n",
       "    <tr>\n",
       "      <th id=\"T_df8ab_level0_row2\" class=\"row_heading level0 row2\" >3</th>\n",
       "      <td id=\"T_df8ab_row2_col0\" class=\"data row2 col0\" >2025-03-01</td>\n",
       "      <td id=\"T_df8ab_row2_col1\" class=\"data row2 col1\" > 30140889</td>\n",
       "      <td id=\"T_df8ab_row2_col2\" class=\"data row2 col2\" > 3O</td>\n",
       "      <td id=\"T_df8ab_row2_col3\" class=\"data row2 col3\" > INTERESES                     </td>\n",
       "      <td id=\"T_df8ab_row2_col4\" class=\"data row2 col4\" >0.000000</td>\n",
       "      <td id=\"T_df8ab_row2_col5\" class=\"data row2 col5\" >6.040000</td>\n",
       "      <td id=\"T_df8ab_row2_col6\" class=\"data row2 col6\" >2234844.000000</td>\n",
       "      <td id=\"T_df8ab_row2_col7\" class=\"data row2 col7\" >6.040000</td>\n",
       "    </tr>\n",
       "    <tr>\n",
       "      <th id=\"T_df8ab_level0_row3\" class=\"row_heading level0 row3\" >4</th>\n",
       "      <td id=\"T_df8ab_row3_col0\" class=\"data row3 col0\" >2025-03-02</td>\n",
       "      <td id=\"T_df8ab_row3_col1\" class=\"data row3 col1\" > 30100000</td>\n",
       "      <td id=\"T_df8ab_row3_col2\" class=\"data row3 col2\" > CP</td>\n",
       "      <td id=\"T_df8ab_row3_col3\" class=\"data row3 col3\" > DLC*UBER RIDES\\       SAN JOSE</td>\n",
       "      <td id=\"T_df8ab_row3_col4\" class=\"data row3 col4\" >1470.860000</td>\n",
       "      <td id=\"T_df8ab_row3_col5\" class=\"data row3 col5\" >0.000000</td>\n",
       "      <td id=\"T_df8ab_row3_col6\" class=\"data row3 col6\" >2233373.000000</td>\n",
       "      <td id=\"T_df8ab_row3_col7\" class=\"data row3 col7\" >-1470.860000</td>\n",
       "    </tr>\n",
       "    <tr>\n",
       "      <th id=\"T_df8ab_level0_row4\" class=\"row_heading level0 row4\" >5</th>\n",
       "      <td id=\"T_df8ab_row4_col0\" class=\"data row4 col0\" >2025-03-02</td>\n",
       "      <td id=\"T_df8ab_row4_col1\" class=\"data row4 col1\" > 30230565</td>\n",
       "      <td id=\"T_df8ab_row4_col2\" class=\"data row4 col2\" > 3O</td>\n",
       "      <td id=\"T_df8ab_row4_col3\" class=\"data row4 col3\" > INTERESES                     </td>\n",
       "      <td id=\"T_df8ab_row4_col4\" class=\"data row4 col4\" >0.000000</td>\n",
       "      <td id=\"T_df8ab_row4_col5\" class=\"data row4 col5\" >6.040000</td>\n",
       "      <td id=\"T_df8ab_row4_col6\" class=\"data row4 col6\" >2233379.000000</td>\n",
       "      <td id=\"T_df8ab_row4_col7\" class=\"data row4 col7\" >6.040000</td>\n",
       "    </tr>\n",
       "    <tr>\n",
       "      <th id=\"T_df8ab_level0_row5\" class=\"row_heading level0 row5\" >6</th>\n",
       "      <td id=\"T_df8ab_row5_col0\" class=\"data row5 col0\" >2025-03-03</td>\n",
       "      <td id=\"T_df8ab_row5_col1\" class=\"data row5 col1\" > 30200000</td>\n",
       "      <td id=\"T_df8ab_row5_col2\" class=\"data row5 col2\" > CP</td>\n",
       "      <td id=\"T_df8ab_row5_col3\" class=\"data row5 col3\" > DLC*UBER EATS\\        SAN JOSE</td>\n",
       "      <td id=\"T_df8ab_row5_col4\" class=\"data row5 col4\" >30889.180000</td>\n",
       "      <td id=\"T_df8ab_row5_col5\" class=\"data row5 col5\" >0.000000</td>\n",
       "      <td id=\"T_df8ab_row5_col6\" class=\"data row5 col6\" >2202490.000000</td>\n",
       "      <td id=\"T_df8ab_row5_col7\" class=\"data row5 col7\" >-30889.180000</td>\n",
       "    </tr>\n",
       "    <tr>\n",
       "      <th id=\"T_df8ab_level0_row6\" class=\"row_heading level0 row6\" >7</th>\n",
       "      <td id=\"T_df8ab_row6_col0\" class=\"data row6 col0\" >2025-03-03</td>\n",
       "      <td id=\"T_df8ab_row6_col1\" class=\"data row6 col1\" > 30200000</td>\n",
       "      <td id=\"T_df8ab_row6_col2\" class=\"data row6 col2\" > CP</td>\n",
       "      <td id=\"T_df8ab_row6_col3\" class=\"data row6 col3\" > DLC*UBER RIDES\\       SAN JOSE</td>\n",
       "      <td id=\"T_df8ab_row6_col4\" class=\"data row6 col4\" >1416.460000</td>\n",
       "      <td id=\"T_df8ab_row6_col5\" class=\"data row6 col5\" >0.000000</td>\n",
       "      <td id=\"T_df8ab_row6_col6\" class=\"data row6 col6\" >2201073.500000</td>\n",
       "      <td id=\"T_df8ab_row6_col7\" class=\"data row6 col7\" >-1416.460000</td>\n",
       "    </tr>\n",
       "    <tr>\n",
       "      <th id=\"T_df8ab_level0_row7\" class=\"row_heading level0 row7\" >8</th>\n",
       "      <td id=\"T_df8ab_row7_col0\" class=\"data row7 col0\" >2025-03-03</td>\n",
       "      <td id=\"T_df8ab_row7_col1\" class=\"data row7 col1\" > 30322345</td>\n",
       "      <td id=\"T_df8ab_row7_col2\" class=\"data row7 col2\" > 3O</td>\n",
       "      <td id=\"T_df8ab_row7_col3\" class=\"data row7 col3\" > INTERESES                     </td>\n",
       "      <td id=\"T_df8ab_row7_col4\" class=\"data row7 col4\" >0.000000</td>\n",
       "      <td id=\"T_df8ab_row7_col5\" class=\"data row7 col5\" >5.700000</td>\n",
       "      <td id=\"T_df8ab_row7_col6\" class=\"data row7 col6\" >2201079.000000</td>\n",
       "      <td id=\"T_df8ab_row7_col7\" class=\"data row7 col7\" >5.700000</td>\n",
       "    </tr>\n",
       "    <tr>\n",
       "      <th id=\"T_df8ab_level0_row8\" class=\"row_heading level0 row8\" >9</th>\n",
       "      <td id=\"T_df8ab_row8_col0\" class=\"data row8 col0\" >2025-03-04</td>\n",
       "      <td id=\"T_df8ab_row8_col1\" class=\"data row8 col1\" > 951502557</td>\n",
       "      <td id=\"T_df8ab_row8_col2\" class=\"data row8 col2\" > TF</td>\n",
       "      <td id=\"T_df8ab_row8_col3\" class=\"data row8 col3\" > Pago ICE Teléfono 85465943    </td>\n",
       "      <td id=\"T_df8ab_row8_col4\" class=\"data row8 col4\" >8075.290000</td>\n",
       "      <td id=\"T_df8ab_row8_col5\" class=\"data row8 col5\" >0.000000</td>\n",
       "      <td id=\"T_df8ab_row8_col6\" class=\"data row8 col6\" >2193003.800000</td>\n",
       "      <td id=\"T_df8ab_row8_col7\" class=\"data row8 col7\" >-8075.290000</td>\n",
       "    </tr>\n",
       "    <tr>\n",
       "      <th id=\"T_df8ab_level0_row9\" class=\"row_heading level0 row9\" >10</th>\n",
       "      <td id=\"T_df8ab_row9_col0\" class=\"data row9 col0\" >2025-03-04</td>\n",
       "      <td id=\"T_df8ab_row9_col1\" class=\"data row9 col1\" > 30413159</td>\n",
       "      <td id=\"T_df8ab_row9_col2\" class=\"data row9 col2\" > 3O</td>\n",
       "      <td id=\"T_df8ab_row9_col3\" class=\"data row9 col3\" > INTERESES                     </td>\n",
       "      <td id=\"T_df8ab_row9_col4\" class=\"data row9 col4\" >0.000000</td>\n",
       "      <td id=\"T_df8ab_row9_col5\" class=\"data row9 col5\" >5.940000</td>\n",
       "      <td id=\"T_df8ab_row9_col6\" class=\"data row9 col6\" >2193009.800000</td>\n",
       "      <td id=\"T_df8ab_row9_col7\" class=\"data row9 col7\" >5.940000</td>\n",
       "    </tr>\n",
       "    <tr>\n",
       "      <th id=\"T_df8ab_level0_row10\" class=\"row_heading level0 row10\" >11</th>\n",
       "      <td id=\"T_df8ab_row10_col0\" class=\"data row10 col0\" >2025-03-05</td>\n",
       "      <td id=\"T_df8ab_row10_col1\" class=\"data row10 col1\" > 30502316</td>\n",
       "      <td id=\"T_df8ab_row10_col2\" class=\"data row10 col2\" > 3O</td>\n",
       "      <td id=\"T_df8ab_row10_col3\" class=\"data row10 col3\" > INTERESES                     </td>\n",
       "      <td id=\"T_df8ab_row10_col4\" class=\"data row10 col4\" >0.000000</td>\n",
       "      <td id=\"T_df8ab_row10_col5\" class=\"data row10 col5\" >5.940000</td>\n",
       "      <td id=\"T_df8ab_row10_col6\" class=\"data row10 col6\" >2193015.800000</td>\n",
       "      <td id=\"T_df8ab_row10_col7\" class=\"data row10 col7\" >5.940000</td>\n",
       "    </tr>\n",
       "    <tr>\n",
       "      <th id=\"T_df8ab_level0_row11\" class=\"row_heading level0 row11\" >12</th>\n",
       "      <td id=\"T_df8ab_row11_col0\" class=\"data row11 col0\" >2025-03-06</td>\n",
       "      <td id=\"T_df8ab_row11_col1\" class=\"data row11 col1\" > 30601868</td>\n",
       "      <td id=\"T_df8ab_row11_col2\" class=\"data row11 col2\" > 3O</td>\n",
       "      <td id=\"T_df8ab_row11_col3\" class=\"data row11 col3\" > INTERESES                     </td>\n",
       "      <td id=\"T_df8ab_row11_col4\" class=\"data row11 col4\" >0.000000</td>\n",
       "      <td id=\"T_df8ab_row11_col5\" class=\"data row11 col5\" >5.940000</td>\n",
       "      <td id=\"T_df8ab_row11_col6\" class=\"data row11 col6\" >2193021.800000</td>\n",
       "      <td id=\"T_df8ab_row11_col7\" class=\"data row11 col7\" >5.940000</td>\n",
       "    </tr>\n",
       "    <tr>\n",
       "      <th id=\"T_df8ab_level0_row12\" class=\"row_heading level0 row12\" >13</th>\n",
       "      <td id=\"T_df8ab_row12_col0\" class=\"data row12 col0\" >2025-03-07</td>\n",
       "      <td id=\"T_df8ab_row12_col1\" class=\"data row12 col1\" > 30706579</td>\n",
       "      <td id=\"T_df8ab_row12_col2\" class=\"data row12 col2\" > 3O</td>\n",
       "      <td id=\"T_df8ab_row12_col3\" class=\"data row12 col3\" > INTERESES                     </td>\n",
       "      <td id=\"T_df8ab_row12_col4\" class=\"data row12 col4\" >0.000000</td>\n",
       "      <td id=\"T_df8ab_row12_col5\" class=\"data row12 col5\" >5.940000</td>\n",
       "      <td id=\"T_df8ab_row12_col6\" class=\"data row12 col6\" >2193027.500000</td>\n",
       "      <td id=\"T_df8ab_row12_col7\" class=\"data row12 col7\" >5.940000</td>\n",
       "    </tr>\n",
       "    <tr>\n",
       "      <th id=\"T_df8ab_level0_row13\" class=\"row_heading level0 row13\" >14</th>\n",
       "      <td id=\"T_df8ab_row13_col0\" class=\"data row13 col0\" >2025-03-08</td>\n",
       "      <td id=\"T_df8ab_row13_col1\" class=\"data row13 col1\" > 30700000</td>\n",
       "      <td id=\"T_df8ab_row13_col2\" class=\"data row13 col2\" > CP</td>\n",
       "      <td id=\"T_df8ab_row13_col3\" class=\"data row13 col3\" > DL*Uber Rides\\        Mon     </td>\n",
       "      <td id=\"T_df8ab_row13_col4\" class=\"data row13 col4\" >1403.980000</td>\n",
       "      <td id=\"T_df8ab_row13_col5\" class=\"data row13 col5\" >0.000000</td>\n",
       "      <td id=\"T_df8ab_row13_col6\" class=\"data row13 col6\" >2191623.500000</td>\n",
       "      <td id=\"T_df8ab_row13_col7\" class=\"data row13 col7\" >-1403.980000</td>\n",
       "    </tr>\n",
       "    <tr>\n",
       "      <th id=\"T_df8ab_level0_row14\" class=\"row_heading level0 row14\" >15</th>\n",
       "      <td id=\"T_df8ab_row14_col0\" class=\"data row14 col0\" >2025-03-08</td>\n",
       "      <td id=\"T_df8ab_row14_col1\" class=\"data row14 col1\" > 30801919</td>\n",
       "      <td id=\"T_df8ab_row14_col2\" class=\"data row14 col2\" > 3O</td>\n",
       "      <td id=\"T_df8ab_row14_col3\" class=\"data row14 col3\" > INTERESES                     </td>\n",
       "      <td id=\"T_df8ab_row14_col4\" class=\"data row14 col4\" >0.000000</td>\n",
       "      <td id=\"T_df8ab_row14_col5\" class=\"data row14 col5\" >5.930000</td>\n",
       "      <td id=\"T_df8ab_row14_col6\" class=\"data row14 col6\" >2191629.500000</td>\n",
       "      <td id=\"T_df8ab_row14_col7\" class=\"data row14 col7\" >5.930000</td>\n",
       "    </tr>\n",
       "    <tr>\n",
       "      <th id=\"T_df8ab_level0_row15\" class=\"row_heading level0 row15\" >16</th>\n",
       "      <td id=\"T_df8ab_row15_col0\" class=\"data row15 col0\" >2025-03-09</td>\n",
       "      <td id=\"T_df8ab_row15_col1\" class=\"data row15 col1\" > 30996185</td>\n",
       "      <td id=\"T_df8ab_row15_col2\" class=\"data row15 col2\" > 3O</td>\n",
       "      <td id=\"T_df8ab_row15_col3\" class=\"data row15 col3\" > INTERESES                     </td>\n",
       "      <td id=\"T_df8ab_row15_col4\" class=\"data row15 col4\" >0.000000</td>\n",
       "      <td id=\"T_df8ab_row15_col5\" class=\"data row15 col5\" >5.940000</td>\n",
       "      <td id=\"T_df8ab_row15_col6\" class=\"data row15 col6\" >2191635.500000</td>\n",
       "      <td id=\"T_df8ab_row15_col7\" class=\"data row15 col7\" >5.940000</td>\n",
       "    </tr>\n",
       "    <tr>\n",
       "      <th id=\"T_df8ab_level0_row16\" class=\"row_heading level0 row16\" >17</th>\n",
       "      <td id=\"T_df8ab_row16_col0\" class=\"data row16 col0\" >2025-03-10</td>\n",
       "      <td id=\"T_df8ab_row16_col1\" class=\"data row16 col1\" > 31094476</td>\n",
       "      <td id=\"T_df8ab_row16_col2\" class=\"data row16 col2\" > 3O</td>\n",
       "      <td id=\"T_df8ab_row16_col3\" class=\"data row16 col3\" > INTERESES                     </td>\n",
       "      <td id=\"T_df8ab_row16_col4\" class=\"data row16 col4\" >0.000000</td>\n",
       "      <td id=\"T_df8ab_row16_col5\" class=\"data row16 col5\" >5.940000</td>\n",
       "      <td id=\"T_df8ab_row16_col6\" class=\"data row16 col6\" >2191641.500000</td>\n",
       "      <td id=\"T_df8ab_row16_col7\" class=\"data row16 col7\" >5.940000</td>\n",
       "    </tr>\n",
       "    <tr>\n",
       "      <th id=\"T_df8ab_level0_row17\" class=\"row_heading level0 row17\" >18</th>\n",
       "      <td id=\"T_df8ab_row17_col0\" class=\"data row17 col0\" >2025-03-11</td>\n",
       "      <td id=\"T_df8ab_row17_col1\" class=\"data row17 col1\" > 31000000</td>\n",
       "      <td id=\"T_df8ab_row17_col2\" class=\"data row17 col2\" > CP</td>\n",
       "      <td id=\"T_df8ab_row17_col3\" class=\"data row17 col3\" > DL*Uber Rides\\        Mon     </td>\n",
       "      <td id=\"T_df8ab_row17_col4\" class=\"data row17 col4\" >1773.450000</td>\n",
       "      <td id=\"T_df8ab_row17_col5\" class=\"data row17 col5\" >0.000000</td>\n",
       "      <td id=\"T_df8ab_row17_col6\" class=\"data row17 col6\" >2189868.000000</td>\n",
       "      <td id=\"T_df8ab_row17_col7\" class=\"data row17 col7\" >-1773.450000</td>\n",
       "    </tr>\n",
       "    <tr>\n",
       "      <th id=\"T_df8ab_level0_row18\" class=\"row_heading level0 row18\" >19</th>\n",
       "      <td id=\"T_df8ab_row18_col0\" class=\"data row18 col0\" >2025-03-11</td>\n",
       "      <td id=\"T_df8ab_row18_col1\" class=\"data row18 col1\" > 31189733</td>\n",
       "      <td id=\"T_df8ab_row18_col2\" class=\"data row18 col2\" > 3O</td>\n",
       "      <td id=\"T_df8ab_row18_col3\" class=\"data row18 col3\" > INTERESES                     </td>\n",
       "      <td id=\"T_df8ab_row18_col4\" class=\"data row18 col4\" >0.000000</td>\n",
       "      <td id=\"T_df8ab_row18_col5\" class=\"data row18 col5\" >5.910000</td>\n",
       "      <td id=\"T_df8ab_row18_col6\" class=\"data row18 col6\" >2189874.000000</td>\n",
       "      <td id=\"T_df8ab_row18_col7\" class=\"data row18 col7\" >5.910000</td>\n",
       "    </tr>\n",
       "    <tr>\n",
       "      <th id=\"T_df8ab_level0_row19\" class=\"row_heading level0 row19\" >20</th>\n",
       "      <td id=\"T_df8ab_row19_col0\" class=\"data row19 col0\" >2025-03-12</td>\n",
       "      <td id=\"T_df8ab_row19_col1\" class=\"data row19 col1\" > 958456005</td>\n",
       "      <td id=\"T_df8ab_row19_col2\" class=\"data row19 col2\" > TS</td>\n",
       "      <td id=\"T_df8ab_row19_col3\" class=\"data row19 col3\" > SINPE MOVIL Taxi_Gabriel___   </td>\n",
       "      <td id=\"T_df8ab_row19_col4\" class=\"data row19 col4\" >21000.000000</td>\n",
       "      <td id=\"T_df8ab_row19_col5\" class=\"data row19 col5\" >0.000000</td>\n",
       "      <td id=\"T_df8ab_row19_col6\" class=\"data row19 col6\" >2168874.000000</td>\n",
       "      <td id=\"T_df8ab_row19_col7\" class=\"data row19 col7\" >-21000.000000</td>\n",
       "    </tr>\n",
       "    <tr>\n",
       "      <th id=\"T_df8ab_level0_row20\" class=\"row_heading level0 row20\" >21</th>\n",
       "      <td id=\"T_df8ab_row20_col0\" class=\"data row20 col0\" >2025-03-12</td>\n",
       "      <td id=\"T_df8ab_row20_col1\" class=\"data row20 col1\" > 958428897</td>\n",
       "      <td id=\"T_df8ab_row20_col2\" class=\"data row20 col2\" > TS</td>\n",
       "      <td id=\"T_df8ab_row20_col3\" class=\"data row20 col3\" > SINPE MOVIL Sin_Descripcion   </td>\n",
       "      <td id=\"T_df8ab_row20_col4\" class=\"data row20 col4\" >21500.000000</td>\n",
       "      <td id=\"T_df8ab_row20_col5\" class=\"data row20 col5\" >0.000000</td>\n",
       "      <td id=\"T_df8ab_row20_col6\" class=\"data row20 col6\" >2147374.000000</td>\n",
       "      <td id=\"T_df8ab_row20_col7\" class=\"data row20 col7\" >-21500.000000</td>\n",
       "    </tr>\n",
       "    <tr>\n",
       "      <th id=\"T_df8ab_level0_row21\" class=\"row_heading level0 row21\" >22</th>\n",
       "      <td id=\"T_df8ab_row21_col0\" class=\"data row21 col0\" >2025-03-12</td>\n",
       "      <td id=\"T_df8ab_row21_col1\" class=\"data row21 col1\" > 951456302</td>\n",
       "      <td id=\"T_df8ab_row21_col2\" class=\"data row21 col2\" > TF</td>\n",
       "      <td id=\"T_df8ab_row21_col3\" class=\"data row21 col3\" > Pago Municipalidad de San Jo 1</td>\n",
       "      <td id=\"T_df8ab_row21_col4\" class=\"data row21 col4\" >73632.870000</td>\n",
       "      <td id=\"T_df8ab_row21_col5\" class=\"data row21 col5\" >0.000000</td>\n",
       "      <td id=\"T_df8ab_row21_col6\" class=\"data row21 col6\" >2073741.000000</td>\n",
       "      <td id=\"T_df8ab_row21_col7\" class=\"data row21 col7\" >-73632.870000</td>\n",
       "    </tr>\n",
       "    <tr>\n",
       "      <th id=\"T_df8ab_level0_row22\" class=\"row_heading level0 row22\" >23</th>\n",
       "      <td id=\"T_df8ab_row22_col0\" class=\"data row22 col0\" >2025-03-12</td>\n",
       "      <td id=\"T_df8ab_row22_col1\" class=\"data row22 col1\" > 31284825</td>\n",
       "      <td id=\"T_df8ab_row22_col2\" class=\"data row22 col2\" > 3O</td>\n",
       "      <td id=\"T_df8ab_row22_col3\" class=\"data row22 col3\" > INTERESES                     </td>\n",
       "      <td id=\"T_df8ab_row22_col4\" class=\"data row22 col4\" >0.000000</td>\n",
       "      <td id=\"T_df8ab_row22_col5\" class=\"data row22 col5\" >5.610000</td>\n",
       "      <td id=\"T_df8ab_row22_col6\" class=\"data row22 col6\" >2073746.600000</td>\n",
       "      <td id=\"T_df8ab_row22_col7\" class=\"data row22 col7\" >5.610000</td>\n",
       "    </tr>\n",
       "    <tr>\n",
       "      <th id=\"T_df8ab_level0_row23\" class=\"row_heading level0 row23\" >24</th>\n",
       "      <td id=\"T_df8ab_row23_col0\" class=\"data row23 col0\" >2025-03-13</td>\n",
       "      <td id=\"T_df8ab_row23_col1\" class=\"data row23 col1\" > 31200000</td>\n",
       "      <td id=\"T_df8ab_row23_col2\" class=\"data row23 col2\" > CP</td>\n",
       "      <td id=\"T_df8ab_row23_col3\" class=\"data row23 col3\" > DLC*UBER RIDES\\       SAN JOSE</td>\n",
       "      <td id=\"T_df8ab_row23_col4\" class=\"data row23 col4\" >1501.330000</td>\n",
       "      <td id=\"T_df8ab_row23_col5\" class=\"data row23 col5\" >0.000000</td>\n",
       "      <td id=\"T_df8ab_row23_col6\" class=\"data row23 col6\" >2072245.200000</td>\n",
       "      <td id=\"T_df8ab_row23_col7\" class=\"data row23 col7\" >-1501.330000</td>\n",
       "    </tr>\n",
       "    <tr>\n",
       "      <th id=\"T_df8ab_level0_row24\" class=\"row_heading level0 row24\" >25</th>\n",
       "      <td id=\"T_df8ab_row24_col0\" class=\"data row24 col0\" >2025-03-13</td>\n",
       "      <td id=\"T_df8ab_row24_col1\" class=\"data row24 col1\" > 31200000</td>\n",
       "      <td id=\"T_df8ab_row24_col2\" class=\"data row24 col2\" > CP</td>\n",
       "      <td id=\"T_df8ab_row24_col3\" class=\"data row24 col3\" > DLC*UBER RIDES\\       SAN JOSE</td>\n",
       "      <td id=\"T_df8ab_row24_col4\" class=\"data row24 col4\" >3614.930000</td>\n",
       "      <td id=\"T_df8ab_row24_col5\" class=\"data row24 col5\" >0.000000</td>\n",
       "      <td id=\"T_df8ab_row24_col6\" class=\"data row24 col6\" >2068630.400000</td>\n",
       "      <td id=\"T_df8ab_row24_col7\" class=\"data row24 col7\" >-3614.930000</td>\n",
       "    </tr>\n",
       "    <tr>\n",
       "      <th id=\"T_df8ab_level0_row25\" class=\"row_heading level0 row25\" >26</th>\n",
       "      <td id=\"T_df8ab_row25_col0\" class=\"data row25 col0\" >2025-03-13</td>\n",
       "      <td id=\"T_df8ab_row25_col1\" class=\"data row25 col1\" > 31200000</td>\n",
       "      <td id=\"T_df8ab_row25_col2\" class=\"data row25 col2\" > CP</td>\n",
       "      <td id=\"T_df8ab_row25_col3\" class=\"data row25 col3\" > DLC*UBER RIDES\\       SAN JOSE</td>\n",
       "      <td id=\"T_df8ab_row25_col4\" class=\"data row25 col4\" >2709.250000</td>\n",
       "      <td id=\"T_df8ab_row25_col5\" class=\"data row25 col5\" >0.000000</td>\n",
       "      <td id=\"T_df8ab_row25_col6\" class=\"data row25 col6\" >2065921.100000</td>\n",
       "      <td id=\"T_df8ab_row25_col7\" class=\"data row25 col7\" >-2709.250000</td>\n",
       "    </tr>\n",
       "    <tr>\n",
       "      <th id=\"T_df8ab_level0_row26\" class=\"row_heading level0 row26\" >27</th>\n",
       "      <td id=\"T_df8ab_row26_col0\" class=\"data row26 col0\" >2025-03-13</td>\n",
       "      <td id=\"T_df8ab_row26_col1\" class=\"data row26 col1\" > 958469932</td>\n",
       "      <td id=\"T_df8ab_row26_col2\" class=\"data row26 col2\" > TS</td>\n",
       "      <td id=\"T_df8ab_row26_col3\" class=\"data row26 col3\" > SINPE MOVIL Gabriel_aire___   </td>\n",
       "      <td id=\"T_df8ab_row26_col4\" class=\"data row26 col4\" >100000.000000</td>\n",
       "      <td id=\"T_df8ab_row26_col5\" class=\"data row26 col5\" >0.000000</td>\n",
       "      <td id=\"T_df8ab_row26_col6\" class=\"data row26 col6\" >1965921.100000</td>\n",
       "      <td id=\"T_df8ab_row26_col7\" class=\"data row26 col7\" >-100000.000000</td>\n",
       "    </tr>\n",
       "    <tr>\n",
       "      <th id=\"T_df8ab_level0_row27\" class=\"row_heading level0 row27\" >28</th>\n",
       "      <td id=\"T_df8ab_row27_col0\" class=\"data row27 col0\" >2025-03-13</td>\n",
       "      <td id=\"T_df8ab_row27_col1\" class=\"data row27 col1\" > 31395712</td>\n",
       "      <td id=\"T_df8ab_row27_col2\" class=\"data row27 col2\" > 3O</td>\n",
       "      <td id=\"T_df8ab_row27_col3\" class=\"data row27 col3\" > INTERESES                     </td>\n",
       "      <td id=\"T_df8ab_row27_col4\" class=\"data row27 col4\" >0.000000</td>\n",
       "      <td id=\"T_df8ab_row27_col5\" class=\"data row27 col5\" >5.260000</td>\n",
       "      <td id=\"T_df8ab_row27_col6\" class=\"data row27 col6\" >1965926.400000</td>\n",
       "      <td id=\"T_df8ab_row27_col7\" class=\"data row27 col7\" >5.260000</td>\n",
       "    </tr>\n",
       "    <tr>\n",
       "      <th id=\"T_df8ab_level0_row28\" class=\"row_heading level0 row28\" >29</th>\n",
       "      <td id=\"T_df8ab_row28_col0\" class=\"data row28 col0\" >2025-03-14</td>\n",
       "      <td id=\"T_df8ab_row28_col1\" class=\"data row28 col1\" > 31437100</td>\n",
       "      <td id=\"T_df8ab_row28_col2\" class=\"data row28 col2\" > 3O</td>\n",
       "      <td id=\"T_df8ab_row28_col3\" class=\"data row28 col3\" > INTERESES                     </td>\n",
       "      <td id=\"T_df8ab_row28_col4\" class=\"data row28 col4\" >0.000000</td>\n",
       "      <td id=\"T_df8ab_row28_col5\" class=\"data row28 col5\" >5.320000</td>\n",
       "      <td id=\"T_df8ab_row28_col6\" class=\"data row28 col6\" >1965931.800000</td>\n",
       "      <td id=\"T_df8ab_row28_col7\" class=\"data row28 col7\" >5.320000</td>\n",
       "    </tr>\n",
       "    <tr>\n",
       "      <th id=\"T_df8ab_level0_row29\" class=\"row_heading level0 row29\" >30</th>\n",
       "      <td id=\"T_df8ab_row29_col0\" class=\"data row29 col0\" >2025-03-15</td>\n",
       "      <td id=\"T_df8ab_row29_col1\" class=\"data row29 col1\" > 31544342</td>\n",
       "      <td id=\"T_df8ab_row29_col2\" class=\"data row29 col2\" > 3O</td>\n",
       "      <td id=\"T_df8ab_row29_col3\" class=\"data row29 col3\" > INTERESES                     </td>\n",
       "      <td id=\"T_df8ab_row29_col4\" class=\"data row29 col4\" >0.000000</td>\n",
       "      <td id=\"T_df8ab_row29_col5\" class=\"data row29 col5\" >5.320000</td>\n",
       "      <td id=\"T_df8ab_row29_col6\" class=\"data row29 col6\" >1965937.000000</td>\n",
       "      <td id=\"T_df8ab_row29_col7\" class=\"data row29 col7\" >5.320000</td>\n",
       "    </tr>\n",
       "    <tr>\n",
       "      <th id=\"T_df8ab_level0_row30\" class=\"row_heading level0 row30\" >31</th>\n",
       "      <td id=\"T_df8ab_row30_col0\" class=\"data row30 col0\" >2025-03-16</td>\n",
       "      <td id=\"T_df8ab_row30_col1\" class=\"data row30 col1\" > 31633663</td>\n",
       "      <td id=\"T_df8ab_row30_col2\" class=\"data row30 col2\" > 3O</td>\n",
       "      <td id=\"T_df8ab_row30_col3\" class=\"data row30 col3\" > INTERESES                     </td>\n",
       "      <td id=\"T_df8ab_row30_col4\" class=\"data row30 col4\" >0.000000</td>\n",
       "      <td id=\"T_df8ab_row30_col5\" class=\"data row30 col5\" >5.320000</td>\n",
       "      <td id=\"T_df8ab_row30_col6\" class=\"data row30 col6\" >1965942.400000</td>\n",
       "      <td id=\"T_df8ab_row30_col7\" class=\"data row30 col7\" >5.320000</td>\n",
       "    </tr>\n",
       "    <tr>\n",
       "      <th id=\"T_df8ab_level0_row31\" class=\"row_heading level0 row31\" >32</th>\n",
       "      <td id=\"T_df8ab_row31_col0\" class=\"data row31 col0\" >2025-03-17</td>\n",
       "      <td id=\"T_df8ab_row31_col1\" class=\"data row31 col1\" > 951451802</td>\n",
       "      <td id=\"T_df8ab_row31_col2\" class=\"data row31 col2\" > TF</td>\n",
       "      <td id=\"T_df8ab_row31_col3\" class=\"data row31 col3\" > Pago Municipalidad de San Jo 1</td>\n",
       "      <td id=\"T_df8ab_row31_col4\" class=\"data row31 col4\" >73632.870000</td>\n",
       "      <td id=\"T_df8ab_row31_col5\" class=\"data row31 col5\" >0.000000</td>\n",
       "      <td id=\"T_df8ab_row31_col6\" class=\"data row31 col6\" >1892309.500000</td>\n",
       "      <td id=\"T_df8ab_row31_col7\" class=\"data row31 col7\" >-73632.870000</td>\n",
       "    </tr>\n",
       "    <tr>\n",
       "      <th id=\"T_df8ab_level0_row32\" class=\"row_heading level0 row32\" >33</th>\n",
       "      <td id=\"T_df8ab_row32_col0\" class=\"data row32 col0\" >2025-03-17</td>\n",
       "      <td id=\"T_df8ab_row32_col1\" class=\"data row32 col1\" > 31736288</td>\n",
       "      <td id=\"T_df8ab_row32_col2\" class=\"data row32 col2\" > 3O</td>\n",
       "      <td id=\"T_df8ab_row32_col3\" class=\"data row32 col3\" > INTERESES                     </td>\n",
       "      <td id=\"T_df8ab_row32_col4\" class=\"data row32 col4\" >0.000000</td>\n",
       "      <td id=\"T_df8ab_row32_col5\" class=\"data row32 col5\" >5.120000</td>\n",
       "      <td id=\"T_df8ab_row32_col6\" class=\"data row32 col6\" >1892314.600000</td>\n",
       "      <td id=\"T_df8ab_row32_col7\" class=\"data row32 col7\" >5.120000</td>\n",
       "    </tr>\n",
       "    <tr>\n",
       "      <th id=\"T_df8ab_level0_row33\" class=\"row_heading level0 row33\" >34</th>\n",
       "      <td id=\"T_df8ab_row33_col0\" class=\"data row33 col0\" >2025-03-18</td>\n",
       "      <td id=\"T_df8ab_row33_col1\" class=\"data row33 col1\" > 958470283</td>\n",
       "      <td id=\"T_df8ab_row33_col2\" class=\"data row33 col2\" > TS</td>\n",
       "      <td id=\"T_df8ab_row33_col3\" class=\"data row33 col3\" > SINPE MOVIL Taxi_Gabriel___   </td>\n",
       "      <td id=\"T_df8ab_row33_col4\" class=\"data row33 col4\" >48500.000000</td>\n",
       "      <td id=\"T_df8ab_row33_col5\" class=\"data row33 col5\" >0.000000</td>\n",
       "      <td id=\"T_df8ab_row33_col6\" class=\"data row33 col6\" >1843814.600000</td>\n",
       "      <td id=\"T_df8ab_row33_col7\" class=\"data row33 col7\" >-48500.000000</td>\n",
       "    </tr>\n",
       "    <tr>\n",
       "      <th id=\"T_df8ab_level0_row34\" class=\"row_heading level0 row34\" >35</th>\n",
       "      <td id=\"T_df8ab_row34_col0\" class=\"data row34 col0\" >2025-03-18</td>\n",
       "      <td id=\"T_df8ab_row34_col1\" class=\"data row34 col1\" > 31813904</td>\n",
       "      <td id=\"T_df8ab_row34_col2\" class=\"data row34 col2\" > 3O</td>\n",
       "      <td id=\"T_df8ab_row34_col3\" class=\"data row34 col3\" > INTERESES                     </td>\n",
       "      <td id=\"T_df8ab_row34_col4\" class=\"data row34 col4\" >0.000000</td>\n",
       "      <td id=\"T_df8ab_row34_col5\" class=\"data row34 col5\" >4.980000</td>\n",
       "      <td id=\"T_df8ab_row34_col6\" class=\"data row34 col6\" >1843819.500000</td>\n",
       "      <td id=\"T_df8ab_row34_col7\" class=\"data row34 col7\" >4.980000</td>\n",
       "    </tr>\n",
       "    <tr>\n",
       "      <th id=\"T_df8ab_level0_row35\" class=\"row_heading level0 row35\" >36</th>\n",
       "      <td id=\"T_df8ab_row35_col0\" class=\"data row35 col0\" >2025-03-19</td>\n",
       "      <td id=\"T_df8ab_row35_col1\" class=\"data row35 col1\" > 31903011</td>\n",
       "      <td id=\"T_df8ab_row35_col2\" class=\"data row35 col2\" > 3O</td>\n",
       "      <td id=\"T_df8ab_row35_col3\" class=\"data row35 col3\" > INTERESES                     </td>\n",
       "      <td id=\"T_df8ab_row35_col4\" class=\"data row35 col4\" >0.000000</td>\n",
       "      <td id=\"T_df8ab_row35_col5\" class=\"data row35 col5\" >4.980000</td>\n",
       "      <td id=\"T_df8ab_row35_col6\" class=\"data row35 col6\" >1843824.500000</td>\n",
       "      <td id=\"T_df8ab_row35_col7\" class=\"data row35 col7\" >4.980000</td>\n",
       "    </tr>\n",
       "    <tr>\n",
       "      <th id=\"T_df8ab_level0_row36\" class=\"row_heading level0 row36\" >37</th>\n",
       "      <td id=\"T_df8ab_row36_col0\" class=\"data row36 col0\" >2025-03-20</td>\n",
       "      <td id=\"T_df8ab_row36_col1\" class=\"data row36 col1\" > 31900000</td>\n",
       "      <td id=\"T_df8ab_row36_col2\" class=\"data row36 col2\" > CM</td>\n",
       "      <td id=\"T_df8ab_row36_col3\" class=\"data row36 col3\" > aliexpress\\           Lon     </td>\n",
       "      <td id=\"T_df8ab_row36_col4\" class=\"data row36 col4\" >0.000000</td>\n",
       "      <td id=\"T_df8ab_row36_col5\" class=\"data row36 col5\" >1726.920000</td>\n",
       "      <td id=\"T_df8ab_row36_col6\" class=\"data row36 col6\" >1845551.500000</td>\n",
       "      <td id=\"T_df8ab_row36_col7\" class=\"data row36 col7\" >1726.920000</td>\n",
       "    </tr>\n",
       "    <tr>\n",
       "      <th id=\"T_df8ab_level0_row37\" class=\"row_heading level0 row37\" >38</th>\n",
       "      <td id=\"T_df8ab_row37_col0\" class=\"data row37 col0\" >2025-03-20</td>\n",
       "      <td id=\"T_df8ab_row37_col1\" class=\"data row37 col1\" > 31900000</td>\n",
       "      <td id=\"T_df8ab_row37_col2\" class=\"data row37 col2\" > CP</td>\n",
       "      <td id=\"T_df8ab_row37_col3\" class=\"data row37 col3\" > DLC*UBER RIDES\\       SAN JOSE</td>\n",
       "      <td id=\"T_df8ab_row37_col4\" class=\"data row37 col4\" >4199.810000</td>\n",
       "      <td id=\"T_df8ab_row37_col5\" class=\"data row37 col5\" >0.000000</td>\n",
       "      <td id=\"T_df8ab_row37_col6\" class=\"data row37 col6\" >1841351.600000</td>\n",
       "      <td id=\"T_df8ab_row37_col7\" class=\"data row37 col7\" >-4199.810000</td>\n",
       "    </tr>\n",
       "    <tr>\n",
       "      <th id=\"T_df8ab_level0_row38\" class=\"row_heading level0 row38\" >39</th>\n",
       "      <td id=\"T_df8ab_row38_col0\" class=\"data row38 col0\" >2025-03-20</td>\n",
       "      <td id=\"T_df8ab_row38_col1\" class=\"data row38 col1\" > 31900000</td>\n",
       "      <td id=\"T_df8ab_row38_col2\" class=\"data row38 col2\" > CP</td>\n",
       "      <td id=\"T_df8ab_row38_col3\" class=\"data row38 col3\" > DLC*UBER RIDES\\       SAN JOSE</td>\n",
       "      <td id=\"T_df8ab_row38_col4\" class=\"data row38 col4\" >2594.970000</td>\n",
       "      <td id=\"T_df8ab_row38_col5\" class=\"data row38 col5\" >0.000000</td>\n",
       "      <td id=\"T_df8ab_row38_col6\" class=\"data row38 col6\" >1838756.600000</td>\n",
       "      <td id=\"T_df8ab_row38_col7\" class=\"data row38 col7\" >-2594.970000</td>\n",
       "    </tr>\n",
       "    <tr>\n",
       "      <th id=\"T_df8ab_level0_row39\" class=\"row_heading level0 row39\" >40</th>\n",
       "      <td id=\"T_df8ab_row39_col0\" class=\"data row39 col0\" >2025-03-20</td>\n",
       "      <td id=\"T_df8ab_row39_col1\" class=\"data row39 col1\" > 32006499</td>\n",
       "      <td id=\"T_df8ab_row39_col2\" class=\"data row39 col2\" > 3O</td>\n",
       "      <td id=\"T_df8ab_row39_col3\" class=\"data row39 col3\" > INTERESES                     </td>\n",
       "      <td id=\"T_df8ab_row39_col4\" class=\"data row39 col4\" >0.000000</td>\n",
       "      <td id=\"T_df8ab_row39_col5\" class=\"data row39 col5\" >4.930000</td>\n",
       "      <td id=\"T_df8ab_row39_col6\" class=\"data row39 col6\" >1838761.600000</td>\n",
       "      <td id=\"T_df8ab_row39_col7\" class=\"data row39 col7\" >4.930000</td>\n",
       "    </tr>\n",
       "    <tr>\n",
       "      <th id=\"T_df8ab_level0_row40\" class=\"row_heading level0 row40\" >41</th>\n",
       "      <td id=\"T_df8ab_row40_col0\" class=\"data row40 col0\" >2025-03-21</td>\n",
       "      <td id=\"T_df8ab_row40_col1\" class=\"data row40 col1\" > 32000248</td>\n",
       "      <td id=\"T_df8ab_row40_col2\" class=\"data row40 col2\" > CP</td>\n",
       "      <td id=\"T_df8ab_row40_col3\" class=\"data row40 col3\" > SODA GALLITO PINTO            </td>\n",
       "      <td id=\"T_df8ab_row40_col4\" class=\"data row40 col4\" >5600.000000</td>\n",
       "      <td id=\"T_df8ab_row40_col5\" class=\"data row40 col5\" >0.000000</td>\n",
       "      <td id=\"T_df8ab_row40_col6\" class=\"data row40 col6\" >1833161.600000</td>\n",
       "      <td id=\"T_df8ab_row40_col7\" class=\"data row40 col7\" >-5600.000000</td>\n",
       "    </tr>\n",
       "    <tr>\n",
       "      <th id=\"T_df8ab_level0_row41\" class=\"row_heading level0 row41\" >42</th>\n",
       "      <td id=\"T_df8ab_row41_col0\" class=\"data row41 col0\" >2025-03-21</td>\n",
       "      <td id=\"T_df8ab_row41_col1\" class=\"data row41 col1\" > 32108365</td>\n",
       "      <td id=\"T_df8ab_row41_col2\" class=\"data row41 col2\" > 3O</td>\n",
       "      <td id=\"T_df8ab_row41_col3\" class=\"data row41 col3\" > INTERESES                     </td>\n",
       "      <td id=\"T_df8ab_row41_col4\" class=\"data row41 col4\" >0.000000</td>\n",
       "      <td id=\"T_df8ab_row41_col5\" class=\"data row41 col5\" >4.930000</td>\n",
       "      <td id=\"T_df8ab_row41_col6\" class=\"data row41 col6\" >1833166.500000</td>\n",
       "      <td id=\"T_df8ab_row41_col7\" class=\"data row41 col7\" >4.930000</td>\n",
       "    </tr>\n",
       "    <tr>\n",
       "      <th id=\"T_df8ab_level0_row42\" class=\"row_heading level0 row42\" >43</th>\n",
       "      <td id=\"T_df8ab_row42_col0\" class=\"data row42 col0\" >2025-03-22</td>\n",
       "      <td id=\"T_df8ab_row42_col1\" class=\"data row42 col1\" > 32100000</td>\n",
       "      <td id=\"T_df8ab_row42_col2\" class=\"data row42 col2\" > CP</td>\n",
       "      <td id=\"T_df8ab_row42_col3\" class=\"data row42 col3\" > DLC*UBER RIDES\\       SAN JOSE</td>\n",
       "      <td id=\"T_df8ab_row42_col4\" class=\"data row42 col4\" >2481.250000</td>\n",
       "      <td id=\"T_df8ab_row42_col5\" class=\"data row42 col5\" >0.000000</td>\n",
       "      <td id=\"T_df8ab_row42_col6\" class=\"data row42 col6\" >1830685.200000</td>\n",
       "      <td id=\"T_df8ab_row42_col7\" class=\"data row42 col7\" >-2481.250000</td>\n",
       "    </tr>\n",
       "    <tr>\n",
       "      <th id=\"T_df8ab_level0_row43\" class=\"row_heading level0 row43\" >44</th>\n",
       "      <td id=\"T_df8ab_row43_col0\" class=\"data row43 col0\" >2025-03-22</td>\n",
       "      <td id=\"T_df8ab_row43_col1\" class=\"data row43 col1\" > 32224015</td>\n",
       "      <td id=\"T_df8ab_row43_col2\" class=\"data row43 col2\" > 3O</td>\n",
       "      <td id=\"T_df8ab_row43_col3\" class=\"data row43 col3\" > INTERESES                     </td>\n",
       "      <td id=\"T_df8ab_row43_col4\" class=\"data row43 col4\" >0.000000</td>\n",
       "      <td id=\"T_df8ab_row43_col5\" class=\"data row43 col5\" >4.930000</td>\n",
       "      <td id=\"T_df8ab_row43_col6\" class=\"data row43 col6\" >1830690.200000</td>\n",
       "      <td id=\"T_df8ab_row43_col7\" class=\"data row43 col7\" >4.930000</td>\n",
       "    </tr>\n",
       "    <tr>\n",
       "      <th id=\"T_df8ab_level0_row44\" class=\"row_heading level0 row44\" >45</th>\n",
       "      <td id=\"T_df8ab_row44_col0\" class=\"data row44 col0\" >2025-03-23</td>\n",
       "      <td id=\"T_df8ab_row44_col1\" class=\"data row44 col1\" > 32200000</td>\n",
       "      <td id=\"T_df8ab_row44_col2\" class=\"data row44 col2\" > CP</td>\n",
       "      <td id=\"T_df8ab_row44_col3\" class=\"data row44 col3\" > DLC*UBER RIDES\\       SAN JOSE</td>\n",
       "      <td id=\"T_df8ab_row44_col4\" class=\"data row44 col4\" >1265.940000</td>\n",
       "      <td id=\"T_df8ab_row44_col5\" class=\"data row44 col5\" >0.000000</td>\n",
       "      <td id=\"T_df8ab_row44_col6\" class=\"data row44 col6\" >1829424.200000</td>\n",
       "      <td id=\"T_df8ab_row44_col7\" class=\"data row44 col7\" >-1265.940000</td>\n",
       "    </tr>\n",
       "    <tr>\n",
       "      <th id=\"T_df8ab_level0_row45\" class=\"row_heading level0 row45\" >46</th>\n",
       "      <td id=\"T_df8ab_row45_col0\" class=\"data row45 col0\" >2025-03-23</td>\n",
       "      <td id=\"T_df8ab_row45_col1\" class=\"data row45 col1\" > 32200248</td>\n",
       "      <td id=\"T_df8ab_row45_col2\" class=\"data row45 col2\" > CP</td>\n",
       "      <td id=\"T_df8ab_row45_col3\" class=\"data row45 col3\" > MULTIMERCADO AM PM URUKA      </td>\n",
       "      <td id=\"T_df8ab_row45_col4\" class=\"data row45 col4\" >5160.000000</td>\n",
       "      <td id=\"T_df8ab_row45_col5\" class=\"data row45 col5\" >0.000000</td>\n",
       "      <td id=\"T_df8ab_row45_col6\" class=\"data row45 col6\" >1824264.200000</td>\n",
       "      <td id=\"T_df8ab_row45_col7\" class=\"data row45 col7\" >-5160.000000</td>\n",
       "    </tr>\n",
       "    <tr>\n",
       "      <th id=\"T_df8ab_level0_row46\" class=\"row_heading level0 row46\" >47</th>\n",
       "      <td id=\"T_df8ab_row46_col0\" class=\"data row46 col0\" >2025-03-23</td>\n",
       "      <td id=\"T_df8ab_row46_col1\" class=\"data row46 col1\" > 32200248</td>\n",
       "      <td id=\"T_df8ab_row46_col2\" class=\"data row46 col2\" > CP</td>\n",
       "      <td id=\"T_df8ab_row46_col3\" class=\"data row46 col3\" > MULTIMERCADO AM PM URUKA      </td>\n",
       "      <td id=\"T_df8ab_row46_col4\" class=\"data row46 col4\" >35.000000</td>\n",
       "      <td id=\"T_df8ab_row46_col5\" class=\"data row46 col5\" >0.000000</td>\n",
       "      <td id=\"T_df8ab_row46_col6\" class=\"data row46 col6\" >1824229.200000</td>\n",
       "      <td id=\"T_df8ab_row46_col7\" class=\"data row46 col7\" >-35.000000</td>\n",
       "    </tr>\n",
       "    <tr>\n",
       "      <th id=\"T_df8ab_level0_row47\" class=\"row_heading level0 row47\" >48</th>\n",
       "      <td id=\"T_df8ab_row47_col0\" class=\"data row47 col0\" >2025-03-23</td>\n",
       "      <td id=\"T_df8ab_row47_col1\" class=\"data row47 col1\" > 32200248</td>\n",
       "      <td id=\"T_df8ab_row47_col2\" class=\"data row47 col2\" > CP</td>\n",
       "      <td id=\"T_df8ab_row47_col3\" class=\"data row47 col3\" > MULTIMERCADO AM PM URUKA      </td>\n",
       "      <td id=\"T_df8ab_row47_col4\" class=\"data row47 col4\" >2375.000000</td>\n",
       "      <td id=\"T_df8ab_row47_col5\" class=\"data row47 col5\" >0.000000</td>\n",
       "      <td id=\"T_df8ab_row47_col6\" class=\"data row47 col6\" >1821854.200000</td>\n",
       "      <td id=\"T_df8ab_row47_col7\" class=\"data row47 col7\" >-2375.000000</td>\n",
       "    </tr>\n",
       "    <tr>\n",
       "      <th id=\"T_df8ab_level0_row48\" class=\"row_heading level0 row48\" >49</th>\n",
       "      <td id=\"T_df8ab_row48_col0\" class=\"data row48 col0\" >2025-03-23</td>\n",
       "      <td id=\"T_df8ab_row48_col1\" class=\"data row48 col1\" > 32397216</td>\n",
       "      <td id=\"T_df8ab_row48_col2\" class=\"data row48 col2\" > 3O</td>\n",
       "      <td id=\"T_df8ab_row48_col3\" class=\"data row48 col3\" > INTERESES                     </td>\n",
       "      <td id=\"T_df8ab_row48_col4\" class=\"data row48 col4\" >0.000000</td>\n",
       "      <td id=\"T_df8ab_row48_col5\" class=\"data row48 col5\" >4.870000</td>\n",
       "      <td id=\"T_df8ab_row48_col6\" class=\"data row48 col6\" >1821859.100000</td>\n",
       "      <td id=\"T_df8ab_row48_col7\" class=\"data row48 col7\" >4.870000</td>\n",
       "    </tr>\n",
       "    <tr>\n",
       "      <th id=\"T_df8ab_level0_row49\" class=\"row_heading level0 row49\" >50</th>\n",
       "      <td id=\"T_df8ab_row49_col0\" class=\"data row49 col0\" >2025-03-24</td>\n",
       "      <td id=\"T_df8ab_row49_col1\" class=\"data row49 col1\" > 32300000</td>\n",
       "      <td id=\"T_df8ab_row49_col2\" class=\"data row49 col2\" > CP</td>\n",
       "      <td id=\"T_df8ab_row49_col3\" class=\"data row49 col3\" > DLC*UBER EATS\\        SAN JOSE</td>\n",
       "      <td id=\"T_df8ab_row49_col4\" class=\"data row49 col4\" >3625.200000</td>\n",
       "      <td id=\"T_df8ab_row49_col5\" class=\"data row49 col5\" >0.000000</td>\n",
       "      <td id=\"T_df8ab_row49_col6\" class=\"data row49 col6\" >1818234.000000</td>\n",
       "      <td id=\"T_df8ab_row49_col7\" class=\"data row49 col7\" >-3625.200000</td>\n",
       "    </tr>\n",
       "    <tr>\n",
       "      <th id=\"T_df8ab_level0_row50\" class=\"row_heading level0 row50\" >51</th>\n",
       "      <td id=\"T_df8ab_row50_col0\" class=\"data row50 col0\" >2025-03-24</td>\n",
       "      <td id=\"T_df8ab_row50_col1\" class=\"data row50 col1\" > 32300000</td>\n",
       "      <td id=\"T_df8ab_row50_col2\" class=\"data row50 col2\" > CP</td>\n",
       "      <td id=\"T_df8ab_row50_col3\" class=\"data row50 col3\" > DLC*UBER RIDES\\       SAN JOSE</td>\n",
       "      <td id=\"T_df8ab_row50_col4\" class=\"data row50 col4\" >992.350000</td>\n",
       "      <td id=\"T_df8ab_row50_col5\" class=\"data row50 col5\" >0.000000</td>\n",
       "      <td id=\"T_df8ab_row50_col6\" class=\"data row50 col6\" >1817241.600000</td>\n",
       "      <td id=\"T_df8ab_row50_col7\" class=\"data row50 col7\" >-992.350000</td>\n",
       "    </tr>\n",
       "    <tr>\n",
       "      <th id=\"T_df8ab_level0_row51\" class=\"row_heading level0 row51\" >52</th>\n",
       "      <td id=\"T_df8ab_row51_col0\" class=\"data row51 col0\" >2025-03-24</td>\n",
       "      <td id=\"T_df8ab_row51_col1\" class=\"data row51 col1\" > 32300000</td>\n",
       "      <td id=\"T_df8ab_row51_col2\" class=\"data row51 col2\" > CP</td>\n",
       "      <td id=\"T_df8ab_row51_col3\" class=\"data row51 col3\" > DLC*UBER RIDES\\       SAN JOSE</td>\n",
       "      <td id=\"T_df8ab_row51_col4\" class=\"data row51 col4\" >250.000000</td>\n",
       "      <td id=\"T_df8ab_row51_col5\" class=\"data row51 col5\" >0.000000</td>\n",
       "      <td id=\"T_df8ab_row51_col6\" class=\"data row51 col6\" >1816991.600000</td>\n",
       "      <td id=\"T_df8ab_row51_col7\" class=\"data row51 col7\" >-250.000000</td>\n",
       "    </tr>\n",
       "    <tr>\n",
       "      <th id=\"T_df8ab_level0_row52\" class=\"row_heading level0 row52\" >53</th>\n",
       "      <td id=\"T_df8ab_row52_col0\" class=\"data row52 col0\" >2025-03-24</td>\n",
       "      <td id=\"T_df8ab_row52_col1\" class=\"data row52 col1\" > 32300248</td>\n",
       "      <td id=\"T_df8ab_row52_col2\" class=\"data row52 col2\" > CP</td>\n",
       "      <td id=\"T_df8ab_row52_col3\" class=\"data row52 col3\" > PEQUENO MUNDO TRES RIOS       </td>\n",
       "      <td id=\"T_df8ab_row52_col4\" class=\"data row52 col4\" >14933.000000</td>\n",
       "      <td id=\"T_df8ab_row52_col5\" class=\"data row52 col5\" >0.000000</td>\n",
       "      <td id=\"T_df8ab_row52_col6\" class=\"data row52 col6\" >1802058.600000</td>\n",
       "      <td id=\"T_df8ab_row52_col7\" class=\"data row52 col7\" >-14933.000000</td>\n",
       "    </tr>\n",
       "    <tr>\n",
       "      <th id=\"T_df8ab_level0_row53\" class=\"row_heading level0 row53\" >54</th>\n",
       "      <td id=\"T_df8ab_row53_col0\" class=\"data row53 col0\" >2025-03-24</td>\n",
       "      <td id=\"T_df8ab_row53_col1\" class=\"data row53 col1\" > 951846754</td>\n",
       "      <td id=\"T_df8ab_row53_col2\" class=\"data row53 col2\" > TF</td>\n",
       "      <td id=\"T_df8ab_row53_col3\" class=\"data row53 col3\" > Pago ICE Teléfono 85465943    </td>\n",
       "      <td id=\"T_df8ab_row53_col4\" class=\"data row53 col4\" >8075.290000</td>\n",
       "      <td id=\"T_df8ab_row53_col5\" class=\"data row53 col5\" >0.000000</td>\n",
       "      <td id=\"T_df8ab_row53_col6\" class=\"data row53 col6\" >1793983.200000</td>\n",
       "      <td id=\"T_df8ab_row53_col7\" class=\"data row53 col7\" >-8075.290000</td>\n",
       "    </tr>\n",
       "    <tr>\n",
       "      <th id=\"T_df8ab_level0_row54\" class=\"row_heading level0 row54\" >55</th>\n",
       "      <td id=\"T_df8ab_row54_col0\" class=\"data row54 col0\" >2025-03-24</td>\n",
       "      <td id=\"T_df8ab_row54_col1\" class=\"data row54 col1\" > 32493244</td>\n",
       "      <td id=\"T_df8ab_row54_col2\" class=\"data row54 col2\" > 3O</td>\n",
       "      <td id=\"T_df8ab_row54_col3\" class=\"data row54 col3\" > INTERESES                     </td>\n",
       "      <td id=\"T_df8ab_row54_col4\" class=\"data row54 col4\" >0.000000</td>\n",
       "      <td id=\"T_df8ab_row54_col5\" class=\"data row54 col5\" >4.710000</td>\n",
       "      <td id=\"T_df8ab_row54_col6\" class=\"data row54 col6\" >1793988.000000</td>\n",
       "      <td id=\"T_df8ab_row54_col7\" class=\"data row54 col7\" >4.710000</td>\n",
       "    </tr>\n",
       "    <tr>\n",
       "      <th id=\"T_df8ab_level0_row55\" class=\"row_heading level0 row55\" >56</th>\n",
       "      <td id=\"T_df8ab_row55_col0\" class=\"data row55 col0\" >2025-03-25</td>\n",
       "      <td id=\"T_df8ab_row55_col1\" class=\"data row55 col1\" > 32300248</td>\n",
       "      <td id=\"T_df8ab_row55_col2\" class=\"data row55 col2\" > CP</td>\n",
       "      <td id=\"T_df8ab_row55_col3\" class=\"data row55 col3\" > SATAY RESTAURANTE             </td>\n",
       "      <td id=\"T_df8ab_row55_col4\" class=\"data row55 col4\" >6600.000000</td>\n",
       "      <td id=\"T_df8ab_row55_col5\" class=\"data row55 col5\" >0.000000</td>\n",
       "      <td id=\"T_df8ab_row55_col6\" class=\"data row55 col6\" >1787388.000000</td>\n",
       "      <td id=\"T_df8ab_row55_col7\" class=\"data row55 col7\" >-6600.000000</td>\n",
       "    </tr>\n",
       "    <tr>\n",
       "      <th id=\"T_df8ab_level0_row56\" class=\"row_heading level0 row56\" >57</th>\n",
       "      <td id=\"T_df8ab_row56_col0\" class=\"data row56 col0\" >2025-03-25</td>\n",
       "      <td id=\"T_df8ab_row56_col1\" class=\"data row56 col1\" > 32590513</td>\n",
       "      <td id=\"T_df8ab_row56_col2\" class=\"data row56 col2\" > 3O</td>\n",
       "      <td id=\"T_df8ab_row56_col3\" class=\"data row56 col3\" > INTERESES                     </td>\n",
       "      <td id=\"T_df8ab_row56_col4\" class=\"data row56 col4\" >0.000000</td>\n",
       "      <td id=\"T_df8ab_row56_col5\" class=\"data row56 col5\" >4.790000</td>\n",
       "      <td id=\"T_df8ab_row56_col6\" class=\"data row56 col6\" >1787392.800000</td>\n",
       "      <td id=\"T_df8ab_row56_col7\" class=\"data row56 col7\" >4.790000</td>\n",
       "    </tr>\n",
       "    <tr>\n",
       "      <th id=\"T_df8ab_level0_row57\" class=\"row_heading level0 row57\" >58</th>\n",
       "      <td id=\"T_df8ab_row57_col0\" class=\"data row57 col0\" >2025-03-26</td>\n",
       "      <td id=\"T_df8ab_row57_col1\" class=\"data row57 col1\" > 32687700</td>\n",
       "      <td id=\"T_df8ab_row57_col2\" class=\"data row57 col2\" > 3O</td>\n",
       "      <td id=\"T_df8ab_row57_col3\" class=\"data row57 col3\" > INTERESES                     </td>\n",
       "      <td id=\"T_df8ab_row57_col4\" class=\"data row57 col4\" >0.000000</td>\n",
       "      <td id=\"T_df8ab_row57_col5\" class=\"data row57 col5\" >4.830000</td>\n",
       "      <td id=\"T_df8ab_row57_col6\" class=\"data row57 col6\" >1787397.600000</td>\n",
       "      <td id=\"T_df8ab_row57_col7\" class=\"data row57 col7\" >4.830000</td>\n",
       "    </tr>\n",
       "    <tr>\n",
       "      <th id=\"T_df8ab_level0_row58\" class=\"row_heading level0 row58\" >59</th>\n",
       "      <td id=\"T_df8ab_row58_col0\" class=\"data row58 col0\" >2025-03-27</td>\n",
       "      <td id=\"T_df8ab_row58_col1\" class=\"data row58 col1\" > 32600000</td>\n",
       "      <td id=\"T_df8ab_row58_col2\" class=\"data row58 col2\" > CP</td>\n",
       "      <td id=\"T_df8ab_row58_col3\" class=\"data row58 col3\" > WEBCHECKOUT UCR\\      SAN JOSE</td>\n",
       "      <td id=\"T_df8ab_row58_col4\" class=\"data row58 col4\" >7000.000000</td>\n",
       "      <td id=\"T_df8ab_row58_col5\" class=\"data row58 col5\" >0.000000</td>\n",
       "      <td id=\"T_df8ab_row58_col6\" class=\"data row58 col6\" >1780397.600000</td>\n",
       "      <td id=\"T_df8ab_row58_col7\" class=\"data row58 col7\" >-7000.000000</td>\n",
       "    </tr>\n",
       "    <tr>\n",
       "      <th id=\"T_df8ab_level0_row59\" class=\"row_heading level0 row59\" >60</th>\n",
       "      <td id=\"T_df8ab_row59_col0\" class=\"data row59 col0\" >2025-03-27</td>\n",
       "      <td id=\"T_df8ab_row59_col1\" class=\"data row59 col1\" > 32600000</td>\n",
       "      <td id=\"T_df8ab_row59_col2\" class=\"data row59 col2\" > CP</td>\n",
       "      <td id=\"T_df8ab_row59_col3\" class=\"data row59 col3\" > DLC*UBER RIDES\\       SAN JOSE</td>\n",
       "      <td id=\"T_df8ab_row59_col4\" class=\"data row59 col4\" >1747.280000</td>\n",
       "      <td id=\"T_df8ab_row59_col5\" class=\"data row59 col5\" >0.000000</td>\n",
       "      <td id=\"T_df8ab_row59_col6\" class=\"data row59 col6\" >1778650.400000</td>\n",
       "      <td id=\"T_df8ab_row59_col7\" class=\"data row59 col7\" >-1747.280000</td>\n",
       "    </tr>\n",
       "    <tr>\n",
       "      <th id=\"T_df8ab_level0_row60\" class=\"row_heading level0 row60\" >61</th>\n",
       "      <td id=\"T_df8ab_row60_col0\" class=\"data row60 col0\" >2025-03-27</td>\n",
       "      <td id=\"T_df8ab_row60_col1\" class=\"data row60 col1\" > 32600000</td>\n",
       "      <td id=\"T_df8ab_row60_col2\" class=\"data row60 col2\" > CP</td>\n",
       "      <td id=\"T_df8ab_row60_col3\" class=\"data row60 col3\" > DLC*UBER RIDES\\       SAN JOSE</td>\n",
       "      <td id=\"T_df8ab_row60_col4\" class=\"data row60 col4\" >2692.480000</td>\n",
       "      <td id=\"T_df8ab_row60_col5\" class=\"data row60 col5\" >0.000000</td>\n",
       "      <td id=\"T_df8ab_row60_col6\" class=\"data row60 col6\" >1775957.900000</td>\n",
       "      <td id=\"T_df8ab_row60_col7\" class=\"data row60 col7\" >-2692.480000</td>\n",
       "    </tr>\n",
       "    <tr>\n",
       "      <th id=\"T_df8ab_level0_row61\" class=\"row_heading level0 row61\" >62</th>\n",
       "      <td id=\"T_df8ab_row61_col0\" class=\"data row61 col0\" >2025-03-27</td>\n",
       "      <td id=\"T_df8ab_row61_col1\" class=\"data row61 col1\" > 958497552</td>\n",
       "      <td id=\"T_df8ab_row61_col2\" class=\"data row61 col2\" > TS</td>\n",
       "      <td id=\"T_df8ab_row61_col3\" class=\"data row61 col3\" > SINPE MOVIL Sin_Descripcion   </td>\n",
       "      <td id=\"T_df8ab_row61_col4\" class=\"data row61 col4\" >9000.000000</td>\n",
       "      <td id=\"T_df8ab_row61_col5\" class=\"data row61 col5\" >0.000000</td>\n",
       "      <td id=\"T_df8ab_row61_col6\" class=\"data row61 col6\" >1766957.900000</td>\n",
       "      <td id=\"T_df8ab_row61_col7\" class=\"data row61 col7\" >-9000.000000</td>\n",
       "    </tr>\n",
       "    <tr>\n",
       "      <th id=\"T_df8ab_level0_row62\" class=\"row_heading level0 row62\" >63</th>\n",
       "      <td id=\"T_df8ab_row62_col0\" class=\"data row62 col0\" >2025-03-27</td>\n",
       "      <td id=\"T_df8ab_row62_col1\" class=\"data row62 col1\" > 32795046</td>\n",
       "      <td id=\"T_df8ab_row62_col2\" class=\"data row62 col2\" > 3O</td>\n",
       "      <td id=\"T_df8ab_row62_col3\" class=\"data row62 col3\" > INTERESES                     </td>\n",
       "      <td id=\"T_df8ab_row62_col4\" class=\"data row62 col4\" >0.000000</td>\n",
       "      <td id=\"T_df8ab_row62_col5\" class=\"data row62 col5\" >4.680000</td>\n",
       "      <td id=\"T_df8ab_row62_col6\" class=\"data row62 col6\" >1766962.500000</td>\n",
       "      <td id=\"T_df8ab_row62_col7\" class=\"data row62 col7\" >4.680000</td>\n",
       "    </tr>\n",
       "    <tr>\n",
       "      <th id=\"T_df8ab_level0_row63\" class=\"row_heading level0 row63\" >64</th>\n",
       "      <td id=\"T_df8ab_row63_col0\" class=\"data row63 col0\" >2025-03-28</td>\n",
       "      <td id=\"T_df8ab_row63_col1\" class=\"data row63 col1\" > 32700000</td>\n",
       "      <td id=\"T_df8ab_row63_col2\" class=\"data row63 col2\" > CP</td>\n",
       "      <td id=\"T_df8ab_row63_col3\" class=\"data row63 col3\" > DLC*UBER RIDES\\       SAN JOSE</td>\n",
       "      <td id=\"T_df8ab_row63_col4\" class=\"data row63 col4\" >881.000000</td>\n",
       "      <td id=\"T_df8ab_row63_col5\" class=\"data row63 col5\" >0.000000</td>\n",
       "      <td id=\"T_df8ab_row63_col6\" class=\"data row63 col6\" >1766081.500000</td>\n",
       "      <td id=\"T_df8ab_row63_col7\" class=\"data row63 col7\" >-881.000000</td>\n",
       "    </tr>\n",
       "    <tr>\n",
       "      <th id=\"T_df8ab_level0_row64\" class=\"row_heading level0 row64\" >65</th>\n",
       "      <td id=\"T_df8ab_row64_col0\" class=\"data row64 col0\" >2025-03-28</td>\n",
       "      <td id=\"T_df8ab_row64_col1\" class=\"data row64 col1\" > 543700283</td>\n",
       "      <td id=\"T_df8ab_row64_col2\" class=\"data row64 col2\" > PE</td>\n",
       "      <td id=\"T_df8ab_row64_col3\" class=\"data row64 col3\" > PLANILLA SIQ SISTEMAS DE INTE </td>\n",
       "      <td id=\"T_df8ab_row64_col4\" class=\"data row64 col4\" >0.000000</td>\n",
       "      <td id=\"T_df8ab_row64_col5\" class=\"data row64 col5\" >629064.750000</td>\n",
       "      <td id=\"T_df8ab_row64_col6\" class=\"data row64 col6\" >2395146.200000</td>\n",
       "      <td id=\"T_df8ab_row64_col7\" class=\"data row64 col7\" >629064.750000</td>\n",
       "    </tr>\n",
       "    <tr>\n",
       "      <th id=\"T_df8ab_level0_row65\" class=\"row_heading level0 row65\" >66</th>\n",
       "      <td id=\"T_df8ab_row65_col0\" class=\"data row65 col0\" >2025-03-28</td>\n",
       "      <td id=\"T_df8ab_row65_col1\" class=\"data row65 col1\" > 32838290</td>\n",
       "      <td id=\"T_df8ab_row65_col2\" class=\"data row65 col2\" > 3O</td>\n",
       "      <td id=\"T_df8ab_row65_col3\" class=\"data row65 col3\" > INTERESES                     </td>\n",
       "      <td id=\"T_df8ab_row65_col4\" class=\"data row65 col4\" >0.000000</td>\n",
       "      <td id=\"T_df8ab_row65_col5\" class=\"data row65 col5\" >6.480000</td>\n",
       "      <td id=\"T_df8ab_row65_col6\" class=\"data row65 col6\" >2395152.800000</td>\n",
       "      <td id=\"T_df8ab_row65_col7\" class=\"data row65 col7\" >6.480000</td>\n",
       "    </tr>\n",
       "    <tr>\n",
       "      <th id=\"T_df8ab_level0_row66\" class=\"row_heading level0 row66\" >67</th>\n",
       "      <td id=\"T_df8ab_row66_col0\" class=\"data row66 col0\" >2025-03-29</td>\n",
       "      <td id=\"T_df8ab_row66_col1\" class=\"data row66 col1\" > 958403802</td>\n",
       "      <td id=\"T_df8ab_row66_col2\" class=\"data row66 col2\" > TS</td>\n",
       "      <td id=\"T_df8ab_row66_col3\" class=\"data row66 col3\" > SINPE MOVIL Llanta_Romualdo_Al</td>\n",
       "      <td id=\"T_df8ab_row66_col4\" class=\"data row66 col4\" >4000.000000</td>\n",
       "      <td id=\"T_df8ab_row66_col5\" class=\"data row66 col5\" >0.000000</td>\n",
       "      <td id=\"T_df8ab_row66_col6\" class=\"data row66 col6\" >2391152.800000</td>\n",
       "      <td id=\"T_df8ab_row66_col7\" class=\"data row66 col7\" >-4000.000000</td>\n",
       "    </tr>\n",
       "    <tr>\n",
       "      <th id=\"T_df8ab_level0_row67\" class=\"row_heading level0 row67\" >68</th>\n",
       "      <td id=\"T_df8ab_row67_col0\" class=\"data row67 col0\" >2025-03-29</td>\n",
       "      <td id=\"T_df8ab_row67_col1\" class=\"data row67 col1\" > 32935226</td>\n",
       "      <td id=\"T_df8ab_row67_col2\" class=\"data row67 col2\" > 3O</td>\n",
       "      <td id=\"T_df8ab_row67_col3\" class=\"data row67 col3\" > INTERESES                     </td>\n",
       "      <td id=\"T_df8ab_row67_col4\" class=\"data row67 col4\" >0.000000</td>\n",
       "      <td id=\"T_df8ab_row67_col5\" class=\"data row67 col5\" >6.480000</td>\n",
       "      <td id=\"T_df8ab_row67_col6\" class=\"data row67 col6\" >2391159.200000</td>\n",
       "      <td id=\"T_df8ab_row67_col7\" class=\"data row67 col7\" >6.480000</td>\n",
       "    </tr>\n",
       "    <tr>\n",
       "      <th id=\"T_df8ab_level0_row68\" class=\"row_heading level0 row68\" >69</th>\n",
       "      <td id=\"T_df8ab_row68_col0\" class=\"data row68 col0\" >2025-03-30</td>\n",
       "      <td id=\"T_df8ab_row68_col1\" class=\"data row68 col1\" > 951822491</td>\n",
       "      <td id=\"T_df8ab_row68_col2\" class=\"data row68 col2\" > TF</td>\n",
       "      <td id=\"T_df8ab_row68_col3\" class=\"data row68 col3\" > Pago ICE Teléfono 17943090    </td>\n",
       "      <td id=\"T_df8ab_row68_col4\" class=\"data row68 col4\" >32508.530000</td>\n",
       "      <td id=\"T_df8ab_row68_col5\" class=\"data row68 col5\" >0.000000</td>\n",
       "      <td id=\"T_df8ab_row68_col6\" class=\"data row68 col6\" >2358650.800000</td>\n",
       "      <td id=\"T_df8ab_row68_col7\" class=\"data row68 col7\" >-32508.530000</td>\n",
       "    </tr>\n",
       "    <tr>\n",
       "      <th id=\"T_df8ab_level0_row69\" class=\"row_heading level0 row69\" >70</th>\n",
       "      <td id=\"T_df8ab_row69_col0\" class=\"data row69 col0\" >2025-03-30</td>\n",
       "      <td id=\"T_df8ab_row69_col1\" class=\"data row69 col1\" > 33031520</td>\n",
       "      <td id=\"T_df8ab_row69_col2\" class=\"data row69 col2\" > 3O</td>\n",
       "      <td id=\"T_df8ab_row69_col3\" class=\"data row69 col3\" > INTERESES                     </td>\n",
       "      <td id=\"T_df8ab_row69_col4\" class=\"data row69 col4\" >0.000000</td>\n",
       "      <td id=\"T_df8ab_row69_col5\" class=\"data row69 col5\" >6.300000</td>\n",
       "      <td id=\"T_df8ab_row69_col6\" class=\"data row69 col6\" >2358657.000000</td>\n",
       "      <td id=\"T_df8ab_row69_col7\" class=\"data row69 col7\" >6.300000</td>\n",
       "    </tr>\n",
       "    <tr>\n",
       "      <th id=\"T_df8ab_level0_row70\" class=\"row_heading level0 row70\" >71</th>\n",
       "      <td id=\"T_df8ab_row70_col0\" class=\"data row70 col0\" >2025-03-31</td>\n",
       "      <td id=\"T_df8ab_row70_col1\" class=\"data row70 col1\" > 33168303</td>\n",
       "      <td id=\"T_df8ab_row70_col2\" class=\"data row70 col2\" > 3O</td>\n",
       "      <td id=\"T_df8ab_row70_col3\" class=\"data row70 col3\" > INTERESES                     </td>\n",
       "      <td id=\"T_df8ab_row70_col4\" class=\"data row70 col4\" >0.000000</td>\n",
       "      <td id=\"T_df8ab_row70_col5\" class=\"data row70 col5\" >6.390000</td>\n",
       "      <td id=\"T_df8ab_row70_col6\" class=\"data row70 col6\" >2358663.500000</td>\n",
       "      <td id=\"T_df8ab_row70_col7\" class=\"data row70 col7\" >6.390000</td>\n",
       "    </tr>\n",
       "  </tbody>\n",
       "</table>\n"
      ],
      "text/plain": [
       "<pandas.io.formats.style.Styler at 0x1b8b35c6e70>"
      ]
     },
     "execution_count": 2,
     "metadata": {},
     "output_type": "execute_result"
    }
   ],
   "source": [
    "l.styledDF()"
   ]
  },
  {
   "cell_type": "code",
   "execution_count": 3,
   "metadata": {},
   "outputs": [
    {
     "data": {
      "text/plain": [
       "3"
      ]
     },
     "execution_count": 3,
     "metadata": {},
     "output_type": "execute_result"
    }
   ],
   "source": [
    "def suma(a,b):\n",
    "    return a+b\n",
    "suma(1,2)"
   ]
  },
  {
   "cell_type": "code",
   "execution_count": 4,
   "metadata": {},
   "outputs": [
    {
     "data": {
      "text/plain": [
       "{'ganancias': 630963.1699999999, 'gastos': 508663.89}"
      ]
     },
     "execution_count": 4,
     "metadata": {},
     "output_type": "execute_result"
    }
   ],
   "source": [
    "l.gananciasPerdidas()"
   ]
  },
  {
   "cell_type": "code",
   "execution_count": 41,
   "metadata": {},
   "outputs": [
    {
     "name": "stderr",
     "output_type": "stream",
     "text": [
      "2025-04-13 21:40:50.191 No runtime found, using MemoryCacheStorageManager\n",
      "2025-04-13 21:40:50.196 Thread 'MainThread': missing ScriptRunContext! This warning can be ignored when running in bare mode.\n",
      "2025-04-13 21:40:50.198 Thread 'MainThread': missing ScriptRunContext! This warning can be ignored when running in bare mode.\n",
      "2025-04-13 21:40:50.200 Thread 'MainThread': missing ScriptRunContext! This warning can be ignored when running in bare mode.\n",
      "2025-04-13 21:40:50.218 Thread 'MainThread': missing ScriptRunContext! This warning can be ignored when running in bare mode.\n",
      "2025-04-13 21:40:50.220 Thread 'MainThread': missing ScriptRunContext! This warning can be ignored when running in bare mode.\n"
     ]
    },
    {
     "data": {
      "text/html": [
       "<div>\n",
       "<style scoped>\n",
       "    .dataframe tbody tr th:only-of-type {\n",
       "        vertical-align: middle;\n",
       "    }\n",
       "\n",
       "    .dataframe tbody tr th {\n",
       "        vertical-align: top;\n",
       "    }\n",
       "\n",
       "    .dataframe thead th {\n",
       "        text-align: right;\n",
       "    }\n",
       "</style>\n",
       "<table border=\"1\" class=\"dataframe\">\n",
       "  <thead>\n",
       "    <tr style=\"text-align: right;\">\n",
       "      <th></th>\n",
       "      <th>Fechas</th>\n",
       "      <th>Referencia</th>\n",
       "      <th>Código</th>\n",
       "      <th>Descripcion</th>\n",
       "      <th>Débito</th>\n",
       "      <th>Crédito</th>\n",
       "      <th>Balance</th>\n",
       "      <th>Aporte neto</th>\n",
       "    </tr>\n",
       "    <tr>\n",
       "      <th>id</th>\n",
       "      <th></th>\n",
       "      <th></th>\n",
       "      <th></th>\n",
       "      <th></th>\n",
       "      <th></th>\n",
       "      <th></th>\n",
       "      <th></th>\n",
       "      <th></th>\n",
       "    </tr>\n",
       "  </thead>\n",
       "  <tbody>\n",
       "    <tr>\n",
       "      <th>1</th>\n",
       "      <td>2025-01-01</td>\n",
       "      <td>MiEjemplo</td>\n",
       "      <td>132718</td>\n",
       "      <td>Esto es un ejemplo</td>\n",
       "      <td>1327.18</td>\n",
       "      <td>0.00</td>\n",
       "      <td>0.0</td>\n",
       "      <td>-1327.18</td>\n",
       "    </tr>\n",
       "    <tr>\n",
       "      <th>2</th>\n",
       "      <td>2025-03-01</td>\n",
       "      <td>22800000</td>\n",
       "      <td>CP</td>\n",
       "      <td>DLC*UBER RIDES\\       SAN JOSE</td>\n",
       "      <td>1526.32</td>\n",
       "      <td>0.00</td>\n",
       "      <td>2234837.8</td>\n",
       "      <td>-1526.32</td>\n",
       "    </tr>\n",
       "    <tr>\n",
       "      <th>3</th>\n",
       "      <td>2025-03-01</td>\n",
       "      <td>30140889</td>\n",
       "      <td>3O</td>\n",
       "      <td>INTERESES</td>\n",
       "      <td>0.00</td>\n",
       "      <td>6.04</td>\n",
       "      <td>2234844.0</td>\n",
       "      <td>6.04</td>\n",
       "    </tr>\n",
       "    <tr>\n",
       "      <th>4</th>\n",
       "      <td>2025-03-02</td>\n",
       "      <td>30100000</td>\n",
       "      <td>CP</td>\n",
       "      <td>DLC*UBER RIDES\\       SAN JOSE</td>\n",
       "      <td>1470.86</td>\n",
       "      <td>0.00</td>\n",
       "      <td>2233373.0</td>\n",
       "      <td>-1470.86</td>\n",
       "    </tr>\n",
       "    <tr>\n",
       "      <th>5</th>\n",
       "      <td>2025-03-02</td>\n",
       "      <td>30230565</td>\n",
       "      <td>3O</td>\n",
       "      <td>INTERESES</td>\n",
       "      <td>0.00</td>\n",
       "      <td>6.04</td>\n",
       "      <td>2233379.0</td>\n",
       "      <td>6.04</td>\n",
       "    </tr>\n",
       "    <tr>\n",
       "      <th>...</th>\n",
       "      <td>...</td>\n",
       "      <td>...</td>\n",
       "      <td>...</td>\n",
       "      <td>...</td>\n",
       "      <td>...</td>\n",
       "      <td>...</td>\n",
       "      <td>...</td>\n",
       "      <td>...</td>\n",
       "    </tr>\n",
       "    <tr>\n",
       "      <th>67</th>\n",
       "      <td>2025-03-29</td>\n",
       "      <td>958403802</td>\n",
       "      <td>TS</td>\n",
       "      <td>SINPE MOVIL Llanta_Romualdo_Al</td>\n",
       "      <td>4000.00</td>\n",
       "      <td>0.00</td>\n",
       "      <td>2391152.8</td>\n",
       "      <td>-4000.00</td>\n",
       "    </tr>\n",
       "    <tr>\n",
       "      <th>68</th>\n",
       "      <td>2025-03-29</td>\n",
       "      <td>32935226</td>\n",
       "      <td>3O</td>\n",
       "      <td>INTERESES</td>\n",
       "      <td>0.00</td>\n",
       "      <td>6.48</td>\n",
       "      <td>2391159.2</td>\n",
       "      <td>6.48</td>\n",
       "    </tr>\n",
       "    <tr>\n",
       "      <th>69</th>\n",
       "      <td>2025-03-30</td>\n",
       "      <td>951822491</td>\n",
       "      <td>TF</td>\n",
       "      <td>Pago ICE Teléfono 17943090</td>\n",
       "      <td>32508.53</td>\n",
       "      <td>0.00</td>\n",
       "      <td>2358650.8</td>\n",
       "      <td>-32508.53</td>\n",
       "    </tr>\n",
       "    <tr>\n",
       "      <th>70</th>\n",
       "      <td>2025-03-30</td>\n",
       "      <td>33031520</td>\n",
       "      <td>3O</td>\n",
       "      <td>INTERESES</td>\n",
       "      <td>0.00</td>\n",
       "      <td>6.30</td>\n",
       "      <td>2358657.0</td>\n",
       "      <td>6.30</td>\n",
       "    </tr>\n",
       "    <tr>\n",
       "      <th>71</th>\n",
       "      <td>2025-03-31</td>\n",
       "      <td>33168303</td>\n",
       "      <td>3O</td>\n",
       "      <td>INTERESES</td>\n",
       "      <td>0.00</td>\n",
       "      <td>6.39</td>\n",
       "      <td>2358663.5</td>\n",
       "      <td>6.39</td>\n",
       "    </tr>\n",
       "  </tbody>\n",
       "</table>\n",
       "<p>71 rows × 8 columns</p>\n",
       "</div>"
      ],
      "text/plain": [
       "        Fechas  Referencia  Código                      Descripcion    Débito  \\\n",
       "id                                                                              \n",
       "1   2025-01-01   MiEjemplo  132718               Esto es un ejemplo   1327.18   \n",
       "2   2025-03-01    22800000      CP   DLC*UBER RIDES\\       SAN JOSE   1526.32   \n",
       "3   2025-03-01    30140889      3O   INTERESES                           0.00   \n",
       "4   2025-03-02    30100000      CP   DLC*UBER RIDES\\       SAN JOSE   1470.86   \n",
       "5   2025-03-02    30230565      3O   INTERESES                           0.00   \n",
       "..         ...         ...     ...                              ...       ...   \n",
       "67  2025-03-29   958403802      TS   SINPE MOVIL Llanta_Romualdo_Al   4000.00   \n",
       "68  2025-03-29    32935226      3O   INTERESES                           0.00   \n",
       "69  2025-03-30   951822491      TF   Pago ICE Teléfono 17943090      32508.53   \n",
       "70  2025-03-30    33031520      3O   INTERESES                           0.00   \n",
       "71  2025-03-31    33168303      3O   INTERESES                           0.00   \n",
       "\n",
       "    Crédito    Balance  Aporte neto  \n",
       "id                                   \n",
       "1      0.00        0.0     -1327.18  \n",
       "2      0.00  2234837.8     -1526.32  \n",
       "3      6.04  2234844.0         6.04  \n",
       "4      0.00  2233373.0     -1470.86  \n",
       "5      6.04  2233379.0         6.04  \n",
       "..      ...        ...          ...  \n",
       "67     0.00  2391152.8     -4000.00  \n",
       "68     6.48  2391159.2         6.48  \n",
       "69     0.00  2358650.8    -32508.53  \n",
       "70     6.30  2358657.0         6.30  \n",
       "71     6.39  2358663.5         6.39  \n",
       "\n",
       "[71 rows x 8 columns]"
      ]
     },
     "execution_count": 41,
     "metadata": {},
     "output_type": "execute_result"
    }
   ],
   "source": [
    "d=l.read_histFromDB(redfineDf=False)\n",
    "d.set_index(\"id\", inplace=True)\n",
    "d.columns=[\"Fechas\", \"Referencia\", \"Código\", \"Descripcion\", \"Débito\", \"Crédito\", \"Balance\"]\n",
    "d[\"Aporte neto\"] = d[\"Crédito\"]-d[\"Débito\"]\n",
    "d\n"
   ]
  },
  {
   "cell_type": "code",
   "execution_count": 29,
   "metadata": {},
   "outputs": [
    {
     "data": {
      "text/html": [
       "<div>\n",
       "<style scoped>\n",
       "    .dataframe tbody tr th:only-of-type {\n",
       "        vertical-align: middle;\n",
       "    }\n",
       "\n",
       "    .dataframe tbody tr th {\n",
       "        vertical-align: top;\n",
       "    }\n",
       "\n",
       "    .dataframe thead th {\n",
       "        text-align: right;\n",
       "    }\n",
       "</style>\n",
       "<table border=\"1\" class=\"dataframe\">\n",
       "  <thead>\n",
       "    <tr style=\"text-align: right;\">\n",
       "      <th></th>\n",
       "      <th>Fechas</th>\n",
       "      <th>Referencia</th>\n",
       "      <th>Código</th>\n",
       "      <th>Descripición</th>\n",
       "      <th>Débito</th>\n",
       "      <th>Crédito</th>\n",
       "      <th>Balance</th>\n",
       "      <th>Aporte neto</th>\n",
       "    </tr>\n",
       "  </thead>\n",
       "  <tbody>\n",
       "    <tr>\n",
       "      <th>1</th>\n",
       "      <td>2025-03-01</td>\n",
       "      <td>22800000</td>\n",
       "      <td>CP</td>\n",
       "      <td>DLC*UBER RIDES\\       SAN JOSE</td>\n",
       "      <td>1526.32</td>\n",
       "      <td>0.00</td>\n",
       "      <td>2234837.84</td>\n",
       "      <td>-1526.32</td>\n",
       "    </tr>\n",
       "    <tr>\n",
       "      <th>2</th>\n",
       "      <td>2025-03-01</td>\n",
       "      <td>30140889</td>\n",
       "      <td>3O</td>\n",
       "      <td>INTERESES</td>\n",
       "      <td>0.00</td>\n",
       "      <td>6.04</td>\n",
       "      <td>2234843.88</td>\n",
       "      <td>6.04</td>\n",
       "    </tr>\n",
       "    <tr>\n",
       "      <th>3</th>\n",
       "      <td>2025-03-02</td>\n",
       "      <td>30100000</td>\n",
       "      <td>CP</td>\n",
       "      <td>DLC*UBER RIDES\\       SAN JOSE</td>\n",
       "      <td>1470.86</td>\n",
       "      <td>0.00</td>\n",
       "      <td>2233373.02</td>\n",
       "      <td>-1470.86</td>\n",
       "    </tr>\n",
       "    <tr>\n",
       "      <th>4</th>\n",
       "      <td>2025-03-02</td>\n",
       "      <td>30230565</td>\n",
       "      <td>3O</td>\n",
       "      <td>INTERESES</td>\n",
       "      <td>0.00</td>\n",
       "      <td>6.04</td>\n",
       "      <td>2233379.06</td>\n",
       "      <td>6.04</td>\n",
       "    </tr>\n",
       "    <tr>\n",
       "      <th>5</th>\n",
       "      <td>2025-03-03</td>\n",
       "      <td>30200000</td>\n",
       "      <td>CP</td>\n",
       "      <td>DLC*UBER EATS\\        SAN JOSE</td>\n",
       "      <td>30889.18</td>\n",
       "      <td>0.00</td>\n",
       "      <td>2202489.88</td>\n",
       "      <td>-30889.18</td>\n",
       "    </tr>\n",
       "    <tr>\n",
       "      <th>...</th>\n",
       "      <td>...</td>\n",
       "      <td>...</td>\n",
       "      <td>...</td>\n",
       "      <td>...</td>\n",
       "      <td>...</td>\n",
       "      <td>...</td>\n",
       "      <td>...</td>\n",
       "      <td>...</td>\n",
       "    </tr>\n",
       "    <tr>\n",
       "      <th>66</th>\n",
       "      <td>2025-03-29</td>\n",
       "      <td>958403802</td>\n",
       "      <td>TS</td>\n",
       "      <td>SINPE MOVIL Llanta_Romualdo_Al</td>\n",
       "      <td>4000.00</td>\n",
       "      <td>0.00</td>\n",
       "      <td>2391152.80</td>\n",
       "      <td>-4000.00</td>\n",
       "    </tr>\n",
       "    <tr>\n",
       "      <th>67</th>\n",
       "      <td>2025-03-29</td>\n",
       "      <td>32935226</td>\n",
       "      <td>3O</td>\n",
       "      <td>INTERESES</td>\n",
       "      <td>0.00</td>\n",
       "      <td>6.48</td>\n",
       "      <td>2391159.28</td>\n",
       "      <td>6.48</td>\n",
       "    </tr>\n",
       "    <tr>\n",
       "      <th>68</th>\n",
       "      <td>2025-03-30</td>\n",
       "      <td>951822491</td>\n",
       "      <td>TF</td>\n",
       "      <td>Pago ICE Teléfono 17943090</td>\n",
       "      <td>32508.53</td>\n",
       "      <td>0.00</td>\n",
       "      <td>2358650.75</td>\n",
       "      <td>-32508.53</td>\n",
       "    </tr>\n",
       "    <tr>\n",
       "      <th>69</th>\n",
       "      <td>2025-03-30</td>\n",
       "      <td>33031520</td>\n",
       "      <td>3O</td>\n",
       "      <td>INTERESES</td>\n",
       "      <td>0.00</td>\n",
       "      <td>6.30</td>\n",
       "      <td>2358657.05</td>\n",
       "      <td>6.30</td>\n",
       "    </tr>\n",
       "    <tr>\n",
       "      <th>70</th>\n",
       "      <td>2025-03-31</td>\n",
       "      <td>33168303</td>\n",
       "      <td>3O</td>\n",
       "      <td>INTERESES</td>\n",
       "      <td>0.00</td>\n",
       "      <td>6.39</td>\n",
       "      <td>2358663.44</td>\n",
       "      <td>6.39</td>\n",
       "    </tr>\n",
       "  </tbody>\n",
       "</table>\n",
       "<p>70 rows × 8 columns</p>\n",
       "</div>"
      ],
      "text/plain": [
       "       Fechas  Referencia Código                     Descripición    Débito  \\\n",
       "1  2025-03-01    22800000     CP   DLC*UBER RIDES\\       SAN JOSE   1526.32   \n",
       "2  2025-03-01    30140889     3O   INTERESES                           0.00   \n",
       "3  2025-03-02    30100000     CP   DLC*UBER RIDES\\       SAN JOSE   1470.86   \n",
       "4  2025-03-02    30230565     3O   INTERESES                           0.00   \n",
       "5  2025-03-03    30200000     CP   DLC*UBER EATS\\        SAN JOSE  30889.18   \n",
       "..        ...         ...    ...                              ...       ...   \n",
       "66 2025-03-29   958403802     TS   SINPE MOVIL Llanta_Romualdo_Al   4000.00   \n",
       "67 2025-03-29    32935226     3O   INTERESES                           0.00   \n",
       "68 2025-03-30   951822491     TF   Pago ICE Teléfono 17943090      32508.53   \n",
       "69 2025-03-30    33031520     3O   INTERESES                           0.00   \n",
       "70 2025-03-31    33168303     3O   INTERESES                           0.00   \n",
       "\n",
       "    Crédito     Balance  Aporte neto  \n",
       "1      0.00  2234837.84     -1526.32  \n",
       "2      6.04  2234843.88         6.04  \n",
       "3      0.00  2233373.02     -1470.86  \n",
       "4      6.04  2233379.06         6.04  \n",
       "5      0.00  2202489.88    -30889.18  \n",
       "..      ...         ...          ...  \n",
       "66     0.00  2391152.80     -4000.00  \n",
       "67     6.48  2391159.28         6.48  \n",
       "68     0.00  2358650.75    -32508.53  \n",
       "69     6.30  2358657.05         6.30  \n",
       "70     6.39  2358663.44         6.39  \n",
       "\n",
       "[70 rows x 8 columns]"
      ]
     },
     "execution_count": 29,
     "metadata": {},
     "output_type": "execute_result"
    }
   ],
   "source": [
    "l.df"
   ]
  },
  {
   "cell_type": "code",
   "execution_count": 27,
   "metadata": {},
   "outputs": [
    {
     "name": "stderr",
     "output_type": "stream",
     "text": [
      "C:\\Users\\gabri\\AppData\\Local\\Temp\\ipykernel_28340\\3572288700.py:7: UserWarning:\n",
      "\n",
      "FigureCanvasAgg is non-interactive, and thus cannot be shown\n",
      "\n"
     ]
    }
   ],
   "source": [
    "info=l.df[[\"Crédito\"]].query(\"Crédito != 0\")\n",
    "info.describe()\n",
    "\n",
    "import matplotlib.pyplot as plt\n",
    "info=info[\"Crédito\"].to_list()\n",
    "plt.boxplot(x=info)\n",
    "plt.show()"
   ]
  },
  {
   "cell_type": "code",
   "execution_count": 11,
   "metadata": {},
   "outputs": [
    {
     "data": {
      "application/vnd.plotly.v1+json": {
       "config": {
        "plotlyServerURL": "https://plot.ly"
       },
       "data": [
        {
         "alignmentgroup": "True",
         "hovertemplate": "Tipo=%{x}<br>Monto=%{text}<extra></extra>",
         "legendgroup": "Ganancias",
         "marker": {
          "color": "#000001",
          "pattern": {
           "shape": ""
          }
         },
         "name": "Ganancias",
         "offsetgroup": "Ganancias",
         "orientation": "v",
         "showlegend": true,
         "text": [
          "ganancias"
         ],
         "textposition": "auto",
         "type": "bar",
         "x": [
          "Ganancias"
         ],
         "xaxis": "x",
         "y": [
          "ganancias"
         ],
         "yaxis": "y"
        },
        {
         "alignmentgroup": "True",
         "hovertemplate": "Tipo=%{x}<br>Monto=%{text}<extra></extra>",
         "legendgroup": "Gastos",
         "marker": {
          "color": "#000002",
          "pattern": {
           "shape": ""
          }
         },
         "name": "Gastos",
         "offsetgroup": "Gastos",
         "orientation": "v",
         "showlegend": true,
         "text": [
          "gastos"
         ],
         "textposition": "auto",
         "type": "bar",
         "x": [
          "Gastos"
         ],
         "xaxis": "x",
         "y": [
          "gastos"
         ],
         "yaxis": "y"
        }
       ],
       "layout": {
        "barmode": "relative",
        "legend": {
         "title": {
          "text": "Tipo"
         },
         "tracegroupgap": 0
        },
        "template": {
         "data": {
          "candlestick": [
           {
            "decreasing": {
             "line": {
              "color": "#000033"
             }
            },
            "increasing": {
             "line": {
              "color": "#000032"
             }
            },
            "type": "candlestick"
           }
          ],
          "contour": [
           {
            "colorscale": [
             [
              0,
              "#000011"
             ],
             [
              0.1111111111111111,
              "#000012"
             ],
             [
              0.2222222222222222,
              "#000013"
             ],
             [
              0.3333333333333333,
              "#000014"
             ],
             [
              0.4444444444444444,
              "#000015"
             ],
             [
              0.5555555555555556,
              "#000016"
             ],
             [
              0.6666666666666666,
              "#000017"
             ],
             [
              0.7777777777777778,
              "#000018"
             ],
             [
              0.8888888888888888,
              "#000019"
             ],
             [
              1,
              "#000020"
             ]
            ],
            "type": "contour"
           }
          ],
          "contourcarpet": [
           {
            "colorscale": [
             [
              0,
              "#000011"
             ],
             [
              0.1111111111111111,
              "#000012"
             ],
             [
              0.2222222222222222,
              "#000013"
             ],
             [
              0.3333333333333333,
              "#000014"
             ],
             [
              0.4444444444444444,
              "#000015"
             ],
             [
              0.5555555555555556,
              "#000016"
             ],
             [
              0.6666666666666666,
              "#000017"
             ],
             [
              0.7777777777777778,
              "#000018"
             ],
             [
              0.8888888888888888,
              "#000019"
             ],
             [
              1,
              "#000020"
             ]
            ],
            "type": "contourcarpet"
           }
          ],
          "heatmap": [
           {
            "colorscale": [
             [
              0,
              "#000011"
             ],
             [
              0.1111111111111111,
              "#000012"
             ],
             [
              0.2222222222222222,
              "#000013"
             ],
             [
              0.3333333333333333,
              "#000014"
             ],
             [
              0.4444444444444444,
              "#000015"
             ],
             [
              0.5555555555555556,
              "#000016"
             ],
             [
              0.6666666666666666,
              "#000017"
             ],
             [
              0.7777777777777778,
              "#000018"
             ],
             [
              0.8888888888888888,
              "#000019"
             ],
             [
              1,
              "#000020"
             ]
            ],
            "type": "heatmap"
           }
          ],
          "histogram2d": [
           {
            "colorscale": [
             [
              0,
              "#000011"
             ],
             [
              0.1111111111111111,
              "#000012"
             ],
             [
              0.2222222222222222,
              "#000013"
             ],
             [
              0.3333333333333333,
              "#000014"
             ],
             [
              0.4444444444444444,
              "#000015"
             ],
             [
              0.5555555555555556,
              "#000016"
             ],
             [
              0.6666666666666666,
              "#000017"
             ],
             [
              0.7777777777777778,
              "#000018"
             ],
             [
              0.8888888888888888,
              "#000019"
             ],
             [
              1,
              "#000020"
             ]
            ],
            "type": "histogram2d"
           }
          ],
          "icicle": [
           {
            "textfont": {
             "color": "white"
            },
            "type": "icicle"
           }
          ],
          "sankey": [
           {
            "textfont": {
             "color": "#000036"
            },
            "type": "sankey"
           }
          ],
          "scatter": [
           {
            "marker": {
             "line": {
              "width": 0
             }
            },
            "type": "scatter"
           }
          ],
          "table": [
           {
            "cells": {
             "fill": {
              "color": "#000038"
             },
             "font": {
              "color": "#000037"
             },
             "line": {
              "color": "#000039"
             }
            },
            "header": {
             "fill": {
              "color": "#000040"
             },
             "font": {
              "color": "#000036"
             },
             "line": {
              "color": "#000039"
             }
            },
            "type": "table"
           }
          ],
          "waterfall": [
           {
            "connector": {
             "line": {
              "color": "#000036",
              "width": 2
             }
            },
            "decreasing": {
             "marker": {
              "color": "#000033"
             }
            },
            "increasing": {
             "marker": {
              "color": "#000032"
             }
            },
            "totals": {
             "marker": {
              "color": "#000034"
             }
            },
            "type": "waterfall"
           }
          ]
         },
         "layout": {
          "coloraxis": {
           "colorscale": [
            [
             0,
             "#000011"
            ],
            [
             0.1111111111111111,
             "#000012"
            ],
            [
             0.2222222222222222,
             "#000013"
            ],
            [
             0.3333333333333333,
             "#000014"
            ],
            [
             0.4444444444444444,
             "#000015"
            ],
            [
             0.5555555555555556,
             "#000016"
            ],
            [
             0.6666666666666666,
             "#000017"
            ],
            [
             0.7777777777777778,
             "#000018"
            ],
            [
             0.8888888888888888,
             "#000019"
            ],
            [
             1,
             "#000020"
            ]
           ]
          },
          "colorscale": {
           "diverging": [
            [
             0,
             "#000021"
            ],
            [
             0.1,
             "#000022"
            ],
            [
             0.2,
             "#000023"
            ],
            [
             0.3,
             "#000024"
            ],
            [
             0.4,
             "#000025"
            ],
            [
             0.5,
             "#000026"
            ],
            [
             0.6,
             "#000027"
            ],
            [
             0.7,
             "#000028"
            ],
            [
             0.8,
             "#000029"
            ],
            [
             0.9,
             "#000030"
            ],
            [
             1,
             "#000031"
            ]
           ],
           "sequential": [
            [
             0,
             "#000011"
            ],
            [
             0.1111111111111111,
             "#000012"
            ],
            [
             0.2222222222222222,
             "#000013"
            ],
            [
             0.3333333333333333,
             "#000014"
            ],
            [
             0.4444444444444444,
             "#000015"
            ],
            [
             0.5555555555555556,
             "#000016"
            ],
            [
             0.6666666666666666,
             "#000017"
            ],
            [
             0.7777777777777778,
             "#000018"
            ],
            [
             0.8888888888888888,
             "#000019"
            ],
            [
             1,
             "#000020"
            ]
           ],
           "sequentialminus": [
            [
             0,
             "#000011"
            ],
            [
             0.1111111111111111,
             "#000012"
            ],
            [
             0.2222222222222222,
             "#000013"
            ],
            [
             0.3333333333333333,
             "#000014"
            ],
            [
             0.4444444444444444,
             "#000015"
            ],
            [
             0.5555555555555556,
             "#000016"
            ],
            [
             0.6666666666666666,
             "#000017"
            ],
            [
             0.7777777777777778,
             "#000018"
            ],
            [
             0.8888888888888888,
             "#000019"
            ],
            [
             1,
             "#000020"
            ]
           ]
          },
          "colorway": [
           "#000001",
           "#000002",
           "#000003",
           "#000004",
           "#000005",
           "#000006",
           "#000007",
           "#000008",
           "#000009",
           "#000010"
          ]
         }
        },
        "title": {
         "text": "Ganancia vs Gastos"
        },
        "xaxis": {
         "anchor": "y",
         "categoryarray": [
          "Ganancias",
          "Gastos"
         ],
         "categoryorder": "array",
         "domain": [
          0,
          1
         ],
         "title": {
          "text": "Tipo"
         }
        },
        "yaxis": {
         "anchor": "x",
         "domain": [
          0,
          1
         ],
         "title": {
          "text": "Monto"
         }
        }
       }
      }
     },
     "metadata": {},
     "output_type": "display_data"
    }
   ],
   "source": [
    "l.graph_gananciasPerdidas()\n"
   ]
  },
  {
   "cell_type": "code",
   "execution_count": 6,
   "metadata": {},
   "outputs": [
    {
     "data": {
      "application/vnd.plotly.v1+json": {
       "config": {
        "plotlyServerURL": "https://plot.ly"
       },
       "data": [
        {
         "hovertemplate": "Fechas=%{x}<br>Balance=%{y}<extra></extra>",
         "legendgroup": "",
         "line": {
          "color": "#000001",
          "dash": "solid"
         },
         "marker": {
          "symbol": "circle"
         },
         "mode": "lines",
         "name": "",
         "orientation": "v",
         "showlegend": false,
         "type": "scatter",
         "x": [
          "2025-03-01T00:00:00",
          "2025-03-01T00:00:00",
          "2025-03-02T00:00:00",
          "2025-03-02T00:00:00",
          "2025-03-03T00:00:00",
          "2025-03-03T00:00:00",
          "2025-03-03T00:00:00",
          "2025-03-04T00:00:00",
          "2025-03-04T00:00:00",
          "2025-03-05T00:00:00",
          "2025-03-06T00:00:00",
          "2025-03-07T00:00:00",
          "2025-03-08T00:00:00",
          "2025-03-08T00:00:00",
          "2025-03-09T00:00:00",
          "2025-03-10T00:00:00",
          "2025-03-11T00:00:00",
          "2025-03-11T00:00:00",
          "2025-03-12T00:00:00",
          "2025-03-12T00:00:00",
          "2025-03-12T00:00:00",
          "2025-03-12T00:00:00",
          "2025-03-13T00:00:00",
          "2025-03-13T00:00:00",
          "2025-03-13T00:00:00",
          "2025-03-13T00:00:00",
          "2025-03-13T00:00:00",
          "2025-03-14T00:00:00",
          "2025-03-15T00:00:00",
          "2025-03-16T00:00:00",
          "2025-03-17T00:00:00",
          "2025-03-17T00:00:00",
          "2025-03-18T00:00:00",
          "2025-03-18T00:00:00",
          "2025-03-19T00:00:00",
          "2025-03-20T00:00:00",
          "2025-03-20T00:00:00",
          "2025-03-20T00:00:00",
          "2025-03-20T00:00:00",
          "2025-03-21T00:00:00",
          "2025-03-21T00:00:00",
          "2025-03-22T00:00:00",
          "2025-03-22T00:00:00",
          "2025-03-23T00:00:00",
          "2025-03-23T00:00:00",
          "2025-03-23T00:00:00",
          "2025-03-23T00:00:00",
          "2025-03-23T00:00:00",
          "2025-03-24T00:00:00",
          "2025-03-24T00:00:00",
          "2025-03-24T00:00:00",
          "2025-03-24T00:00:00",
          "2025-03-24T00:00:00",
          "2025-03-24T00:00:00",
          "2025-03-25T00:00:00",
          "2025-03-25T00:00:00",
          "2025-03-26T00:00:00",
          "2025-03-27T00:00:00",
          "2025-03-27T00:00:00",
          "2025-03-27T00:00:00",
          "2025-03-27T00:00:00",
          "2025-03-27T00:00:00",
          "2025-03-28T00:00:00",
          "2025-03-28T00:00:00",
          "2025-03-28T00:00:00",
          "2025-03-29T00:00:00",
          "2025-03-29T00:00:00",
          "2025-03-30T00:00:00",
          "2025-03-30T00:00:00",
          "2025-03-31T00:00:00"
         ],
         "xaxis": "x",
         "y": [
          2234837.84,
          2234843.88,
          2233373.02,
          2233379.06,
          2202489.88,
          2201073.42,
          2201079.12,
          2193003.83,
          2193009.77,
          2193015.71,
          2193021.65,
          2193027.59,
          2191623.61,
          2191629.54,
          2191635.48,
          2191641.42,
          2189867.97,
          2189873.88,
          2168873.88,
          2147373.88,
          2073741.01,
          2073746.62,
          2072245.29,
          2068630.36,
          2065921.11,
          1965921.11,
          1965926.37,
          1965931.69,
          1965937.01,
          1965942.33,
          1892309.46,
          1892314.58,
          1843814.58,
          1843819.56,
          1843824.54,
          1845551.46,
          1841351.65,
          1838756.68,
          1838761.61,
          1833161.61,
          1833166.54,
          1830685.29,
          1830690.22,
          1829424.28,
          1824264.28,
          1824229.28,
          1821854.28,
          1821859.15,
          1818233.95,
          1817241.6,
          1816991.6,
          1802058.6,
          1793983.31,
          1793988.02,
          1787388.02,
          1787392.81,
          1787397.64,
          1780397.64,
          1778650.36,
          1775957.88,
          1766957.88,
          1766962.56,
          1766081.56,
          2395146.32,
          2395152.8,
          2391152.8,
          2391159.28,
          2358650.75,
          2358657.05,
          2358663.44
         ],
         "yaxis": "y"
        }
       ],
       "layout": {
        "legend": {
         "tracegroupgap": 0
        },
        "template": {
         "data": {
          "candlestick": [
           {
            "decreasing": {
             "line": {
              "color": "#000033"
             }
            },
            "increasing": {
             "line": {
              "color": "#000032"
             }
            },
            "type": "candlestick"
           }
          ],
          "contour": [
           {
            "colorscale": [
             [
              0,
              "#000011"
             ],
             [
              0.1111111111111111,
              "#000012"
             ],
             [
              0.2222222222222222,
              "#000013"
             ],
             [
              0.3333333333333333,
              "#000014"
             ],
             [
              0.4444444444444444,
              "#000015"
             ],
             [
              0.5555555555555556,
              "#000016"
             ],
             [
              0.6666666666666666,
              "#000017"
             ],
             [
              0.7777777777777778,
              "#000018"
             ],
             [
              0.8888888888888888,
              "#000019"
             ],
             [
              1,
              "#000020"
             ]
            ],
            "type": "contour"
           }
          ],
          "contourcarpet": [
           {
            "colorscale": [
             [
              0,
              "#000011"
             ],
             [
              0.1111111111111111,
              "#000012"
             ],
             [
              0.2222222222222222,
              "#000013"
             ],
             [
              0.3333333333333333,
              "#000014"
             ],
             [
              0.4444444444444444,
              "#000015"
             ],
             [
              0.5555555555555556,
              "#000016"
             ],
             [
              0.6666666666666666,
              "#000017"
             ],
             [
              0.7777777777777778,
              "#000018"
             ],
             [
              0.8888888888888888,
              "#000019"
             ],
             [
              1,
              "#000020"
             ]
            ],
            "type": "contourcarpet"
           }
          ],
          "heatmap": [
           {
            "colorscale": [
             [
              0,
              "#000011"
             ],
             [
              0.1111111111111111,
              "#000012"
             ],
             [
              0.2222222222222222,
              "#000013"
             ],
             [
              0.3333333333333333,
              "#000014"
             ],
             [
              0.4444444444444444,
              "#000015"
             ],
             [
              0.5555555555555556,
              "#000016"
             ],
             [
              0.6666666666666666,
              "#000017"
             ],
             [
              0.7777777777777778,
              "#000018"
             ],
             [
              0.8888888888888888,
              "#000019"
             ],
             [
              1,
              "#000020"
             ]
            ],
            "type": "heatmap"
           }
          ],
          "histogram2d": [
           {
            "colorscale": [
             [
              0,
              "#000011"
             ],
             [
              0.1111111111111111,
              "#000012"
             ],
             [
              0.2222222222222222,
              "#000013"
             ],
             [
              0.3333333333333333,
              "#000014"
             ],
             [
              0.4444444444444444,
              "#000015"
             ],
             [
              0.5555555555555556,
              "#000016"
             ],
             [
              0.6666666666666666,
              "#000017"
             ],
             [
              0.7777777777777778,
              "#000018"
             ],
             [
              0.8888888888888888,
              "#000019"
             ],
             [
              1,
              "#000020"
             ]
            ],
            "type": "histogram2d"
           }
          ],
          "icicle": [
           {
            "textfont": {
             "color": "white"
            },
            "type": "icicle"
           }
          ],
          "sankey": [
           {
            "textfont": {
             "color": "#000036"
            },
            "type": "sankey"
           }
          ],
          "scatter": [
           {
            "marker": {
             "line": {
              "width": 0
             }
            },
            "type": "scatter"
           }
          ],
          "table": [
           {
            "cells": {
             "fill": {
              "color": "#000038"
             },
             "font": {
              "color": "#000037"
             },
             "line": {
              "color": "#000039"
             }
            },
            "header": {
             "fill": {
              "color": "#000040"
             },
             "font": {
              "color": "#000036"
             },
             "line": {
              "color": "#000039"
             }
            },
            "type": "table"
           }
          ],
          "waterfall": [
           {
            "connector": {
             "line": {
              "color": "#000036",
              "width": 2
             }
            },
            "decreasing": {
             "marker": {
              "color": "#000033"
             }
            },
            "increasing": {
             "marker": {
              "color": "#000032"
             }
            },
            "totals": {
             "marker": {
              "color": "#000034"
             }
            },
            "type": "waterfall"
           }
          ]
         },
         "layout": {
          "coloraxis": {
           "colorscale": [
            [
             0,
             "#000011"
            ],
            [
             0.1111111111111111,
             "#000012"
            ],
            [
             0.2222222222222222,
             "#000013"
            ],
            [
             0.3333333333333333,
             "#000014"
            ],
            [
             0.4444444444444444,
             "#000015"
            ],
            [
             0.5555555555555556,
             "#000016"
            ],
            [
             0.6666666666666666,
             "#000017"
            ],
            [
             0.7777777777777778,
             "#000018"
            ],
            [
             0.8888888888888888,
             "#000019"
            ],
            [
             1,
             "#000020"
            ]
           ]
          },
          "colorscale": {
           "diverging": [
            [
             0,
             "#000021"
            ],
            [
             0.1,
             "#000022"
            ],
            [
             0.2,
             "#000023"
            ],
            [
             0.3,
             "#000024"
            ],
            [
             0.4,
             "#000025"
            ],
            [
             0.5,
             "#000026"
            ],
            [
             0.6,
             "#000027"
            ],
            [
             0.7,
             "#000028"
            ],
            [
             0.8,
             "#000029"
            ],
            [
             0.9,
             "#000030"
            ],
            [
             1,
             "#000031"
            ]
           ],
           "sequential": [
            [
             0,
             "#000011"
            ],
            [
             0.1111111111111111,
             "#000012"
            ],
            [
             0.2222222222222222,
             "#000013"
            ],
            [
             0.3333333333333333,
             "#000014"
            ],
            [
             0.4444444444444444,
             "#000015"
            ],
            [
             0.5555555555555556,
             "#000016"
            ],
            [
             0.6666666666666666,
             "#000017"
            ],
            [
             0.7777777777777778,
             "#000018"
            ],
            [
             0.8888888888888888,
             "#000019"
            ],
            [
             1,
             "#000020"
            ]
           ],
           "sequentialminus": [
            [
             0,
             "#000011"
            ],
            [
             0.1111111111111111,
             "#000012"
            ],
            [
             0.2222222222222222,
             "#000013"
            ],
            [
             0.3333333333333333,
             "#000014"
            ],
            [
             0.4444444444444444,
             "#000015"
            ],
            [
             0.5555555555555556,
             "#000016"
            ],
            [
             0.6666666666666666,
             "#000017"
            ],
            [
             0.7777777777777778,
             "#000018"
            ],
            [
             0.8888888888888888,
             "#000019"
            ],
            [
             1,
             "#000020"
            ]
           ]
          },
          "colorway": [
           "#000001",
           "#000002",
           "#000003",
           "#000004",
           "#000005",
           "#000006",
           "#000007",
           "#000008",
           "#000009",
           "#000010"
          ]
         }
        },
        "title": {
         "text": "Ganancia a lo largo del tiempo"
        },
        "xaxis": {
         "anchor": "y",
         "domain": [
          0,
          1
         ],
         "title": {
          "text": "Fechas"
         }
        },
        "yaxis": {
         "anchor": "x",
         "domain": [
          0,
          1
         ],
         "title": {
          "text": "Balance"
         }
        }
       }
      }
     },
     "metadata": {},
     "output_type": "display_data"
    }
   ],
   "source": [
    "l.graph_BalanceXTime()"
   ]
  },
  {
   "cell_type": "markdown",
   "metadata": {},
   "source": [
    "# Base de datos:"
   ]
  },
  {
   "cell_type": "markdown",
   "metadata": {},
   "source": [
    "### Leer de la base datos:"
   ]
  },
  {
   "cell_type": "code",
   "execution_count": 7,
   "metadata": {},
   "outputs": [
    {
     "name": "stderr",
     "output_type": "stream",
     "text": [
      "2025-04-13 18:58:15.031 No runtime found, using MemoryCacheStorageManager\n",
      "2025-04-13 18:58:15.034 Thread 'MainThread': missing ScriptRunContext! This warning can be ignored when running in bare mode.\n",
      "2025-04-13 18:58:15.038 Thread 'MainThread': missing ScriptRunContext! This warning can be ignored when running in bare mode.\n",
      "2025-04-13 18:58:15.039 Thread 'MainThread': missing ScriptRunContext! This warning can be ignored when running in bare mode.\n",
      "2025-04-13 18:58:15.046 Thread 'MainThread': missing ScriptRunContext! This warning can be ignored when running in bare mode.\n",
      "2025-04-13 18:58:15.048 Thread 'MainThread': missing ScriptRunContext! This warning can be ignored when running in bare mode.\n"
     ]
    },
    {
     "data": {
      "text/html": [
       "<div>\n",
       "<style scoped>\n",
       "    .dataframe tbody tr th:only-of-type {\n",
       "        vertical-align: middle;\n",
       "    }\n",
       "\n",
       "    .dataframe tbody tr th {\n",
       "        vertical-align: top;\n",
       "    }\n",
       "\n",
       "    .dataframe thead th {\n",
       "        text-align: right;\n",
       "    }\n",
       "</style>\n",
       "<table border=\"1\" class=\"dataframe\">\n",
       "  <thead>\n",
       "    <tr style=\"text-align: right;\">\n",
       "      <th></th>\n",
       "      <th>Descripción</th>\n",
       "      <th>Categoría</th>\n",
       "    </tr>\n",
       "  </thead>\n",
       "  <tbody>\n",
       "    <tr>\n",
       "      <th>0</th>\n",
       "      <td>Ejemplo</td>\n",
       "      <td>Otro</td>\n",
       "    </tr>\n",
       "  </tbody>\n",
       "</table>\n",
       "</div>"
      ],
      "text/plain": [
       "  Descripción Categoría\n",
       "0     Ejemplo      Otro"
      ]
     },
     "execution_count": 7,
     "metadata": {},
     "output_type": "execute_result"
    }
   ],
   "source": [
    "l.read_catFromDB()"
   ]
  },
  {
   "cell_type": "code",
   "execution_count": 8,
   "metadata": {},
   "outputs": [
    {
     "name": "stderr",
     "output_type": "stream",
     "text": [
      "2025-04-13 18:58:15.798 No runtime found, using MemoryCacheStorageManager\n",
      "2025-04-13 18:58:15.800 Thread 'MainThread': missing ScriptRunContext! This warning can be ignored when running in bare mode.\n",
      "2025-04-13 18:58:15.800 Thread 'MainThread': missing ScriptRunContext! This warning can be ignored when running in bare mode.\n",
      "2025-04-13 18:58:15.802 Thread 'MainThread': missing ScriptRunContext! This warning can be ignored when running in bare mode.\n",
      "2025-04-13 18:58:15.815 Thread 'MainThread': missing ScriptRunContext! This warning can be ignored when running in bare mode.\n",
      "2025-04-13 18:58:15.816 Thread 'MainThread': missing ScriptRunContext! This warning can be ignored when running in bare mode.\n"
     ]
    },
    {
     "data": {
      "text/html": [
       "<div>\n",
       "<style scoped>\n",
       "    .dataframe tbody tr th:only-of-type {\n",
       "        vertical-align: middle;\n",
       "    }\n",
       "\n",
       "    .dataframe tbody tr th {\n",
       "        vertical-align: top;\n",
       "    }\n",
       "\n",
       "    .dataframe thead th {\n",
       "        text-align: right;\n",
       "    }\n",
       "</style>\n",
       "<table border=\"1\" class=\"dataframe\">\n",
       "  <thead>\n",
       "    <tr style=\"text-align: right;\">\n",
       "      <th></th>\n",
       "      <th>id</th>\n",
       "      <th>fechas</th>\n",
       "      <th>referencia</th>\n",
       "      <th>codigo</th>\n",
       "      <th>descripcion</th>\n",
       "      <th>debito</th>\n",
       "      <th>credito</th>\n",
       "      <th>balance</th>\n",
       "    </tr>\n",
       "  </thead>\n",
       "  <tbody>\n",
       "    <tr>\n",
       "      <th>0</th>\n",
       "      <td>1</td>\n",
       "      <td>2025-01-01</td>\n",
       "      <td>MiEjemplo</td>\n",
       "      <td>132718</td>\n",
       "      <td>Esto es un ejemplo</td>\n",
       "      <td>1327.18</td>\n",
       "      <td>0.00</td>\n",
       "      <td>0.0</td>\n",
       "    </tr>\n",
       "    <tr>\n",
       "      <th>1</th>\n",
       "      <td>2</td>\n",
       "      <td>2025-03-01</td>\n",
       "      <td>22800000</td>\n",
       "      <td>CP</td>\n",
       "      <td>DLC*UBER RIDES\\       SAN JOSE</td>\n",
       "      <td>1526.32</td>\n",
       "      <td>0.00</td>\n",
       "      <td>2234837.8</td>\n",
       "    </tr>\n",
       "    <tr>\n",
       "      <th>2</th>\n",
       "      <td>3</td>\n",
       "      <td>2025-03-01</td>\n",
       "      <td>30140889</td>\n",
       "      <td>3O</td>\n",
       "      <td>INTERESES</td>\n",
       "      <td>0.00</td>\n",
       "      <td>6.04</td>\n",
       "      <td>2234844.0</td>\n",
       "    </tr>\n",
       "    <tr>\n",
       "      <th>3</th>\n",
       "      <td>4</td>\n",
       "      <td>2025-03-02</td>\n",
       "      <td>30100000</td>\n",
       "      <td>CP</td>\n",
       "      <td>DLC*UBER RIDES\\       SAN JOSE</td>\n",
       "      <td>1470.86</td>\n",
       "      <td>0.00</td>\n",
       "      <td>2233373.0</td>\n",
       "    </tr>\n",
       "    <tr>\n",
       "      <th>4</th>\n",
       "      <td>5</td>\n",
       "      <td>2025-03-02</td>\n",
       "      <td>30230565</td>\n",
       "      <td>3O</td>\n",
       "      <td>INTERESES</td>\n",
       "      <td>0.00</td>\n",
       "      <td>6.04</td>\n",
       "      <td>2233379.0</td>\n",
       "    </tr>\n",
       "    <tr>\n",
       "      <th>...</th>\n",
       "      <td>...</td>\n",
       "      <td>...</td>\n",
       "      <td>...</td>\n",
       "      <td>...</td>\n",
       "      <td>...</td>\n",
       "      <td>...</td>\n",
       "      <td>...</td>\n",
       "      <td>...</td>\n",
       "    </tr>\n",
       "    <tr>\n",
       "      <th>66</th>\n",
       "      <td>67</td>\n",
       "      <td>2025-03-29</td>\n",
       "      <td>958403802</td>\n",
       "      <td>TS</td>\n",
       "      <td>SINPE MOVIL Llanta_Romualdo_Al</td>\n",
       "      <td>4000.00</td>\n",
       "      <td>0.00</td>\n",
       "      <td>2391152.8</td>\n",
       "    </tr>\n",
       "    <tr>\n",
       "      <th>67</th>\n",
       "      <td>68</td>\n",
       "      <td>2025-03-29</td>\n",
       "      <td>32935226</td>\n",
       "      <td>3O</td>\n",
       "      <td>INTERESES</td>\n",
       "      <td>0.00</td>\n",
       "      <td>6.48</td>\n",
       "      <td>2391159.2</td>\n",
       "    </tr>\n",
       "    <tr>\n",
       "      <th>68</th>\n",
       "      <td>69</td>\n",
       "      <td>2025-03-30</td>\n",
       "      <td>951822491</td>\n",
       "      <td>TF</td>\n",
       "      <td>Pago ICE Teléfono 17943090</td>\n",
       "      <td>32508.53</td>\n",
       "      <td>0.00</td>\n",
       "      <td>2358650.8</td>\n",
       "    </tr>\n",
       "    <tr>\n",
       "      <th>69</th>\n",
       "      <td>70</td>\n",
       "      <td>2025-03-30</td>\n",
       "      <td>33031520</td>\n",
       "      <td>3O</td>\n",
       "      <td>INTERESES</td>\n",
       "      <td>0.00</td>\n",
       "      <td>6.30</td>\n",
       "      <td>2358657.0</td>\n",
       "    </tr>\n",
       "    <tr>\n",
       "      <th>70</th>\n",
       "      <td>71</td>\n",
       "      <td>2025-03-31</td>\n",
       "      <td>33168303</td>\n",
       "      <td>3O</td>\n",
       "      <td>INTERESES</td>\n",
       "      <td>0.00</td>\n",
       "      <td>6.39</td>\n",
       "      <td>2358663.5</td>\n",
       "    </tr>\n",
       "  </tbody>\n",
       "</table>\n",
       "<p>71 rows × 8 columns</p>\n",
       "</div>"
      ],
      "text/plain": [
       "    id      fechas  referencia  codigo                      descripcion  \\\n",
       "0    1  2025-01-01   MiEjemplo  132718               Esto es un ejemplo   \n",
       "1    2  2025-03-01    22800000      CP   DLC*UBER RIDES\\       SAN JOSE   \n",
       "2    3  2025-03-01    30140889      3O   INTERESES                        \n",
       "3    4  2025-03-02    30100000      CP   DLC*UBER RIDES\\       SAN JOSE   \n",
       "4    5  2025-03-02    30230565      3O   INTERESES                        \n",
       "..  ..         ...         ...     ...                              ...   \n",
       "66  67  2025-03-29   958403802      TS   SINPE MOVIL Llanta_Romualdo_Al   \n",
       "67  68  2025-03-29    32935226      3O   INTERESES                        \n",
       "68  69  2025-03-30   951822491      TF   Pago ICE Teléfono 17943090       \n",
       "69  70  2025-03-30    33031520      3O   INTERESES                        \n",
       "70  71  2025-03-31    33168303      3O   INTERESES                        \n",
       "\n",
       "      debito  credito    balance  \n",
       "0    1327.18     0.00        0.0  \n",
       "1    1526.32     0.00  2234837.8  \n",
       "2       0.00     6.04  2234844.0  \n",
       "3    1470.86     0.00  2233373.0  \n",
       "4       0.00     6.04  2233379.0  \n",
       "..       ...      ...        ...  \n",
       "66   4000.00     0.00  2391152.8  \n",
       "67      0.00     6.48  2391159.2  \n",
       "68  32508.53     0.00  2358650.8  \n",
       "69      0.00     6.30  2358657.0  \n",
       "70      0.00     6.39  2358663.5  \n",
       "\n",
       "[71 rows x 8 columns]"
      ]
     },
     "execution_count": 8,
     "metadata": {},
     "output_type": "execute_result"
    }
   ],
   "source": [
    "l.read_histFromDB(redfineDf=False)"
   ]
  },
  {
   "cell_type": "code",
   "execution_count": 9,
   "metadata": {},
   "outputs": [
    {
     "name": "stderr",
     "output_type": "stream",
     "text": [
      "2025-04-13 18:58:16.532 No runtime found, using MemoryCacheStorageManager\n",
      "2025-04-13 18:58:16.535 Thread 'MainThread': missing ScriptRunContext! This warning can be ignored when running in bare mode.\n",
      "2025-04-13 18:58:16.536 Thread 'MainThread': missing ScriptRunContext! This warning can be ignored when running in bare mode.\n",
      "2025-04-13 18:58:16.537 Thread 'MainThread': missing ScriptRunContext! This warning can be ignored when running in bare mode.\n",
      "2025-04-13 18:58:16.540 Thread 'MainThread': missing ScriptRunContext! This warning can be ignored when running in bare mode.\n",
      "2025-04-13 18:58:16.542 Thread 'MainThread': missing ScriptRunContext! This warning can be ignored when running in bare mode.\n"
     ]
    },
    {
     "data": {
      "text/html": [
       "<div>\n",
       "<style scoped>\n",
       "    .dataframe tbody tr th:only-of-type {\n",
       "        vertical-align: middle;\n",
       "    }\n",
       "\n",
       "    .dataframe tbody tr th {\n",
       "        vertical-align: top;\n",
       "    }\n",
       "\n",
       "    .dataframe thead th {\n",
       "        text-align: right;\n",
       "    }\n",
       "</style>\n",
       "<table border=\"1\" class=\"dataframe\">\n",
       "  <thead>\n",
       "    <tr style=\"text-align: right;\">\n",
       "      <th></th>\n",
       "      <th>descripcion</th>\n",
       "      <th>categoria</th>\n",
       "    </tr>\n",
       "  </thead>\n",
       "  <tbody>\n",
       "    <tr>\n",
       "      <th>0</th>\n",
       "      <td>Ejemplo</td>\n",
       "      <td>1</td>\n",
       "    </tr>\n",
       "  </tbody>\n",
       "</table>\n",
       "</div>"
      ],
      "text/plain": [
       "  descripcion  categoria\n",
       "0     Ejemplo          1"
      ]
     },
     "execution_count": 9,
     "metadata": {},
     "output_type": "execute_result"
    }
   ],
   "source": [
    "l.read_catTable()"
   ]
  },
  {
   "cell_type": "code",
   "execution_count": 10,
   "metadata": {},
   "outputs": [
    {
     "name": "stderr",
     "output_type": "stream",
     "text": [
      "2025-04-13 18:58:18.121 No runtime found, using MemoryCacheStorageManager\n",
      "2025-04-13 18:58:18.125 Thread 'MainThread': missing ScriptRunContext! This warning can be ignored when running in bare mode.\n",
      "2025-04-13 18:58:18.127 Thread 'MainThread': missing ScriptRunContext! This warning can be ignored when running in bare mode.\n",
      "2025-04-13 18:58:18.127 Thread 'MainThread': missing ScriptRunContext! This warning can be ignored when running in bare mode.\n",
      "2025-04-13 18:58:18.254 Thread 'MainThread': missing ScriptRunContext! This warning can be ignored when running in bare mode.\n",
      "2025-04-13 18:58:18.254 Thread 'MainThread': missing ScriptRunContext! This warning can be ignored when running in bare mode.\n"
     ]
    },
    {
     "data": {
      "text/html": [
       "<div>\n",
       "<style scoped>\n",
       "    .dataframe tbody tr th:only-of-type {\n",
       "        vertical-align: middle;\n",
       "    }\n",
       "\n",
       "    .dataframe tbody tr th {\n",
       "        vertical-align: top;\n",
       "    }\n",
       "\n",
       "    .dataframe thead th {\n",
       "        text-align: right;\n",
       "    }\n",
       "</style>\n",
       "<table border=\"1\" class=\"dataframe\">\n",
       "  <thead>\n",
       "    <tr style=\"text-align: right;\">\n",
       "      <th></th>\n",
       "      <th>id</th>\n",
       "      <th>descripcion</th>\n",
       "    </tr>\n",
       "  </thead>\n",
       "  <tbody>\n",
       "    <tr>\n",
       "      <th>0</th>\n",
       "      <td>1</td>\n",
       "      <td>Otro</td>\n",
       "    </tr>\n",
       "    <tr>\n",
       "      <th>1</th>\n",
       "      <td>3</td>\n",
       "      <td>Servicio de luz</td>\n",
       "    </tr>\n",
       "    <tr>\n",
       "      <th>2</th>\n",
       "      <td>4</td>\n",
       "      <td>Servicio de internet</td>\n",
       "    </tr>\n",
       "    <tr>\n",
       "      <th>3</th>\n",
       "      <td>5</td>\n",
       "      <td>Transporte</td>\n",
       "    </tr>\n",
       "    <tr>\n",
       "      <th>4</th>\n",
       "      <td>6</td>\n",
       "      <td>Educación</td>\n",
       "    </tr>\n",
       "    <tr>\n",
       "      <th>5</th>\n",
       "      <td>7</td>\n",
       "      <td>Servicio de agua</td>\n",
       "    </tr>\n",
       "    <tr>\n",
       "      <th>6</th>\n",
       "      <td>8</td>\n",
       "      <td>Comida</td>\n",
       "    </tr>\n",
       "    <tr>\n",
       "      <th>7</th>\n",
       "      <td>9</td>\n",
       "      <td>Salud</td>\n",
       "    </tr>\n",
       "  </tbody>\n",
       "</table>\n",
       "</div>"
      ],
      "text/plain": [
       "   id           descripcion\n",
       "0   1                  Otro\n",
       "1   3       Servicio de luz\n",
       "2   4  Servicio de internet\n",
       "3   5            Transporte\n",
       "4   6             Educación\n",
       "5   7      Servicio de agua\n",
       "6   8                Comida\n",
       "7   9                 Salud"
      ]
     },
     "execution_count": 10,
     "metadata": {},
     "output_type": "execute_result"
    }
   ],
   "source": [
    "l.read_catTableDesc()"
   ]
  },
  {
   "cell_type": "markdown",
   "metadata": {},
   "source": [
    "### Eliminar una categoria:"
   ]
  },
  {
   "cell_type": "code",
   "execution_count": 5,
   "metadata": {},
   "outputs": [
    {
     "name": "stderr",
     "output_type": "stream",
     "text": [
      "2025-04-13 15:32:26.828 No runtime found, using MemoryCacheStorageManager\n",
      "2025-04-13 15:32:26.831 No runtime found, using MemoryCacheStorageManager\n",
      "2025-04-13 15:32:26.832 Thread 'MainThread': missing ScriptRunContext! This warning can be ignored when running in bare mode.\n",
      "2025-04-13 15:32:26.834 Thread 'MainThread': missing ScriptRunContext! This warning can be ignored when running in bare mode.\n",
      "2025-04-13 15:32:26.835 Thread 'MainThread': missing ScriptRunContext! This warning can be ignored when running in bare mode.\n",
      "2025-04-13 15:32:26.857 Thread 'MainThread': missing ScriptRunContext! This warning can be ignored when running in bare mode.\n",
      "2025-04-13 15:32:26.858 Thread 'MainThread': missing ScriptRunContext! This warning can be ignored when running in bare mode.\n"
     ]
    },
    {
     "data": {
      "text/html": [
       "<div>\n",
       "<style scoped>\n",
       "    .dataframe tbody tr th:only-of-type {\n",
       "        vertical-align: middle;\n",
       "    }\n",
       "\n",
       "    .dataframe tbody tr th {\n",
       "        vertical-align: top;\n",
       "    }\n",
       "\n",
       "    .dataframe thead th {\n",
       "        text-align: right;\n",
       "    }\n",
       "</style>\n",
       "<table border=\"1\" class=\"dataframe\">\n",
       "  <thead>\n",
       "    <tr style=\"text-align: right;\">\n",
       "      <th></th>\n",
       "      <th>id</th>\n",
       "      <th>descripcion</th>\n",
       "    </tr>\n",
       "  </thead>\n",
       "  <tbody>\n",
       "    <tr>\n",
       "      <th>0</th>\n",
       "      <td>1</td>\n",
       "      <td>Otro</td>\n",
       "    </tr>\n",
       "    <tr>\n",
       "      <th>1</th>\n",
       "      <td>2</td>\n",
       "      <td>Servicio de agua</td>\n",
       "    </tr>\n",
       "    <tr>\n",
       "      <th>2</th>\n",
       "      <td>3</td>\n",
       "      <td>Servicio de luz</td>\n",
       "    </tr>\n",
       "    <tr>\n",
       "      <th>3</th>\n",
       "      <td>4</td>\n",
       "      <td>Servicio de internet</td>\n",
       "    </tr>\n",
       "    <tr>\n",
       "      <th>4</th>\n",
       "      <td>5</td>\n",
       "      <td>Transporte</td>\n",
       "    </tr>\n",
       "    <tr>\n",
       "      <th>5</th>\n",
       "      <td>6</td>\n",
       "      <td>Educacion</td>\n",
       "    </tr>\n",
       "  </tbody>\n",
       "</table>\n",
       "</div>"
      ],
      "text/plain": [
       "   id           descripcion\n",
       "0   1                  Otro\n",
       "1   2      Servicio de agua\n",
       "2   3       Servicio de luz\n",
       "3   4  Servicio de internet\n",
       "4   5            Transporte\n",
       "5   6             Educacion"
      ]
     },
     "execution_count": 5,
     "metadata": {},
     "output_type": "execute_result"
    }
   ],
   "source": [
    "categoriaAEliminar = \"Educacion\"\n",
    "l.read_catTableDesc()\n"
   ]
  },
  {
   "cell_type": "code",
   "execution_count": 6,
   "metadata": {},
   "outputs": [
    {
     "name": "stderr",
     "output_type": "stream",
     "text": [
      "2025-04-13 15:32:44.051 No runtime found, using MemoryCacheStorageManager\n",
      "2025-04-13 15:32:44.056 Thread 'MainThread': missing ScriptRunContext! This warning can be ignored when running in bare mode.\n",
      "2025-04-13 15:32:44.058 Thread 'MainThread': missing ScriptRunContext! This warning can be ignored when running in bare mode.\n",
      "2025-04-13 15:32:44.059 Thread 'MainThread': missing ScriptRunContext! This warning can be ignored when running in bare mode.\n",
      "2025-04-13 15:32:44.085 Thread 'MainThread': missing ScriptRunContext! This warning can be ignored when running in bare mode.\n",
      "2025-04-13 15:32:44.086 Thread 'MainThread': missing ScriptRunContext! This warning can be ignored when running in bare mode.\n",
      "c:\\Users\\gabri\\OneDrive\\Documentos\\MisesApp\\scr\\procesarDatos.py:95: FutureWarning: Calling int on a single element Series is deprecated and will raise a TypeError in the future. Use int(ser.iloc[0]) instead\n",
      "  indx_categoriaAEliminar =int(df_des.query(\"descripcion ==@descripcion\")[\"id\"])\n"
     ]
    }
   ],
   "source": [
    "l.eliminarCategoriaXDesc(categoriaAEliminar)"
   ]
  },
  {
   "cell_type": "code",
   "execution_count": 9,
   "metadata": {},
   "outputs": [
    {
     "data": {
      "text/plain": [
       "True"
      ]
     },
     "execution_count": 9,
     "metadata": {},
     "output_type": "execute_result"
    }
   ],
   "source": [
    "a=\"      \"\n",
    "a.strip() == \"\""
   ]
  },
  {
   "cell_type": "markdown",
   "metadata": {},
   "source": [
    "### Encontrar las categorías nuevas"
   ]
  },
  {
   "cell_type": "code",
   "execution_count": 8,
   "metadata": {},
   "outputs": [
    {
     "name": "stderr",
     "output_type": "stream",
     "text": [
      "2025-04-12 18:34:56.796 No runtime found, using MemoryCacheStorageManager\n",
      "2025-04-12 18:34:56.800 Thread 'MainThread': missing ScriptRunContext! This warning can be ignored when running in bare mode.\n",
      "2025-04-12 18:34:56.801 Thread 'MainThread': missing ScriptRunContext! This warning can be ignored when running in bare mode.\n",
      "2025-04-12 18:34:56.802 Thread 'MainThread': missing ScriptRunContext! This warning can be ignored when running in bare mode.\n",
      "2025-04-12 18:34:56.808 Thread 'MainThread': missing ScriptRunContext! This warning can be ignored when running in bare mode.\n",
      "2025-04-12 18:34:56.810 Thread 'MainThread': missing ScriptRunContext! This warning can be ignored when running in bare mode.\n"
     ]
    },
    {
     "data": {
      "text/plain": [
       "['Otro', 'Educación']"
      ]
     },
     "execution_count": 8,
     "metadata": {},
     "output_type": "execute_result"
    }
   ],
   "source": [
    "#SELECT *  FROM categorias_descripcion\n",
    "lista_categorias = l.read_catList()\n",
    "lista_categorias"
   ]
  },
  {
   "cell_type": "code",
   "execution_count": 9,
   "metadata": {},
   "outputs": [
    {
     "name": "stderr",
     "output_type": "stream",
     "text": [
      "2025-04-12 18:34:59.460 No runtime found, using MemoryCacheStorageManager\n",
      "c:\\Users\\gabri\\OneDrive\\Documentos\\MisesApp\\scr\\procesarDatos.py:152: FutureWarning:\n",
      "\n",
      "unique with argument that is not not a Series, Index, ExtensionArray, or np.ndarray is deprecated and will raise in a future version.\n",
      "\n"
     ]
    },
    {
     "data": {
      "text/plain": [
       "[' INTERESES                     ',\n",
       " ' DLC*UBER RIDES\\\\       SAN JOSE',\n",
       " ' IVA -UBER   *TRIP             ',\n",
       " ' DLC*UBER EATS\\\\        SAN JOSE',\n",
       " ' UBER   *TRIP          HELP.UBE',\n",
       " ' COURSERA.ORG\\\\         MOUNTAIN',\n",
       " ' HAMBURGER FACTORY LA URUCA    ',\n",
       " ' SODA DELICIAS TROPICALES      ']"
      ]
     },
     "execution_count": 9,
     "metadata": {},
     "output_type": "execute_result"
    }
   ],
   "source": [
    "l.nuevasCategorias()"
   ]
  },
  {
   "cell_type": "markdown",
   "metadata": {},
   "source": [
    "# OPERACIONES DE ESCRITURA"
   ]
  },
  {
   "cell_type": "code",
   "execution_count": 10,
   "metadata": {},
   "outputs": [],
   "source": [
    "l.agregarCategoria(\"Servicios básicos\")"
   ]
  },
  {
   "cell_type": "code",
   "execution_count": 11,
   "metadata": {},
   "outputs": [
    {
     "name": "stderr",
     "output_type": "stream",
     "text": [
      "2025-04-12 18:36:13.212 No runtime found, using MemoryCacheStorageManager\n"
     ]
    },
    {
     "data": {
      "text/plain": [
       "['Otro', 'Educación']"
      ]
     },
     "execution_count": 11,
     "metadata": {},
     "output_type": "execute_result"
    }
   ],
   "source": [
    "l.read_catList()"
   ]
  },
  {
   "cell_type": "code",
   "execution_count": 2,
   "metadata": {},
   "outputs": [],
   "source": [
    "import toml\n",
    "secretsPath = \"C:\\\\Users\\\\gabri\\\\.streamlit\\\\secrets.toml\"\n",
    "\n",
    "# Cargar el archivo .toml\n",
    "with open(secretsPath, 'r') as f:\n",
    "    secrets = toml.load(f)\n",
    "secrets_db=secrets[\"connections\"][\"postgresql\"]\n"
   ]
  },
  {
   "cell_type": "code",
   "execution_count": 4,
   "metadata": {},
   "outputs": [],
   "source": [
    "import psycopg2\n",
    "\n",
    "# Configuración de conexión\n",
    "conn = psycopg2.connect(\n",
    "    host        = secrets_db[\"host\"],\n",
    "    port        = secrets_db[\"port\"],\n",
    "    database    = secrets_db[\"database\"],\n",
    "    user        = secrets_db[\"username\"],\n",
    "    password    = secrets_db[\"password\"]\n",
    ")\n",
    "\n",
    "# Crear un cursor\n",
    "cur = conn.cursor()\n",
    "\n",
    "descripcion=input(\"Nueva categoria\")\n",
    "\n",
    "# Consulta SQL\n",
    "insert_query = \"CALL insertar_descripcioncategorias(%s);\"\n",
    "\n",
    "# Llamar al procedimiento almacenado con el input\n",
    "cur.execute(\"CALL insertar_descripcioncategorias(%s);\", (descripcion,))\n",
    "\n",
    "# Guardar los cambios\n",
    "conn.commit()\n",
    "\n",
    "# Cerrar cursor y conexión\n",
    "cur.close()\n",
    "conn.close()"
   ]
  },
  {
   "cell_type": "code",
   "execution_count": null,
   "metadata": {},
   "outputs": [
    {
     "data": {
      "text/plain": [
       "False"
      ]
     },
     "execution_count": 13,
     "metadata": {},
     "output_type": "execute_result"
    },
    {
     "ename": "",
     "evalue": "",
     "output_type": "error",
     "traceback": [
      "\u001b[1;31mThe Kernel crashed while executing code in the current cell or a previous cell. \n",
      "\u001b[1;31mPlease review the code in the cell(s) to identify a possible cause of the failure. \n",
      "\u001b[1;31mClick <a href='https://aka.ms/vscodeJupyterKernelCrash'>here</a> for more info. \n",
      "\u001b[1;31mView Jupyter <a href='command:jupyter.viewOutput'>log</a> for further details."
     ]
    }
   ],
   "source": [
    "\"a\" not in [\"a\",\"b\",\"c\"]"
   ]
  }
 ],
 "metadata": {
  "kernelspec": {
   "display_name": "base",
   "language": "python",
   "name": "python3"
  },
  "language_info": {
   "codemirror_mode": {
    "name": "ipython",
    "version": 3
   },
   "file_extension": ".py",
   "mimetype": "text/x-python",
   "name": "python",
   "nbconvert_exporter": "python",
   "pygments_lexer": "ipython3",
   "version": "3.12.4"
  }
 },
 "nbformat": 4,
 "nbformat_minor": 2
}
